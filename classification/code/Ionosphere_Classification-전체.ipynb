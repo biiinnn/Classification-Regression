{
 "cells": [
  {
   "cell_type": "markdown",
   "metadata": {},
   "source": [
    "# classification (ionosphere)_전체"
   ]
  },
  {
   "cell_type": "markdown",
   "metadata": {},
   "source": [
    "## 0. 데이터 전처리"
   ]
  },
  {
   "cell_type": "markdown",
   "metadata": {},
   "source": [
    "### 0.1 데이터 불러오기"
   ]
  },
  {
   "cell_type": "code",
   "execution_count": 1,
   "metadata": {},
   "outputs": [],
   "source": [
    "import pandas as pd\n",
    "import numpy as np "
   ]
  },
  {
   "cell_type": "code",
   "execution_count": 2,
   "metadata": {},
   "outputs": [],
   "source": [
    "data = pd.read_csv('ionosphere.csv')"
   ]
  },
  {
   "cell_type": "markdown",
   "metadata": {},
   "source": [
    "### 0.2 데이터 전처리"
   ]
  },
  {
   "cell_type": "markdown",
   "metadata": {},
   "source": [
    "#### EDA 결과 처음 두 변수 지움"
   ]
  },
  {
   "cell_type": "code",
   "execution_count": 3,
   "metadata": {},
   "outputs": [],
   "source": [
    "data.drop(columns=['attribute1','attribute2'], inplace=True)"
   ]
  },
  {
   "cell_type": "markdown",
   "metadata": {},
   "source": [
    "#### 컬럼 이름 해석하기 쉽게 바꿈: 관측소1-1, 관측소1-2....."
   ]
  },
  {
   "cell_type": "code",
   "execution_count": 4,
   "metadata": {},
   "outputs": [],
   "source": [
    "data.columns = ['ob1-1', 'ob1-2', 'ob2-1', 'ob2-2', 'ob3-1', 'ob3-2', 'ob4-1', 'ob4-2', 'ob5-1', 'ob5-2', 'ob6-1', 'ob6-2', 'ob7-1', 'ob7-2', 'ob8-1', 'ob8-2', 'ob9-1', 'ob9-2', 'ob10-1', 'ob10-2', 'ob11-1', 'ob11-2', 'ob12-1', 'ob12-2', 'ob13-1', 'ob13-2', 'ob14-1', 'ob14-2', 'ob15-1', 'ob15-2', 'ob16-1', 'ob16-2', 'target']"
   ]
  },
  {
   "cell_type": "code",
   "execution_count": 5,
   "metadata": {},
   "outputs": [
    {
     "data": {
      "text/html": [
       "<div>\n",
       "<style scoped>\n",
       "    .dataframe tbody tr th:only-of-type {\n",
       "        vertical-align: middle;\n",
       "    }\n",
       "\n",
       "    .dataframe tbody tr th {\n",
       "        vertical-align: top;\n",
       "    }\n",
       "\n",
       "    .dataframe thead th {\n",
       "        text-align: right;\n",
       "    }\n",
       "</style>\n",
       "<table border=\"1\" class=\"dataframe\">\n",
       "  <thead>\n",
       "    <tr style=\"text-align: right;\">\n",
       "      <th></th>\n",
       "      <th>ob1-1</th>\n",
       "      <th>ob1-2</th>\n",
       "      <th>ob2-1</th>\n",
       "      <th>ob2-2</th>\n",
       "      <th>ob3-1</th>\n",
       "      <th>ob3-2</th>\n",
       "      <th>ob4-1</th>\n",
       "      <th>ob4-2</th>\n",
       "      <th>ob5-1</th>\n",
       "      <th>ob5-2</th>\n",
       "      <th>...</th>\n",
       "      <th>ob12-2</th>\n",
       "      <th>ob13-1</th>\n",
       "      <th>ob13-2</th>\n",
       "      <th>ob14-1</th>\n",
       "      <th>ob14-2</th>\n",
       "      <th>ob15-1</th>\n",
       "      <th>ob15-2</th>\n",
       "      <th>ob16-1</th>\n",
       "      <th>ob16-2</th>\n",
       "      <th>target</th>\n",
       "    </tr>\n",
       "  </thead>\n",
       "  <tbody>\n",
       "    <tr>\n",
       "      <th>0</th>\n",
       "      <td>0.99539</td>\n",
       "      <td>-0.05889</td>\n",
       "      <td>0.85243</td>\n",
       "      <td>0.02306</td>\n",
       "      <td>0.83398</td>\n",
       "      <td>-0.37708</td>\n",
       "      <td>1.00000</td>\n",
       "      <td>0.03760</td>\n",
       "      <td>0.85243</td>\n",
       "      <td>-0.17755</td>\n",
       "      <td>...</td>\n",
       "      <td>-0.51171</td>\n",
       "      <td>0.41078</td>\n",
       "      <td>-0.46168</td>\n",
       "      <td>0.21266</td>\n",
       "      <td>-0.34090</td>\n",
       "      <td>0.42267</td>\n",
       "      <td>-0.54487</td>\n",
       "      <td>0.18641</td>\n",
       "      <td>-0.45300</td>\n",
       "      <td>0</td>\n",
       "    </tr>\n",
       "    <tr>\n",
       "      <th>1</th>\n",
       "      <td>1.00000</td>\n",
       "      <td>-0.18829</td>\n",
       "      <td>0.93035</td>\n",
       "      <td>-0.36156</td>\n",
       "      <td>-0.10868</td>\n",
       "      <td>-0.93597</td>\n",
       "      <td>1.00000</td>\n",
       "      <td>-0.04549</td>\n",
       "      <td>0.50874</td>\n",
       "      <td>-0.67743</td>\n",
       "      <td>...</td>\n",
       "      <td>-0.26569</td>\n",
       "      <td>-0.20468</td>\n",
       "      <td>-0.18401</td>\n",
       "      <td>-0.19040</td>\n",
       "      <td>-0.11593</td>\n",
       "      <td>-0.16626</td>\n",
       "      <td>-0.06288</td>\n",
       "      <td>-0.13738</td>\n",
       "      <td>-0.02447</td>\n",
       "      <td>1</td>\n",
       "    </tr>\n",
       "    <tr>\n",
       "      <th>2</th>\n",
       "      <td>1.00000</td>\n",
       "      <td>-0.03365</td>\n",
       "      <td>1.00000</td>\n",
       "      <td>0.00485</td>\n",
       "      <td>1.00000</td>\n",
       "      <td>-0.12062</td>\n",
       "      <td>0.88965</td>\n",
       "      <td>0.01198</td>\n",
       "      <td>0.73082</td>\n",
       "      <td>0.05346</td>\n",
       "      <td>...</td>\n",
       "      <td>-0.40220</td>\n",
       "      <td>0.58984</td>\n",
       "      <td>-0.22145</td>\n",
       "      <td>0.43100</td>\n",
       "      <td>-0.17365</td>\n",
       "      <td>0.60436</td>\n",
       "      <td>-0.24180</td>\n",
       "      <td>0.56045</td>\n",
       "      <td>-0.38238</td>\n",
       "      <td>0</td>\n",
       "    </tr>\n",
       "    <tr>\n",
       "      <th>3</th>\n",
       "      <td>1.00000</td>\n",
       "      <td>-0.45161</td>\n",
       "      <td>1.00000</td>\n",
       "      <td>1.00000</td>\n",
       "      <td>0.71216</td>\n",
       "      <td>-1.00000</td>\n",
       "      <td>0.00000</td>\n",
       "      <td>0.00000</td>\n",
       "      <td>0.00000</td>\n",
       "      <td>0.00000</td>\n",
       "      <td>...</td>\n",
       "      <td>0.90695</td>\n",
       "      <td>0.51613</td>\n",
       "      <td>1.00000</td>\n",
       "      <td>1.00000</td>\n",
       "      <td>-0.20099</td>\n",
       "      <td>0.25682</td>\n",
       "      <td>1.00000</td>\n",
       "      <td>-0.32382</td>\n",
       "      <td>1.00000</td>\n",
       "      <td>1</td>\n",
       "    </tr>\n",
       "    <tr>\n",
       "      <th>4</th>\n",
       "      <td>1.00000</td>\n",
       "      <td>-0.02401</td>\n",
       "      <td>0.94140</td>\n",
       "      <td>0.06531</td>\n",
       "      <td>0.92106</td>\n",
       "      <td>-0.23255</td>\n",
       "      <td>0.77152</td>\n",
       "      <td>-0.16399</td>\n",
       "      <td>0.52798</td>\n",
       "      <td>-0.20275</td>\n",
       "      <td>...</td>\n",
       "      <td>-0.65158</td>\n",
       "      <td>0.13290</td>\n",
       "      <td>-0.53206</td>\n",
       "      <td>0.02431</td>\n",
       "      <td>-0.62197</td>\n",
       "      <td>-0.05707</td>\n",
       "      <td>-0.59573</td>\n",
       "      <td>-0.04608</td>\n",
       "      <td>-0.65697</td>\n",
       "      <td>0</td>\n",
       "    </tr>\n",
       "  </tbody>\n",
       "</table>\n",
       "<p>5 rows × 33 columns</p>\n",
       "</div>"
      ],
      "text/plain": [
       "     ob1-1    ob1-2    ob2-1    ob2-2    ob3-1    ob3-2    ob4-1    ob4-2  \\\n",
       "0  0.99539 -0.05889  0.85243  0.02306  0.83398 -0.37708  1.00000  0.03760   \n",
       "1  1.00000 -0.18829  0.93035 -0.36156 -0.10868 -0.93597  1.00000 -0.04549   \n",
       "2  1.00000 -0.03365  1.00000  0.00485  1.00000 -0.12062  0.88965  0.01198   \n",
       "3  1.00000 -0.45161  1.00000  1.00000  0.71216 -1.00000  0.00000  0.00000   \n",
       "4  1.00000 -0.02401  0.94140  0.06531  0.92106 -0.23255  0.77152 -0.16399   \n",
       "\n",
       "     ob5-1    ob5-2  ...   ob12-2   ob13-1   ob13-2   ob14-1   ob14-2  \\\n",
       "0  0.85243 -0.17755  ... -0.51171  0.41078 -0.46168  0.21266 -0.34090   \n",
       "1  0.50874 -0.67743  ... -0.26569 -0.20468 -0.18401 -0.19040 -0.11593   \n",
       "2  0.73082  0.05346  ... -0.40220  0.58984 -0.22145  0.43100 -0.17365   \n",
       "3  0.00000  0.00000  ...  0.90695  0.51613  1.00000  1.00000 -0.20099   \n",
       "4  0.52798 -0.20275  ... -0.65158  0.13290 -0.53206  0.02431 -0.62197   \n",
       "\n",
       "    ob15-1   ob15-2   ob16-1   ob16-2  target  \n",
       "0  0.42267 -0.54487  0.18641 -0.45300       0  \n",
       "1 -0.16626 -0.06288 -0.13738 -0.02447       1  \n",
       "2  0.60436 -0.24180  0.56045 -0.38238       0  \n",
       "3  0.25682  1.00000 -0.32382  1.00000       1  \n",
       "4 -0.05707 -0.59573 -0.04608 -0.65697       0  \n",
       "\n",
       "[5 rows x 33 columns]"
      ]
     },
     "execution_count": 5,
     "metadata": {},
     "output_type": "execute_result"
    }
   ],
   "source": [
    "data.head()"
   ]
  },
  {
   "cell_type": "markdown",
   "metadata": {},
   "source": [
    "target에서 0 이 good, 1 이 bad"
   ]
  },
  {
   "cell_type": "code",
   "execution_count": 6,
   "metadata": {},
   "outputs": [
    {
     "data": {
      "text/html": [
       "<div>\n",
       "<style scoped>\n",
       "    .dataframe tbody tr th:only-of-type {\n",
       "        vertical-align: middle;\n",
       "    }\n",
       "\n",
       "    .dataframe tbody tr th {\n",
       "        vertical-align: top;\n",
       "    }\n",
       "\n",
       "    .dataframe thead th {\n",
       "        text-align: right;\n",
       "    }\n",
       "</style>\n",
       "<table border=\"1\" class=\"dataframe\">\n",
       "  <thead>\n",
       "    <tr style=\"text-align: right;\">\n",
       "      <th></th>\n",
       "      <th>ob1-1</th>\n",
       "      <th>ob1-2</th>\n",
       "      <th>ob2-1</th>\n",
       "      <th>ob2-2</th>\n",
       "      <th>ob3-1</th>\n",
       "      <th>ob3-2</th>\n",
       "      <th>ob4-1</th>\n",
       "      <th>ob4-2</th>\n",
       "      <th>ob5-1</th>\n",
       "      <th>ob5-2</th>\n",
       "      <th>...</th>\n",
       "      <th>ob12-2</th>\n",
       "      <th>ob13-1</th>\n",
       "      <th>ob13-2</th>\n",
       "      <th>ob14-1</th>\n",
       "      <th>ob14-2</th>\n",
       "      <th>ob15-1</th>\n",
       "      <th>ob15-2</th>\n",
       "      <th>ob16-1</th>\n",
       "      <th>ob16-2</th>\n",
       "      <th>target</th>\n",
       "    </tr>\n",
       "  </thead>\n",
       "  <tbody>\n",
       "    <tr>\n",
       "      <th>count</th>\n",
       "      <td>351.000000</td>\n",
       "      <td>351.000000</td>\n",
       "      <td>351.000000</td>\n",
       "      <td>351.000000</td>\n",
       "      <td>351.000000</td>\n",
       "      <td>351.000000</td>\n",
       "      <td>351.000000</td>\n",
       "      <td>351.000000</td>\n",
       "      <td>351.000000</td>\n",
       "      <td>351.000000</td>\n",
       "      <td>...</td>\n",
       "      <td>351.000000</td>\n",
       "      <td>351.000000</td>\n",
       "      <td>351.000000</td>\n",
       "      <td>351.000000</td>\n",
       "      <td>351.000000</td>\n",
       "      <td>351.000000</td>\n",
       "      <td>351.000000</td>\n",
       "      <td>351.000000</td>\n",
       "      <td>351.000000</td>\n",
       "      <td>351.000000</td>\n",
       "    </tr>\n",
       "    <tr>\n",
       "      <th>mean</th>\n",
       "      <td>0.641342</td>\n",
       "      <td>0.044372</td>\n",
       "      <td>0.601068</td>\n",
       "      <td>0.115889</td>\n",
       "      <td>0.550095</td>\n",
       "      <td>0.119360</td>\n",
       "      <td>0.511848</td>\n",
       "      <td>0.181345</td>\n",
       "      <td>0.476183</td>\n",
       "      <td>0.155040</td>\n",
       "      <td>...</td>\n",
       "      <td>-0.071187</td>\n",
       "      <td>0.541641</td>\n",
       "      <td>-0.069538</td>\n",
       "      <td>0.378445</td>\n",
       "      <td>-0.027907</td>\n",
       "      <td>0.352514</td>\n",
       "      <td>-0.003794</td>\n",
       "      <td>0.349364</td>\n",
       "      <td>0.014480</td>\n",
       "      <td>0.358974</td>\n",
       "    </tr>\n",
       "    <tr>\n",
       "      <th>std</th>\n",
       "      <td>0.497708</td>\n",
       "      <td>0.441435</td>\n",
       "      <td>0.519862</td>\n",
       "      <td>0.460810</td>\n",
       "      <td>0.492654</td>\n",
       "      <td>0.520750</td>\n",
       "      <td>0.507066</td>\n",
       "      <td>0.483851</td>\n",
       "      <td>0.563496</td>\n",
       "      <td>0.494817</td>\n",
       "      <td>...</td>\n",
       "      <td>0.508495</td>\n",
       "      <td>0.516205</td>\n",
       "      <td>0.550025</td>\n",
       "      <td>0.575886</td>\n",
       "      <td>0.507974</td>\n",
       "      <td>0.571483</td>\n",
       "      <td>0.513574</td>\n",
       "      <td>0.522663</td>\n",
       "      <td>0.468337</td>\n",
       "      <td>0.480384</td>\n",
       "    </tr>\n",
       "    <tr>\n",
       "      <th>min</th>\n",
       "      <td>-1.000000</td>\n",
       "      <td>-1.000000</td>\n",
       "      <td>-1.000000</td>\n",
       "      <td>-1.000000</td>\n",
       "      <td>-1.000000</td>\n",
       "      <td>-1.000000</td>\n",
       "      <td>-1.000000</td>\n",
       "      <td>-1.000000</td>\n",
       "      <td>-1.000000</td>\n",
       "      <td>-1.000000</td>\n",
       "      <td>...</td>\n",
       "      <td>-1.000000</td>\n",
       "      <td>-1.000000</td>\n",
       "      <td>-1.000000</td>\n",
       "      <td>-1.000000</td>\n",
       "      <td>-1.000000</td>\n",
       "      <td>-1.000000</td>\n",
       "      <td>-1.000000</td>\n",
       "      <td>-1.000000</td>\n",
       "      <td>-1.000000</td>\n",
       "      <td>0.000000</td>\n",
       "    </tr>\n",
       "    <tr>\n",
       "      <th>25%</th>\n",
       "      <td>0.472135</td>\n",
       "      <td>-0.064735</td>\n",
       "      <td>0.412660</td>\n",
       "      <td>-0.024795</td>\n",
       "      <td>0.211310</td>\n",
       "      <td>-0.054840</td>\n",
       "      <td>0.087110</td>\n",
       "      <td>-0.048075</td>\n",
       "      <td>0.021120</td>\n",
       "      <td>-0.065265</td>\n",
       "      <td>...</td>\n",
       "      <td>-0.332390</td>\n",
       "      <td>0.286435</td>\n",
       "      <td>-0.443165</td>\n",
       "      <td>0.000000</td>\n",
       "      <td>-0.236885</td>\n",
       "      <td>0.000000</td>\n",
       "      <td>-0.242595</td>\n",
       "      <td>0.000000</td>\n",
       "      <td>-0.165350</td>\n",
       "      <td>0.000000</td>\n",
       "    </tr>\n",
       "    <tr>\n",
       "      <th>50%</th>\n",
       "      <td>0.871110</td>\n",
       "      <td>0.016310</td>\n",
       "      <td>0.809200</td>\n",
       "      <td>0.022800</td>\n",
       "      <td>0.728730</td>\n",
       "      <td>0.014710</td>\n",
       "      <td>0.684210</td>\n",
       "      <td>0.018290</td>\n",
       "      <td>0.667980</td>\n",
       "      <td>0.028250</td>\n",
       "      <td>...</td>\n",
       "      <td>-0.015050</td>\n",
       "      <td>0.708240</td>\n",
       "      <td>-0.017690</td>\n",
       "      <td>0.496640</td>\n",
       "      <td>0.000000</td>\n",
       "      <td>0.442770</td>\n",
       "      <td>0.000000</td>\n",
       "      <td>0.409560</td>\n",
       "      <td>0.000000</td>\n",
       "      <td>0.000000</td>\n",
       "    </tr>\n",
       "    <tr>\n",
       "      <th>75%</th>\n",
       "      <td>1.000000</td>\n",
       "      <td>0.194185</td>\n",
       "      <td>1.000000</td>\n",
       "      <td>0.334655</td>\n",
       "      <td>0.969240</td>\n",
       "      <td>0.445675</td>\n",
       "      <td>0.953240</td>\n",
       "      <td>0.534195</td>\n",
       "      <td>0.957895</td>\n",
       "      <td>0.482375</td>\n",
       "      <td>...</td>\n",
       "      <td>0.156765</td>\n",
       "      <td>0.999945</td>\n",
       "      <td>0.153535</td>\n",
       "      <td>0.883465</td>\n",
       "      <td>0.154075</td>\n",
       "      <td>0.857620</td>\n",
       "      <td>0.200120</td>\n",
       "      <td>0.813765</td>\n",
       "      <td>0.171660</td>\n",
       "      <td>1.000000</td>\n",
       "    </tr>\n",
       "    <tr>\n",
       "      <th>max</th>\n",
       "      <td>1.000000</td>\n",
       "      <td>1.000000</td>\n",
       "      <td>1.000000</td>\n",
       "      <td>1.000000</td>\n",
       "      <td>1.000000</td>\n",
       "      <td>1.000000</td>\n",
       "      <td>1.000000</td>\n",
       "      <td>1.000000</td>\n",
       "      <td>1.000000</td>\n",
       "      <td>1.000000</td>\n",
       "      <td>...</td>\n",
       "      <td>1.000000</td>\n",
       "      <td>1.000000</td>\n",
       "      <td>1.000000</td>\n",
       "      <td>1.000000</td>\n",
       "      <td>1.000000</td>\n",
       "      <td>1.000000</td>\n",
       "      <td>1.000000</td>\n",
       "      <td>1.000000</td>\n",
       "      <td>1.000000</td>\n",
       "      <td>1.000000</td>\n",
       "    </tr>\n",
       "  </tbody>\n",
       "</table>\n",
       "<p>8 rows × 33 columns</p>\n",
       "</div>"
      ],
      "text/plain": [
       "            ob1-1       ob1-2       ob2-1       ob2-2       ob3-1       ob3-2  \\\n",
       "count  351.000000  351.000000  351.000000  351.000000  351.000000  351.000000   \n",
       "mean     0.641342    0.044372    0.601068    0.115889    0.550095    0.119360   \n",
       "std      0.497708    0.441435    0.519862    0.460810    0.492654    0.520750   \n",
       "min     -1.000000   -1.000000   -1.000000   -1.000000   -1.000000   -1.000000   \n",
       "25%      0.472135   -0.064735    0.412660   -0.024795    0.211310   -0.054840   \n",
       "50%      0.871110    0.016310    0.809200    0.022800    0.728730    0.014710   \n",
       "75%      1.000000    0.194185    1.000000    0.334655    0.969240    0.445675   \n",
       "max      1.000000    1.000000    1.000000    1.000000    1.000000    1.000000   \n",
       "\n",
       "            ob4-1       ob4-2       ob5-1       ob5-2  ...      ob12-2  \\\n",
       "count  351.000000  351.000000  351.000000  351.000000  ...  351.000000   \n",
       "mean     0.511848    0.181345    0.476183    0.155040  ...   -0.071187   \n",
       "std      0.507066    0.483851    0.563496    0.494817  ...    0.508495   \n",
       "min     -1.000000   -1.000000   -1.000000   -1.000000  ...   -1.000000   \n",
       "25%      0.087110   -0.048075    0.021120   -0.065265  ...   -0.332390   \n",
       "50%      0.684210    0.018290    0.667980    0.028250  ...   -0.015050   \n",
       "75%      0.953240    0.534195    0.957895    0.482375  ...    0.156765   \n",
       "max      1.000000    1.000000    1.000000    1.000000  ...    1.000000   \n",
       "\n",
       "           ob13-1      ob13-2      ob14-1      ob14-2      ob15-1      ob15-2  \\\n",
       "count  351.000000  351.000000  351.000000  351.000000  351.000000  351.000000   \n",
       "mean     0.541641   -0.069538    0.378445   -0.027907    0.352514   -0.003794   \n",
       "std      0.516205    0.550025    0.575886    0.507974    0.571483    0.513574   \n",
       "min     -1.000000   -1.000000   -1.000000   -1.000000   -1.000000   -1.000000   \n",
       "25%      0.286435   -0.443165    0.000000   -0.236885    0.000000   -0.242595   \n",
       "50%      0.708240   -0.017690    0.496640    0.000000    0.442770    0.000000   \n",
       "75%      0.999945    0.153535    0.883465    0.154075    0.857620    0.200120   \n",
       "max      1.000000    1.000000    1.000000    1.000000    1.000000    1.000000   \n",
       "\n",
       "           ob16-1      ob16-2      target  \n",
       "count  351.000000  351.000000  351.000000  \n",
       "mean     0.349364    0.014480    0.358974  \n",
       "std      0.522663    0.468337    0.480384  \n",
       "min     -1.000000   -1.000000    0.000000  \n",
       "25%      0.000000   -0.165350    0.000000  \n",
       "50%      0.409560    0.000000    0.000000  \n",
       "75%      0.813765    0.171660    1.000000  \n",
       "max      1.000000    1.000000    1.000000  \n",
       "\n",
       "[8 rows x 33 columns]"
      ]
     },
     "execution_count": 6,
     "metadata": {},
     "output_type": "execute_result"
    }
   ],
   "source": [
    "data.describe()"
   ]
  },
  {
   "cell_type": "markdown",
   "metadata": {},
   "source": [
    "모든 변수 (-1,1) 이므로 따로 scaling X"
   ]
  },
  {
   "cell_type": "code",
   "execution_count": 7,
   "metadata": {
    "scrolled": true
   },
   "outputs": [
    {
     "data": {
      "text/plain": [
       "ob1-1     0\n",
       "ob1-2     0\n",
       "ob2-1     0\n",
       "ob2-2     0\n",
       "ob3-1     0\n",
       "ob3-2     0\n",
       "ob4-1     0\n",
       "ob4-2     0\n",
       "ob5-1     0\n",
       "ob5-2     0\n",
       "ob6-1     0\n",
       "ob6-2     0\n",
       "ob7-1     0\n",
       "ob7-2     0\n",
       "ob8-1     0\n",
       "ob8-2     0\n",
       "ob9-1     0\n",
       "ob9-2     0\n",
       "ob10-1    0\n",
       "ob10-2    0\n",
       "ob11-1    0\n",
       "ob11-2    0\n",
       "ob12-1    0\n",
       "ob12-2    0\n",
       "ob13-1    0\n",
       "ob13-2    0\n",
       "ob14-1    0\n",
       "ob14-2    0\n",
       "ob15-1    0\n",
       "ob15-2    0\n",
       "ob16-1    0\n",
       "ob16-2    0\n",
       "target    0\n",
       "dtype: int64"
      ]
     },
     "execution_count": 7,
     "metadata": {},
     "output_type": "execute_result"
    }
   ],
   "source": [
    "data.isnull().sum()"
   ]
  },
  {
   "cell_type": "markdown",
   "metadata": {},
   "source": [
    "결측치 존재X"
   ]
  },
  {
   "cell_type": "code",
   "execution_count": 8,
   "metadata": {},
   "outputs": [
    {
     "data": {
      "text/plain": [
       "(351, 33)"
      ]
     },
     "execution_count": 8,
     "metadata": {},
     "output_type": "execute_result"
    }
   ],
   "source": [
    "data.shape"
   ]
  },
  {
   "cell_type": "markdown",
   "metadata": {},
   "source": [
    "## 1. Logistic Regression"
   ]
  },
  {
   "cell_type": "markdown",
   "metadata": {},
   "source": [
    "### 1.1 train test 분리"
   ]
  },
  {
   "cell_type": "code",
   "execution_count": 9,
   "metadata": {},
   "outputs": [],
   "source": [
    "from sklearn.model_selection import train_test_split"
   ]
  },
  {
   "cell_type": "code",
   "execution_count": 10,
   "metadata": {
    "scrolled": true
   },
   "outputs": [
    {
     "data": {
      "text/plain": [
       "6      0\n",
       "52     0\n",
       "114    1\n",
       "45     1\n",
       "106    1\n",
       "Name: target, dtype: int64"
      ]
     },
     "execution_count": 10,
     "metadata": {},
     "output_type": "execute_result"
    }
   ],
   "source": [
    "X, y = data.iloc[:,:-1], data.iloc[:,-1]\n",
    "\n",
    "X_train, X_test, y_train, y_test = train_test_split(X, y, test_size = 0.2, random_state = 0)\n",
    "y_test.head()"
   ]
  },
  {
   "cell_type": "markdown",
   "metadata": {},
   "source": [
    "### 1.2 modeling"
   ]
  },
  {
   "cell_type": "code",
   "execution_count": 11,
   "metadata": {},
   "outputs": [],
   "source": [
    "from sklearn.linear_model import LogisticRegression"
   ]
  },
  {
   "cell_type": "code",
   "execution_count": 12,
   "metadata": {},
   "outputs": [
    {
     "data": {
      "text/plain": [
       "LogisticRegression(C=1.0, class_weight=None, dual=False, fit_intercept=True,\n",
       "                   intercept_scaling=1, l1_ratio=None, max_iter=100,\n",
       "                   multi_class='auto', n_jobs=None, penalty='l2',\n",
       "                   random_state=None, solver='lbfgs', tol=0.0001, verbose=0,\n",
       "                   warm_start=False)"
      ]
     },
     "execution_count": 12,
     "metadata": {},
     "output_type": "execute_result"
    }
   ],
   "source": [
    "logreg = LogisticRegression(solver='lbfgs')\n",
    "\n",
    "logreg.fit(X_train, y_train)"
   ]
  },
  {
   "cell_type": "code",
   "execution_count": 13,
   "metadata": {},
   "outputs": [
    {
     "data": {
      "text/plain": [
       "array([0, 1], dtype=int64)"
      ]
     },
     "execution_count": 13,
     "metadata": {},
     "output_type": "execute_result"
    }
   ],
   "source": [
    "logreg.classes_"
   ]
  },
  {
   "cell_type": "code",
   "execution_count": 14,
   "metadata": {
    "scrolled": true
   },
   "outputs": [
    {
     "data": {
      "text/plain": [
       "array([1.69789789])"
      ]
     },
     "execution_count": 14,
     "metadata": {},
     "output_type": "execute_result"
    }
   ],
   "source": [
    "logreg.intercept_"
   ]
  },
  {
   "cell_type": "code",
   "execution_count": 15,
   "metadata": {
    "scrolled": true
   },
   "outputs": [
    {
     "data": {
      "text/plain": [
       "array([[-1.86373698e+00, -9.41314345e-01, -1.35882852e+00,\n",
       "        -8.35881206e-01, -1.65986158e-01, -1.27030852e+00,\n",
       "        -1.37086495e+00,  3.86780001e-02,  1.10539189e+00,\n",
       "         2.28111284e-01,  4.36950164e-01, -6.20493541e-01,\n",
       "        -5.17703902e-01, -3.66162045e-01, -3.80441583e-01,\n",
       "        -4.68948480e-01,  6.36961070e-01,  4.12904068e-01,\n",
       "        -2.66870947e-01,  1.48615307e+00, -6.19862241e-01,\n",
       "        -5.99658250e-01, -6.87485709e-02, -1.30315870e+00,\n",
       "         1.53189014e+00,  7.09537086e-01, -5.79265109e-01,\n",
       "        -6.92173684e-01, -9.73044378e-01,  4.39667829e-01,\n",
       "        -1.43348279e-03,  7.28799247e-01]])"
      ]
     },
     "execution_count": 15,
     "metadata": {},
     "output_type": "execute_result"
    }
   ],
   "source": [
    "logreg.coef_"
   ]
  },
  {
   "cell_type": "code",
   "execution_count": 16,
   "metadata": {},
   "outputs": [],
   "source": [
    "y_pred_t = logreg.predict(X_train)\n",
    "y_pred = logreg.predict(X_test)"
   ]
  },
  {
   "cell_type": "code",
   "execution_count": 17,
   "metadata": {},
   "outputs": [
    {
     "name": "stdout",
     "output_type": "stream",
     "text": [
      "Train_Accuracy: 0.8857142857142857\n",
      "Test_Accuracy: 0.8591549295774648\n"
     ]
    }
   ],
   "source": [
    "train_acc = logreg.score(X_train, y_train)\n",
    "test_acc = logreg.score(X_test, y_test)\n",
    "\n",
    "print(f'Train_Accuracy: {train_acc}')\n",
    "print(f'Test_Accuracy: {test_acc}')"
   ]
  },
  {
   "cell_type": "markdown",
   "metadata": {},
   "source": [
    "### 1.3 Confusion Matrix / AUROC"
   ]
  },
  {
   "cell_type": "markdown",
   "metadata": {},
   "source": [
    "#### Confusion Matrix"
   ]
  },
  {
   "cell_type": "code",
   "execution_count": 18,
   "metadata": {},
   "outputs": [],
   "source": [
    "from sklearn.metrics import confusion_matrix\n",
    "import matplotlib.pyplot as plt\n",
    "import seaborn as sns"
   ]
  },
  {
   "cell_type": "code",
   "execution_count": 19,
   "metadata": {},
   "outputs": [
    {
     "data": {
      "image/png": "[encoded data removed]",
      "text/plain": [
       "<Figure size 360x360 with 2 Axes>"
      ]
     },
     "metadata": {
      "needs_background": "light"
     },
     "output_type": "display_data"
    }
   ],
   "source": [
    "con_mat = confusion_matrix(y_test, y_pred, labels=[0,1])\n",
    "\n",
    "group_names = [\"TN\",\"FP\",\"FN\",\"TP\"]\n",
    "group_counts = [\"{0:0.0f}\".format(value) for value in con_mat.flatten()]\n",
    "group_percentages = [\"{0:.2%}\".format(value) for value in con_mat.flatten()/np.sum(con_mat)]\n",
    "\n",
    "labels = [f\"{v1}\\n{v2}\\n{v3}\" for v1, v2, v3 in zip(group_names,group_counts,group_percentages)]\n",
    "labels = np.asarray(labels).reshape(2,2)\n",
    "fig, ax = plt.subplots(figsize=(5,5))\n",
    "\n",
    "sns.heatmap(con_mat, annot=labels, cmap = \"Blues\", fmt=\"\", linewidths=10, square=True)\n",
    "ax.set_ylim([0,2])\n",
    "ax.set_title(\"Confusion Matrix\")\n",
    "plt.ylabel('True label')\n",
    "plt.xlabel('Predicted label' + \"\")\n",
    "plt.show()"
   ]
  },
  {
   "cell_type": "markdown",
   "metadata": {},
   "source": [
    "#### AUROC"
   ]
  },
  {
   "cell_type": "code",
   "execution_count": 20,
   "metadata": {},
   "outputs": [],
   "source": [
    "from sklearn.metrics import roc_curve, auc\n",
    "%matplotlib inline"
   ]
  },
  {
   "cell_type": "code",
   "execution_count": 21,
   "metadata": {
    "scrolled": true
   },
   "outputs": [
    {
     "data": {
      "image/png": "[encoded data removed]",
      "text/plain": [
       "<Figure size 432x288 with 1 Axes>"
      ]
     },
     "metadata": {
      "needs_background": "light"
     },
     "output_type": "display_data"
    }
   ],
   "source": [
    "fpr, tpr, thresholds = roc_curve(y_test, logreg.decision_function(X_test)) \n",
    "\n",
    "plt.plot(fpr, tpr)\n",
    "#plt.fill_between(fpr, tpr)\n",
    "plt.plot([0, 1], [0, 1], '--')\n",
    "plt.xlabel('1 - Specificity(TNR)')\n",
    "#plt.xlabel('거짓 양성 비율(FPR)')\n",
    "plt.ylabel('Sensitivity(TPR)')\n",
    "\n",
    "auc_s = auc(fpr, tpr) # auc(score)\n",
    "plt.title('ROC curve (AUROC = {})'.format(auc_s))\n",
    "plt.show()"
   ]
  },
  {
   "cell_type": "markdown",
   "metadata": {},
   "source": [
    "#### 각 성능 지표"
   ]
  },
  {
   "cell_type": "code",
   "execution_count": 22,
   "metadata": {},
   "outputs": [],
   "source": [
    "from sklearn.metrics import f1_score, accuracy_score, recall_score, precision_score\n",
    "from sklearn.metrics import classification_report"
   ]
  },
  {
   "cell_type": "code",
   "execution_count": 23,
   "metadata": {},
   "outputs": [
    {
     "name": "stdout",
     "output_type": "stream",
     "text": [
      "              precision    recall  f1-score   support\n",
      "\n",
      "           0       0.80      1.00      0.89        41\n",
      "           1       1.00      0.67      0.80        30\n",
      "\n",
      "    accuracy                           0.86        71\n",
      "   macro avg       0.90      0.83      0.85        71\n",
      "weighted avg       0.89      0.86      0.85        71\n",
      "\n"
     ]
    }
   ],
   "source": [
    "print(classification_report(y_test, y_pred))"
   ]
  },
  {
   "cell_type": "code",
   "execution_count": 24,
   "metadata": {
    "scrolled": true
   },
   "outputs": [
    {
     "name": "stdout",
     "output_type": "stream",
     "text": [
      "Accuracy: 0.8591549295774648\n",
      "Precision: 1.0\n",
      "Recall: 0.6666666666666666\n",
      "F1-score: 0.8\n"
     ]
    }
   ],
   "source": [
    "print(f'Accuracy: {accuracy_score(y_test, y_pred)}')\n",
    "print(f\"Precision: {precision_score(y_test, y_pred, average='binary')}\")\n",
    "print(f\"Recall: {recall_score(y_test, y_pred, average='binary')}\")\n",
    "print(f\"F1-score: {f1_score(y_test, y_pred, average='binary')}\")"
   ]
  },
  {
   "cell_type": "markdown",
   "metadata": {},
   "source": [
    "## 2. Decision Tree"
   ]
  },
  {
   "cell_type": "code",
   "execution_count": 33,
   "metadata": {},
   "outputs": [],
   "source": [
    "col_names = ['ob1-1', 'ob1-2', 'ob2-1', 'ob2-2', 'ob3-1', 'ob3-2', 'ob4-1', 'ob4-2', 'ob5-1', 'ob5-2', 'ob6-1', 'ob6-2', 'ob7-1', 'ob7-2', 'ob8-1', 'ob8-2', 'ob9-1', 'ob9-2', 'ob10-1', 'ob10-2', 'ob11-1', 'ob11-2', 'ob12-1', 'ob12-2', 'ob13-1', 'ob13-2', 'ob14-1', 'ob14-2', 'ob15-1', 'ob15-2', 'ob16-1', 'ob16-2']"
   ]
  },
  {
   "cell_type": "markdown",
   "metadata": {},
   "source": [
    "30번 반복"
   ]
  },
  {
   "cell_type": "markdown",
   "metadata": {},
   "source": [
    "### 2.1 train test 분리"
   ]
  },
  {
   "cell_type": "code",
   "execution_count": 71,
   "metadata": {},
   "outputs": [],
   "source": [
    "from sklearn.model_selection import train_test_split"
   ]
  },
  {
   "cell_type": "code",
   "execution_count": 198,
   "metadata": {
    "scrolled": false
   },
   "outputs": [
    {
     "data": {
      "text/plain": [
       "213    0\n",
       "92     0\n",
       "86     0\n",
       "68     0\n",
       "102    1\n",
       "Name: target, dtype: int64"
      ]
     },
     "execution_count": 198,
     "metadata": {},
     "output_type": "execute_result"
    }
   ],
   "source": [
    "X, y = data.iloc[:,:-1], data.iloc[:,-1]\n",
    "\n",
    "X_train, X_test, y_train, y_test = train_test_split(X, y, test_size = 0.2)\n",
    "y_test.head()"
   ]
  },
  {
   "cell_type": "markdown",
   "metadata": {},
   "source": [
    "### 2.2 modeling & visualization & 성능평가 : Gini index"
   ]
  },
  {
   "cell_type": "markdown",
   "metadata": {},
   "source": [
    "#### modeling"
   ]
  },
  {
   "cell_type": "code",
   "execution_count": 199,
   "metadata": {},
   "outputs": [],
   "source": [
    "from sklearn.tree import DecisionTreeClassifier"
   ]
  },
  {
   "cell_type": "code",
   "execution_count": 200,
   "metadata": {
    "scrolled": false
   },
   "outputs": [
    {
     "data": {
      "text/plain": [
       "DecisionTreeClassifier(ccp_alpha=0.0, class_weight=None, criterion='gini',\n",
       "                       max_depth=4, max_features=None, max_leaf_nodes=None,\n",
       "                       min_impurity_decrease=0.0, min_impurity_split=None,\n",
       "                       min_samples_leaf=1, min_samples_split=2,\n",
       "                       min_weight_fraction_leaf=0.0, presort='deprecated',\n",
       "                       random_state=None, splitter='best')"
      ]
     },
     "execution_count": 200,
     "metadata": {},
     "output_type": "execute_result"
    }
   ],
   "source": [
    "DT = DecisionTreeClassifier(criterion = 'gini', max_depth = 4) \n",
    "\n",
    "DT.fit(X_train, y_train)"
   ]
  },
  {
   "cell_type": "code",
   "execution_count": 201,
   "metadata": {},
   "outputs": [
    {
     "name": "stdout",
     "output_type": "stream",
     "text": [
      "Train_Accuracy: 0.95\n",
      "Test_Accuracy: 0.8732394366197183\n"
     ]
    }
   ],
   "source": [
    "train_acc = DT.score(X_train, y_train)\n",
    "test_acc = DT.score(X_test, y_test)\n",
    "\n",
    "print(f'Train_Accuracy: {train_acc}')\n",
    "print(f'Test_Accuracy: {test_acc}')"
   ]
  },
  {
   "cell_type": "markdown",
   "metadata": {},
   "source": [
    "#### visualization"
   ]
  },
  {
   "cell_type": "code",
   "execution_count": 202,
   "metadata": {},
   "outputs": [],
   "source": [
    "from sklearn import tree\n",
    "from sklearn.tree import export_graphviz\n",
    "from sklearn.externals.six import StringIO\n",
    "import pydotplus\n",
    "from IPython.display import Image\n",
    "import graphviz"
   ]
  },
  {
   "cell_type": "code",
   "execution_count": 203,
   "metadata": {
    "scrolled": false
   },
   "outputs": [
    {
     "data": {
      "image/png": "[encoded data removed]",
      "text/plain": [
       "<IPython.core.display.Image object>"
      ]
     },
     "execution_count": 203,
     "metadata": {},
     "output_type": "execute_result"
    }
   ],
   "source": [
    "dot_data = StringIO()\n",
    "dot_data = export_graphviz(DT, out_file = None, feature_names = col_names,\n",
    "                          class_names=['good','bad'], filled = True, rounded = True, special_characters = True)\n",
    "graph = pydotplus.graph_from_dot_data(dot_data)\n",
    "Image(graph.create_png())"
   ]
  },
  {
   "cell_type": "markdown",
   "metadata": {},
   "source": [
    "#### Confusion Matrix"
   ]
  },
  {
   "cell_type": "code",
   "execution_count": 204,
   "metadata": {},
   "outputs": [],
   "source": [
    "from sklearn.metrics import confusion_matrix\n",
    "import matplotlib.pyplot as plt\n",
    "import seaborn as sns"
   ]
  },
  {
   "cell_type": "code",
   "execution_count": 205,
   "metadata": {},
   "outputs": [],
   "source": [
    "y_pred = DT.predict(X_test)"
   ]
  },
  {
   "cell_type": "code",
   "execution_count": 206,
   "metadata": {},
   "outputs": [
    {
     "data": {
      "image/png": "[encoded data removed]",
      "text/plain": [
       "<Figure size 360x360 with 2 Axes>"
      ]
     },
     "metadata": {
      "needs_background": "light"
     },
     "output_type": "display_data"
    }
   ],
   "source": [
    "con_mat = confusion_matrix(y_test, y_pred, labels=[0,1])\n",
    "\n",
    "group_names = [\"TN\",\"FP\",\"FN\",\"TP\"]\n",
    "group_counts = [\"{0:0.0f}\".format(value) for value in con_mat.flatten()]\n",
    "group_percentages = [\"{0:.2%}\".format(value) for value in con_mat.flatten()/np.sum(con_mat)]\n",
    "\n",
    "labels = [f\"{v1}\\n{v2}\\n{v3}\" for v1, v2, v3 in zip(group_names,group_counts,group_percentages)]\n",
    "labels = np.asarray(labels).reshape(2,2)\n",
    "fig, ax = plt.subplots(figsize=(5,5))\n",
    "\n",
    "sns.heatmap(con_mat, annot=labels, cmap = \"Blues\", fmt=\"\", linewidths=10, square=True)\n",
    "ax.set_ylim([0,2])\n",
    "ax.set_title(\"Confusion Matrix\")\n",
    "plt.ylabel('True label')\n",
    "plt.xlabel('Predicted label' + \"\")\n",
    "plt.show()"
   ]
  },
  {
   "cell_type": "markdown",
   "metadata": {},
   "source": [
    "#### AUROC"
   ]
  },
  {
   "cell_type": "code",
   "execution_count": 207,
   "metadata": {},
   "outputs": [],
   "source": [
    "from sklearn.metrics import roc_curve, auc\n",
    "%matplotlib inline"
   ]
  },
  {
   "cell_type": "code",
   "execution_count": 208,
   "metadata": {
    "scrolled": false
   },
   "outputs": [
    {
     "data": {
      "image/png": "[encoded data removed]",
      "text/plain": [
       "<Figure size 432x288 with 1 Axes>"
      ]
     },
     "metadata": {
      "needs_background": "light"
     },
     "output_type": "display_data"
    }
   ],
   "source": [
    "fpr, tpr, thresholds = roc_curve(y_test, DT.predict_proba(X_test)[:,1]) \n",
    "\n",
    "plt.plot(fpr, tpr)\n",
    "#plt.fill_between(fpr, tpr)\n",
    "plt.plot([0, 1], [0, 1], '--')\n",
    "plt.xlabel('1 - Specificity(TNR)')\n",
    "#plt.xlabel('거짓 양성 비율(FPR)')\n",
    "plt.ylabel('Sensitivity(TPR)')\n",
    "\n",
    "auc_s = auc(fpr, tpr) # auc(score)\n",
    "plt.title('ROC curve (AUROC = {})'.format(auc_s))\n",
    "plt.show()"
   ]
  },
  {
   "cell_type": "markdown",
   "metadata": {},
   "source": [
    "#### 각 성능 지표"
   ]
  },
  {
   "cell_type": "code",
   "execution_count": 209,
   "metadata": {},
   "outputs": [],
   "source": [
    "from sklearn.metrics import f1_score, accuracy_score, recall_score, precision_score\n",
    "from sklearn.metrics import classification_report"
   ]
  },
  {
   "cell_type": "code",
   "execution_count": 210,
   "metadata": {},
   "outputs": [
    {
     "name": "stdout",
     "output_type": "stream",
     "text": [
      "              precision    recall  f1-score   support\n",
      "\n",
      "           0       0.84      0.95      0.89        39\n",
      "           1       0.93      0.78      0.85        32\n",
      "\n",
      "    accuracy                           0.87        71\n",
      "   macro avg       0.88      0.86      0.87        71\n",
      "weighted avg       0.88      0.87      0.87        71\n",
      "\n"
     ]
    }
   ],
   "source": [
    "print(classification_report(y_test, y_pred))"
   ]
  },
  {
   "cell_type": "code",
   "execution_count": 211,
   "metadata": {
    "scrolled": true
   },
   "outputs": [
    {
     "name": "stdout",
     "output_type": "stream",
     "text": [
      "Accuracy: 0.8732394366197183\n",
      "Precision: 0.9259259259259259\n",
      "Recall: 0.78125\n",
      "F1-score: 0.847457627118644\n"
     ]
    }
   ],
   "source": [
    "print(f'Accuracy: {accuracy_score(y_test, y_pred)}')\n",
    "print(f\"Precision: {precision_score(y_test, y_pred, average='binary')}\")\n",
    "print(f\"Recall: {recall_score(y_test, y_pred, average='binary')}\")\n",
    "print(f\"F1-score: {f1_score(y_test, y_pred, average='binary')}\")"
   ]
  },
  {
   "cell_type": "code",
   "execution_count": null,
   "metadata": {},
   "outputs": [],
   "source": []
  },
  {
   "cell_type": "code",
   "execution_count": null,
   "metadata": {},
   "outputs": [],
   "source": []
  },
  {
   "cell_type": "markdown",
   "metadata": {},
   "source": [
    "## 3. Random Forest"
   ]
  },
  {
   "cell_type": "markdown",
   "metadata": {},
   "source": [
    "### 3.1 train test 분리"
   ]
  },
  {
   "cell_type": "code",
   "execution_count": 25,
   "metadata": {},
   "outputs": [],
   "source": [
    "from sklearn.model_selection import train_test_split"
   ]
  },
  {
   "cell_type": "code",
   "execution_count": 26,
   "metadata": {
    "scrolled": false
   },
   "outputs": [
    {
     "data": {
      "text/plain": [
       "6      0\n",
       "52     0\n",
       "114    1\n",
       "45     1\n",
       "106    1\n",
       "Name: target, dtype: int64"
      ]
     },
     "execution_count": 26,
     "metadata": {},
     "output_type": "execute_result"
    }
   ],
   "source": [
    "X, y = data.iloc[:,:-1], data.iloc[:,-1]\n",
    "\n",
    "X_train, X_test, y_train, y_test = train_test_split(X, y, test_size = 0.2, random_state = 0)\n",
    "y_test.head()"
   ]
  },
  {
   "cell_type": "markdown",
   "metadata": {},
   "source": [
    "### 3.2 modeling"
   ]
  },
  {
   "cell_type": "code",
   "execution_count": 27,
   "metadata": {},
   "outputs": [],
   "source": [
    "from sklearn.ensemble import RandomForestClassifier"
   ]
  },
  {
   "cell_type": "code",
   "execution_count": 34,
   "metadata": {},
   "outputs": [
    {
     "data": {
      "text/plain": [
       "RandomForestClassifier(bootstrap=True, ccp_alpha=0.0, class_weight=None,\n",
       "                       criterion='gini', max_depth=4, max_features='auto',\n",
       "                       max_leaf_nodes=None, max_samples=None,\n",
       "                       min_impurity_decrease=0.0, min_impurity_split=None,\n",
       "                       min_samples_leaf=1, min_samples_split=2,\n",
       "                       min_weight_fraction_leaf=0.0, n_estimators=100,\n",
       "                       n_jobs=None, oob_score=True, random_state=42, verbose=0,\n",
       "                       warm_start=False)"
      ]
     },
     "execution_count": 34,
     "metadata": {},
     "output_type": "execute_result"
    }
   ],
   "source": [
    "RF = RandomForestClassifier(n_estimators=100, oob_score=True,\n",
    "                            criterion='gini', max_depth=4, random_state=42)\n",
    "RF.fit(X_train, y_train)"
   ]
  },
  {
   "cell_type": "code",
   "execution_count": 35,
   "metadata": {
    "scrolled": true
   },
   "outputs": [
    {
     "name": "stdout",
     "output_type": "stream",
     "text": [
      "[DecisionTreeClassifier(ccp_alpha=0.0, class_weight=None, criterion='gini',\n",
      "                       max_depth=4, max_features='auto', max_leaf_nodes=None,\n",
      "                       min_impurity_decrease=0.0, min_impurity_split=None,\n",
      "                       min_samples_leaf=1, min_samples_split=2,\n",
      "                       min_weight_fraction_leaf=0.0, presort='deprecated',\n",
      "                       random_state=1608637542, splitter='best'), DecisionTreeClassifier(ccp_alpha=0.0, class_weight=None, criterion='gini',\n",
      "                       max_depth=4, max_features='auto', max_leaf_nodes=None,\n",
      "                       min_impurity_decrease=0.0, min_impurity_split=None,\n",
      "                       min_samples_leaf=1, min_samples_split=2,\n",
      "                       min_weight_fraction_leaf=0.0, presort='deprecated',\n",
      "                       random_state=1273642419, splitter='best'), DecisionTreeClassifier(ccp_alpha=0.0, class_weight=None, criterion='gini',\n",
      "                       max_depth=4, max_features='auto', max_leaf_nodes=None,\n",
      "                       min_impurity_decrease=0.0, min_impurity_split=None,\n",
      "                       min_samples_leaf=1, min_samples_split=2,\n",
      "                       min_weight_fraction_leaf=0.0, presort='deprecated',\n",
      "                       random_state=1935803228, splitter='best')]\n",
      "100\n"
     ]
    }
   ],
   "source": [
    "print(RF.estimators_[:3])\n",
    "print(len(RF.estimators_))"
   ]
  },
  {
   "cell_type": "markdown",
   "metadata": {},
   "source": [
    "### 3.3 Feature Importance"
   ]
  },
  {
   "cell_type": "code",
   "execution_count": 36,
   "metadata": {},
   "outputs": [],
   "source": [
    "import matplotlib.pyplot as plt"
   ]
  },
  {
   "cell_type": "code",
   "execution_count": 37,
   "metadata": {},
   "outputs": [
    {
     "data": {
      "image/png": "[encoded data removed]",
      "text/plain": [
       "<Figure size 432x288 with 1 Axes>"
      ]
     },
     "metadata": {
      "needs_background": "light"
     },
     "output_type": "display_data"
    }
   ],
   "source": [
    "def plot_feature_importances(model):\n",
    "\n",
    "    n_features = X.shape[1]\n",
    "    idx = np.arange(n_features)\n",
    "\n",
    "    plt.barh(range(n_features), model.feature_importances_, align='center')\n",
    "\n",
    "    plt.yticks(np.arange(n_features))\n",
    "    plt.yticks(idx, col_names[:])\n",
    "\n",
    "    plt.xlabel(\"feature importances\")\n",
    "\n",
    "    plt.ylabel(\"feature\")\n",
    "\n",
    "    plt.ylim(-1, n_features)\n",
    "\n",
    "plot_feature_importances(RF)\n",
    "plt.show()"
   ]
  },
  {
   "cell_type": "code",
   "execution_count": 38,
   "metadata": {},
   "outputs": [
    {
     "data": {
      "text/plain": [
       "0.9357142857142857"
      ]
     },
     "execution_count": 38,
     "metadata": {},
     "output_type": "execute_result"
    }
   ],
   "source": [
    "# oob_score -> test data로 성능 평가와 비슷\n",
    "## train data 중 포함되지 않은 data로 성능측정\n",
    "RF.oob_score_"
   ]
  },
  {
   "cell_type": "markdown",
   "metadata": {},
   "source": [
    "### 3.4 visualization"
   ]
  },
  {
   "cell_type": "code",
   "execution_count": 42,
   "metadata": {},
   "outputs": [],
   "source": [
    "from sklearn import tree\n",
    "from sklearn.tree import export_graphviz\n",
    "from sklearn.externals.six import StringIO\n",
    "import pydotplus\n",
    "from IPython.display import Image\n",
    "import graphviz"
   ]
  },
  {
   "cell_type": "code",
   "execution_count": 45,
   "metadata": {},
   "outputs": [
    {
     "data": {
      "image/svg+xml": [
       "<?xml version=\"1.0\" encoding=\"UTF-8\" standalone=\"no\"?>\r\n",
       "<!DOCTYPE svg PUBLIC \"-//W3C//DTD SVG 1.1//EN\"\r\n",
       " \"http://www.w3.org/Graphics/SVG/1.1/DTD/svg11.dtd\">\r\n",
       "<!-- Generated by graphviz version 2.47.2 (20210527.0053)\r\n",
       " -->\r\n",
       "<!-- Title: Tree Pages: 1 -->\r\n",
       "<svg width=\"602pt\" height=\"477pt\"\r\n",
       " viewBox=\"0.00 0.00 602.00 477.00\" xmlns=\"http://www.w3.org/2000/svg\" xmlns:xlink=\"http://www.w3.org/1999/xlink\">\r\n",
       "<g id=\"graph0\" class=\"graph\" transform=\"scale(1 1) rotate(0) translate(4 473)\">\r\n",
       "<title>Tree</title>\r\n",
       "<polygon fill=\"white\" stroke=\"transparent\" points=\"-4,4 -4,-473 598,-473 598,4 -4,4\"/>\r\n",
       "<!-- 0 -->\r\n",
       "<g id=\"node1\" class=\"node\">\r\n",
       "<title>0</title>\r\n",
       "<path fill=\"#f3c6a5\" stroke=\"black\" d=\"M405.5,-469C405.5,-469 307.5,-469 307.5,-469 301.5,-469 295.5,-463 295.5,-457 295.5,-457 295.5,-413 295.5,-413 295.5,-407 301.5,-401 307.5,-401 307.5,-401 405.5,-401 405.5,-401 411.5,-401 417.5,-407 417.5,-413 417.5,-413 417.5,-457 417.5,-457 417.5,-463 411.5,-469 405.5,-469\"/>\r\n",
       "<text text-anchor=\"middle\" x=\"356.5\" y=\"-453.8\" font-family=\"Helvetica,sans-Serif\" font-size=\"14.00\">X[19] &lt;= 0.84</text>\r\n",
       "<text text-anchor=\"middle\" x=\"356.5\" y=\"-438.8\" font-family=\"Helvetica,sans-Serif\" font-size=\"14.00\">gini = 0.46</text>\r\n",
       "<text text-anchor=\"middle\" x=\"356.5\" y=\"-423.8\" font-family=\"Helvetica,sans-Serif\" font-size=\"14.00\">samples = 174</text>\r\n",
       "<text text-anchor=\"middle\" x=\"356.5\" y=\"-408.8\" font-family=\"Helvetica,sans-Serif\" font-size=\"14.00\">value = [181, 99]</text>\r\n",
       "</g>\r\n",
       "<!-- 1 -->\r\n",
       "<g id=\"node2\" class=\"node\">\r\n",
       "<title>1</title>\r\n",
       "<path fill=\"#f0b58b\" stroke=\"black\" d=\"M339.5,-365C339.5,-365 241.5,-365 241.5,-365 235.5,-365 229.5,-359 229.5,-353 229.5,-353 229.5,-309 229.5,-309 229.5,-303 235.5,-297 241.5,-297 241.5,-297 339.5,-297 339.5,-297 345.5,-297 351.5,-303 351.5,-309 351.5,-309 351.5,-353 351.5,-353 351.5,-359 345.5,-365 339.5,-365\"/>\r\n",
       "<text text-anchor=\"middle\" x=\"290.5\" y=\"-349.8\" font-family=\"Helvetica,sans-Serif\" font-size=\"14.00\">X[0] &lt;= 0.19</text>\r\n",
       "<text text-anchor=\"middle\" x=\"290.5\" y=\"-334.8\" font-family=\"Helvetica,sans-Serif\" font-size=\"14.00\">gini = 0.41</text>\r\n",
       "<text text-anchor=\"middle\" x=\"290.5\" y=\"-319.8\" font-family=\"Helvetica,sans-Serif\" font-size=\"14.00\">samples = 159</text>\r\n",
       "<text text-anchor=\"middle\" x=\"290.5\" y=\"-304.8\" font-family=\"Helvetica,sans-Serif\" font-size=\"14.00\">value = [179, 74]</text>\r\n",
       "</g>\r\n",
       "<!-- 0&#45;&gt;1 -->\r\n",
       "<g id=\"edge1\" class=\"edge\">\r\n",
       "<title>0&#45;&gt;1</title>\r\n",
       "<path fill=\"none\" stroke=\"black\" d=\"M335.07,-400.88C329.48,-392.24 323.38,-382.82 317.54,-373.79\"/>\r\n",
       "<polygon fill=\"black\" stroke=\"black\" points=\"320.42,-371.79 312.05,-365.3 314.54,-375.6 320.42,-371.79\"/>\r\n",
       "<text text-anchor=\"middle\" x=\"306.81\" y=\"-386.04\" font-family=\"Helvetica,sans-Serif\" font-size=\"14.00\">True</text>\r\n",
       "</g>\r\n",
       "<!-- 10 -->\r\n",
       "<g id=\"node11\" class=\"node\">\r\n",
       "<title>10</title>\r\n",
       "<path fill=\"#49a5e7\" stroke=\"black\" d=\"M463,-365C463,-365 382,-365 382,-365 376,-365 370,-359 370,-353 370,-353 370,-309 370,-309 370,-303 376,-297 382,-297 382,-297 463,-297 463,-297 469,-297 475,-303 475,-309 475,-309 475,-353 475,-353 475,-359 469,-365 463,-365\"/>\r\n",
       "<text text-anchor=\"middle\" x=\"422.5\" y=\"-349.8\" font-family=\"Helvetica,sans-Serif\" font-size=\"14.00\">X[0] &lt;= 0.97</text>\r\n",
       "<text text-anchor=\"middle\" x=\"422.5\" y=\"-334.8\" font-family=\"Helvetica,sans-Serif\" font-size=\"14.00\">gini = 0.14</text>\r\n",
       "<text text-anchor=\"middle\" x=\"422.5\" y=\"-319.8\" font-family=\"Helvetica,sans-Serif\" font-size=\"14.00\">samples = 15</text>\r\n",
       "<text text-anchor=\"middle\" x=\"422.5\" y=\"-304.8\" font-family=\"Helvetica,sans-Serif\" font-size=\"14.00\">value = [2, 25]</text>\r\n",
       "</g>\r\n",
       "<!-- 0&#45;&gt;10 -->\r\n",
       "<g id=\"edge10\" class=\"edge\">\r\n",
       "<title>0&#45;&gt;10</title>\r\n",
       "<path fill=\"none\" stroke=\"black\" d=\"M377.93,-400.88C383.52,-392.24 389.62,-382.82 395.46,-373.79\"/>\r\n",
       "<polygon fill=\"black\" stroke=\"black\" points=\"398.46,-375.6 400.95,-365.3 392.58,-371.79 398.46,-375.6\"/>\r\n",
       "<text text-anchor=\"middle\" x=\"406.19\" y=\"-386.04\" font-family=\"Helvetica,sans-Serif\" font-size=\"14.00\">False</text>\r\n",
       "</g>\r\n",
       "<!-- 2 -->\r\n",
       "<g id=\"node3\" class=\"node\">\r\n",
       "<title>2</title>\r\n",
       "<path fill=\"#399de5\" stroke=\"black\" d=\"M200,-253.5C200,-253.5 119,-253.5 119,-253.5 113,-253.5 107,-247.5 107,-241.5 107,-241.5 107,-212.5 107,-212.5 107,-206.5 113,-200.5 119,-200.5 119,-200.5 200,-200.5 200,-200.5 206,-200.5 212,-206.5 212,-212.5 212,-212.5 212,-241.5 212,-241.5 212,-247.5 206,-253.5 200,-253.5\"/>\r\n",
       "<text text-anchor=\"middle\" x=\"159.5\" y=\"-238.3\" font-family=\"Helvetica,sans-Serif\" font-size=\"14.00\">gini = 0.0</text>\r\n",
       "<text text-anchor=\"middle\" x=\"159.5\" y=\"-223.3\" font-family=\"Helvetica,sans-Serif\" font-size=\"14.00\">samples = 25</text>\r\n",
       "<text text-anchor=\"middle\" x=\"159.5\" y=\"-208.3\" font-family=\"Helvetica,sans-Serif\" font-size=\"14.00\">value = [0, 39]</text>\r\n",
       "</g>\r\n",
       "<!-- 1&#45;&gt;2 -->\r\n",
       "<g id=\"edge2\" class=\"edge\">\r\n",
       "<title>1&#45;&gt;2</title>\r\n",
       "<path fill=\"none\" stroke=\"black\" d=\"M247.97,-296.88C232.71,-285.01 215.56,-271.65 200.44,-259.88\"/>\r\n",
       "<polygon fill=\"black\" stroke=\"black\" points=\"202.32,-256.9 192.28,-253.52 198.02,-262.43 202.32,-256.9\"/>\r\n",
       "</g>\r\n",
       "<!-- 3 -->\r\n",
       "<g id=\"node4\" class=\"node\">\r\n",
       "<title>3</title>\r\n",
       "<path fill=\"#ea9a60\" stroke=\"black\" d=\"M340.5,-261C340.5,-261 242.5,-261 242.5,-261 236.5,-261 230.5,-255 230.5,-249 230.5,-249 230.5,-205 230.5,-205 230.5,-199 236.5,-193 242.5,-193 242.5,-193 340.5,-193 340.5,-193 346.5,-193 352.5,-199 352.5,-205 352.5,-205 352.5,-249 352.5,-249 352.5,-255 346.5,-261 340.5,-261\"/>\r\n",
       "<text text-anchor=\"middle\" x=\"291.5\" y=\"-245.8\" font-family=\"Helvetica,sans-Serif\" font-size=\"14.00\">X[1] &lt;= &#45;0.61</text>\r\n",
       "<text text-anchor=\"middle\" x=\"291.5\" y=\"-230.8\" font-family=\"Helvetica,sans-Serif\" font-size=\"14.00\">gini = 0.27</text>\r\n",
       "<text text-anchor=\"middle\" x=\"291.5\" y=\"-215.8\" font-family=\"Helvetica,sans-Serif\" font-size=\"14.00\">samples = 134</text>\r\n",
       "<text text-anchor=\"middle\" x=\"291.5\" y=\"-200.8\" font-family=\"Helvetica,sans-Serif\" font-size=\"14.00\">value = [179, 35]</text>\r\n",
       "</g>\r\n",
       "<!-- 1&#45;&gt;3 -->\r\n",
       "<g id=\"edge3\" class=\"edge\">\r\n",
       "<title>1&#45;&gt;3</title>\r\n",
       "<path fill=\"none\" stroke=\"black\" d=\"M290.82,-296.88C290.9,-288.78 290.99,-279.98 291.07,-271.47\"/>\r\n",
       "<polygon fill=\"black\" stroke=\"black\" points=\"294.58,-271.33 291.17,-261.3 287.58,-271.26 294.58,-271.33\"/>\r\n",
       "</g>\r\n",
       "<!-- 4 -->\r\n",
       "<g id=\"node5\" class=\"node\">\r\n",
       "<title>4</title>\r\n",
       "<path fill=\"#52a9e8\" stroke=\"black\" d=\"M200,-157C200,-157 127,-157 127,-157 121,-157 115,-151 115,-145 115,-145 115,-101 115,-101 115,-95 121,-89 127,-89 127,-89 200,-89 200,-89 206,-89 212,-95 212,-101 212,-101 212,-145 212,-145 212,-151 206,-157 200,-157\"/>\r\n",
       "<text text-anchor=\"middle\" x=\"163.5\" y=\"-141.8\" font-family=\"Helvetica,sans-Serif\" font-size=\"14.00\">X[6] &lt;= 0.7</text>\r\n",
       "<text text-anchor=\"middle\" x=\"163.5\" y=\"-126.8\" font-family=\"Helvetica,sans-Serif\" font-size=\"14.00\">gini = 0.2</text>\r\n",
       "<text text-anchor=\"middle\" x=\"163.5\" y=\"-111.8\" font-family=\"Helvetica,sans-Serif\" font-size=\"14.00\">samples = 6</text>\r\n",
       "<text text-anchor=\"middle\" x=\"163.5\" y=\"-96.8\" font-family=\"Helvetica,sans-Serif\" font-size=\"14.00\">value = [1, 8]</text>\r\n",
       "</g>\r\n",
       "<!-- 3&#45;&gt;4 -->\r\n",
       "<g id=\"edge4\" class=\"edge\">\r\n",
       "<title>3&#45;&gt;4</title>\r\n",
       "<path fill=\"none\" stroke=\"black\" d=\"M249.94,-192.88C238.21,-183.53 225.32,-173.26 213.15,-163.57\"/>\r\n",
       "<polygon fill=\"black\" stroke=\"black\" points=\"215.29,-160.79 205.29,-157.3 210.93,-166.27 215.29,-160.79\"/>\r\n",
       "</g>\r\n",
       "<!-- 7 -->\r\n",
       "<g id=\"node8\" class=\"node\">\r\n",
       "<title>7</title>\r\n",
       "<path fill=\"#e99457\" stroke=\"black\" d=\"M340.5,-157C340.5,-157 242.5,-157 242.5,-157 236.5,-157 230.5,-151 230.5,-145 230.5,-145 230.5,-101 230.5,-101 230.5,-95 236.5,-89 242.5,-89 242.5,-89 340.5,-89 340.5,-89 346.5,-89 352.5,-95 352.5,-101 352.5,-101 352.5,-145 352.5,-145 352.5,-151 346.5,-157 340.5,-157\"/>\r\n",
       "<text text-anchor=\"middle\" x=\"291.5\" y=\"-141.8\" font-family=\"Helvetica,sans-Serif\" font-size=\"14.00\">X[24] &lt;= 1.0</text>\r\n",
       "<text text-anchor=\"middle\" x=\"291.5\" y=\"-126.8\" font-family=\"Helvetica,sans-Serif\" font-size=\"14.00\">gini = 0.23</text>\r\n",
       "<text text-anchor=\"middle\" x=\"291.5\" y=\"-111.8\" font-family=\"Helvetica,sans-Serif\" font-size=\"14.00\">samples = 128</text>\r\n",
       "<text text-anchor=\"middle\" x=\"291.5\" y=\"-96.8\" font-family=\"Helvetica,sans-Serif\" font-size=\"14.00\">value = [178, 27]</text>\r\n",
       "</g>\r\n",
       "<!-- 3&#45;&gt;7 -->\r\n",
       "<g id=\"edge7\" class=\"edge\">\r\n",
       "<title>3&#45;&gt;7</title>\r\n",
       "<path fill=\"none\" stroke=\"black\" d=\"M291.5,-192.88C291.5,-184.78 291.5,-175.98 291.5,-167.47\"/>\r\n",
       "<polygon fill=\"black\" stroke=\"black\" points=\"295,-167.3 291.5,-157.3 288,-167.3 295,-167.3\"/>\r\n",
       "</g>\r\n",
       "<!-- 5 -->\r\n",
       "<g id=\"node6\" class=\"node\">\r\n",
       "<title>5</title>\r\n",
       "<path fill=\"#ffffff\" stroke=\"black\" d=\"M85,-53C85,-53 12,-53 12,-53 6,-53 0,-47 0,-41 0,-41 0,-12 0,-12 0,-6 6,0 12,0 12,0 85,0 85,0 91,0 97,-6 97,-12 97,-12 97,-41 97,-41 97,-47 91,-53 85,-53\"/>\r\n",
       "<text text-anchor=\"middle\" x=\"48.5\" y=\"-37.8\" font-family=\"Helvetica,sans-Serif\" font-size=\"14.00\">gini = 0.5</text>\r\n",
       "<text text-anchor=\"middle\" x=\"48.5\" y=\"-22.8\" font-family=\"Helvetica,sans-Serif\" font-size=\"14.00\">samples = 2</text>\r\n",
       "<text text-anchor=\"middle\" x=\"48.5\" y=\"-7.8\" font-family=\"Helvetica,sans-Serif\" font-size=\"14.00\">value = [1, 1]</text>\r\n",
       "</g>\r\n",
       "<!-- 4&#45;&gt;5 -->\r\n",
       "<g id=\"edge5\" class=\"edge\">\r\n",
       "<title>4&#45;&gt;5</title>\r\n",
       "<path fill=\"none\" stroke=\"black\" d=\"M123.28,-88.95C111.7,-79.43 99.09,-69.07 87.58,-59.62\"/>\r\n",
       "<polygon fill=\"black\" stroke=\"black\" points=\"89.77,-56.88 79.82,-53.24 85.32,-62.29 89.77,-56.88\"/>\r\n",
       "</g>\r\n",
       "<!-- 6 -->\r\n",
       "<g id=\"node7\" class=\"node\">\r\n",
       "<title>6</title>\r\n",
       "<path fill=\"#399de5\" stroke=\"black\" d=\"M200,-53C200,-53 127,-53 127,-53 121,-53 115,-47 115,-41 115,-41 115,-12 115,-12 115,-6 121,0 127,0 127,0 200,0 200,0 206,0 212,-6 212,-12 212,-12 212,-41 212,-41 212,-47 206,-53 200,-53\"/>\r\n",
       "<text text-anchor=\"middle\" x=\"163.5\" y=\"-37.8\" font-family=\"Helvetica,sans-Serif\" font-size=\"14.00\">gini = 0.0</text>\r\n",
       "<text text-anchor=\"middle\" x=\"163.5\" y=\"-22.8\" font-family=\"Helvetica,sans-Serif\" font-size=\"14.00\">samples = 4</text>\r\n",
       "<text text-anchor=\"middle\" x=\"163.5\" y=\"-7.8\" font-family=\"Helvetica,sans-Serif\" font-size=\"14.00\">value = [0, 7]</text>\r\n",
       "</g>\r\n",
       "<!-- 4&#45;&gt;6 -->\r\n",
       "<g id=\"edge6\" class=\"edge\">\r\n",
       "<title>4&#45;&gt;6</title>\r\n",
       "<path fill=\"none\" stroke=\"black\" d=\"M163.5,-88.95C163.5,-80.72 163.5,-71.85 163.5,-63.48\"/>\r\n",
       "<polygon fill=\"black\" stroke=\"black\" points=\"167,-63.24 163.5,-53.24 160,-63.24 167,-63.24\"/>\r\n",
       "</g>\r\n",
       "<!-- 8 -->\r\n",
       "<g id=\"node9\" class=\"node\">\r\n",
       "<title>8</title>\r\n",
       "<path fill=\"#e89050\" stroke=\"black\" d=\"M340.5,-53C340.5,-53 242.5,-53 242.5,-53 236.5,-53 230.5,-47 230.5,-41 230.5,-41 230.5,-12 230.5,-12 230.5,-6 236.5,0 242.5,0 242.5,0 340.5,0 340.5,0 346.5,0 352.5,-6 352.5,-12 352.5,-12 352.5,-41 352.5,-41 352.5,-47 346.5,-53 340.5,-53\"/>\r\n",
       "<text text-anchor=\"middle\" x=\"291.5\" y=\"-37.8\" font-family=\"Helvetica,sans-Serif\" font-size=\"14.00\">gini = 0.19</text>\r\n",
       "<text text-anchor=\"middle\" x=\"291.5\" y=\"-22.8\" font-family=\"Helvetica,sans-Serif\" font-size=\"14.00\">samples = 119</text>\r\n",
       "<text text-anchor=\"middle\" x=\"291.5\" y=\"-7.8\" font-family=\"Helvetica,sans-Serif\" font-size=\"14.00\">value = [172, 20]</text>\r\n",
       "</g>\r\n",
       "<!-- 7&#45;&gt;8 -->\r\n",
       "<g id=\"edge8\" class=\"edge\">\r\n",
       "<title>7&#45;&gt;8</title>\r\n",
       "<path fill=\"none\" stroke=\"black\" d=\"M291.5,-88.95C291.5,-80.72 291.5,-71.85 291.5,-63.48\"/>\r\n",
       "<polygon fill=\"black\" stroke=\"black\" points=\"295,-63.24 291.5,-53.24 288,-63.24 295,-63.24\"/>\r\n",
       "</g>\r\n",
       "<!-- 9 -->\r\n",
       "<g id=\"node10\" class=\"node\">\r\n",
       "<title>9</title>\r\n",
       "<path fill=\"#e3f1fb\" stroke=\"black\" d=\"M456,-53C456,-53 383,-53 383,-53 377,-53 371,-47 371,-41 371,-41 371,-12 371,-12 371,-6 377,0 383,0 383,0 456,0 456,0 462,0 468,-6 468,-12 468,-12 468,-41 468,-41 468,-47 462,-53 456,-53\"/>\r\n",
       "<text text-anchor=\"middle\" x=\"419.5\" y=\"-37.8\" font-family=\"Helvetica,sans-Serif\" font-size=\"14.00\">gini = 0.5</text>\r\n",
       "<text text-anchor=\"middle\" x=\"419.5\" y=\"-22.8\" font-family=\"Helvetica,sans-Serif\" font-size=\"14.00\">samples = 9</text>\r\n",
       "<text text-anchor=\"middle\" x=\"419.5\" y=\"-7.8\" font-family=\"Helvetica,sans-Serif\" font-size=\"14.00\">value = [6, 7]</text>\r\n",
       "</g>\r\n",
       "<!-- 7&#45;&gt;9 -->\r\n",
       "<g id=\"edge9\" class=\"edge\">\r\n",
       "<title>7&#45;&gt;9</title>\r\n",
       "<path fill=\"none\" stroke=\"black\" d=\"M336.27,-88.95C349.28,-79.34 363.46,-68.87 376.37,-59.34\"/>\r\n",
       "<polygon fill=\"black\" stroke=\"black\" points=\"378.67,-61.99 384.64,-53.24 374.52,-56.36 378.67,-61.99\"/>\r\n",
       "</g>\r\n",
       "<!-- 11 -->\r\n",
       "<g id=\"node12\" class=\"node\">\r\n",
       "<title>11</title>\r\n",
       "<path fill=\"#72b9ec\" stroke=\"black\" d=\"M459,-261C459,-261 386,-261 386,-261 380,-261 374,-255 374,-249 374,-249 374,-205 374,-205 374,-199 380,-193 386,-193 386,-193 459,-193 459,-193 465,-193 471,-199 471,-205 471,-205 471,-249 471,-249 471,-255 465,-261 459,-261\"/>\r\n",
       "<text text-anchor=\"middle\" x=\"422.5\" y=\"-245.8\" font-family=\"Helvetica,sans-Serif\" font-size=\"14.00\">X[7] &lt;= 0.02</text>\r\n",
       "<text text-anchor=\"middle\" x=\"422.5\" y=\"-230.8\" font-family=\"Helvetica,sans-Serif\" font-size=\"14.00\">gini = 0.35</text>\r\n",
       "<text text-anchor=\"middle\" x=\"422.5\" y=\"-215.8\" font-family=\"Helvetica,sans-Serif\" font-size=\"14.00\">samples = 5</text>\r\n",
       "<text text-anchor=\"middle\" x=\"422.5\" y=\"-200.8\" font-family=\"Helvetica,sans-Serif\" font-size=\"14.00\">value = [2, 7]</text>\r\n",
       "</g>\r\n",
       "<!-- 10&#45;&gt;11 -->\r\n",
       "<g id=\"edge11\" class=\"edge\">\r\n",
       "<title>10&#45;&gt;11</title>\r\n",
       "<path fill=\"none\" stroke=\"black\" d=\"M422.5,-296.88C422.5,-288.78 422.5,-279.98 422.5,-271.47\"/>\r\n",
       "<polygon fill=\"black\" stroke=\"black\" points=\"426,-271.3 422.5,-261.3 419,-271.3 426,-271.3\"/>\r\n",
       "</g>\r\n",
       "<!-- 14 -->\r\n",
       "<g id=\"node15\" class=\"node\">\r\n",
       "<title>14</title>\r\n",
       "<path fill=\"#399de5\" stroke=\"black\" d=\"M582,-253.5C582,-253.5 501,-253.5 501,-253.5 495,-253.5 489,-247.5 489,-241.5 489,-241.5 489,-212.5 489,-212.5 489,-206.5 495,-200.5 501,-200.5 501,-200.5 582,-200.5 582,-200.5 588,-200.5 594,-206.5 594,-212.5 594,-212.5 594,-241.5 594,-241.5 594,-247.5 588,-253.5 582,-253.5\"/>\r\n",
       "<text text-anchor=\"middle\" x=\"541.5\" y=\"-238.3\" font-family=\"Helvetica,sans-Serif\" font-size=\"14.00\">gini = 0.0</text>\r\n",
       "<text text-anchor=\"middle\" x=\"541.5\" y=\"-223.3\" font-family=\"Helvetica,sans-Serif\" font-size=\"14.00\">samples = 10</text>\r\n",
       "<text text-anchor=\"middle\" x=\"541.5\" y=\"-208.3\" font-family=\"Helvetica,sans-Serif\" font-size=\"14.00\">value = [0, 18]</text>\r\n",
       "</g>\r\n",
       "<!-- 10&#45;&gt;14 -->\r\n",
       "<g id=\"edge14\" class=\"edge\">\r\n",
       "<title>10&#45;&gt;14</title>\r\n",
       "<path fill=\"none\" stroke=\"black\" d=\"M461.14,-296.88C474.86,-285.12 490.29,-271.89 503.93,-260.2\"/>\r\n",
       "<polygon fill=\"black\" stroke=\"black\" points=\"506.41,-262.69 511.73,-253.52 501.86,-257.37 506.41,-262.69\"/>\r\n",
       "</g>\r\n",
       "<!-- 12 -->\r\n",
       "<g id=\"node13\" class=\"node\">\r\n",
       "<title>12</title>\r\n",
       "<path fill=\"#399de5\" stroke=\"black\" d=\"M458,-149.5C458,-149.5 385,-149.5 385,-149.5 379,-149.5 373,-143.5 373,-137.5 373,-137.5 373,-108.5 373,-108.5 373,-102.5 379,-96.5 385,-96.5 385,-96.5 458,-96.5 458,-96.5 464,-96.5 470,-102.5 470,-108.5 470,-108.5 470,-137.5 470,-137.5 470,-143.5 464,-149.5 458,-149.5\"/>\r\n",
       "<text text-anchor=\"middle\" x=\"421.5\" y=\"-134.3\" font-family=\"Helvetica,sans-Serif\" font-size=\"14.00\">gini = 0.0</text>\r\n",
       "<text text-anchor=\"middle\" x=\"421.5\" y=\"-119.3\" font-family=\"Helvetica,sans-Serif\" font-size=\"14.00\">samples = 3</text>\r\n",
       "<text text-anchor=\"middle\" x=\"421.5\" y=\"-104.3\" font-family=\"Helvetica,sans-Serif\" font-size=\"14.00\">value = [0, 7]</text>\r\n",
       "</g>\r\n",
       "<!-- 11&#45;&gt;12 -->\r\n",
       "<g id=\"edge12\" class=\"edge\">\r\n",
       "<title>11&#45;&gt;12</title>\r\n",
       "<path fill=\"none\" stroke=\"black\" d=\"M422.18,-192.88C422.07,-182.33 421.96,-170.6 421.85,-159.85\"/>\r\n",
       "<polygon fill=\"black\" stroke=\"black\" points=\"425.35,-159.49 421.75,-149.52 418.35,-159.55 425.35,-159.49\"/>\r\n",
       "</g>\r\n",
       "<!-- 13 -->\r\n",
       "<g id=\"node14\" class=\"node\">\r\n",
       "<title>13</title>\r\n",
       "<path fill=\"#e58139\" stroke=\"black\" d=\"M573,-149.5C573,-149.5 500,-149.5 500,-149.5 494,-149.5 488,-143.5 488,-137.5 488,-137.5 488,-108.5 488,-108.5 488,-102.5 494,-96.5 500,-96.5 500,-96.5 573,-96.5 573,-96.5 579,-96.5 585,-102.5 585,-108.5 585,-108.5 585,-137.5 585,-137.5 585,-143.5 579,-149.5 573,-149.5\"/>\r\n",
       "<text text-anchor=\"middle\" x=\"536.5\" y=\"-134.3\" font-family=\"Helvetica,sans-Serif\" font-size=\"14.00\">gini = 0.0</text>\r\n",
       "<text text-anchor=\"middle\" x=\"536.5\" y=\"-119.3\" font-family=\"Helvetica,sans-Serif\" font-size=\"14.00\">samples = 2</text>\r\n",
       "<text text-anchor=\"middle\" x=\"536.5\" y=\"-104.3\" font-family=\"Helvetica,sans-Serif\" font-size=\"14.00\">value = [2, 0]</text>\r\n",
       "</g>\r\n",
       "<!-- 11&#45;&gt;13 -->\r\n",
       "<g id=\"edge13\" class=\"edge\">\r\n",
       "<title>11&#45;&gt;13</title>\r\n",
       "<path fill=\"none\" stroke=\"black\" d=\"M459.51,-192.88C472.66,-181.12 487.44,-167.89 500.51,-156.2\"/>\r\n",
       "<polygon fill=\"black\" stroke=\"black\" points=\"502.86,-158.8 507.98,-149.52 498.19,-153.58 502.86,-158.8\"/>\r\n",
       "</g>\r\n",
       "</g>\r\n",
       "</svg>\r\n"
      ],
      "text/plain": [
       "<graphviz.files.Source at 0x26b95a99c40>"
      ]
     },
     "execution_count": 45,
     "metadata": {},
     "output_type": "execute_result"
    }
   ],
   "source": [
    "# randomforest 중 일부 트리 graph화\n",
    "estimator = RF.estimators_[15]\n",
    "\n",
    "dot_data = export_graphviz(estimator, \n",
    "                rounded = True, proportion = False, \n",
    "                precision = 2, filled = True)\n",
    "\n",
    "graph = graphviz.Source(dot_data)  \n",
    "graph"
   ]
  },
  {
   "cell_type": "markdown",
   "metadata": {},
   "source": [
    "### 3.5 성능평가"
   ]
  },
  {
   "cell_type": "markdown",
   "metadata": {},
   "source": [
    "#### Confusion Matrix"
   ]
  },
  {
   "cell_type": "code",
   "execution_count": 46,
   "metadata": {},
   "outputs": [],
   "source": [
    "from sklearn.metrics import confusion_matrix\n",
    "import matplotlib.pyplot as plt\n",
    "import seaborn as sns"
   ]
  },
  {
   "cell_type": "code",
   "execution_count": 47,
   "metadata": {},
   "outputs": [],
   "source": [
    "y_pred = RF.predict(X_test)"
   ]
  },
  {
   "cell_type": "code",
   "execution_count": 48,
   "metadata": {},
   "outputs": [
    {
     "data": {
      "image/png": "[encoded data removed]",
      "text/plain": [
       "<Figure size 360x360 with 2 Axes>"
      ]
     },
     "metadata": {
      "needs_background": "light"
     },
     "output_type": "display_data"
    }
   ],
   "source": [
    "con_mat = confusion_matrix(y_test, y_pred, labels=[0,1])\n",
    "\n",
    "group_names = [\"TN\",\"FP\",\"FN\",\"TP\"]\n",
    "group_counts = [\"{0:0.0f}\".format(value) for value in con_mat.flatten()]\n",
    "group_percentages = [\"{0:.2%}\".format(value) for value in con_mat.flatten()/np.sum(con_mat)]\n",
    "\n",
    "labels = [f\"{v1}\\n{v2}\\n{v3}\" for v1, v2, v3 in zip(group_names,group_counts,group_percentages)]\n",
    "labels = np.asarray(labels).reshape(2,2)\n",
    "fig, ax = plt.subplots(figsize=(5,5))\n",
    "\n",
    "sns.heatmap(con_mat, annot=labels, cmap = \"Blues\", fmt=\"\", linewidths=10, square=True)\n",
    "ax.set_ylim([0,2])\n",
    "ax.set_title(\"Confusion Matrix\")\n",
    "plt.ylabel('True label')\n",
    "plt.xlabel('Predicted label' + \"\")\n",
    "plt.show()"
   ]
  },
  {
   "cell_type": "markdown",
   "metadata": {},
   "source": [
    "#### AUROC"
   ]
  },
  {
   "cell_type": "code",
   "execution_count": 49,
   "metadata": {},
   "outputs": [],
   "source": [
    "from sklearn.metrics import roc_curve, auc\n",
    "%matplotlib inline"
   ]
  },
  {
   "cell_type": "code",
   "execution_count": 50,
   "metadata": {
    "scrolled": false
   },
   "outputs": [
    {
     "data": {
      "image/png": "[encoded data removed]",
      "text/plain": [
       "<Figure size 432x288 with 1 Axes>"
      ]
     },
     "metadata": {
      "needs_background": "light"
     },
     "output_type": "display_data"
    }
   ],
   "source": [
    "fpr, tpr, thresholds = roc_curve(y_test, RF.predict_proba(X_test)[:,1]) \n",
    "\n",
    "plt.plot(fpr, tpr)\n",
    "#plt.fill_between(fpr, tpr)\n",
    "plt.plot([0, 1], [0, 1], '--')\n",
    "plt.xlabel('1 - Specificity(TNR)')\n",
    "#plt.xlabel('거짓 양성 비율(FPR)')\n",
    "plt.ylabel('Sensitivity(TPR)')\n",
    "\n",
    "auc_s = auc(fpr, tpr) # auc(score)\n",
    "plt.title('ROC curve (AUROC = {})'.format(auc_s))\n",
    "plt.show()"
   ]
  },
  {
   "cell_type": "markdown",
   "metadata": {},
   "source": [
    "#### 각 성능 지표"
   ]
  },
  {
   "cell_type": "code",
   "execution_count": 51,
   "metadata": {},
   "outputs": [],
   "source": [
    "from sklearn.metrics import f1_score, accuracy_score, recall_score, precision_score\n",
    "from sklearn.metrics import classification_report"
   ]
  },
  {
   "cell_type": "code",
   "execution_count": 52,
   "metadata": {},
   "outputs": [
    {
     "name": "stdout",
     "output_type": "stream",
     "text": [
      "              precision    recall  f1-score   support\n",
      "\n",
      "           0       0.93      0.98      0.95        41\n",
      "           1       0.96      0.90      0.93        30\n",
      "\n",
      "    accuracy                           0.94        71\n",
      "   macro avg       0.95      0.94      0.94        71\n",
      "weighted avg       0.94      0.94      0.94        71\n",
      "\n"
     ]
    }
   ],
   "source": [
    "print(classification_report(y_test, y_pred))"
   ]
  },
  {
   "cell_type": "code",
   "execution_count": 53,
   "metadata": {
    "scrolled": false
   },
   "outputs": [
    {
     "name": "stdout",
     "output_type": "stream",
     "text": [
      "Accuracy: 0.9436619718309859\n",
      "Precision: 0.9642857142857143\n",
      "Recall: 0.9\n",
      "F1-score: 0.9310344827586207\n"
     ]
    }
   ],
   "source": [
    "print(f'Accuracy: {accuracy_score(y_test, y_pred)}')\n",
    "print(f\"Precision: {precision_score(y_test, y_pred, average='binary')}\")\n",
    "print(f\"Recall: {recall_score(y_test, y_pred, average='binary')}\")\n",
    "print(f\"F1-score: {f1_score(y_test, y_pred, average='binary')}\")"
   ]
  },
  {
   "cell_type": "markdown",
   "metadata": {},
   "source": [
    "## 4. Gradient Boosting"
   ]
  },
  {
   "cell_type": "markdown",
   "metadata": {},
   "source": [
    "### 4.1 train test 분리"
   ]
  },
  {
   "cell_type": "code",
   "execution_count": 212,
   "metadata": {},
   "outputs": [],
   "source": [
    "from sklearn.model_selection import train_test_split"
   ]
  },
  {
   "cell_type": "code",
   "execution_count": 213,
   "metadata": {
    "scrolled": true
   },
   "outputs": [
    {
     "data": {
      "text/plain": [
       "6      0\n",
       "52     0\n",
       "114    1\n",
       "45     1\n",
       "106    1\n",
       "Name: target, dtype: int64"
      ]
     },
     "execution_count": 213,
     "metadata": {},
     "output_type": "execute_result"
    }
   ],
   "source": [
    "X, y = data.iloc[:,:-1], data.iloc[:,-1]\n",
    "\n",
    "X_train, X_test, y_train, y_test = train_test_split(X, y, test_size = 0.2, random_state = 0)\n",
    "y_test.head()"
   ]
  },
  {
   "cell_type": "markdown",
   "metadata": {},
   "source": [
    "### 4.2 modeling"
   ]
  },
  {
   "cell_type": "code",
   "execution_count": 214,
   "metadata": {},
   "outputs": [],
   "source": [
    "from sklearn.ensemble import GradientBoostingClassifier"
   ]
  },
  {
   "cell_type": "code",
   "execution_count": 215,
   "metadata": {},
   "outputs": [
    {
     "data": {
      "text/plain": [
       "GradientBoostingClassifier(ccp_alpha=0.0, criterion='friedman_mse', init=None,\n",
       "                           learning_rate=0.1, loss='deviance', max_depth=3,\n",
       "                           max_features=None, max_leaf_nodes=None,\n",
       "                           min_impurity_decrease=0.0, min_impurity_split=None,\n",
       "                           min_samples_leaf=1, min_samples_split=2,\n",
       "                           min_weight_fraction_leaf=0.0, n_estimators=100,\n",
       "                           n_iter_no_change=None, presort='deprecated',\n",
       "                           random_state=42, subsample=1.0, tol=0.0001,\n",
       "                           validation_fraction=0.1, verbose=0,\n",
       "                           warm_start=False)"
      ]
     },
     "execution_count": 215,
     "metadata": {},
     "output_type": "execute_result"
    }
   ],
   "source": [
    "GB = GradientBoostingClassifier(n_estimators=100, random_state=42)\n",
    "\n",
    "GB.fit(X_train, y_train)"
   ]
  },
  {
   "cell_type": "code",
   "execution_count": 216,
   "metadata": {},
   "outputs": [],
   "source": [
    "y_pred = GB.predict(X_train)"
   ]
  },
  {
   "cell_type": "code",
   "execution_count": 217,
   "metadata": {
    "scrolled": true
   },
   "outputs": [
    {
     "name": "stdout",
     "output_type": "stream",
     "text": [
      "100\n",
      "[1.14848629 1.03875783 0.95116534 0.87875008 0.81553367 0.76215116\n",
      " 0.71541299 0.67281562 0.63444372 0.59691629 0.56517739 0.52825983\n",
      " 0.50387078 0.47571463 0.45185485 0.4290024  0.40931454 0.38541704\n",
      " 0.37123213 0.34995608 0.33416607 0.3183533  0.30568781 0.28706754\n",
      " 0.27011982 0.26021478 0.24953034 0.2346586  0.22095463 0.21394501\n",
      " 0.20194267 0.19462634 0.18829013 0.17962177 0.17449936 0.1645249\n",
      " 0.15996287 0.15083503 0.14257276 0.13622757 0.13145909 0.12563251\n",
      " 0.12198183 0.11664835 0.11364101 0.10906978 0.1041517  0.10043918\n",
      " 0.09602144 0.09230472 0.08900691 0.08542536 0.08260256 0.0807634\n",
      " 0.07764365 0.07595842 0.07225156 0.06937112 0.06696476 0.06446754\n",
      " 0.06212761 0.06058205 0.05785139 0.0556451  0.05371548 0.05199615\n",
      " 0.05000891 0.04835622 0.04684062 0.04538823 0.04379153 0.04286453\n",
      " 0.0410975  0.03976864 0.03837783 0.03730627 0.03646991 0.03527965\n",
      " 0.03425384 0.03269695 0.03172136 0.03081036 0.02979669 0.02864786\n",
      " 0.02808396 0.02709869 0.02648855 0.0256763  0.02481506 0.02424583\n",
      " 0.02359305 0.02266617 0.02174048 0.021259   0.02083447 0.02016047\n",
      " 0.01944956 0.0189579  0.01820408 0.0176865 ]\n"
     ]
    },
    {
     "data": {
      "text/plain": [
       "[<matplotlib.lines.Line2D at 0x26b95cc3640>]"
      ]
     },
     "execution_count": 217,
     "metadata": {},
     "output_type": "execute_result"
    },
    {
     "data": {
      "image/png": "[encoded data removed]",
      "text/plain": [
       "<Figure size 432x288 with 1 Axes>"
      ]
     },
     "metadata": {
      "needs_background": "light"
     },
     "output_type": "display_data"
    }
   ],
   "source": [
    "# staged_score 새로운 data에 대해서 누적한 값\n",
    "# 그 누적값을 학습한 값들을 기록함 \n",
    "print(len(GB.train_score_))\n",
    "print(GB.train_score_)\n",
    "\n",
    "# residual이니깐 계속 값이 떨어지는 것임\n",
    "plt.plot(GB.train_score_)"
   ]
  },
  {
   "cell_type": "markdown",
   "metadata": {},
   "source": [
    "#### Confusion Matrix"
   ]
  },
  {
   "cell_type": "code",
   "execution_count": 218,
   "metadata": {},
   "outputs": [],
   "source": [
    "from sklearn.metrics import confusion_matrix\n",
    "import matplotlib.pyplot as plt\n",
    "import seaborn as sns"
   ]
  },
  {
   "cell_type": "code",
   "execution_count": 219,
   "metadata": {},
   "outputs": [],
   "source": [
    "y_pred = GB.predict(X_test)"
   ]
  },
  {
   "cell_type": "code",
   "execution_count": 220,
   "metadata": {},
   "outputs": [
    {
     "data": {
      "image/png": "[encoded data removed]",
      "text/plain": [
       "<Figure size 360x360 with 2 Axes>"
      ]
     },
     "metadata": {
      "needs_background": "light"
     },
     "output_type": "display_data"
    }
   ],
   "source": [
    "con_mat = confusion_matrix(y_test, y_pred, labels=[0,1])\n",
    "\n",
    "group_names = [\"TN\",\"FP\",\"FN\",\"TP\"]\n",
    "group_counts = [\"{0:0.0f}\".format(value) for value in con_mat.flatten()]\n",
    "group_percentages = [\"{0:.2%}\".format(value) for value in con_mat.flatten()/np.sum(con_mat)]\n",
    "\n",
    "labels = [f\"{v1}\\n{v2}\\n{v3}\" for v1, v2, v3 in zip(group_names,group_counts,group_percentages)]\n",
    "labels = np.asarray(labels).reshape(2,2)\n",
    "fig, ax = plt.subplots(figsize=(5,5))\n",
    "\n",
    "sns.heatmap(con_mat, annot=labels, cmap = \"Blues\", fmt=\"\", linewidths=10, square=True)\n",
    "ax.set_ylim([0,2])\n",
    "ax.set_title(\"Confusion Matrix\")\n",
    "plt.ylabel('True label')\n",
    "plt.xlabel('Predicted label' + \"\")\n",
    "plt.show()"
   ]
  },
  {
   "cell_type": "markdown",
   "metadata": {},
   "source": [
    "#### AUROC"
   ]
  },
  {
   "cell_type": "code",
   "execution_count": 221,
   "metadata": {},
   "outputs": [],
   "source": [
    "from sklearn.metrics import roc_curve, auc\n",
    "%matplotlib inline"
   ]
  },
  {
   "cell_type": "code",
   "execution_count": 222,
   "metadata": {
    "scrolled": false
   },
   "outputs": [
    {
     "data": {
      "image/png": "[encoded data removed]",
      "text/plain": [
       "<Figure size 432x288 with 1 Axes>"
      ]
     },
     "metadata": {
      "needs_background": "light"
     },
     "output_type": "display_data"
    }
   ],
   "source": [
    "fpr, tpr, thresholds = roc_curve(y_test, GB.decision_function(X_test)) \n",
    "\n",
    "plt.plot(fpr, tpr)\n",
    "#plt.fill_between(fpr, tpr)\n",
    "plt.plot([0, 1], [0, 1], '--')\n",
    "plt.xlabel('1 - Specificity(TNR)')\n",
    "#plt.xlabel('거짓 양성 비율(FPR)')\n",
    "plt.ylabel('Sensitivity(TPR)')\n",
    "\n",
    "auc_s = auc(fpr, tpr) # auc(score)\n",
    "plt.title('ROC curve (AUROC = {})'.format(auc_s))\n",
    "plt.show()"
   ]
  },
  {
   "cell_type": "markdown",
   "metadata": {},
   "source": [
    "#### 각 성능 지표"
   ]
  },
  {
   "cell_type": "code",
   "execution_count": 223,
   "metadata": {},
   "outputs": [],
   "source": [
    "from sklearn.metrics import f1_score, accuracy_score, recall_score, precision_score\n",
    "from sklearn.metrics import classification_report"
   ]
  },
  {
   "cell_type": "code",
   "execution_count": 224,
   "metadata": {},
   "outputs": [
    {
     "name": "stdout",
     "output_type": "stream",
     "text": [
      "              precision    recall  f1-score   support\n",
      "\n",
      "           0       0.98      0.98      0.98        41\n",
      "           1       0.97      0.97      0.97        30\n",
      "\n",
      "    accuracy                           0.97        71\n",
      "   macro avg       0.97      0.97      0.97        71\n",
      "weighted avg       0.97      0.97      0.97        71\n",
      "\n"
     ]
    }
   ],
   "source": [
    "print(classification_report(y_test, y_pred))"
   ]
  },
  {
   "cell_type": "code",
   "execution_count": 225,
   "metadata": {
    "scrolled": false
   },
   "outputs": [
    {
     "name": "stdout",
     "output_type": "stream",
     "text": [
      "Accuracy: 0.971830985915493\n",
      "Precision: 0.9666666666666667\n",
      "Recall: 0.9666666666666667\n",
      "F1-score: 0.9666666666666667\n"
     ]
    }
   ],
   "source": [
    "print(f'Accuracy: {accuracy_score(y_test, y_pred)}')\n",
    "print(f\"Precision: {precision_score(y_test, y_pred, average='binary')}\")\n",
    "print(f\"Recall: {recall_score(y_test, y_pred, average='binary')}\")\n",
    "print(f\"F1-score: {f1_score(y_test, y_pred, average='binary')}\")"
   ]
  },
  {
   "cell_type": "markdown",
   "metadata": {},
   "source": [
    "#### GridSearchCV"
   ]
  },
  {
   "cell_type": "code",
   "execution_count": 226,
   "metadata": {},
   "outputs": [],
   "source": [
    "from sklearn.model_selection import GridSearchCV"
   ]
  },
  {
   "cell_type": "code",
   "execution_count": 227,
   "metadata": {},
   "outputs": [
    {
     "name": "stdout",
     "output_type": "stream",
     "text": [
      "Fitting 5 folds for each of 1800 candidates, totalling 9000 fits\n"
     ]
    },
    {
     "name": "stderr",
     "output_type": "stream",
     "text": [
      "[Parallel(n_jobs=-1)]: Using backend LokyBackend with 8 concurrent workers.\n",
      "[Parallel(n_jobs=-1)]: Done  34 tasks      | elapsed:    1.5s\n",
      "[Parallel(n_jobs=-1)]: Done 512 tasks      | elapsed:    8.9s\n",
      "[Parallel(n_jobs=-1)]: Done 1512 tasks      | elapsed:   26.8s\n",
      "[Parallel(n_jobs=-1)]: Done 2912 tasks      | elapsed:   52.3s\n",
      "[Parallel(n_jobs=-1)]: Done 3554 tasks      | elapsed:  1.2min\n",
      "[Parallel(n_jobs=-1)]: Done 4104 tasks      | elapsed:  1.6min\n",
      "[Parallel(n_jobs=-1)]: Done 4836 tasks      | elapsed:  2.1min\n",
      "[Parallel(n_jobs=-1)]: Done 5880 tasks      | elapsed:  2.9min\n",
      "[Parallel(n_jobs=-1)]: Done 6730 tasks      | elapsed:  3.5min\n",
      "[Parallel(n_jobs=-1)]: Done 7680 tasks      | elapsed:  4.3min\n",
      "[Parallel(n_jobs=-1)]: Done 8730 tasks      | elapsed:  5.8min\n",
      "[Parallel(n_jobs=-1)]: Done 9000 out of 9000 | elapsed:  6.2min finished\n"
     ]
    },
    {
     "data": {
      "text/plain": [
       "GridSearchCV(cv=5, error_score=nan,\n",
       "             estimator=GradientBoostingClassifier(ccp_alpha=0.0,\n",
       "                                                  criterion='friedman_mse',\n",
       "                                                  init=None, learning_rate=0.1,\n",
       "                                                  loss='deviance', max_depth=3,\n",
       "                                                  max_features=None,\n",
       "                                                  max_leaf_nodes=None,\n",
       "                                                  min_impurity_decrease=0.0,\n",
       "                                                  min_impurity_split=None,\n",
       "                                                  min_samples_leaf=1,\n",
       "                                                  min_samples_split=2,\n",
       "                                                  min_weight_fraction_leaf=0.0,\n",
       "                                                  n_estimators=100,\n",
       "                                                  n_iter_no_c...\n",
       "                                                  subsample=1.0, tol=0.0001,\n",
       "                                                  validation_fraction=0.1,\n",
       "                                                  verbose=0, warm_start=False),\n",
       "             iid='deprecated', n_jobs=-1,\n",
       "             param_grid=[{'learning_rate': array([0.01, 0.02, 0.03, 0.04, 0.05, 0.06, 0.07, 0.08, 0.09, 0.1 ]),\n",
       "                          'max_depth': range(3, 5),\n",
       "                          'max_features': range(1, 10),\n",
       "                          'n_estimators': range(1, 500, 50)}],\n",
       "             pre_dispatch='2*n_jobs', refit=True, return_train_score=False,\n",
       "             scoring='accuracy', verbose=1)"
      ]
     },
     "execution_count": 227,
     "metadata": {},
     "output_type": "execute_result"
    }
   ],
   "source": [
    "param_grid = [{'n_estimators': range(1, 500, 50), 'max_features': range(1, 10),\n",
    "              'max_depth': range(3, 5), 'learning_rate': np.linspace(0.01, 0.1, 10)}]\n",
    "\n",
    "gs = GridSearchCV(estimator = GB, param_grid = param_grid, scoring='accuracy', cv=5, verbose=1, n_jobs=-1)\n",
    "\n",
    "gs.fit(X_train, y_train)"
   ]
  },
  {
   "cell_type": "code",
   "execution_count": 228,
   "metadata": {},
   "outputs": [
    {
     "data": {
      "text/plain": [
       "GradientBoostingClassifier(ccp_alpha=0.0, criterion='friedman_mse', init=None,\n",
       "                           learning_rate=0.04000000000000001, loss='deviance',\n",
       "                           max_depth=4, max_features=5, max_leaf_nodes=None,\n",
       "                           min_impurity_decrease=0.0, min_impurity_split=None,\n",
       "                           min_samples_leaf=1, min_samples_split=2,\n",
       "                           min_weight_fraction_leaf=0.0, n_estimators=201,\n",
       "                           n_iter_no_change=None, presort='deprecated',\n",
       "                           random_state=42, subsample=1.0, tol=0.0001,\n",
       "                           validation_fraction=0.1, verbose=0,\n",
       "                           warm_start=False)"
      ]
     },
     "execution_count": 228,
     "metadata": {},
     "output_type": "execute_result"
    }
   ],
   "source": [
    "# 모든 모델 중 가장 성능이 좋은 것을 뽑는 best estimator # n_estimators가 제일 높은 모델이 선정되는 것이 대부분\n",
    "best_gsb_estimator = gs.best_estimator_\n",
    "best_gsb_estimator"
   ]
  },
  {
   "cell_type": "code",
   "execution_count": 229,
   "metadata": {},
   "outputs": [
    {
     "name": "stdout",
     "output_type": "stream",
     "text": [
      "Best Estimator Parameters\n",
      "---------------------------\n",
      "n_estimators: 201\n",
      "max_depth: 4\n",
      "Learning Rate: 0.040\n",
      "min_samples_leaf: 1\n",
      "max_features: 5\n",
      "---------------------------\n"
     ]
    }
   ],
   "source": [
    "print(\"Best Estimator Parameters\" )\n",
    "print(\"---------------------------\" )\n",
    "print(\"n_estimators: %d\" %best_gsb_estimator.n_estimators )\n",
    "print(\"max_depth: %d\" %best_gsb_estimator.max_depth )\n",
    "print(\"Learning Rate: %.3f\" %best_gsb_estimator.learning_rate )\n",
    "print(\"min_samples_leaf: %d\" %best_gsb_estimator.min_samples_leaf )\n",
    "print(\"max_features: %d\" %best_gsb_estimator.max_features) \n",
    "print(\"---------------------------\" )"
   ]
  },
  {
   "cell_type": "code",
   "execution_count": 230,
   "metadata": {},
   "outputs": [
    {
     "data": {
      "text/plain": [
       "array([0.08841904, 0.05593116, 0.11538291, 0.05781348, 0.08763504,\n",
       "       0.05138858, 0.01538928, 0.02176233, 0.00605099, 0.01018347,\n",
       "       0.00201111, 0.03936426, 0.00622035, 0.02869945, 0.00424977,\n",
       "       0.02534332, 0.00356539, 0.02073626, 0.00700006, 0.03626753,\n",
       "       0.00663013, 0.02739365, 0.0047688 , 0.00806732, 0.09792244,\n",
       "       0.02755626, 0.03184166, 0.00546838, 0.04978791, 0.00669966,\n",
       "       0.02149244, 0.02895756])"
      ]
     },
     "execution_count": 230,
     "metadata": {},
     "output_type": "execute_result"
    }
   ],
   "source": [
    "best_feature_importances = best_gsb_estimator.feature_importances_\n",
    "best_feature_importances"
   ]
  },
  {
   "cell_type": "code",
   "execution_count": 231,
   "metadata": {},
   "outputs": [
    {
     "data": {
      "image/png": "[encoded data removed]",
      "text/plain": [
       "<Figure size 720x720 with 1 Axes>"
      ]
     },
     "metadata": {
      "needs_background": "light"
     },
     "output_type": "display_data"
    }
   ],
   "source": [
    "# feature_importances_: feature별 중요도를 수치로 표현 (총합:1)\n",
    "## 결정에 각 특성이 얼마나 중요한지 평가하는 것\n",
    "## 피쳐마다 비슷하게 생성되었기 때문에 수치가 비슷하게 생성된 것을 알 수 있음\n",
    "\n",
    "import seaborn as sns\n",
    "\n",
    "ft_importances = pd.Series(best_feature_importances)\n",
    "\n",
    "plt.figure(figsize=(10,10))\n",
    "n_features = X.shape[1]\n",
    "idx = np.arange(n_features)\n",
    "plt.xticks(np.arange(n_features))\n",
    "plt.xticks(idx, col_names[:])\n",
    "plt.xlim(-1, n_features)\n",
    "\n",
    "plt.title(\"best_model_feature_importances\")\n",
    "plt.xlabel(\"feature\")\n",
    "plt.ylabel(\"feature_importances\")\n",
    "sns.barplot(col_names[:], y = ft_importances)\n",
    "plt.tick_params('x', rotation = 90)\n",
    "plt.show()"
   ]
  },
  {
   "cell_type": "code",
   "execution_count": 232,
   "metadata": {},
   "outputs": [
    {
     "data": {
      "text/plain": [
       "{'learning_rate': 0.04000000000000001,\n",
       " 'max_depth': 4,\n",
       " 'max_features': 5,\n",
       " 'n_estimators': 201}"
      ]
     },
     "execution_count": 232,
     "metadata": {},
     "output_type": "execute_result"
    }
   ],
   "source": [
    "params = gs.best_params_\n",
    "params"
   ]
  },
  {
   "cell_type": "code",
   "execution_count": 233,
   "metadata": {},
   "outputs": [
    {
     "data": {
      "image/png": "[encoded data removed]",
      "text/plain": [
       "<Figure size 432x432 with 1 Axes>"
      ]
     },
     "metadata": {
      "needs_background": "light"
     },
     "output_type": "display_data"
    }
   ],
   "source": [
    "# train, test deviance graph\n",
    "test_score = np.zeros((params['n_estimators'],), dtype=np.float64)\n",
    "for i, y_pred in enumerate(best_gsb_estimator.staged_predict(X_test)):\n",
    "    test_score[i] = best_gsb_estimator.loss_(y_test, y_pred)\n",
    "\n",
    "fig = plt.figure(figsize=(6, 6))\n",
    "plt.subplot(1, 1, 1)\n",
    "plt.title('Deviance')\n",
    "plt.plot(np.arange(params['n_estimators']) + 1, best_gsb_estimator.train_score_, 'b-',\n",
    "         label='Training Set Deviance')\n",
    "plt.plot(np.arange(params['n_estimators']) + 1, test_score, 'r-',\n",
    "         label='Test Set Deviance')\n",
    "plt.legend(loc='upper right')\n",
    "plt.xlabel('Boosting Iterations')\n",
    "plt.ylabel('Deviance')\n",
    "fig.tight_layout()\n",
    "plt.show()"
   ]
  },
  {
   "cell_type": "code",
   "execution_count": 234,
   "metadata": {},
   "outputs": [
    {
     "name": "stdout",
     "output_type": "stream",
     "text": [
      "Train Accuracy: 1.0000\n",
      "Test Accuracy: 0.9718\n"
     ]
    }
   ],
   "source": [
    "print(\"Train Accuracy: %.4f\" %best_gsb_estimator.score(X_train, y_train))\n",
    "print(\"Test Accuracy: %.4f\" %best_gsb_estimator.score(X_test, y_test))"
   ]
  },
  {
   "cell_type": "code",
   "execution_count": 235,
   "metadata": {},
   "outputs": [
    {
     "data": {
      "text/plain": [
       "GradientBoostingClassifier(ccp_alpha=0.0, criterion='friedman_mse', init=None,\n",
       "                           learning_rate=0.04000000000000001, loss='deviance',\n",
       "                           max_depth=4, max_features=5, max_leaf_nodes=None,\n",
       "                           min_impurity_decrease=0.0, min_impurity_split=None,\n",
       "                           min_samples_leaf=1, min_samples_split=2,\n",
       "                           min_weight_fraction_leaf=0.0, n_estimators=201,\n",
       "                           n_iter_no_change=None, presort='deprecated',\n",
       "                           random_state=42, subsample=1.0, tol=0.0001,\n",
       "                           validation_fraction=0.1, verbose=0,\n",
       "                           warm_start=False)"
      ]
     },
     "execution_count": 235,
     "metadata": {},
     "output_type": "execute_result"
    }
   ],
   "source": [
    "best_gsb_estimator"
   ]
  },
  {
   "cell_type": "code",
   "execution_count": 236,
   "metadata": {
    "scrolled": false
   },
   "outputs": [
    {
     "data": {
      "image/svg+xml": [
       "<?xml version=\"1.0\" encoding=\"UTF-8\" standalone=\"no\"?>\r\n",
       "<!DOCTYPE svg PUBLIC \"-//W3C//DTD SVG 1.1//EN\"\r\n",
       " \"http://www.w3.org/Graphics/SVG/1.1/DTD/svg11.dtd\">\r\n",
       "<!-- Generated by graphviz version 2.47.2 (20210527.0053)\r\n",
       " -->\r\n",
       "<!-- Title: Tree Pages: 1 -->\r\n",
       "<svg width=\"2614pt\" height=\"461pt\"\r\n",
       " viewBox=\"0.00 0.00 2614.00 461.00\" xmlns=\"http://www.w3.org/2000/svg\" xmlns:xlink=\"http://www.w3.org/1999/xlink\">\r\n",
       "<g id=\"graph0\" class=\"graph\" transform=\"scale(1 1) rotate(0) translate(4 457)\">\r\n",
       "<title>Tree</title>\r\n",
       "<polygon fill=\"white\" stroke=\"transparent\" points=\"-4,4 -4,-457 2610,-457 2610,4 -4,4\"/>\r\n",
       "<!-- 0 -->\r\n",
       "<g id=\"node1\" class=\"node\">\r\n",
       "<title>0</title>\r\n",
       "<path fill=\"#f5d0b5\" stroke=\"black\" d=\"M1434,-453C1434,-453 1314,-453 1314,-453 1308,-453 1302,-447 1302,-441 1302,-441 1302,-401 1302,-401 1302,-395 1308,-389 1314,-389 1314,-389 1434,-389 1434,-389 1440,-389 1446,-395 1446,-401 1446,-401 1446,-441 1446,-441 1446,-447 1440,-453 1434,-453\"/>\r\n",
       "<text text-anchor=\"start\" x=\"1343.5\" y=\"-438.8\" font-family=\"Helvetica,sans-Serif\" font-size=\"14.00\">X</text>\r\n",
       "<text text-anchor=\"start\" x=\"1353.5\" y=\"-438.8\" font-family=\"Helvetica,sans-Serif\" baseline-shift=\"sub\" font-size=\"14.00\">4</text>\r\n",
       "<text text-anchor=\"start\" x=\"1360.5\" y=\"-438.8\" font-family=\"Helvetica,sans-Serif\" font-size=\"14.00\"> ≤ 0.03</text>\r\n",
       "<text text-anchor=\"start\" x=\"1310\" y=\"-424.8\" font-family=\"Helvetica,sans-Serif\" font-size=\"14.00\">friedman_mse = 0.1</text>\r\n",
       "<text text-anchor=\"start\" x=\"1326.5\" y=\"-410.8\" font-family=\"Helvetica,sans-Serif\" font-size=\"14.00\">samples = 280</text>\r\n",
       "<text text-anchor=\"start\" x=\"1337\" y=\"-396.8\" font-family=\"Helvetica,sans-Serif\" font-size=\"14.00\">value = &#45;0.0</text>\r\n",
       "</g>\r\n",
       "<!-- 1 -->\r\n",
       "<g id=\"node2\" class=\"node\">\r\n",
       "<title>1</title>\r\n",
       "<path fill=\"#f3c6a6\" stroke=\"black\" d=\"M1027,-353C1027,-353 899,-353 899,-353 893,-353 887,-347 887,-341 887,-341 887,-301 887,-301 887,-295 893,-289 899,-289 899,-289 1027,-289 1027,-289 1033,-289 1039,-295 1039,-301 1039,-301 1039,-341 1039,-341 1039,-347 1033,-353 1027,-353\"/>\r\n",
       "<text text-anchor=\"start\" x=\"930\" y=\"-338.8\" font-family=\"Helvetica,sans-Serif\" font-size=\"14.00\">X</text>\r\n",
       "<text text-anchor=\"start\" x=\"940\" y=\"-338.8\" font-family=\"Helvetica,sans-Serif\" baseline-shift=\"sub\" font-size=\"14.00\">8</text>\r\n",
       "<text text-anchor=\"start\" x=\"947\" y=\"-338.8\" font-family=\"Helvetica,sans-Serif\" font-size=\"14.00\"> ≤ &#45;0.23</text>\r\n",
       "<text text-anchor=\"start\" x=\"895\" y=\"-324.8\" font-family=\"Helvetica,sans-Serif\" font-size=\"14.00\">friedman_mse = 0.03</text>\r\n",
       "<text text-anchor=\"start\" x=\"919.5\" y=\"-310.8\" font-family=\"Helvetica,sans-Serif\" font-size=\"14.00\">samples = 50</text>\r\n",
       "<text text-anchor=\"start\" x=\"924\" y=\"-296.8\" font-family=\"Helvetica,sans-Serif\" font-size=\"14.00\">value = 0.33</text>\r\n",
       "</g>\r\n",
       "<!-- 0&#45;&gt;1 -->\r\n",
       "<g id=\"edge1\" class=\"edge\">\r\n",
       "<title>0&#45;&gt;1</title>\r\n",
       "<path fill=\"none\" stroke=\"black\" d=\"M1301.94,-402.82C1231.43,-386.01 1124.01,-360.39 1049.06,-342.52\"/>\r\n",
       "<polygon fill=\"black\" stroke=\"black\" points=\"1049.7,-339.08 1039.16,-340.16 1048.08,-345.88 1049.7,-339.08\"/>\r\n",
       "<text text-anchor=\"middle\" x=\"1052.26\" y=\"-357.76\" font-family=\"Helvetica,sans-Serif\" font-size=\"14.00\">True</text>\r\n",
       "</g>\r\n",
       "<!-- 16 -->\r\n",
       "<g id=\"node17\" class=\"node\">\r\n",
       "<title>16</title>\r\n",
       "<path fill=\"#f6d2b8\" stroke=\"black\" d=\"M1681,-353C1681,-353 1553,-353 1553,-353 1547,-353 1541,-347 1541,-341 1541,-341 1541,-301 1541,-301 1541,-295 1547,-289 1553,-289 1553,-289 1681,-289 1681,-289 1687,-289 1693,-295 1693,-301 1693,-301 1693,-341 1693,-341 1693,-347 1687,-353 1681,-353\"/>\r\n",
       "<text text-anchor=\"start\" x=\"1580.5\" y=\"-338.8\" font-family=\"Helvetica,sans-Serif\" font-size=\"14.00\">X</text>\r\n",
       "<text text-anchor=\"start\" x=\"1590.5\" y=\"-338.8\" font-family=\"Helvetica,sans-Serif\" baseline-shift=\"sub\" font-size=\"14.00\">21</text>\r\n",
       "<text text-anchor=\"start\" x=\"1604.5\" y=\"-338.8\" font-family=\"Helvetica,sans-Serif\" font-size=\"14.00\"> ≤ &#45;0.97</text>\r\n",
       "<text text-anchor=\"start\" x=\"1549\" y=\"-324.8\" font-family=\"Helvetica,sans-Serif\" font-size=\"14.00\">friedman_mse = 0.09</text>\r\n",
       "<text text-anchor=\"start\" x=\"1569.5\" y=\"-310.8\" font-family=\"Helvetica,sans-Serif\" font-size=\"14.00\">samples = 230</text>\r\n",
       "<text text-anchor=\"start\" x=\"1576\" y=\"-296.8\" font-family=\"Helvetica,sans-Serif\" font-size=\"14.00\">value = &#45;0.07</text>\r\n",
       "</g>\r\n",
       "<!-- 0&#45;&gt;16 -->\r\n",
       "<g id=\"edge16\" class=\"edge\">\r\n",
       "<title>0&#45;&gt;16</title>\r\n",
       "<path fill=\"none\" stroke=\"black\" d=\"M1446.25,-390.86C1473.02,-380.06 1503.64,-367.72 1531.48,-356.49\"/>\r\n",
       "<polygon fill=\"black\" stroke=\"black\" points=\"1532.84,-359.72 1540.8,-352.73 1530.22,-353.22 1532.84,-359.72\"/>\r\n",
       "<text text-anchor=\"middle\" x=\"1531.02\" y=\"-372.04\" font-family=\"Helvetica,sans-Serif\" font-size=\"14.00\">False</text>\r\n",
       "</g>\r\n",
       "<!-- 2 -->\r\n",
       "<g id=\"node3\" class=\"node\">\r\n",
       "<title>2</title>\r\n",
       "<path fill=\"#f5cdb1\" stroke=\"black\" d=\"M537,-253C537,-253 417,-253 417,-253 411,-253 405,-247 405,-241 405,-241 405,-201 405,-201 405,-195 411,-189 417,-189 417,-189 537,-189 537,-189 543,-189 549,-195 549,-201 549,-201 549,-241 549,-241 549,-247 543,-253 537,-253\"/>\r\n",
       "<text text-anchor=\"start\" x=\"443\" y=\"-238.8\" font-family=\"Helvetica,sans-Serif\" font-size=\"14.00\">X</text>\r\n",
       "<text text-anchor=\"start\" x=\"453\" y=\"-238.8\" font-family=\"Helvetica,sans-Serif\" baseline-shift=\"sub\" font-size=\"14.00\">25</text>\r\n",
       "<text text-anchor=\"start\" x=\"467\" y=\"-238.8\" font-family=\"Helvetica,sans-Serif\" font-size=\"14.00\"> ≤ 0.16</text>\r\n",
       "<text text-anchor=\"start\" x=\"413\" y=\"-224.8\" font-family=\"Helvetica,sans-Serif\" font-size=\"14.00\">friedman_mse = 0.1</text>\r\n",
       "<text text-anchor=\"start\" x=\"437.5\" y=\"-210.8\" font-family=\"Helvetica,sans-Serif\" font-size=\"14.00\">samples = 6</text>\r\n",
       "<text text-anchor=\"start\" x=\"438\" y=\"-196.8\" font-family=\"Helvetica,sans-Serif\" font-size=\"14.00\">value = 0.09</text>\r\n",
       "</g>\r\n",
       "<!-- 1&#45;&gt;2 -->\r\n",
       "<g id=\"edge2\" class=\"edge\">\r\n",
       "<title>1&#45;&gt;2</title>\r\n",
       "<path fill=\"none\" stroke=\"black\" d=\"M886.8,-304.63C797.7,-286.67 650.81,-257.05 559.21,-238.58\"/>\r\n",
       "<polygon fill=\"black\" stroke=\"black\" points=\"559.64,-235.09 549.15,-236.55 558.26,-241.96 559.64,-235.09\"/>\r\n",
       "</g>\r\n",
       "<!-- 9 -->\r\n",
       "<g id=\"node10\" class=\"node\">\r\n",
       "<title>9</title>\r\n",
       "<path fill=\"#f3c5a5\" stroke=\"black\" d=\"M1027,-253C1027,-253 899,-253 899,-253 893,-253 887,-247 887,-241 887,-241 887,-201 887,-201 887,-195 893,-189 899,-189 899,-189 1027,-189 1027,-189 1033,-189 1039,-195 1039,-201 1039,-201 1039,-241 1039,-241 1039,-247 1033,-253 1027,-253\"/>\r\n",
       "<text text-anchor=\"start\" x=\"929\" y=\"-238.8\" font-family=\"Helvetica,sans-Serif\" font-size=\"14.00\">X</text>\r\n",
       "<text text-anchor=\"start\" x=\"939\" y=\"-238.8\" font-family=\"Helvetica,sans-Serif\" baseline-shift=\"sub\" font-size=\"14.00\">18</text>\r\n",
       "<text text-anchor=\"start\" x=\"953\" y=\"-238.8\" font-family=\"Helvetica,sans-Serif\" font-size=\"14.00\"> ≤ 0.07</text>\r\n",
       "<text text-anchor=\"start\" x=\"895\" y=\"-224.8\" font-family=\"Helvetica,sans-Serif\" font-size=\"14.00\">friedman_mse = 0.01</text>\r\n",
       "<text text-anchor=\"start\" x=\"919.5\" y=\"-210.8\" font-family=\"Helvetica,sans-Serif\" font-size=\"14.00\">samples = 44</text>\r\n",
       "<text text-anchor=\"start\" x=\"924\" y=\"-196.8\" font-family=\"Helvetica,sans-Serif\" font-size=\"14.00\">value = 0.36</text>\r\n",
       "</g>\r\n",
       "<!-- 1&#45;&gt;9 -->\r\n",
       "<g id=\"edge9\" class=\"edge\">\r\n",
       "<title>1&#45;&gt;9</title>\r\n",
       "<path fill=\"none\" stroke=\"black\" d=\"M963,-288.99C963,-280.86 963,-271.96 963,-263.38\"/>\r\n",
       "<polygon fill=\"black\" stroke=\"black\" points=\"966.5,-263.14 963,-253.14 959.5,-263.14 966.5,-263.14\"/>\r\n",
       "</g>\r\n",
       "<!-- 3 -->\r\n",
       "<g id=\"node4\" class=\"node\">\r\n",
       "<title>3</title>\r\n",
       "<path fill=\"#f3c4a2\" stroke=\"black\" d=\"M294,-153C294,-153 174,-153 174,-153 168,-153 162,-147 162,-141 162,-141 162,-101 162,-101 162,-95 168,-89 174,-89 174,-89 294,-89 294,-89 300,-89 306,-95 306,-101 306,-101 306,-141 306,-141 306,-147 300,-153 294,-153\"/>\r\n",
       "<text text-anchor=\"start\" x=\"197.5\" y=\"-138.8\" font-family=\"Helvetica,sans-Serif\" font-size=\"14.00\">X</text>\r\n",
       "<text text-anchor=\"start\" x=\"207.5\" y=\"-138.8\" font-family=\"Helvetica,sans-Serif\" baseline-shift=\"sub\" font-size=\"14.00\">14</text>\r\n",
       "<text text-anchor=\"start\" x=\"221.5\" y=\"-138.8\" font-family=\"Helvetica,sans-Serif\" font-size=\"14.00\"> ≤ &#45;0.68</text>\r\n",
       "<text text-anchor=\"start\" x=\"170\" y=\"-124.8\" font-family=\"Helvetica,sans-Serif\" font-size=\"14.00\">friedman_mse = 0.0</text>\r\n",
       "<text text-anchor=\"start\" x=\"194.5\" y=\"-110.8\" font-family=\"Helvetica,sans-Serif\" font-size=\"14.00\">samples = 3</text>\r\n",
       "<text text-anchor=\"start\" x=\"199\" y=\"-96.8\" font-family=\"Helvetica,sans-Serif\" font-size=\"14.00\">value = 0.4</text>\r\n",
       "</g>\r\n",
       "<!-- 2&#45;&gt;3 -->\r\n",
       "<g id=\"edge3\" class=\"edge\">\r\n",
       "<title>2&#45;&gt;3</title>\r\n",
       "<path fill=\"none\" stroke=\"black\" d=\"M404.75,-190.86C376.85,-179.61 344.77,-166.67 316.01,-155.07\"/>\r\n",
       "<polygon fill=\"black\" stroke=\"black\" points=\"316.97,-151.69 306.39,-151.19 314.36,-158.18 316.97,-151.69\"/>\r\n",
       "</g>\r\n",
       "<!-- 6 -->\r\n",
       "<g id=\"node7\" class=\"node\">\r\n",
       "<title>6</title>\r\n",
       "<path fill=\"#f7d7bf\" stroke=\"black\" d=\"M537,-153C537,-153 417,-153 417,-153 411,-153 405,-147 405,-141 405,-141 405,-101 405,-101 405,-95 411,-89 417,-89 417,-89 537,-89 537,-89 543,-89 549,-95 549,-101 549,-101 549,-141 549,-141 549,-147 543,-153 537,-153\"/>\r\n",
       "<text text-anchor=\"start\" x=\"443\" y=\"-138.8\" font-family=\"Helvetica,sans-Serif\" font-size=\"14.00\">X</text>\r\n",
       "<text text-anchor=\"start\" x=\"453\" y=\"-138.8\" font-family=\"Helvetica,sans-Serif\" baseline-shift=\"sub\" font-size=\"14.00\">29</text>\r\n",
       "<text text-anchor=\"start\" x=\"467\" y=\"-138.8\" font-family=\"Helvetica,sans-Serif\" font-size=\"14.00\"> ≤ 0.53</text>\r\n",
       "<text text-anchor=\"start\" x=\"413\" y=\"-124.8\" font-family=\"Helvetica,sans-Serif\" font-size=\"14.00\">friedman_mse = 0.0</text>\r\n",
       "<text text-anchor=\"start\" x=\"437.5\" y=\"-110.8\" font-family=\"Helvetica,sans-Serif\" font-size=\"14.00\">samples = 3</text>\r\n",
       "<text text-anchor=\"start\" x=\"436\" y=\"-96.8\" font-family=\"Helvetica,sans-Serif\" font-size=\"14.00\">value = &#45;0.23</text>\r\n",
       "</g>\r\n",
       "<!-- 2&#45;&gt;6 -->\r\n",
       "<g id=\"edge6\" class=\"edge\">\r\n",
       "<title>2&#45;&gt;6</title>\r\n",
       "<path fill=\"none\" stroke=\"black\" d=\"M477,-188.99C477,-180.86 477,-171.96 477,-163.38\"/>\r\n",
       "<polygon fill=\"black\" stroke=\"black\" points=\"480.5,-163.14 477,-153.14 473.5,-163.14 480.5,-163.14\"/>\r\n",
       "</g>\r\n",
       "<!-- 4 -->\r\n",
       "<g id=\"node5\" class=\"node\">\r\n",
       "<title>4</title>\r\n",
       "<path fill=\"#ea9a60\" stroke=\"black\" d=\"M132,-53C132,-53 12,-53 12,-53 6,-53 0,-47 0,-41 0,-41 0,-12 0,-12 0,-6 6,0 12,0 12,0 132,0 132,0 138,0 144,-6 144,-12 144,-12 144,-41 144,-41 144,-47 138,-53 132,-53\"/>\r\n",
       "<text text-anchor=\"start\" x=\"8\" y=\"-37.8\" font-family=\"Helvetica,sans-Serif\" font-size=\"14.00\">friedman_mse = 0.0</text>\r\n",
       "<text text-anchor=\"start\" x=\"32.5\" y=\"-22.8\" font-family=\"Helvetica,sans-Serif\" font-size=\"14.00\">samples = 1</text>\r\n",
       "<text text-anchor=\"start\" x=\"33\" y=\"-7.8\" font-family=\"Helvetica,sans-Serif\" font-size=\"14.00\">value = 1.86</text>\r\n",
       "</g>\r\n",
       "<!-- 3&#45;&gt;4 -->\r\n",
       "<g id=\"edge4\" class=\"edge\">\r\n",
       "<title>3&#45;&gt;4</title>\r\n",
       "<path fill=\"none\" stroke=\"black\" d=\"M179.61,-88.94C162.23,-79.02 143.01,-68.05 125.69,-58.15\"/>\r\n",
       "<polygon fill=\"black\" stroke=\"black\" points=\"127.24,-55.01 116.82,-53.09 123.77,-61.09 127.24,-55.01\"/>\r\n",
       "</g>\r\n",
       "<!-- 5 -->\r\n",
       "<g id=\"node6\" class=\"node\">\r\n",
       "<title>5</title>\r\n",
       "<path fill=\"#eca16c\" stroke=\"black\" d=\"M294,-53C294,-53 174,-53 174,-53 168,-53 162,-47 162,-41 162,-41 162,-12 162,-12 162,-6 168,0 174,0 174,0 294,0 294,0 300,0 306,-6 306,-12 306,-12 306,-41 306,-41 306,-47 300,-53 294,-53\"/>\r\n",
       "<text text-anchor=\"start\" x=\"170\" y=\"-37.8\" font-family=\"Helvetica,sans-Serif\" font-size=\"14.00\">friedman_mse = 0.0</text>\r\n",
       "<text text-anchor=\"start\" x=\"194.5\" y=\"-22.8\" font-family=\"Helvetica,sans-Serif\" font-size=\"14.00\">samples = 2</text>\r\n",
       "<text text-anchor=\"start\" x=\"199\" y=\"-7.8\" font-family=\"Helvetica,sans-Serif\" font-size=\"14.00\">value = 1.6</text>\r\n",
       "</g>\r\n",
       "<!-- 3&#45;&gt;5 -->\r\n",
       "<g id=\"edge5\" class=\"edge\">\r\n",
       "<title>3&#45;&gt;5</title>\r\n",
       "<path fill=\"none\" stroke=\"black\" d=\"M234,-88.94C234,-80.66 234,-71.64 234,-63.13\"/>\r\n",
       "<polygon fill=\"black\" stroke=\"black\" points=\"237.5,-63.09 234,-53.09 230.5,-63.09 237.5,-63.09\"/>\r\n",
       "</g>\r\n",
       "<!-- 7 -->\r\n",
       "<g id=\"node8\" class=\"node\">\r\n",
       "<title>7</title>\r\n",
       "<path fill=\"#fdf7f2\" stroke=\"black\" d=\"M456,-53C456,-53 336,-53 336,-53 330,-53 324,-47 324,-41 324,-41 324,-12 324,-12 324,-6 330,0 336,0 336,0 456,0 456,0 462,0 468,-6 468,-12 468,-12 468,-41 468,-41 468,-47 462,-53 456,-53\"/>\r\n",
       "<text text-anchor=\"start\" x=\"332\" y=\"-37.8\" font-family=\"Helvetica,sans-Serif\" font-size=\"14.00\">friedman_mse = 0.0</text>\r\n",
       "<text text-anchor=\"start\" x=\"356.5\" y=\"-22.8\" font-family=\"Helvetica,sans-Serif\" font-size=\"14.00\">samples = 1</text>\r\n",
       "<text text-anchor=\"start\" x=\"355\" y=\"-7.8\" font-family=\"Helvetica,sans-Serif\" font-size=\"14.00\">value = &#45;1.33</text>\r\n",
       "</g>\r\n",
       "<!-- 6&#45;&gt;7 -->\r\n",
       "<g id=\"edge7\" class=\"edge\">\r\n",
       "<title>6&#45;&gt;7</title>\r\n",
       "<path fill=\"none\" stroke=\"black\" d=\"M449.8,-88.94C441.83,-79.84 433.09,-69.85 425.01,-60.63\"/>\r\n",
       "<polygon fill=\"black\" stroke=\"black\" points=\"427.63,-58.31 418.41,-53.09 422.36,-62.92 427.63,-58.31\"/>\r\n",
       "</g>\r\n",
       "<!-- 8 -->\r\n",
       "<g id=\"node9\" class=\"node\">\r\n",
       "<title>8</title>\r\n",
       "<path fill=\"#fdf5f0\" stroke=\"black\" d=\"M618,-53C618,-53 498,-53 498,-53 492,-53 486,-47 486,-41 486,-41 486,-12 486,-12 486,-6 492,0 498,0 498,0 618,0 618,0 624,0 630,-6 630,-12 630,-12 630,-41 630,-41 630,-47 624,-53 618,-53\"/>\r\n",
       "<text text-anchor=\"start\" x=\"494\" y=\"-37.8\" font-family=\"Helvetica,sans-Serif\" font-size=\"14.00\">friedman_mse = 0.0</text>\r\n",
       "<text text-anchor=\"start\" x=\"518.5\" y=\"-22.8\" font-family=\"Helvetica,sans-Serif\" font-size=\"14.00\">samples = 2</text>\r\n",
       "<text text-anchor=\"start\" x=\"517\" y=\"-7.8\" font-family=\"Helvetica,sans-Serif\" font-size=\"14.00\">value = &#45;1.28</text>\r\n",
       "</g>\r\n",
       "<!-- 6&#45;&gt;8 -->\r\n",
       "<g id=\"edge8\" class=\"edge\">\r\n",
       "<title>6&#45;&gt;8</title>\r\n",
       "<path fill=\"none\" stroke=\"black\" d=\"M504.2,-88.94C512.17,-79.84 520.91,-69.85 528.99,-60.63\"/>\r\n",
       "<polygon fill=\"black\" stroke=\"black\" points=\"531.64,-62.92 535.59,-53.09 526.37,-58.31 531.64,-62.92\"/>\r\n",
       "</g>\r\n",
       "<!-- 10 -->\r\n",
       "<g id=\"node11\" class=\"node\">\r\n",
       "<title>10</title>\r\n",
       "<path fill=\"#f3c5a4\" stroke=\"black\" d=\"M940,-153C940,-153 820,-153 820,-153 814,-153 808,-147 808,-141 808,-141 808,-101 808,-101 808,-95 814,-89 820,-89 820,-89 940,-89 940,-89 946,-89 952,-95 952,-101 952,-101 952,-141 952,-141 952,-147 946,-153 940,-153\"/>\r\n",
       "<text text-anchor=\"start\" x=\"846\" y=\"-138.8\" font-family=\"Helvetica,sans-Serif\" font-size=\"14.00\">X</text>\r\n",
       "<text text-anchor=\"start\" x=\"856\" y=\"-138.8\" font-family=\"Helvetica,sans-Serif\" baseline-shift=\"sub\" font-size=\"14.00\">10</text>\r\n",
       "<text text-anchor=\"start\" x=\"870\" y=\"-138.8\" font-family=\"Helvetica,sans-Serif\" font-size=\"14.00\"> ≤ 0.01</text>\r\n",
       "<text text-anchor=\"start\" x=\"816\" y=\"-124.8\" font-family=\"Helvetica,sans-Serif\" font-size=\"14.00\">friedman_mse = 0.0</text>\r\n",
       "<text text-anchor=\"start\" x=\"836.5\" y=\"-110.8\" font-family=\"Helvetica,sans-Serif\" font-size=\"14.00\">samples = 38</text>\r\n",
       "<text text-anchor=\"start\" x=\"841\" y=\"-96.8\" font-family=\"Helvetica,sans-Serif\" font-size=\"14.00\">value = 0.38</text>\r\n",
       "</g>\r\n",
       "<!-- 9&#45;&gt;10 -->\r\n",
       "<g id=\"edge10\" class=\"edge\">\r\n",
       "<title>9&#45;&gt;10</title>\r\n",
       "<path fill=\"none\" stroke=\"black\" d=\"M936.74,-188.99C929.17,-180.06 920.81,-170.19 912.9,-160.84\"/>\r\n",
       "<polygon fill=\"black\" stroke=\"black\" points=\"915.51,-158.51 906.38,-153.14 910.17,-163.04 915.51,-158.51\"/>\r\n",
       "</g>\r\n",
       "<!-- 13 -->\r\n",
       "<g id=\"node14\" class=\"node\">\r\n",
       "<title>13</title>\r\n",
       "<path fill=\"#f4c9aa\" stroke=\"black\" d=\"M1110,-153C1110,-153 982,-153 982,-153 976,-153 970,-147 970,-141 970,-141 970,-101 970,-101 970,-95 976,-89 982,-89 982,-89 1110,-89 1110,-89 1116,-89 1122,-95 1122,-101 1122,-101 1122,-141 1122,-141 1122,-147 1116,-153 1110,-153\"/>\r\n",
       "<text text-anchor=\"start\" x=\"1009.5\" y=\"-138.8\" font-family=\"Helvetica,sans-Serif\" font-size=\"14.00\">X</text>\r\n",
       "<text text-anchor=\"start\" x=\"1019.5\" y=\"-138.8\" font-family=\"Helvetica,sans-Serif\" baseline-shift=\"sub\" font-size=\"14.00\">13</text>\r\n",
       "<text text-anchor=\"start\" x=\"1033.5\" y=\"-138.8\" font-family=\"Helvetica,sans-Serif\" font-size=\"14.00\"> ≤ &#45;0.09</text>\r\n",
       "<text text-anchor=\"start\" x=\"978\" y=\"-124.8\" font-family=\"Helvetica,sans-Serif\" font-size=\"14.00\">friedman_mse = 0.08</text>\r\n",
       "<text text-anchor=\"start\" x=\"1006.5\" y=\"-110.8\" font-family=\"Helvetica,sans-Serif\" font-size=\"14.00\">samples = 6</text>\r\n",
       "<text text-anchor=\"start\" x=\"1007\" y=\"-96.8\" font-family=\"Helvetica,sans-Serif\" font-size=\"14.00\">value = 0.25</text>\r\n",
       "</g>\r\n",
       "<!-- 9&#45;&gt;13 -->\r\n",
       "<g id=\"edge13\" class=\"edge\">\r\n",
       "<title>9&#45;&gt;13</title>\r\n",
       "<path fill=\"none\" stroke=\"black\" d=\"M989.26,-188.99C996.83,-180.06 1005.19,-170.19 1013.1,-160.84\"/>\r\n",
       "<polygon fill=\"black\" stroke=\"black\" points=\"1015.83,-163.04 1019.62,-153.14 1010.49,-158.51 1015.83,-163.04\"/>\r\n",
       "</g>\r\n",
       "<!-- 11 -->\r\n",
       "<g id=\"node12\" class=\"node\">\r\n",
       "<title>11</title>\r\n",
       "<path fill=\"#eca26c\" stroke=\"black\" d=\"M780,-53C780,-53 660,-53 660,-53 654,-53 648,-47 648,-41 648,-41 648,-12 648,-12 648,-6 654,0 660,0 660,0 780,0 780,0 786,0 792,-6 792,-12 792,-12 792,-41 792,-41 792,-47 786,-53 780,-53\"/>\r\n",
       "<text text-anchor=\"start\" x=\"656\" y=\"-37.8\" font-family=\"Helvetica,sans-Serif\" font-size=\"14.00\">friedman_mse = 0.0</text>\r\n",
       "<text text-anchor=\"start\" x=\"676.5\" y=\"-22.8\" font-family=\"Helvetica,sans-Serif\" font-size=\"14.00\">samples = 27</text>\r\n",
       "<text text-anchor=\"start\" x=\"681\" y=\"-7.8\" font-family=\"Helvetica,sans-Serif\" font-size=\"14.00\">value = 1.59</text>\r\n",
       "</g>\r\n",
       "<!-- 10&#45;&gt;11 -->\r\n",
       "<g id=\"edge11\" class=\"edge\">\r\n",
       "<title>10&#45;&gt;11</title>\r\n",
       "<path fill=\"none\" stroke=\"black\" d=\"M826.28,-88.94C809.11,-79.02 790.14,-68.05 773.02,-58.15\"/>\r\n",
       "<polygon fill=\"black\" stroke=\"black\" points=\"774.67,-55.07 764.27,-53.09 771.17,-61.13 774.67,-55.07\"/>\r\n",
       "</g>\r\n",
       "<!-- 12 -->\r\n",
       "<g id=\"node13\" class=\"node\">\r\n",
       "<title>12</title>\r\n",
       "<path fill=\"#eba06a\" stroke=\"black\" d=\"M942,-53C942,-53 822,-53 822,-53 816,-53 810,-47 810,-41 810,-41 810,-12 810,-12 810,-6 816,0 822,0 822,0 942,0 942,0 948,0 954,-6 954,-12 954,-12 954,-41 954,-41 954,-47 948,-53 942,-53\"/>\r\n",
       "<text text-anchor=\"start\" x=\"818\" y=\"-37.8\" font-family=\"Helvetica,sans-Serif\" font-size=\"14.00\">friedman_mse = 0.0</text>\r\n",
       "<text text-anchor=\"start\" x=\"838.5\" y=\"-22.8\" font-family=\"Helvetica,sans-Serif\" font-size=\"14.00\">samples = 11</text>\r\n",
       "<text text-anchor=\"start\" x=\"843\" y=\"-7.8\" font-family=\"Helvetica,sans-Serif\" font-size=\"14.00\">value = 1.65</text>\r\n",
       "</g>\r\n",
       "<!-- 10&#45;&gt;12 -->\r\n",
       "<g id=\"edge12\" class=\"edge\">\r\n",
       "<title>10&#45;&gt;12</title>\r\n",
       "<path fill=\"none\" stroke=\"black\" d=\"M880.67,-88.94C880.85,-80.66 881.05,-71.64 881.23,-63.13\"/>\r\n",
       "<polygon fill=\"black\" stroke=\"black\" points=\"884.73,-63.16 881.45,-53.09 877.73,-63.01 884.73,-63.16\"/>\r\n",
       "</g>\r\n",
       "<!-- 14 -->\r\n",
       "<g id=\"node15\" class=\"node\">\r\n",
       "<title>14</title>\r\n",
       "<path fill=\"#ffffff\" stroke=\"black\" d=\"M1104,-53C1104,-53 984,-53 984,-53 978,-53 972,-47 972,-41 972,-41 972,-12 972,-12 972,-6 978,0 984,0 984,0 1104,0 1104,0 1110,0 1116,-6 1116,-12 1116,-12 1116,-41 1116,-41 1116,-47 1110,-53 1104,-53\"/>\r\n",
       "<text text-anchor=\"start\" x=\"980\" y=\"-37.8\" font-family=\"Helvetica,sans-Serif\" font-size=\"14.00\">friedman_mse = 0.0</text>\r\n",
       "<text text-anchor=\"start\" x=\"1004.5\" y=\"-22.8\" font-family=\"Helvetica,sans-Serif\" font-size=\"14.00\">samples = 1</text>\r\n",
       "<text text-anchor=\"start\" x=\"1003\" y=\"-7.8\" font-family=\"Helvetica,sans-Serif\" font-size=\"14.00\">value = &#45;1.62</text>\r\n",
       "</g>\r\n",
       "<!-- 13&#45;&gt;14 -->\r\n",
       "<g id=\"edge14\" class=\"edge\">\r\n",
       "<title>13&#45;&gt;14</title>\r\n",
       "<path fill=\"none\" stroke=\"black\" d=\"M1045.33,-88.94C1045.15,-80.66 1044.95,-71.64 1044.77,-63.13\"/>\r\n",
       "<polygon fill=\"black\" stroke=\"black\" points=\"1048.27,-63.01 1044.55,-53.09 1041.27,-63.16 1048.27,-63.01\"/>\r\n",
       "</g>\r\n",
       "<!-- 15 -->\r\n",
       "<g id=\"node16\" class=\"node\">\r\n",
       "<title>15</title>\r\n",
       "<path fill=\"#eca16c\" stroke=\"black\" d=\"M1266,-53C1266,-53 1146,-53 1146,-53 1140,-53 1134,-47 1134,-41 1134,-41 1134,-12 1134,-12 1134,-6 1140,0 1146,0 1146,0 1266,0 1266,0 1272,0 1278,-6 1278,-12 1278,-12 1278,-41 1278,-41 1278,-47 1272,-53 1266,-53\"/>\r\n",
       "<text text-anchor=\"start\" x=\"1142\" y=\"-37.8\" font-family=\"Helvetica,sans-Serif\" font-size=\"14.00\">friedman_mse = 0.0</text>\r\n",
       "<text text-anchor=\"start\" x=\"1166.5\" y=\"-22.8\" font-family=\"Helvetica,sans-Serif\" font-size=\"14.00\">samples = 5</text>\r\n",
       "<text text-anchor=\"start\" x=\"1171\" y=\"-7.8\" font-family=\"Helvetica,sans-Serif\" font-size=\"14.00\">value = 1.6</text>\r\n",
       "</g>\r\n",
       "<!-- 13&#45;&gt;15 -->\r\n",
       "<g id=\"edge15\" class=\"edge\">\r\n",
       "<title>13&#45;&gt;15</title>\r\n",
       "<path fill=\"none\" stroke=\"black\" d=\"M1099.72,-88.94C1116.89,-79.02 1135.86,-68.05 1152.98,-58.15\"/>\r\n",
       "<polygon fill=\"black\" stroke=\"black\" points=\"1154.83,-61.13 1161.73,-53.09 1151.33,-55.07 1154.83,-61.13\"/>\r\n",
       "</g>\r\n",
       "<!-- 17 -->\r\n",
       "<g id=\"node18\" class=\"node\">\r\n",
       "<title>17</title>\r\n",
       "<path fill=\"#f3c5a4\" stroke=\"black\" d=\"M1681,-253C1681,-253 1553,-253 1553,-253 1547,-253 1541,-247 1541,-241 1541,-241 1541,-201 1541,-201 1541,-195 1547,-189 1553,-189 1553,-189 1681,-189 1681,-189 1687,-189 1693,-195 1693,-201 1693,-201 1693,-241 1693,-241 1693,-247 1687,-253 1681,-253\"/>\r\n",
       "<text text-anchor=\"start\" x=\"1583\" y=\"-238.8\" font-family=\"Helvetica,sans-Serif\" font-size=\"14.00\">X</text>\r\n",
       "<text text-anchor=\"start\" x=\"1593\" y=\"-238.8\" font-family=\"Helvetica,sans-Serif\" baseline-shift=\"sub\" font-size=\"14.00\">31</text>\r\n",
       "<text text-anchor=\"start\" x=\"1607\" y=\"-238.8\" font-family=\"Helvetica,sans-Serif\" font-size=\"14.00\"> ≤ 0.67</text>\r\n",
       "<text text-anchor=\"start\" x=\"1549\" y=\"-224.8\" font-family=\"Helvetica,sans-Serif\" font-size=\"14.00\">friedman_mse = 0.04</text>\r\n",
       "<text text-anchor=\"start\" x=\"1573.5\" y=\"-210.8\" font-family=\"Helvetica,sans-Serif\" font-size=\"14.00\">samples = 16</text>\r\n",
       "<text text-anchor=\"start\" x=\"1578\" y=\"-196.8\" font-family=\"Helvetica,sans-Serif\" font-size=\"14.00\">value = 0.37</text>\r\n",
       "</g>\r\n",
       "<!-- 16&#45;&gt;17 -->\r\n",
       "<g id=\"edge17\" class=\"edge\">\r\n",
       "<title>16&#45;&gt;17</title>\r\n",
       "<path fill=\"none\" stroke=\"black\" d=\"M1617,-288.99C1617,-280.86 1617,-271.96 1617,-263.38\"/>\r\n",
       "<polygon fill=\"black\" stroke=\"black\" points=\"1620.5,-263.14 1617,-253.14 1613.5,-263.14 1620.5,-263.14\"/>\r\n",
       "</g>\r\n",
       "<!-- 24 -->\r\n",
       "<g id=\"node25\" class=\"node\">\r\n",
       "<title>24</title>\r\n",
       "<path fill=\"#f6d3ba\" stroke=\"black\" d=\"M2171,-253C2171,-253 2043,-253 2043,-253 2037,-253 2031,-247 2031,-241 2031,-241 2031,-201 2031,-201 2031,-195 2037,-189 2043,-189 2043,-189 2171,-189 2171,-189 2177,-189 2183,-195 2183,-201 2183,-201 2183,-241 2183,-241 2183,-247 2177,-253 2171,-253\"/>\r\n",
       "<text text-anchor=\"start\" x=\"2076.5\" y=\"-238.8\" font-family=\"Helvetica,sans-Serif\" font-size=\"14.00\">X</text>\r\n",
       "<text text-anchor=\"start\" x=\"2086.5\" y=\"-238.8\" font-family=\"Helvetica,sans-Serif\" baseline-shift=\"sub\" font-size=\"14.00\">0</text>\r\n",
       "<text text-anchor=\"start\" x=\"2093.5\" y=\"-238.8\" font-family=\"Helvetica,sans-Serif\" font-size=\"14.00\"> ≤ 0.15</text>\r\n",
       "<text text-anchor=\"start\" x=\"2039\" y=\"-224.8\" font-family=\"Helvetica,sans-Serif\" font-size=\"14.00\">friedman_mse = 0.08</text>\r\n",
       "<text text-anchor=\"start\" x=\"2059.5\" y=\"-210.8\" font-family=\"Helvetica,sans-Serif\" font-size=\"14.00\">samples = 214</text>\r\n",
       "<text text-anchor=\"start\" x=\"2066\" y=\"-196.8\" font-family=\"Helvetica,sans-Serif\" font-size=\"14.00\">value = &#45;0.11</text>\r\n",
       "</g>\r\n",
       "<!-- 16&#45;&gt;24 -->\r\n",
       "<g id=\"edge24\" class=\"edge\">\r\n",
       "<title>16&#45;&gt;24</title>\r\n",
       "<path fill=\"none\" stroke=\"black\" d=\"M1693.02,-304.8C1781.73,-287.05 1928.04,-257.79 2020.87,-239.23\"/>\r\n",
       "<polygon fill=\"black\" stroke=\"black\" points=\"2021.68,-242.63 2030.8,-237.24 2020.3,-235.77 2021.68,-242.63\"/>\r\n",
       "</g>\r\n",
       "<!-- 18 -->\r\n",
       "<g id=\"node19\" class=\"node\">\r\n",
       "<title>18</title>\r\n",
       "<path fill=\"#f3c7a7\" stroke=\"black\" d=\"M1596,-153C1596,-153 1468,-153 1468,-153 1462,-153 1456,-147 1456,-141 1456,-141 1456,-101 1456,-101 1456,-95 1462,-89 1468,-89 1468,-89 1596,-89 1596,-89 1602,-89 1608,-95 1608,-101 1608,-101 1608,-141 1608,-141 1608,-147 1602,-153 1596,-153\"/>\r\n",
       "<text text-anchor=\"start\" x=\"1499\" y=\"-138.8\" font-family=\"Helvetica,sans-Serif\" font-size=\"14.00\">X</text>\r\n",
       "<text text-anchor=\"start\" x=\"1509\" y=\"-138.8\" font-family=\"Helvetica,sans-Serif\" baseline-shift=\"sub\" font-size=\"14.00\">5</text>\r\n",
       "<text text-anchor=\"start\" x=\"1516\" y=\"-138.8\" font-family=\"Helvetica,sans-Serif\" font-size=\"14.00\"> ≤ &#45;0.29</text>\r\n",
       "<text text-anchor=\"start\" x=\"1464\" y=\"-124.8\" font-family=\"Helvetica,sans-Serif\" font-size=\"14.00\">friedman_mse = 0.04</text>\r\n",
       "<text text-anchor=\"start\" x=\"1488.5\" y=\"-110.8\" font-family=\"Helvetica,sans-Serif\" font-size=\"14.00\">samples = 10</text>\r\n",
       "<text text-anchor=\"start\" x=\"1493\" y=\"-96.8\" font-family=\"Helvetica,sans-Serif\" font-size=\"14.00\">value = 0.31</text>\r\n",
       "</g>\r\n",
       "<!-- 17&#45;&gt;18 -->\r\n",
       "<g id=\"edge18\" class=\"edge\">\r\n",
       "<title>17&#45;&gt;18</title>\r\n",
       "<path fill=\"none\" stroke=\"black\" d=\"M1590.11,-188.99C1582.35,-180.06 1573.8,-170.19 1565.69,-160.84\"/>\r\n",
       "<polygon fill=\"black\" stroke=\"black\" points=\"1568.21,-158.4 1559.01,-153.14 1562.92,-162.99 1568.21,-158.4\"/>\r\n",
       "</g>\r\n",
       "<!-- 21 -->\r\n",
       "<g id=\"node22\" class=\"node\">\r\n",
       "<title>21</title>\r\n",
       "<path fill=\"#f2c29f\" stroke=\"black\" d=\"M1766,-153C1766,-153 1638,-153 1638,-153 1632,-153 1626,-147 1626,-141 1626,-141 1626,-101 1626,-101 1626,-95 1632,-89 1638,-89 1638,-89 1766,-89 1766,-89 1772,-89 1778,-95 1778,-101 1778,-101 1778,-141 1778,-141 1778,-147 1772,-153 1766,-153\"/>\r\n",
       "<text text-anchor=\"start\" x=\"1671.5\" y=\"-138.8\" font-family=\"Helvetica,sans-Serif\" font-size=\"14.00\">X</text>\r\n",
       "<text text-anchor=\"start\" x=\"1681.5\" y=\"-138.8\" font-family=\"Helvetica,sans-Serif\" baseline-shift=\"sub\" font-size=\"14.00\">3</text>\r\n",
       "<text text-anchor=\"start\" x=\"1688.5\" y=\"-138.8\" font-family=\"Helvetica,sans-Serif\" font-size=\"14.00\"> ≤ 0.54</text>\r\n",
       "<text text-anchor=\"start\" x=\"1634\" y=\"-124.8\" font-family=\"Helvetica,sans-Serif\" font-size=\"14.00\">friedman_mse = 0.01</text>\r\n",
       "<text text-anchor=\"start\" x=\"1662.5\" y=\"-110.8\" font-family=\"Helvetica,sans-Serif\" font-size=\"14.00\">samples = 6</text>\r\n",
       "<text text-anchor=\"start\" x=\"1663\" y=\"-96.8\" font-family=\"Helvetica,sans-Serif\" font-size=\"14.00\">value = 0.47</text>\r\n",
       "</g>\r\n",
       "<!-- 17&#45;&gt;21 -->\r\n",
       "<g id=\"edge21\" class=\"edge\">\r\n",
       "<title>17&#45;&gt;21</title>\r\n",
       "<path fill=\"none\" stroke=\"black\" d=\"M1643.89,-188.99C1651.65,-180.06 1660.2,-170.19 1668.31,-160.84\"/>\r\n",
       "<polygon fill=\"black\" stroke=\"black\" points=\"1671.08,-162.99 1674.99,-153.14 1665.79,-158.4 1671.08,-162.99\"/>\r\n",
       "</g>\r\n",
       "<!-- 19 -->\r\n",
       "<g id=\"node20\" class=\"node\">\r\n",
       "<title>19</title>\r\n",
       "<path fill=\"#eba06a\" stroke=\"black\" d=\"M1428,-53C1428,-53 1308,-53 1308,-53 1302,-53 1296,-47 1296,-41 1296,-41 1296,-12 1296,-12 1296,-6 1302,0 1308,0 1308,0 1428,0 1428,0 1434,0 1440,-6 1440,-12 1440,-12 1440,-41 1440,-41 1440,-47 1434,-53 1428,-53\"/>\r\n",
       "<text text-anchor=\"start\" x=\"1304\" y=\"-37.8\" font-family=\"Helvetica,sans-Serif\" font-size=\"14.00\">friedman_mse = 0.0</text>\r\n",
       "<text text-anchor=\"start\" x=\"1328.5\" y=\"-22.8\" font-family=\"Helvetica,sans-Serif\" font-size=\"14.00\">samples = 8</text>\r\n",
       "<text text-anchor=\"start\" x=\"1329\" y=\"-7.8\" font-family=\"Helvetica,sans-Serif\" font-size=\"14.00\">value = 1.63</text>\r\n",
       "</g>\r\n",
       "<!-- 18&#45;&gt;19 -->\r\n",
       "<g id=\"edge19\" class=\"edge\">\r\n",
       "<title>18&#45;&gt;19</title>\r\n",
       "<path fill=\"none\" stroke=\"black\" d=\"M1476.93,-88.94C1459.34,-79.02 1439.89,-68.05 1422.35,-58.15\"/>\r\n",
       "<polygon fill=\"black\" stroke=\"black\" points=\"1423.8,-54.96 1413.37,-53.09 1420.36,-61.05 1423.8,-54.96\"/>\r\n",
       "</g>\r\n",
       "<!-- 20 -->\r\n",
       "<g id=\"node21\" class=\"node\">\r\n",
       "<title>20</title>\r\n",
       "<path fill=\"#f5cdb0\" stroke=\"black\" d=\"M1598,-53C1598,-53 1470,-53 1470,-53 1464,-53 1458,-47 1458,-41 1458,-41 1458,-12 1458,-12 1458,-6 1464,0 1470,0 1470,0 1598,0 1598,0 1604,0 1610,-6 1610,-12 1610,-12 1610,-41 1610,-41 1610,-47 1604,-53 1598,-53\"/>\r\n",
       "<text text-anchor=\"start\" x=\"1466\" y=\"-37.8\" font-family=\"Helvetica,sans-Serif\" font-size=\"14.00\">friedman_mse = 0.11</text>\r\n",
       "<text text-anchor=\"start\" x=\"1494.5\" y=\"-22.8\" font-family=\"Helvetica,sans-Serif\" font-size=\"14.00\">samples = 2</text>\r\n",
       "<text text-anchor=\"start\" x=\"1499\" y=\"-7.8\" font-family=\"Helvetica,sans-Serif\" font-size=\"14.00\">value = 0.1</text>\r\n",
       "</g>\r\n",
       "<!-- 18&#45;&gt;20 -->\r\n",
       "<g id=\"edge20\" class=\"edge\">\r\n",
       "<title>18&#45;&gt;20</title>\r\n",
       "<path fill=\"none\" stroke=\"black\" d=\"M1532.67,-88.94C1532.85,-80.66 1533.05,-71.64 1533.23,-63.13\"/>\r\n",
       "<polygon fill=\"black\" stroke=\"black\" points=\"1536.73,-63.16 1533.45,-53.09 1529.73,-63.01 1536.73,-63.16\"/>\r\n",
       "</g>\r\n",
       "<!-- 22 -->\r\n",
       "<g id=\"node23\" class=\"node\">\r\n",
       "<title>22</title>\r\n",
       "<path fill=\"#e58139\" stroke=\"black\" d=\"M1760,-53C1760,-53 1640,-53 1640,-53 1634,-53 1628,-47 1628,-41 1628,-41 1628,-12 1628,-12 1628,-6 1634,0 1640,0 1640,0 1760,0 1760,0 1766,0 1772,-6 1772,-12 1772,-12 1772,-41 1772,-41 1772,-47 1766,-53 1760,-53\"/>\r\n",
       "<text text-anchor=\"start\" x=\"1636\" y=\"-37.8\" font-family=\"Helvetica,sans-Serif\" font-size=\"14.00\">friedman_mse = 0.0</text>\r\n",
       "<text text-anchor=\"start\" x=\"1660.5\" y=\"-22.8\" font-family=\"Helvetica,sans-Serif\" font-size=\"14.00\">samples = 2</text>\r\n",
       "<text text-anchor=\"start\" x=\"1661\" y=\"-7.8\" font-family=\"Helvetica,sans-Serif\" font-size=\"14.00\">value = 2.71</text>\r\n",
       "</g>\r\n",
       "<!-- 21&#45;&gt;22 -->\r\n",
       "<g id=\"edge22\" class=\"edge\">\r\n",
       "<title>21&#45;&gt;22</title>\r\n",
       "<path fill=\"none\" stroke=\"black\" d=\"M1701.33,-88.94C1701.15,-80.66 1700.95,-71.64 1700.77,-63.13\"/>\r\n",
       "<polygon fill=\"black\" stroke=\"black\" points=\"1704.27,-63.01 1700.55,-53.09 1697.27,-63.16 1704.27,-63.01\"/>\r\n",
       "</g>\r\n",
       "<!-- 23 -->\r\n",
       "<g id=\"node24\" class=\"node\">\r\n",
       "<title>23</title>\r\n",
       "<path fill=\"#eba069\" stroke=\"black\" d=\"M1922,-53C1922,-53 1802,-53 1802,-53 1796,-53 1790,-47 1790,-41 1790,-41 1790,-12 1790,-12 1790,-6 1796,0 1802,0 1802,0 1922,0 1922,0 1928,0 1934,-6 1934,-12 1934,-12 1934,-41 1934,-41 1934,-47 1928,-53 1922,-53\"/>\r\n",
       "<text text-anchor=\"start\" x=\"1798\" y=\"-37.8\" font-family=\"Helvetica,sans-Serif\" font-size=\"14.00\">friedman_mse = 0.0</text>\r\n",
       "<text text-anchor=\"start\" x=\"1822.5\" y=\"-22.8\" font-family=\"Helvetica,sans-Serif\" font-size=\"14.00\">samples = 4</text>\r\n",
       "<text text-anchor=\"start\" x=\"1823\" y=\"-7.8\" font-family=\"Helvetica,sans-Serif\" font-size=\"14.00\">value = 1.66</text>\r\n",
       "</g>\r\n",
       "<!-- 21&#45;&gt;23 -->\r\n",
       "<g id=\"edge23\" class=\"edge\">\r\n",
       "<title>21&#45;&gt;23</title>\r\n",
       "<path fill=\"none\" stroke=\"black\" d=\"M1755.72,-88.94C1772.89,-79.02 1791.86,-68.05 1808.98,-58.15\"/>\r\n",
       "<polygon fill=\"black\" stroke=\"black\" points=\"1810.83,-61.13 1817.73,-53.09 1807.33,-55.07 1810.83,-61.13\"/>\r\n",
       "</g>\r\n",
       "<!-- 25 -->\r\n",
       "<g id=\"node26\" class=\"node\">\r\n",
       "<title>25</title>\r\n",
       "<path fill=\"#f3c3a0\" stroke=\"black\" d=\"M2171,-153C2171,-153 2043,-153 2043,-153 2037,-153 2031,-147 2031,-141 2031,-141 2031,-101 2031,-101 2031,-95 2037,-89 2043,-89 2043,-89 2171,-89 2171,-89 2177,-89 2183,-95 2183,-101 2183,-101 2183,-141 2183,-141 2183,-147 2177,-153 2171,-153\"/>\r\n",
       "<text text-anchor=\"start\" x=\"2070.5\" y=\"-138.8\" font-family=\"Helvetica,sans-Serif\" font-size=\"14.00\">X</text>\r\n",
       "<text text-anchor=\"start\" x=\"2080.5\" y=\"-138.8\" font-family=\"Helvetica,sans-Serif\" baseline-shift=\"sub\" font-size=\"14.00\">11</text>\r\n",
       "<text text-anchor=\"start\" x=\"2094.5\" y=\"-138.8\" font-family=\"Helvetica,sans-Serif\" font-size=\"14.00\"> ≤ &#45;0.29</text>\r\n",
       "<text text-anchor=\"start\" x=\"2039\" y=\"-124.8\" font-family=\"Helvetica,sans-Serif\" font-size=\"14.00\">friedman_mse = 0.01</text>\r\n",
       "<text text-anchor=\"start\" x=\"2063.5\" y=\"-110.8\" font-family=\"Helvetica,sans-Serif\" font-size=\"14.00\">samples = 12</text>\r\n",
       "<text text-anchor=\"start\" x=\"2068\" y=\"-96.8\" font-family=\"Helvetica,sans-Serif\" font-size=\"14.00\">value = 0.45</text>\r\n",
       "</g>\r\n",
       "<!-- 24&#45;&gt;25 -->\r\n",
       "<g id=\"edge25\" class=\"edge\">\r\n",
       "<title>24&#45;&gt;25</title>\r\n",
       "<path fill=\"none\" stroke=\"black\" d=\"M2107,-188.99C2107,-180.86 2107,-171.96 2107,-163.38\"/>\r\n",
       "<polygon fill=\"black\" stroke=\"black\" points=\"2110.5,-163.14 2107,-153.14 2103.5,-163.14 2110.5,-163.14\"/>\r\n",
       "</g>\r\n",
       "<!-- 28 -->\r\n",
       "<g id=\"node29\" class=\"node\">\r\n",
       "<title>28</title>\r\n",
       "<path fill=\"#f6d4bb\" stroke=\"black\" d=\"M2424,-153C2424,-153 2296,-153 2296,-153 2290,-153 2284,-147 2284,-141 2284,-141 2284,-101 2284,-101 2284,-95 2290,-89 2296,-89 2296,-89 2424,-89 2424,-89 2430,-89 2436,-95 2436,-101 2436,-101 2436,-141 2436,-141 2436,-147 2430,-153 2424,-153\"/>\r\n",
       "<text text-anchor=\"start\" x=\"2326\" y=\"-138.8\" font-family=\"Helvetica,sans-Serif\" font-size=\"14.00\">X</text>\r\n",
       "<text text-anchor=\"start\" x=\"2336\" y=\"-138.8\" font-family=\"Helvetica,sans-Serif\" baseline-shift=\"sub\" font-size=\"14.00\">19</text>\r\n",
       "<text text-anchor=\"start\" x=\"2350\" y=\"-138.8\" font-family=\"Helvetica,sans-Serif\" font-size=\"14.00\"> ≤ 0.92</text>\r\n",
       "<text text-anchor=\"start\" x=\"2292\" y=\"-124.8\" font-family=\"Helvetica,sans-Serif\" font-size=\"14.00\">friedman_mse = 0.06</text>\r\n",
       "<text text-anchor=\"start\" x=\"2312.5\" y=\"-110.8\" font-family=\"Helvetica,sans-Serif\" font-size=\"14.00\">samples = 202</text>\r\n",
       "<text text-anchor=\"start\" x=\"2319\" y=\"-96.8\" font-family=\"Helvetica,sans-Serif\" font-size=\"14.00\">value = &#45;0.14</text>\r\n",
       "</g>\r\n",
       "<!-- 24&#45;&gt;28 -->\r\n",
       "<g id=\"edge28\" class=\"edge\">\r\n",
       "<title>24&#45;&gt;28</title>\r\n",
       "<path fill=\"none\" stroke=\"black\" d=\"M2183.25,-190.46C2212,-179.33 2244.89,-166.59 2274.44,-155.14\"/>\r\n",
       "<polygon fill=\"black\" stroke=\"black\" points=\"2275.84,-158.35 2283.9,-151.48 2273.32,-151.82 2275.84,-158.35\"/>\r\n",
       "</g>\r\n",
       "<!-- 26 -->\r\n",
       "<g id=\"node27\" class=\"node\">\r\n",
       "<title>26</title>\r\n",
       "<path fill=\"#eba06a\" stroke=\"black\" d=\"M2084,-53C2084,-53 1964,-53 1964,-53 1958,-53 1952,-47 1952,-41 1952,-41 1952,-12 1952,-12 1952,-6 1958,0 1964,0 1964,0 2084,0 2084,0 2090,0 2096,-6 2096,-12 2096,-12 2096,-41 2096,-41 2096,-47 2090,-53 2084,-53\"/>\r\n",
       "<text text-anchor=\"start\" x=\"1960\" y=\"-37.8\" font-family=\"Helvetica,sans-Serif\" font-size=\"14.00\">friedman_mse = 0.0</text>\r\n",
       "<text text-anchor=\"start\" x=\"1984.5\" y=\"-22.8\" font-family=\"Helvetica,sans-Serif\" font-size=\"14.00\">samples = 6</text>\r\n",
       "<text text-anchor=\"start\" x=\"1985\" y=\"-7.8\" font-family=\"Helvetica,sans-Serif\" font-size=\"14.00\">value = 1.63</text>\r\n",
       "</g>\r\n",
       "<!-- 25&#45;&gt;26 -->\r\n",
       "<g id=\"edge26\" class=\"edge\">\r\n",
       "<title>25&#45;&gt;26</title>\r\n",
       "<path fill=\"none\" stroke=\"black\" d=\"M2079.13,-88.94C2070.96,-79.84 2062,-69.85 2053.72,-60.63\"/>\r\n",
       "<polygon fill=\"black\" stroke=\"black\" points=\"2056.25,-58.2 2046.96,-53.09 2051.04,-62.87 2056.25,-58.2\"/>\r\n",
       "</g>\r\n",
       "<!-- 27 -->\r\n",
       "<g id=\"node28\" class=\"node\">\r\n",
       "<title>27</title>\r\n",
       "<path fill=\"#e99356\" stroke=\"black\" d=\"M2254,-53C2254,-53 2126,-53 2126,-53 2120,-53 2114,-47 2114,-41 2114,-41 2114,-12 2114,-12 2114,-6 2120,0 2126,0 2126,0 2254,0 2254,0 2260,0 2266,-6 2266,-12 2266,-12 2266,-41 2266,-41 2266,-47 2260,-53 2254,-53\"/>\r\n",
       "<text text-anchor=\"start\" x=\"2122\" y=\"-37.8\" font-family=\"Helvetica,sans-Serif\" font-size=\"14.00\">friedman_mse = 0.01</text>\r\n",
       "<text text-anchor=\"start\" x=\"2150.5\" y=\"-22.8\" font-family=\"Helvetica,sans-Serif\" font-size=\"14.00\">samples = 6</text>\r\n",
       "<text text-anchor=\"start\" x=\"2151\" y=\"-7.8\" font-family=\"Helvetica,sans-Serif\" font-size=\"14.00\">value = 2.08</text>\r\n",
       "</g>\r\n",
       "<!-- 25&#45;&gt;27 -->\r\n",
       "<g id=\"edge27\" class=\"edge\">\r\n",
       "<title>25&#45;&gt;27</title>\r\n",
       "<path fill=\"none\" stroke=\"black\" d=\"M2134.87,-88.94C2143.04,-79.84 2152,-69.85 2160.28,-60.63\"/>\r\n",
       "<polygon fill=\"black\" stroke=\"black\" points=\"2162.96,-62.87 2167.04,-53.09 2157.75,-58.2 2162.96,-62.87\"/>\r\n",
       "</g>\r\n",
       "<!-- 29 -->\r\n",
       "<g id=\"node30\" class=\"node\">\r\n",
       "<title>29</title>\r\n",
       "<path fill=\"#fbebdf\" stroke=\"black\" d=\"M2424,-53C2424,-53 2296,-53 2296,-53 2290,-53 2284,-47 2284,-41 2284,-41 2284,-12 2284,-12 2284,-6 2290,0 2296,0 2296,0 2424,0 2424,0 2430,0 2436,-6 2436,-12 2436,-12 2436,-41 2436,-41 2436,-47 2430,-53 2424,-53\"/>\r\n",
       "<text text-anchor=\"start\" x=\"2292\" y=\"-37.8\" font-family=\"Helvetica,sans-Serif\" font-size=\"14.00\">friedman_mse = 0.05</text>\r\n",
       "<text text-anchor=\"start\" x=\"2312.5\" y=\"-22.8\" font-family=\"Helvetica,sans-Serif\" font-size=\"14.00\">samples = 191</text>\r\n",
       "<text text-anchor=\"start\" x=\"2319\" y=\"-7.8\" font-family=\"Helvetica,sans-Serif\" font-size=\"14.00\">value = &#45;0.92</text>\r\n",
       "</g>\r\n",
       "<!-- 28&#45;&gt;29 -->\r\n",
       "<g id=\"edge29\" class=\"edge\">\r\n",
       "<title>28&#45;&gt;29</title>\r\n",
       "<path fill=\"none\" stroke=\"black\" d=\"M2360,-88.94C2360,-80.66 2360,-71.64 2360,-63.13\"/>\r\n",
       "<polygon fill=\"black\" stroke=\"black\" points=\"2363.5,-63.09 2360,-53.09 2356.5,-63.09 2363.5,-63.09\"/>\r\n",
       "</g>\r\n",
       "<!-- 30 -->\r\n",
       "<g id=\"node31\" class=\"node\">\r\n",
       "<title>30</title>\r\n",
       "<path fill=\"#eda877\" stroke=\"black\" d=\"M2594,-53C2594,-53 2466,-53 2466,-53 2460,-53 2454,-47 2454,-41 2454,-41 2454,-12 2454,-12 2454,-6 2460,0 2466,0 2466,0 2594,0 2594,0 2600,0 2606,-6 2606,-12 2606,-12 2606,-41 2606,-41 2606,-47 2600,-53 2594,-53\"/>\r\n",
       "<text text-anchor=\"start\" x=\"2462\" y=\"-37.8\" font-family=\"Helvetica,sans-Serif\" font-size=\"14.00\">friedman_mse = 0.08</text>\r\n",
       "<text text-anchor=\"start\" x=\"2486.5\" y=\"-22.8\" font-family=\"Helvetica,sans-Serif\" font-size=\"14.00\">samples = 11</text>\r\n",
       "<text text-anchor=\"start\" x=\"2491\" y=\"-7.8\" font-family=\"Helvetica,sans-Serif\" font-size=\"14.00\">value = 1.36</text>\r\n",
       "</g>\r\n",
       "<!-- 28&#45;&gt;30 -->\r\n",
       "<g id=\"edge30\" class=\"edge\">\r\n",
       "<title>28&#45;&gt;30</title>\r\n",
       "<path fill=\"none\" stroke=\"black\" d=\"M2417.08,-88.94C2435.48,-78.93 2455.85,-67.85 2474.16,-57.88\"/>\r\n",
       "<polygon fill=\"black\" stroke=\"black\" points=\"2475.86,-60.94 2482.97,-53.09 2472.51,-54.8 2475.86,-60.94\"/>\r\n",
       "</g>\r\n",
       "</g>\r\n",
       "</svg>\r\n"
      ],
      "text/plain": [
       "<graphviz.files.Source at 0x26b962ece50>"
      ]
     },
     "execution_count": 236,
     "metadata": {},
     "output_type": "execute_result"
    }
   ],
   "source": [
    "# GB 중 일부 트리 graph화\n",
    "estimator = best_gsb_estimator.estimators_[15][0]\n",
    "\n",
    "dot_data = tree.export_graphviz(estimator, \n",
    "                rounded = True, proportion = False, \n",
    "                precision = 2, filled = True,\n",
    "                special_characters=True)\n",
    "\n",
    "graph = graphviz.Source(dot_data)  \n",
    "graph"
   ]
  },
  {
   "cell_type": "markdown",
   "metadata": {},
   "source": [
    "#### Confusion Matrix"
   ]
  },
  {
   "cell_type": "code",
   "execution_count": 237,
   "metadata": {},
   "outputs": [],
   "source": [
    "from sklearn.metrics import confusion_matrix\n",
    "import matplotlib.pyplot as plt\n",
    "import seaborn as sns"
   ]
  },
  {
   "cell_type": "code",
   "execution_count": 238,
   "metadata": {},
   "outputs": [],
   "source": [
    "y_pred = best_gsb_estimator.predict(X_test)"
   ]
  },
  {
   "cell_type": "code",
   "execution_count": 239,
   "metadata": {},
   "outputs": [
    {
     "data": {
      "image/png": "[encoded data removed]",
      "text/plain": [
       "<Figure size 360x360 with 2 Axes>"
      ]
     },
     "metadata": {
      "needs_background": "light"
     },
     "output_type": "display_data"
    }
   ],
   "source": [
    "con_mat = confusion_matrix(y_test, y_pred, labels=[0,1])\n",
    "\n",
    "group_names = [\"TN\",\"FP\",\"FN\",\"TP\"]\n",
    "group_counts = [\"{0:0.0f}\".format(value) for value in con_mat.flatten()]\n",
    "group_percentages = [\"{0:.2%}\".format(value) for value in con_mat.flatten()/np.sum(con_mat)]\n",
    "\n",
    "labels = [f\"{v1}\\n{v2}\\n{v3}\" for v1, v2, v3 in zip(group_names,group_counts,group_percentages)]\n",
    "labels = np.asarray(labels).reshape(2,2)\n",
    "fig, ax = plt.subplots(figsize=(5,5))\n",
    "\n",
    "sns.heatmap(con_mat, annot=labels, cmap = \"Blues\", fmt=\"\", linewidths=10, square=True)\n",
    "ax.set_ylim([0,2])\n",
    "ax.set_title(\"Confusion Matrix\")\n",
    "plt.ylabel('True label')\n",
    "plt.xlabel('Predicted label' + \"\")\n",
    "plt.show()"
   ]
  },
  {
   "cell_type": "markdown",
   "metadata": {},
   "source": [
    "#### AUROC"
   ]
  },
  {
   "cell_type": "code",
   "execution_count": 240,
   "metadata": {},
   "outputs": [],
   "source": [
    "from sklearn.metrics import roc_curve, auc\n",
    "%matplotlib inline"
   ]
  },
  {
   "cell_type": "code",
   "execution_count": 241,
   "metadata": {
    "scrolled": false
   },
   "outputs": [
    {
     "data": {
      "image/png": "[encoded data removed]",
      "text/plain": [
       "<Figure size 432x288 with 1 Axes>"
      ]
     },
     "metadata": {
      "needs_background": "light"
     },
     "output_type": "display_data"
    }
   ],
   "source": [
    "fpr, tpr, thresholds = roc_curve(y_test, best_gsb_estimator.decision_function(X_test)) \n",
    "\n",
    "plt.plot(fpr, tpr)\n",
    "#plt.fill_between(fpr, tpr)\n",
    "plt.plot([0, 1], [0, 1], '--')\n",
    "plt.xlabel('1 - Specificity(TNR)')\n",
    "#plt.xlabel('거짓 양성 비율(FPR)')\n",
    "plt.ylabel('Sensitivity(TPR)')\n",
    "\n",
    "auc_s = auc(fpr, tpr) # auc(score)\n",
    "plt.title('ROC curve (AUROC = {})'.format(auc_s))\n",
    "plt.show()"
   ]
  },
  {
   "cell_type": "markdown",
   "metadata": {},
   "source": [
    "#### 각 성능 지표"
   ]
  },
  {
   "cell_type": "code",
   "execution_count": 242,
   "metadata": {},
   "outputs": [],
   "source": [
    "from sklearn.metrics import f1_score, accuracy_score, recall_score, precision_score\n",
    "from sklearn.metrics import classification_report"
   ]
  },
  {
   "cell_type": "code",
   "execution_count": 243,
   "metadata": {},
   "outputs": [
    {
     "name": "stdout",
     "output_type": "stream",
     "text": [
      "              precision    recall  f1-score   support\n",
      "\n",
      "           0       0.95      1.00      0.98        41\n",
      "           1       1.00      0.93      0.97        30\n",
      "\n",
      "    accuracy                           0.97        71\n",
      "   macro avg       0.98      0.97      0.97        71\n",
      "weighted avg       0.97      0.97      0.97        71\n",
      "\n"
     ]
    }
   ],
   "source": [
    "print(classification_report(y_test, y_pred))"
   ]
  },
  {
   "cell_type": "code",
   "execution_count": 244,
   "metadata": {
    "scrolled": true
   },
   "outputs": [
    {
     "name": "stdout",
     "output_type": "stream",
     "text": [
      "Accuracy: 0.971830985915493\n",
      "Precision: 1.0\n",
      "Recall: 0.9333333333333333\n",
      "F1-score: 0.9655172413793104\n"
     ]
    }
   ],
   "source": [
    "print(f'Accuracy: {accuracy_score(y_test, y_pred)}')\n",
    "print(f\"Precision: {precision_score(y_test, y_pred, average='binary')}\")\n",
    "print(f\"Recall: {recall_score(y_test, y_pred, average='binary')}\")\n",
    "print(f\"F1-score: {f1_score(y_test, y_pred, average='binary')}\")"
   ]
  },
  {
   "cell_type": "markdown",
   "metadata": {},
   "source": [
    "## 5. KNN"
   ]
  },
  {
   "cell_type": "markdown",
   "metadata": {},
   "source": [
    "### 5.1 train test 분리"
   ]
  },
  {
   "cell_type": "code",
   "execution_count": 54,
   "metadata": {},
   "outputs": [],
   "source": [
    "from sklearn.model_selection import train_test_split"
   ]
  },
  {
   "cell_type": "code",
   "execution_count": 55,
   "metadata": {
    "scrolled": true
   },
   "outputs": [
    {
     "data": {
      "text/plain": [
       "6      0\n",
       "52     0\n",
       "114    1\n",
       "45     1\n",
       "106    1\n",
       "Name: target, dtype: int64"
      ]
     },
     "execution_count": 55,
     "metadata": {},
     "output_type": "execute_result"
    }
   ],
   "source": [
    "X, y = data.iloc[:,:-1], data.iloc[:,-1]\n",
    "\n",
    "X_train, X_test, y_train, y_test = train_test_split(X, y, test_size = 0.2, random_state = 0)\n",
    "y_test.head()"
   ]
  },
  {
   "cell_type": "markdown",
   "metadata": {},
   "source": [
    "### 5.2 modeling"
   ]
  },
  {
   "cell_type": "code",
   "execution_count": 56,
   "metadata": {},
   "outputs": [],
   "source": [
    "from sklearn.neighbors import KNeighborsClassifier"
   ]
  },
  {
   "cell_type": "code",
   "execution_count": 57,
   "metadata": {},
   "outputs": [
    {
     "data": {
      "image/png": "[encoded data removed]",
      "text/plain": [
       "<Figure size 432x288 with 1 Axes>"
      ]
     },
     "metadata": {
      "needs_background": "light"
     },
     "output_type": "display_data"
    }
   ],
   "source": [
    "k_list = range(1,101)\n",
    "accuracies = []\n",
    "\n",
    "for k in k_list:\n",
    "  classifier = KNeighborsClassifier(n_neighbors = k)\n",
    "  classifier.fit(X_train, y_train)\n",
    "  accuracies.append(classifier.score(X_test, y_test))\n",
    "plt.plot(k_list, accuracies)\n",
    "plt.xlabel(\"k\")\n",
    "plt.ylabel(\"Validation Accuracy\")\n",
    "plt.title(\"Classifier Accuracy\")\n",
    "plt.show()"
   ]
  },
  {
   "cell_type": "code",
   "execution_count": 58,
   "metadata": {},
   "outputs": [
    {
     "data": {
      "text/plain": [
       "2"
      ]
     },
     "execution_count": 58,
     "metadata": {},
     "output_type": "execute_result"
    }
   ],
   "source": [
    "accuracies.index(max(accuracies))"
   ]
  },
  {
   "cell_type": "code",
   "execution_count": 67,
   "metadata": {},
   "outputs": [
    {
     "data": {
      "text/plain": [
       "KNeighborsClassifier(algorithm='auto', leaf_size=30, metric='minkowski',\n",
       "                     metric_params=None, n_jobs=None, n_neighbors=3, p=2,\n",
       "                     weights='uniform')"
      ]
     },
     "execution_count": 67,
     "metadata": {},
     "output_type": "execute_result"
    }
   ],
   "source": [
    "knn = KNeighborsClassifier(n_neighbors = 3)\n",
    "\n",
    "knn.fit(X_train, y_train)"
   ]
  },
  {
   "cell_type": "code",
   "execution_count": 68,
   "metadata": {},
   "outputs": [
    {
     "data": {
      "text/plain": [
       "0.8892857142857142"
      ]
     },
     "execution_count": 68,
     "metadata": {},
     "output_type": "execute_result"
    }
   ],
   "source": [
    "# train 성능 #\n",
    "knn.score(X_train, y_train)"
   ]
  },
  {
   "cell_type": "code",
   "execution_count": 69,
   "metadata": {},
   "outputs": [],
   "source": [
    "y_pred = knn.predict(X_test)"
   ]
  },
  {
   "cell_type": "code",
   "execution_count": 70,
   "metadata": {},
   "outputs": [
    {
     "data": {
      "text/plain": [
       "0.8873239436619719"
      ]
     },
     "execution_count": 70,
     "metadata": {},
     "output_type": "execute_result"
    }
   ],
   "source": [
    "# test 성능 #\n",
    "knn.score(X_test, y_test)"
   ]
  },
  {
   "cell_type": "code",
   "execution_count": null,
   "metadata": {},
   "outputs": [],
   "source": []
  }
 ],
 "metadata": {
  "kernelspec": {
   "display_name": "Python 3",
   "language": "python",
   "name": "python3"
  },
  "language_info": {
   "codemirror_mode": {
    "name": "ipython",
    "version": 3
   },
   "file_extension": ".py",
   "mimetype": "text/x-python",
   "name": "python",
   "nbconvert_exporter": "python",
   "pygments_lexer": "ipython3",
   "version": "3.8.3"
  }
 },
 "nbformat": 4,
 "nbformat_minor": 4
}
