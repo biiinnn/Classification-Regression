{
 "cells": [
  {
   "cell_type": "markdown",
   "metadata": {},
   "source": [
    "# classification (ionosphere)_짝수"
   ]
  },
  {
   "cell_type": "markdown",
   "metadata": {},
   "source": [
    "## 0. 데이터 전처리"
   ]
  },
  {
   "cell_type": "markdown",
   "metadata": {},
   "source": [
    "### 0.1 데이터 불러오기"
   ]
  },
  {
   "cell_type": "code",
   "execution_count": 1,
   "metadata": {},
   "outputs": [],
   "source": [
    "import pandas as pd\n",
    "import numpy as np "
   ]
  },
  {
   "cell_type": "code",
   "execution_count": 2,
   "metadata": {},
   "outputs": [],
   "source": [
    "data = pd.read_csv('ionosphere.csv')"
   ]
  },
  {
   "cell_type": "markdown",
   "metadata": {},
   "source": [
    "### 0.2 데이터 전처리"
   ]
  },
  {
   "cell_type": "markdown",
   "metadata": {},
   "source": [
    "#### EDA 결과 처음 두 변수 지움"
   ]
  },
  {
   "cell_type": "code",
   "execution_count": 3,
   "metadata": {},
   "outputs": [],
   "source": [
    "data.drop(columns=['attribute1','attribute2'], inplace=True)"
   ]
  },
  {
   "cell_type": "markdown",
   "metadata": {},
   "source": [
    "#### 컬럼 이름 해석하기 쉽게 바꿈: 관측소1-1, 관측소1-2....."
   ]
  },
  {
   "cell_type": "code",
   "execution_count": 4,
   "metadata": {},
   "outputs": [],
   "source": [
    "data.columns = ['ob1-1', 'ob1-2', 'ob2-1', 'ob2-2', 'ob3-1', 'ob3-2', 'ob4-1', 'ob4-2', 'ob5-1', 'ob5-2', 'ob6-1', 'ob6-2', 'ob7-1', 'ob7-2', 'ob8-1', 'ob8-2', 'ob9-1', 'ob9-2', 'ob10-1', 'ob10-2', 'ob11-1', 'ob11-2', 'ob12-1', 'ob12-2', 'ob13-1', 'ob13-2', 'ob14-1', 'ob14-2', 'ob15-1', 'ob15-2', 'ob16-1', 'ob16-2', 'target']"
   ]
  },
  {
   "cell_type": "markdown",
   "metadata": {},
   "source": [
    "#### 짝수번째 값만 사용(홀수번째 버림)"
   ]
  },
  {
   "cell_type": "code",
   "execution_count": 5,
   "metadata": {},
   "outputs": [],
   "source": [
    "data.drop(columns = ['ob1-1', 'ob2-1', 'ob3-1', 'ob4-1', 'ob5-1', 'ob6-1', 'ob7-1', 'ob8-1', 'ob9-1', 'ob10-1', 'ob11-1', 'ob12-1', 'ob13-1', 'ob14-1', 'ob15-1', 'ob16-1']\n",
    ", inplace=True)"
   ]
  },
  {
   "cell_type": "code",
   "execution_count": 6,
   "metadata": {},
   "outputs": [
    {
     "data": {
      "text/html": [
       "<div>\n",
       "<style scoped>\n",
       "    .dataframe tbody tr th:only-of-type {\n",
       "        vertical-align: middle;\n",
       "    }\n",
       "\n",
       "    .dataframe tbody tr th {\n",
       "        vertical-align: top;\n",
       "    }\n",
       "\n",
       "    .dataframe thead th {\n",
       "        text-align: right;\n",
       "    }\n",
       "</style>\n",
       "<table border=\"1\" class=\"dataframe\">\n",
       "  <thead>\n",
       "    <tr style=\"text-align: right;\">\n",
       "      <th></th>\n",
       "      <th>ob1-2</th>\n",
       "      <th>ob2-2</th>\n",
       "      <th>ob3-2</th>\n",
       "      <th>ob4-2</th>\n",
       "      <th>ob5-2</th>\n",
       "      <th>ob6-2</th>\n",
       "      <th>ob7-2</th>\n",
       "      <th>ob8-2</th>\n",
       "      <th>ob9-2</th>\n",
       "      <th>ob10-2</th>\n",
       "      <th>ob11-2</th>\n",
       "      <th>ob12-2</th>\n",
       "      <th>ob13-2</th>\n",
       "      <th>ob14-2</th>\n",
       "      <th>ob15-2</th>\n",
       "      <th>ob16-2</th>\n",
       "      <th>target</th>\n",
       "    </tr>\n",
       "  </thead>\n",
       "  <tbody>\n",
       "    <tr>\n",
       "      <th>0</th>\n",
       "      <td>-0.05889</td>\n",
       "      <td>0.02306</td>\n",
       "      <td>-0.37708</td>\n",
       "      <td>0.03760</td>\n",
       "      <td>-0.17755</td>\n",
       "      <td>-0.44945</td>\n",
       "      <td>-0.38223</td>\n",
       "      <td>-0.38542</td>\n",
       "      <td>-0.32192</td>\n",
       "      <td>-0.29674</td>\n",
       "      <td>-0.47357</td>\n",
       "      <td>-0.51171</td>\n",
       "      <td>-0.46168</td>\n",
       "      <td>-0.34090</td>\n",
       "      <td>-0.54487</td>\n",
       "      <td>-0.45300</td>\n",
       "      <td>0</td>\n",
       "    </tr>\n",
       "    <tr>\n",
       "      <th>1</th>\n",
       "      <td>-0.18829</td>\n",
       "      <td>-0.36156</td>\n",
       "      <td>-0.93597</td>\n",
       "      <td>-0.04549</td>\n",
       "      <td>-0.67743</td>\n",
       "      <td>-0.69707</td>\n",
       "      <td>-0.97515</td>\n",
       "      <td>-0.62237</td>\n",
       "      <td>-1.00000</td>\n",
       "      <td>-0.45300</td>\n",
       "      <td>-0.35734</td>\n",
       "      <td>-0.26569</td>\n",
       "      <td>-0.18401</td>\n",
       "      <td>-0.11593</td>\n",
       "      <td>-0.06288</td>\n",
       "      <td>-0.02447</td>\n",
       "      <td>1</td>\n",
       "    </tr>\n",
       "    <tr>\n",
       "      <th>2</th>\n",
       "      <td>-0.03365</td>\n",
       "      <td>0.00485</td>\n",
       "      <td>-0.12062</td>\n",
       "      <td>0.01198</td>\n",
       "      <td>0.05346</td>\n",
       "      <td>0.00827</td>\n",
       "      <td>0.00299</td>\n",
       "      <td>-0.13644</td>\n",
       "      <td>-0.08540</td>\n",
       "      <td>-0.27502</td>\n",
       "      <td>-0.12062</td>\n",
       "      <td>-0.40220</td>\n",
       "      <td>-0.22145</td>\n",
       "      <td>-0.17365</td>\n",
       "      <td>-0.24180</td>\n",
       "      <td>-0.38238</td>\n",
       "      <td>0</td>\n",
       "    </tr>\n",
       "    <tr>\n",
       "      <th>3</th>\n",
       "      <td>-0.45161</td>\n",
       "      <td>1.00000</td>\n",
       "      <td>-1.00000</td>\n",
       "      <td>0.00000</td>\n",
       "      <td>0.00000</td>\n",
       "      <td>0.00000</td>\n",
       "      <td>0.14516</td>\n",
       "      <td>-0.39330</td>\n",
       "      <td>-0.54467</td>\n",
       "      <td>1.00000</td>\n",
       "      <td>0.00000</td>\n",
       "      <td>0.90695</td>\n",
       "      <td>1.00000</td>\n",
       "      <td>-0.20099</td>\n",
       "      <td>1.00000</td>\n",
       "      <td>1.00000</td>\n",
       "      <td>1</td>\n",
       "    </tr>\n",
       "    <tr>\n",
       "      <th>4</th>\n",
       "      <td>-0.02401</td>\n",
       "      <td>0.06531</td>\n",
       "      <td>-0.23255</td>\n",
       "      <td>-0.16399</td>\n",
       "      <td>-0.20275</td>\n",
       "      <td>-0.00712</td>\n",
       "      <td>-0.27457</td>\n",
       "      <td>-0.21780</td>\n",
       "      <td>-0.17813</td>\n",
       "      <td>-0.35575</td>\n",
       "      <td>-0.52879</td>\n",
       "      <td>-0.65158</td>\n",
       "      <td>-0.53206</td>\n",
       "      <td>-0.62197</td>\n",
       "      <td>-0.59573</td>\n",
       "      <td>-0.65697</td>\n",
       "      <td>0</td>\n",
       "    </tr>\n",
       "  </tbody>\n",
       "</table>\n",
       "</div>"
      ],
      "text/plain": [
       "     ob1-2    ob2-2    ob3-2    ob4-2    ob5-2    ob6-2    ob7-2    ob8-2  \\\n",
       "0 -0.05889  0.02306 -0.37708  0.03760 -0.17755 -0.44945 -0.38223 -0.38542   \n",
       "1 -0.18829 -0.36156 -0.93597 -0.04549 -0.67743 -0.69707 -0.97515 -0.62237   \n",
       "2 -0.03365  0.00485 -0.12062  0.01198  0.05346  0.00827  0.00299 -0.13644   \n",
       "3 -0.45161  1.00000 -1.00000  0.00000  0.00000  0.00000  0.14516 -0.39330   \n",
       "4 -0.02401  0.06531 -0.23255 -0.16399 -0.20275 -0.00712 -0.27457 -0.21780   \n",
       "\n",
       "     ob9-2   ob10-2   ob11-2   ob12-2   ob13-2   ob14-2   ob15-2   ob16-2  \\\n",
       "0 -0.32192 -0.29674 -0.47357 -0.51171 -0.46168 -0.34090 -0.54487 -0.45300   \n",
       "1 -1.00000 -0.45300 -0.35734 -0.26569 -0.18401 -0.11593 -0.06288 -0.02447   \n",
       "2 -0.08540 -0.27502 -0.12062 -0.40220 -0.22145 -0.17365 -0.24180 -0.38238   \n",
       "3 -0.54467  1.00000  0.00000  0.90695  1.00000 -0.20099  1.00000  1.00000   \n",
       "4 -0.17813 -0.35575 -0.52879 -0.65158 -0.53206 -0.62197 -0.59573 -0.65697   \n",
       "\n",
       "   target  \n",
       "0       0  \n",
       "1       1  \n",
       "2       0  \n",
       "3       1  \n",
       "4       0  "
      ]
     },
     "execution_count": 6,
     "metadata": {},
     "output_type": "execute_result"
    }
   ],
   "source": [
    "data.head()"
   ]
  },
  {
   "cell_type": "markdown",
   "metadata": {},
   "source": [
    "target에서 0 이 good, 1 이 bad"
   ]
  },
  {
   "cell_type": "code",
   "execution_count": 7,
   "metadata": {},
   "outputs": [
    {
     "data": {
      "text/html": [
       "<div>\n",
       "<style scoped>\n",
       "    .dataframe tbody tr th:only-of-type {\n",
       "        vertical-align: middle;\n",
       "    }\n",
       "\n",
       "    .dataframe tbody tr th {\n",
       "        vertical-align: top;\n",
       "    }\n",
       "\n",
       "    .dataframe thead th {\n",
       "        text-align: right;\n",
       "    }\n",
       "</style>\n",
       "<table border=\"1\" class=\"dataframe\">\n",
       "  <thead>\n",
       "    <tr style=\"text-align: right;\">\n",
       "      <th></th>\n",
       "      <th>ob1-2</th>\n",
       "      <th>ob2-2</th>\n",
       "      <th>ob3-2</th>\n",
       "      <th>ob4-2</th>\n",
       "      <th>ob5-2</th>\n",
       "      <th>ob6-2</th>\n",
       "      <th>ob7-2</th>\n",
       "      <th>ob8-2</th>\n",
       "      <th>ob9-2</th>\n",
       "      <th>ob10-2</th>\n",
       "      <th>ob11-2</th>\n",
       "      <th>ob12-2</th>\n",
       "      <th>ob13-2</th>\n",
       "      <th>ob14-2</th>\n",
       "      <th>ob15-2</th>\n",
       "      <th>ob16-2</th>\n",
       "      <th>target</th>\n",
       "    </tr>\n",
       "  </thead>\n",
       "  <tbody>\n",
       "    <tr>\n",
       "      <th>count</th>\n",
       "      <td>351.000000</td>\n",
       "      <td>351.000000</td>\n",
       "      <td>351.000000</td>\n",
       "      <td>351.000000</td>\n",
       "      <td>351.000000</td>\n",
       "      <td>351.000000</td>\n",
       "      <td>351.000000</td>\n",
       "      <td>351.000000</td>\n",
       "      <td>351.000000</td>\n",
       "      <td>351.000000</td>\n",
       "      <td>351.000000</td>\n",
       "      <td>351.000000</td>\n",
       "      <td>351.000000</td>\n",
       "      <td>351.000000</td>\n",
       "      <td>351.000000</td>\n",
       "      <td>351.000000</td>\n",
       "      <td>351.000000</td>\n",
       "    </tr>\n",
       "    <tr>\n",
       "      <th>mean</th>\n",
       "      <td>0.044372</td>\n",
       "      <td>0.115889</td>\n",
       "      <td>0.119360</td>\n",
       "      <td>0.181345</td>\n",
       "      <td>0.155040</td>\n",
       "      <td>0.093414</td>\n",
       "      <td>0.071132</td>\n",
       "      <td>-0.003617</td>\n",
       "      <td>-0.024025</td>\n",
       "      <td>0.008296</td>\n",
       "      <td>-0.057406</td>\n",
       "      <td>-0.071187</td>\n",
       "      <td>-0.069538</td>\n",
       "      <td>-0.027907</td>\n",
       "      <td>-0.003794</td>\n",
       "      <td>0.014480</td>\n",
       "      <td>0.358974</td>\n",
       "    </tr>\n",
       "    <tr>\n",
       "      <th>std</th>\n",
       "      <td>0.441435</td>\n",
       "      <td>0.460810</td>\n",
       "      <td>0.520750</td>\n",
       "      <td>0.483851</td>\n",
       "      <td>0.494817</td>\n",
       "      <td>0.494873</td>\n",
       "      <td>0.458371</td>\n",
       "      <td>0.496762</td>\n",
       "      <td>0.519076</td>\n",
       "      <td>0.518166</td>\n",
       "      <td>0.527456</td>\n",
       "      <td>0.508495</td>\n",
       "      <td>0.550025</td>\n",
       "      <td>0.507974</td>\n",
       "      <td>0.513574</td>\n",
       "      <td>0.468337</td>\n",
       "      <td>0.480384</td>\n",
       "    </tr>\n",
       "    <tr>\n",
       "      <th>min</th>\n",
       "      <td>-1.000000</td>\n",
       "      <td>-1.000000</td>\n",
       "      <td>-1.000000</td>\n",
       "      <td>-1.000000</td>\n",
       "      <td>-1.000000</td>\n",
       "      <td>-1.000000</td>\n",
       "      <td>-1.000000</td>\n",
       "      <td>-1.000000</td>\n",
       "      <td>-1.000000</td>\n",
       "      <td>-1.000000</td>\n",
       "      <td>-1.000000</td>\n",
       "      <td>-1.000000</td>\n",
       "      <td>-1.000000</td>\n",
       "      <td>-1.000000</td>\n",
       "      <td>-1.000000</td>\n",
       "      <td>-1.000000</td>\n",
       "      <td>0.000000</td>\n",
       "    </tr>\n",
       "    <tr>\n",
       "      <th>25%</th>\n",
       "      <td>-0.064735</td>\n",
       "      <td>-0.024795</td>\n",
       "      <td>-0.054840</td>\n",
       "      <td>-0.048075</td>\n",
       "      <td>-0.065265</td>\n",
       "      <td>-0.073725</td>\n",
       "      <td>-0.081705</td>\n",
       "      <td>-0.225690</td>\n",
       "      <td>-0.234670</td>\n",
       "      <td>-0.243870</td>\n",
       "      <td>-0.366885</td>\n",
       "      <td>-0.332390</td>\n",
       "      <td>-0.443165</td>\n",
       "      <td>-0.236885</td>\n",
       "      <td>-0.242595</td>\n",
       "      <td>-0.165350</td>\n",
       "      <td>0.000000</td>\n",
       "    </tr>\n",
       "    <tr>\n",
       "      <th>50%</th>\n",
       "      <td>0.016310</td>\n",
       "      <td>0.022800</td>\n",
       "      <td>0.014710</td>\n",
       "      <td>0.018290</td>\n",
       "      <td>0.028250</td>\n",
       "      <td>0.030270</td>\n",
       "      <td>0.000000</td>\n",
       "      <td>0.000000</td>\n",
       "      <td>0.000000</td>\n",
       "      <td>0.000000</td>\n",
       "      <td>0.000000</td>\n",
       "      <td>-0.015050</td>\n",
       "      <td>-0.017690</td>\n",
       "      <td>0.000000</td>\n",
       "      <td>0.000000</td>\n",
       "      <td>0.000000</td>\n",
       "      <td>0.000000</td>\n",
       "    </tr>\n",
       "    <tr>\n",
       "      <th>75%</th>\n",
       "      <td>0.194185</td>\n",
       "      <td>0.334655</td>\n",
       "      <td>0.445675</td>\n",
       "      <td>0.534195</td>\n",
       "      <td>0.482375</td>\n",
       "      <td>0.374860</td>\n",
       "      <td>0.308975</td>\n",
       "      <td>0.195285</td>\n",
       "      <td>0.134370</td>\n",
       "      <td>0.188760</td>\n",
       "      <td>0.164630</td>\n",
       "      <td>0.156765</td>\n",
       "      <td>0.153535</td>\n",
       "      <td>0.154075</td>\n",
       "      <td>0.200120</td>\n",
       "      <td>0.171660</td>\n",
       "      <td>1.000000</td>\n",
       "    </tr>\n",
       "    <tr>\n",
       "      <th>max</th>\n",
       "      <td>1.000000</td>\n",
       "      <td>1.000000</td>\n",
       "      <td>1.000000</td>\n",
       "      <td>1.000000</td>\n",
       "      <td>1.000000</td>\n",
       "      <td>1.000000</td>\n",
       "      <td>1.000000</td>\n",
       "      <td>1.000000</td>\n",
       "      <td>1.000000</td>\n",
       "      <td>1.000000</td>\n",
       "      <td>1.000000</td>\n",
       "      <td>1.000000</td>\n",
       "      <td>1.000000</td>\n",
       "      <td>1.000000</td>\n",
       "      <td>1.000000</td>\n",
       "      <td>1.000000</td>\n",
       "      <td>1.000000</td>\n",
       "    </tr>\n",
       "  </tbody>\n",
       "</table>\n",
       "</div>"
      ],
      "text/plain": [
       "            ob1-2       ob2-2       ob3-2       ob4-2       ob5-2       ob6-2  \\\n",
       "count  351.000000  351.000000  351.000000  351.000000  351.000000  351.000000   \n",
       "mean     0.044372    0.115889    0.119360    0.181345    0.155040    0.093414   \n",
       "std      0.441435    0.460810    0.520750    0.483851    0.494817    0.494873   \n",
       "min     -1.000000   -1.000000   -1.000000   -1.000000   -1.000000   -1.000000   \n",
       "25%     -0.064735   -0.024795   -0.054840   -0.048075   -0.065265   -0.073725   \n",
       "50%      0.016310    0.022800    0.014710    0.018290    0.028250    0.030270   \n",
       "75%      0.194185    0.334655    0.445675    0.534195    0.482375    0.374860   \n",
       "max      1.000000    1.000000    1.000000    1.000000    1.000000    1.000000   \n",
       "\n",
       "            ob7-2       ob8-2       ob9-2      ob10-2      ob11-2      ob12-2  \\\n",
       "count  351.000000  351.000000  351.000000  351.000000  351.000000  351.000000   \n",
       "mean     0.071132   -0.003617   -0.024025    0.008296   -0.057406   -0.071187   \n",
       "std      0.458371    0.496762    0.519076    0.518166    0.527456    0.508495   \n",
       "min     -1.000000   -1.000000   -1.000000   -1.000000   -1.000000   -1.000000   \n",
       "25%     -0.081705   -0.225690   -0.234670   -0.243870   -0.366885   -0.332390   \n",
       "50%      0.000000    0.000000    0.000000    0.000000    0.000000   -0.015050   \n",
       "75%      0.308975    0.195285    0.134370    0.188760    0.164630    0.156765   \n",
       "max      1.000000    1.000000    1.000000    1.000000    1.000000    1.000000   \n",
       "\n",
       "           ob13-2      ob14-2      ob15-2      ob16-2      target  \n",
       "count  351.000000  351.000000  351.000000  351.000000  351.000000  \n",
       "mean    -0.069538   -0.027907   -0.003794    0.014480    0.358974  \n",
       "std      0.550025    0.507974    0.513574    0.468337    0.480384  \n",
       "min     -1.000000   -1.000000   -1.000000   -1.000000    0.000000  \n",
       "25%     -0.443165   -0.236885   -0.242595   -0.165350    0.000000  \n",
       "50%     -0.017690    0.000000    0.000000    0.000000    0.000000  \n",
       "75%      0.153535    0.154075    0.200120    0.171660    1.000000  \n",
       "max      1.000000    1.000000    1.000000    1.000000    1.000000  "
      ]
     },
     "execution_count": 7,
     "metadata": {},
     "output_type": "execute_result"
    }
   ],
   "source": [
    "data.describe()"
   ]
  },
  {
   "cell_type": "markdown",
   "metadata": {},
   "source": [
    "모든 변수 (-1,1) 이므로 따로 scaling X"
   ]
  },
  {
   "cell_type": "code",
   "execution_count": 8,
   "metadata": {
    "scrolled": true
   },
   "outputs": [
    {
     "data": {
      "text/plain": [
       "ob1-2     0\n",
       "ob2-2     0\n",
       "ob3-2     0\n",
       "ob4-2     0\n",
       "ob5-2     0\n",
       "ob6-2     0\n",
       "ob7-2     0\n",
       "ob8-2     0\n",
       "ob9-2     0\n",
       "ob10-2    0\n",
       "ob11-2    0\n",
       "ob12-2    0\n",
       "ob13-2    0\n",
       "ob14-2    0\n",
       "ob15-2    0\n",
       "ob16-2    0\n",
       "target    0\n",
       "dtype: int64"
      ]
     },
     "execution_count": 8,
     "metadata": {},
     "output_type": "execute_result"
    }
   ],
   "source": [
    "data.isnull().sum()"
   ]
  },
  {
   "cell_type": "markdown",
   "metadata": {},
   "source": [
    "결측치 존재X"
   ]
  },
  {
   "cell_type": "code",
   "execution_count": 9,
   "metadata": {},
   "outputs": [
    {
     "data": {
      "text/plain": [
       "(351, 17)"
      ]
     },
     "execution_count": 9,
     "metadata": {},
     "output_type": "execute_result"
    }
   ],
   "source": [
    "data.shape"
   ]
  },
  {
   "cell_type": "markdown",
   "metadata": {},
   "source": [
    "## 1. Logistic Regression"
   ]
  },
  {
   "cell_type": "markdown",
   "metadata": {},
   "source": [
    "### 1.1 train test 분리"
   ]
  },
  {
   "cell_type": "code",
   "execution_count": 10,
   "metadata": {},
   "outputs": [],
   "source": [
    "from sklearn.model_selection import train_test_split"
   ]
  },
  {
   "cell_type": "code",
   "execution_count": 11,
   "metadata": {
    "scrolled": true
   },
   "outputs": [
    {
     "data": {
      "text/plain": [
       "6      0\n",
       "52     0\n",
       "114    1\n",
       "45     1\n",
       "106    1\n",
       "Name: target, dtype: int64"
      ]
     },
     "execution_count": 11,
     "metadata": {},
     "output_type": "execute_result"
    }
   ],
   "source": [
    "X, y = data.iloc[:,:-1], data.iloc[:,-1]\n",
    "\n",
    "X_train, X_test, y_train, y_test = train_test_split(X, y, test_size = 0.2, random_state = 0)\n",
    "y_test.head()"
   ]
  },
  {
   "cell_type": "markdown",
   "metadata": {},
   "source": [
    "### 1.2 modeling"
   ]
  },
  {
   "cell_type": "code",
   "execution_count": 12,
   "metadata": {},
   "outputs": [],
   "source": [
    "from sklearn.linear_model import LogisticRegression"
   ]
  },
  {
   "cell_type": "code",
   "execution_count": 13,
   "metadata": {},
   "outputs": [
    {
     "data": {
      "text/plain": [
       "LogisticRegression(C=1.0, class_weight=None, dual=False, fit_intercept=True,\n",
       "                   intercept_scaling=1, l1_ratio=None, max_iter=100,\n",
       "                   multi_class='auto', n_jobs=None, penalty='l2',\n",
       "                   random_state=None, solver='lbfgs', tol=0.0001, verbose=0,\n",
       "                   warm_start=False)"
      ]
     },
     "execution_count": 13,
     "metadata": {},
     "output_type": "execute_result"
    }
   ],
   "source": [
    "logreg = LogisticRegression(solver='lbfgs')\n",
    "\n",
    "logreg.fit(X_train, y_train)"
   ]
  },
  {
   "cell_type": "code",
   "execution_count": 14,
   "metadata": {},
   "outputs": [
    {
     "data": {
      "text/plain": [
       "array([0, 1], dtype=int64)"
      ]
     },
     "execution_count": 14,
     "metadata": {},
     "output_type": "execute_result"
    }
   ],
   "source": [
    "logreg.classes_"
   ]
  },
  {
   "cell_type": "code",
   "execution_count": 15,
   "metadata": {
    "scrolled": true
   },
   "outputs": [
    {
     "data": {
      "text/plain": [
       "array([-0.56576977])"
      ]
     },
     "execution_count": 15,
     "metadata": {},
     "output_type": "execute_result"
    }
   ],
   "source": [
    "logreg.intercept_"
   ]
  },
  {
   "cell_type": "code",
   "execution_count": 16,
   "metadata": {
    "scrolled": true
   },
   "outputs": [
    {
     "data": {
      "text/plain": [
       "array([[-0.69365401, -0.60833264, -0.64382149,  0.06292724,  0.15364212,\n",
       "        -0.64312743, -0.56440648, -0.7113817 ,  0.39778308,  0.54016036,\n",
       "         0.00082027, -0.16221805, -0.11892598, -0.22424969,  0.47163029,\n",
       "         0.58605879]])"
      ]
     },
     "execution_count": 16,
     "metadata": {},
     "output_type": "execute_result"
    }
   ],
   "source": [
    "logreg.coef_"
   ]
  },
  {
   "cell_type": "code",
   "execution_count": 17,
   "metadata": {},
   "outputs": [],
   "source": [
    "y_pred_t = logreg.predict(X_train)\n",
    "y_pred = logreg.predict(X_test)"
   ]
  },
  {
   "cell_type": "code",
   "execution_count": 18,
   "metadata": {},
   "outputs": [
    {
     "name": "stdout",
     "output_type": "stream",
     "text": [
      "Train_Accuracy: 0.7535714285714286\n",
      "Test_Accuracy: 0.704225352112676\n"
     ]
    }
   ],
   "source": [
    "train_acc = logreg.score(X_train, y_train)\n",
    "test_acc = logreg.score(X_test, y_test)\n",
    "\n",
    "print(f'Train_Accuracy: {train_acc}')\n",
    "print(f'Test_Accuracy: {test_acc}')"
   ]
  },
  {
   "cell_type": "markdown",
   "metadata": {},
   "source": [
    "### 1.3 Confusion Matrix / AUROC"
   ]
  },
  {
   "cell_type": "markdown",
   "metadata": {},
   "source": [
    "#### Confusion Matrix"
   ]
  },
  {
   "cell_type": "code",
   "execution_count": 19,
   "metadata": {},
   "outputs": [],
   "source": [
    "from sklearn.metrics import confusion_matrix\n",
    "import matplotlib.pyplot as plt\n",
    "import seaborn as sns"
   ]
  },
  {
   "cell_type": "code",
   "execution_count": 20,
   "metadata": {},
   "outputs": [
    {
     "data": {
      "image/png": "[encoded data removed]",
      "text/plain": [
       "<Figure size 360x360 with 2 Axes>"
      ]
     },
     "metadata": {
      "needs_background": "light"
     },
     "output_type": "display_data"
    }
   ],
   "source": [
    "con_mat = confusion_matrix(y_test, y_pred, labels=[0,1])\n",
    "\n",
    "group_names = [\"TN\",\"FP\",\"FN\",\"TP\"]\n",
    "group_counts = [\"{0:0.0f}\".format(value) for value in con_mat.flatten()]\n",
    "group_percentages = [\"{0:.2%}\".format(value) for value in con_mat.flatten()/np.sum(con_mat)]\n",
    "\n",
    "labels = [f\"{v1}\\n{v2}\\n{v3}\" for v1, v2, v3 in zip(group_names,group_counts,group_percentages)]\n",
    "labels = np.asarray(labels).reshape(2,2)\n",
    "fig, ax = plt.subplots(figsize=(5,5))\n",
    "\n",
    "sns.heatmap(con_mat, annot=labels, cmap = \"Blues\", fmt=\"\", linewidths=10, square=True)\n",
    "ax.set_ylim([0,2])\n",
    "ax.set_title(\"Confusion Matrix\")\n",
    "plt.ylabel('True label')\n",
    "plt.xlabel('Predicted label' + \"\")\n",
    "plt.show()"
   ]
  },
  {
   "cell_type": "markdown",
   "metadata": {},
   "source": [
    "#### AUROC"
   ]
  },
  {
   "cell_type": "code",
   "execution_count": 21,
   "metadata": {},
   "outputs": [],
   "source": [
    "from sklearn.metrics import roc_curve, auc\n",
    "%matplotlib inline"
   ]
  },
  {
   "cell_type": "code",
   "execution_count": 22,
   "metadata": {
    "scrolled": true
   },
   "outputs": [
    {
     "data": {
      "image/png": "[encoded data removed]",
      "text/plain": [
       "<Figure size 432x288 with 1 Axes>"
      ]
     },
     "metadata": {
      "needs_background": "light"
     },
     "output_type": "display_data"
    }
   ],
   "source": [
    "fpr, tpr, thresholds = roc_curve(y_test, logreg.decision_function(X_test)) \n",
    "\n",
    "plt.plot(fpr, tpr)\n",
    "#plt.fill_between(fpr, tpr)\n",
    "plt.plot([0, 1], [0, 1], '--')\n",
    "plt.xlabel('1 - Specificity(TNR)')\n",
    "#plt.xlabel('거짓 양성 비율(FPR)')\n",
    "plt.ylabel('Sensitivity(TPR)')\n",
    "\n",
    "auc_s = auc(fpr, tpr) # auc(score)\n",
    "plt.title('ROC curve (AUROC = {})'.format(auc_s))\n",
    "plt.show()"
   ]
  },
  {
   "cell_type": "markdown",
   "metadata": {},
   "source": [
    "#### 각 성능 지표"
   ]
  },
  {
   "cell_type": "code",
   "execution_count": 23,
   "metadata": {},
   "outputs": [],
   "source": [
    "from sklearn.metrics import f1_score, accuracy_score, recall_score, precision_score\n",
    "from sklearn.metrics import classification_report"
   ]
  },
  {
   "cell_type": "code",
   "execution_count": 24,
   "metadata": {},
   "outputs": [
    {
     "name": "stdout",
     "output_type": "stream",
     "text": [
      "              precision    recall  f1-score   support\n",
      "\n",
      "           0       0.66      1.00      0.80        41\n",
      "           1       1.00      0.30      0.46        30\n",
      "\n",
      "    accuracy                           0.70        71\n",
      "   macro avg       0.83      0.65      0.63        71\n",
      "weighted avg       0.80      0.70      0.65        71\n",
      "\n"
     ]
    }
   ],
   "source": [
    "print(classification_report(y_test, y_pred))"
   ]
  },
  {
   "cell_type": "code",
   "execution_count": 25,
   "metadata": {
    "scrolled": true
   },
   "outputs": [
    {
     "name": "stdout",
     "output_type": "stream",
     "text": [
      "Accuracy: 0.704225352112676\n",
      "Precision: 1.0\n",
      "Recall: 0.3\n",
      "F1-score: 0.4615384615384615\n"
     ]
    }
   ],
   "source": [
    "print(f'Accuracy: {accuracy_score(y_test, y_pred)}')\n",
    "print(f\"Precision: {precision_score(y_test, y_pred, average='binary')}\")\n",
    "print(f\"Recall: {recall_score(y_test, y_pred, average='binary')}\")\n",
    "print(f\"F1-score: {f1_score(y_test, y_pred, average='binary')}\")"
   ]
  },
  {
   "cell_type": "markdown",
   "metadata": {},
   "source": [
    "## 2. Decision Tree"
   ]
  },
  {
   "cell_type": "code",
   "execution_count": 56,
   "metadata": {},
   "outputs": [],
   "source": [
    "col_names = ['ob1-2', 'ob2-2', 'ob3-2', 'ob4-2', 'ob5-2', 'ob6-2', 'ob7-2', 'ob8-2', 'ob9-2', 'ob10-2', 'ob11-2', 'ob12-2', 'ob13-2', 'ob14-2', 'ob15-2', 'ob16-2']"
   ]
  },
  {
   "cell_type": "markdown",
   "metadata": {},
   "source": [
    "30번 반복"
   ]
  },
  {
   "cell_type": "markdown",
   "metadata": {},
   "source": [
    "### 2.1 train test 분리"
   ]
  },
  {
   "cell_type": "code",
   "execution_count": 57,
   "metadata": {},
   "outputs": [],
   "source": [
    "from sklearn.model_selection import train_test_split"
   ]
  },
  {
   "cell_type": "code",
   "execution_count": 94,
   "metadata": {
    "scrolled": false
   },
   "outputs": [
    {
     "data": {
      "text/plain": [
       "342    0\n",
       "80     0\n",
       "162    1\n",
       "327    0\n",
       "51     1\n",
       "Name: target, dtype: int64"
      ]
     },
     "execution_count": 94,
     "metadata": {},
     "output_type": "execute_result"
    }
   ],
   "source": [
    "X, y = data.iloc[:,:-1], data.iloc[:,-1]\n",
    "\n",
    "X_train, X_test, y_train, y_test = train_test_split(X, y, test_size = 0.2)\n",
    "y_test.head()"
   ]
  },
  {
   "cell_type": "markdown",
   "metadata": {},
   "source": [
    "### 2.2 modeling & visualization & 성능평가 : Gini index"
   ]
  },
  {
   "cell_type": "markdown",
   "metadata": {},
   "source": [
    "#### modeling"
   ]
  },
  {
   "cell_type": "code",
   "execution_count": 95,
   "metadata": {},
   "outputs": [],
   "source": [
    "from sklearn.tree import DecisionTreeClassifier"
   ]
  },
  {
   "cell_type": "code",
   "execution_count": 96,
   "metadata": {
    "scrolled": false
   },
   "outputs": [
    {
     "data": {
      "text/plain": [
       "DecisionTreeClassifier(ccp_alpha=0.0, class_weight=None, criterion='gini',\n",
       "                       max_depth=4, max_features=None, max_leaf_nodes=None,\n",
       "                       min_impurity_decrease=0.0, min_impurity_split=None,\n",
       "                       min_samples_leaf=1, min_samples_split=2,\n",
       "                       min_weight_fraction_leaf=0.0, presort='deprecated',\n",
       "                       random_state=None, splitter='best')"
      ]
     },
     "execution_count": 96,
     "metadata": {},
     "output_type": "execute_result"
    }
   ],
   "source": [
    "DT = DecisionTreeClassifier(criterion = 'gini', max_depth = 4) \n",
    "\n",
    "DT.fit(X_train, y_train)"
   ]
  },
  {
   "cell_type": "code",
   "execution_count": 97,
   "metadata": {},
   "outputs": [
    {
     "name": "stdout",
     "output_type": "stream",
     "text": [
      "Train_Accuracy: 0.8678571428571429\n",
      "Test_Accuracy: 0.8591549295774648\n"
     ]
    }
   ],
   "source": [
    "train_acc = DT.score(X_train, y_train)\n",
    "test_acc = DT.score(X_test, y_test)\n",
    "\n",
    "print(f'Train_Accuracy: {train_acc}')\n",
    "print(f'Test_Accuracy: {test_acc}')"
   ]
  },
  {
   "cell_type": "markdown",
   "metadata": {},
   "source": [
    "#### visualization"
   ]
  },
  {
   "cell_type": "code",
   "execution_count": 98,
   "metadata": {},
   "outputs": [],
   "source": [
    "from sklearn import tree\n",
    "from sklearn.tree import export_graphviz\n",
    "from sklearn.externals.six import StringIO\n",
    "import pydotplus\n",
    "from IPython.display import Image\n",
    "import graphviz"
   ]
  },
  {
   "cell_type": "code",
   "execution_count": 99,
   "metadata": {
    "scrolled": false
   },
   "outputs": [
    {
     "data": {
      "image/png": "[encoded data removed]",
      "text/plain": [
       "<IPython.core.display.Image object>"
      ]
     },
     "execution_count": 99,
     "metadata": {},
     "output_type": "execute_result"
    }
   ],
   "source": [
    "dot_data = StringIO()\n",
    "dot_data = export_graphviz(DT, out_file = None, feature_names = col_names,\n",
    "                          class_names=['good','bad'], filled = True, rounded = True, special_characters = True)\n",
    "graph = pydotplus.graph_from_dot_data(dot_data)\n",
    "Image(graph.create_png())"
   ]
  },
  {
   "cell_type": "markdown",
   "metadata": {},
   "source": [
    "#### Confusion Matrix"
   ]
  },
  {
   "cell_type": "code",
   "execution_count": 100,
   "metadata": {},
   "outputs": [],
   "source": [
    "from sklearn.metrics import confusion_matrix\n",
    "import matplotlib.pyplot as plt\n",
    "import seaborn as sns"
   ]
  },
  {
   "cell_type": "code",
   "execution_count": 101,
   "metadata": {},
   "outputs": [],
   "source": [
    "y_pred = DT.predict(X_test)"
   ]
  },
  {
   "cell_type": "code",
   "execution_count": 102,
   "metadata": {},
   "outputs": [
    {
     "data": {
      "image/png": "[encoded data removed]",
      "text/plain": [
       "<Figure size 360x360 with 2 Axes>"
      ]
     },
     "metadata": {
      "needs_background": "light"
     },
     "output_type": "display_data"
    }
   ],
   "source": [
    "con_mat = confusion_matrix(y_test, y_pred, labels=[0,1])\n",
    "\n",
    "group_names = [\"TN\",\"FP\",\"FN\",\"TP\"]\n",
    "group_counts = [\"{0:0.0f}\".format(value) for value in con_mat.flatten()]\n",
    "group_percentages = [\"{0:.2%}\".format(value) for value in con_mat.flatten()/np.sum(con_mat)]\n",
    "\n",
    "labels = [f\"{v1}\\n{v2}\\n{v3}\" for v1, v2, v3 in zip(group_names,group_counts,group_percentages)]\n",
    "labels = np.asarray(labels).reshape(2,2)\n",
    "fig, ax = plt.subplots(figsize=(5,5))\n",
    "\n",
    "sns.heatmap(con_mat, annot=labels, cmap = \"Blues\", fmt=\"\", linewidths=10, square=True)\n",
    "ax.set_ylim([0,2])\n",
    "ax.set_title(\"Confusion Matrix\")\n",
    "plt.ylabel('True label')\n",
    "plt.xlabel('Predicted label' + \"\")\n",
    "plt.show()"
   ]
  },
  {
   "cell_type": "markdown",
   "metadata": {},
   "source": [
    "#### AUROC"
   ]
  },
  {
   "cell_type": "code",
   "execution_count": 103,
   "metadata": {},
   "outputs": [],
   "source": [
    "from sklearn.metrics import roc_curve, auc\n",
    "%matplotlib inline"
   ]
  },
  {
   "cell_type": "code",
   "execution_count": 104,
   "metadata": {
    "scrolled": false
   },
   "outputs": [
    {
     "data": {
      "image/png": "[encoded data removed]",
      "text/plain": [
       "<Figure size 432x288 with 1 Axes>"
      ]
     },
     "metadata": {
      "needs_background": "light"
     },
     "output_type": "display_data"
    }
   ],
   "source": [
    "fpr, tpr, thresholds = roc_curve(y_test, DT.predict_proba(X_test)[:,1]) \n",
    "\n",
    "plt.plot(fpr, tpr)\n",
    "#plt.fill_between(fpr, tpr)\n",
    "plt.plot([0, 1], [0, 1], '--')\n",
    "plt.xlabel('1 - Specificity(TNR)')\n",
    "#plt.xlabel('거짓 양성 비율(FPR)')\n",
    "plt.ylabel('Sensitivity(TPR)')\n",
    "\n",
    "auc_s = auc(fpr, tpr) # auc(score)\n",
    "plt.title('ROC curve (AUROC = {})'.format(auc_s))\n",
    "plt.show()"
   ]
  },
  {
   "cell_type": "markdown",
   "metadata": {},
   "source": [
    "#### 각 성능 지표"
   ]
  },
  {
   "cell_type": "code",
   "execution_count": 105,
   "metadata": {},
   "outputs": [],
   "source": [
    "from sklearn.metrics import f1_score, accuracy_score, recall_score, precision_score\n",
    "from sklearn.metrics import classification_report"
   ]
  },
  {
   "cell_type": "code",
   "execution_count": 106,
   "metadata": {},
   "outputs": [
    {
     "name": "stdout",
     "output_type": "stream",
     "text": [
      "              precision    recall  f1-score   support\n",
      "\n",
      "           0       0.85      0.96      0.90        48\n",
      "           1       0.88      0.65      0.75        23\n",
      "\n",
      "    accuracy                           0.86        71\n",
      "   macro avg       0.87      0.81      0.83        71\n",
      "weighted avg       0.86      0.86      0.85        71\n",
      "\n"
     ]
    }
   ],
   "source": [
    "print(classification_report(y_test, y_pred))"
   ]
  },
  {
   "cell_type": "code",
   "execution_count": 107,
   "metadata": {
    "scrolled": true
   },
   "outputs": [
    {
     "name": "stdout",
     "output_type": "stream",
     "text": [
      "Accuracy: 0.8591549295774648\n",
      "Precision: 0.8823529411764706\n",
      "Recall: 0.6521739130434783\n",
      "F1-score: 0.75\n"
     ]
    }
   ],
   "source": [
    "print(f'Accuracy: {accuracy_score(y_test, y_pred)}')\n",
    "print(f\"Precision: {precision_score(y_test, y_pred, average='binary')}\")\n",
    "print(f\"Recall: {recall_score(y_test, y_pred, average='binary')}\")\n",
    "print(f\"F1-score: {f1_score(y_test, y_pred, average='binary')}\")"
   ]
  },
  {
   "cell_type": "code",
   "execution_count": null,
   "metadata": {},
   "outputs": [],
   "source": []
  },
  {
   "cell_type": "code",
   "execution_count": null,
   "metadata": {},
   "outputs": [],
   "source": []
  },
  {
   "cell_type": "markdown",
   "metadata": {},
   "source": [
    "## 3. Random Forest"
   ]
  },
  {
   "cell_type": "markdown",
   "metadata": {},
   "source": [
    "### 3.1 train test 분리"
   ]
  },
  {
   "cell_type": "code",
   "execution_count": 27,
   "metadata": {},
   "outputs": [],
   "source": [
    "from sklearn.model_selection import train_test_split"
   ]
  },
  {
   "cell_type": "code",
   "execution_count": 28,
   "metadata": {
    "scrolled": false
   },
   "outputs": [
    {
     "data": {
      "text/plain": [
       "6      0\n",
       "52     0\n",
       "114    1\n",
       "45     1\n",
       "106    1\n",
       "Name: target, dtype: int64"
      ]
     },
     "execution_count": 28,
     "metadata": {},
     "output_type": "execute_result"
    }
   ],
   "source": [
    "X, y = data.iloc[:,:-1], data.iloc[:,-1]\n",
    "\n",
    "X_train, X_test, y_train, y_test = train_test_split(X, y, test_size = 0.2, random_state = 0)\n",
    "y_test.head()"
   ]
  },
  {
   "cell_type": "markdown",
   "metadata": {},
   "source": [
    "### 3.2 modeling"
   ]
  },
  {
   "cell_type": "code",
   "execution_count": 31,
   "metadata": {},
   "outputs": [],
   "source": [
    "from sklearn.ensemble import RandomForestClassifier"
   ]
  },
  {
   "cell_type": "code",
   "execution_count": 32,
   "metadata": {},
   "outputs": [
    {
     "data": {
      "text/plain": [
       "RandomForestClassifier(bootstrap=True, ccp_alpha=0.0, class_weight=None,\n",
       "                       criterion='gini', max_depth=4, max_features='auto',\n",
       "                       max_leaf_nodes=None, max_samples=None,\n",
       "                       min_impurity_decrease=0.0, min_impurity_split=None,\n",
       "                       min_samples_leaf=1, min_samples_split=2,\n",
       "                       min_weight_fraction_leaf=0.0, n_estimators=100,\n",
       "                       n_jobs=None, oob_score=True, random_state=42, verbose=0,\n",
       "                       warm_start=False)"
      ]
     },
     "execution_count": 32,
     "metadata": {},
     "output_type": "execute_result"
    }
   ],
   "source": [
    "RF = RandomForestClassifier(n_estimators=100, oob_score=True,\n",
    "                            criterion='gini', max_depth=4, random_state=42)\n",
    "RF.fit(X_train, y_train)"
   ]
  },
  {
   "cell_type": "code",
   "execution_count": 33,
   "metadata": {
    "scrolled": true
   },
   "outputs": [
    {
     "name": "stdout",
     "output_type": "stream",
     "text": [
      "[DecisionTreeClassifier(ccp_alpha=0.0, class_weight=None, criterion='gini',\n",
      "                       max_depth=4, max_features='auto', max_leaf_nodes=None,\n",
      "                       min_impurity_decrease=0.0, min_impurity_split=None,\n",
      "                       min_samples_leaf=1, min_samples_split=2,\n",
      "                       min_weight_fraction_leaf=0.0, presort='deprecated',\n",
      "                       random_state=1608637542, splitter='best'), DecisionTreeClassifier(ccp_alpha=0.0, class_weight=None, criterion='gini',\n",
      "                       max_depth=4, max_features='auto', max_leaf_nodes=None,\n",
      "                       min_impurity_decrease=0.0, min_impurity_split=None,\n",
      "                       min_samples_leaf=1, min_samples_split=2,\n",
      "                       min_weight_fraction_leaf=0.0, presort='deprecated',\n",
      "                       random_state=1273642419, splitter='best'), DecisionTreeClassifier(ccp_alpha=0.0, class_weight=None, criterion='gini',\n",
      "                       max_depth=4, max_features='auto', max_leaf_nodes=None,\n",
      "                       min_impurity_decrease=0.0, min_impurity_split=None,\n",
      "                       min_samples_leaf=1, min_samples_split=2,\n",
      "                       min_weight_fraction_leaf=0.0, presort='deprecated',\n",
      "                       random_state=1935803228, splitter='best')]\n",
      "100\n"
     ]
    }
   ],
   "source": [
    "print(RF.estimators_[:3])\n",
    "print(len(RF.estimators_))"
   ]
  },
  {
   "cell_type": "markdown",
   "metadata": {},
   "source": [
    "### 3.3 Feature Importance"
   ]
  },
  {
   "cell_type": "code",
   "execution_count": 34,
   "metadata": {},
   "outputs": [],
   "source": [
    "import matplotlib.pyplot as plt"
   ]
  },
  {
   "cell_type": "code",
   "execution_count": 35,
   "metadata": {},
   "outputs": [
    {
     "data": {
      "image/png": "[encoded data removed]",
      "text/plain": [
       "<Figure size 432x288 with 1 Axes>"
      ]
     },
     "metadata": {
      "needs_background": "light"
     },
     "output_type": "display_data"
    }
   ],
   "source": [
    "def plot_feature_importances(model):\n",
    "\n",
    "    n_features = X.shape[1]\n",
    "    idx = np.arange(n_features)\n",
    "\n",
    "    plt.barh(range(n_features), model.feature_importances_, align='center')\n",
    "\n",
    "    plt.yticks(np.arange(n_features))\n",
    "    plt.yticks(idx, col_names[:])\n",
    "\n",
    "    plt.xlabel(\"feature importances\")\n",
    "\n",
    "    plt.ylabel(\"feature\")\n",
    "\n",
    "    plt.ylim(-1, n_features)\n",
    "\n",
    "plot_feature_importances(RF)\n",
    "plt.show()"
   ]
  },
  {
   "cell_type": "code",
   "execution_count": 36,
   "metadata": {},
   "outputs": [
    {
     "data": {
      "text/plain": [
       "0.8285714285714286"
      ]
     },
     "execution_count": 36,
     "metadata": {},
     "output_type": "execute_result"
    }
   ],
   "source": [
    "# oob_score -> test data로 성능 평가와 비슷\n",
    "## train data 중 포함되지 않은 data로 성능측정\n",
    "RF.oob_score_"
   ]
  },
  {
   "cell_type": "markdown",
   "metadata": {},
   "source": [
    "### 3.4 visualization"
   ]
  },
  {
   "cell_type": "code",
   "execution_count": 37,
   "metadata": {},
   "outputs": [
    {
     "name": "stderr",
     "output_type": "stream",
     "text": [
      "C:\\Users\\yebin\\anaconda3\\lib\\site-packages\\sklearn\\externals\\six.py:28: FutureWarning: The module is deprecated in version 0.21 and will be removed in version 0.23 since we've dropped support for Python 2.7. Please rely on the official version of six (https://pypi.org/project/six/).\n",
      "  warnings.warn(\"The module is deprecated in version 0.21 and will be removed \"\n"
     ]
    }
   ],
   "source": [
    "from sklearn import tree\n",
    "from sklearn.tree import export_graphviz\n",
    "from sklearn.externals.six import StringIO\n",
    "import pydotplus\n",
    "from IPython.display import Image\n",
    "import graphviz"
   ]
  },
  {
   "cell_type": "code",
   "execution_count": 38,
   "metadata": {},
   "outputs": [
    {
     "data": {
      "image/svg+xml": [
       "<?xml version=\"1.0\" encoding=\"UTF-8\" standalone=\"no\"?>\r\n",
       "<!DOCTYPE svg PUBLIC \"-//W3C//DTD SVG 1.1//EN\"\r\n",
       " \"http://www.w3.org/Graphics/SVG/1.1/DTD/svg11.dtd\">\r\n",
       "<!-- Generated by graphviz version 2.47.2 (20210527.0053)\r\n",
       " -->\r\n",
       "<!-- Title: Tree Pages: 1 -->\r\n",
       "<svg width=\"719pt\" height=\"477pt\"\r\n",
       " viewBox=\"0.00 0.00 719.00 477.00\" xmlns=\"http://www.w3.org/2000/svg\" xmlns:xlink=\"http://www.w3.org/1999/xlink\">\r\n",
       "<g id=\"graph0\" class=\"graph\" transform=\"scale(1 1) rotate(0) translate(4 473)\">\r\n",
       "<title>Tree</title>\r\n",
       "<polygon fill=\"white\" stroke=\"transparent\" points=\"-4,4 -4,-473 715,-473 715,4 -4,4\"/>\r\n",
       "<!-- 0 -->\r\n",
       "<g id=\"node1\" class=\"node\">\r\n",
       "<title>0</title>\r\n",
       "<path fill=\"#eead7e\" stroke=\"black\" d=\"M253.5,-469C253.5,-469 155.5,-469 155.5,-469 149.5,-469 143.5,-463 143.5,-457 143.5,-457 143.5,-413 143.5,-413 143.5,-407 149.5,-401 155.5,-401 155.5,-401 253.5,-401 253.5,-401 259.5,-401 265.5,-407 265.5,-413 265.5,-413 265.5,-457 265.5,-457 265.5,-463 259.5,-469 253.5,-469\"/>\r\n",
       "<text text-anchor=\"middle\" x=\"204.5\" y=\"-453.8\" font-family=\"Helvetica,sans-Serif\" font-size=\"14.00\">X[12] &lt;= &#45;0.93</text>\r\n",
       "<text text-anchor=\"middle\" x=\"204.5\" y=\"-438.8\" font-family=\"Helvetica,sans-Serif\" font-size=\"14.00\">gini = 0.38</text>\r\n",
       "<text text-anchor=\"middle\" x=\"204.5\" y=\"-423.8\" font-family=\"Helvetica,sans-Serif\" font-size=\"14.00\">samples = 173</text>\r\n",
       "<text text-anchor=\"middle\" x=\"204.5\" y=\"-408.8\" font-family=\"Helvetica,sans-Serif\" font-size=\"14.00\">value = [208, 72]</text>\r\n",
       "</g>\r\n",
       "<!-- 1 -->\r\n",
       "<g id=\"node2\" class=\"node\">\r\n",
       "<title>1</title>\r\n",
       "<path fill=\"#399de5\" stroke=\"black\" d=\"M179,-357.5C179,-357.5 98,-357.5 98,-357.5 92,-357.5 86,-351.5 86,-345.5 86,-345.5 86,-316.5 86,-316.5 86,-310.5 92,-304.5 98,-304.5 98,-304.5 179,-304.5 179,-304.5 185,-304.5 191,-310.5 191,-316.5 191,-316.5 191,-345.5 191,-345.5 191,-351.5 185,-357.5 179,-357.5\"/>\r\n",
       "<text text-anchor=\"middle\" x=\"138.5\" y=\"-342.3\" font-family=\"Helvetica,sans-Serif\" font-size=\"14.00\">gini = 0.0</text>\r\n",
       "<text text-anchor=\"middle\" x=\"138.5\" y=\"-327.3\" font-family=\"Helvetica,sans-Serif\" font-size=\"14.00\">samples = 16</text>\r\n",
       "<text text-anchor=\"middle\" x=\"138.5\" y=\"-312.3\" font-family=\"Helvetica,sans-Serif\" font-size=\"14.00\">value = [0, 22]</text>\r\n",
       "</g>\r\n",
       "<!-- 0&#45;&gt;1 -->\r\n",
       "<g id=\"edge1\" class=\"edge\">\r\n",
       "<title>0&#45;&gt;1</title>\r\n",
       "<path fill=\"none\" stroke=\"black\" d=\"M183.07,-400.88C175.88,-389.78 167.86,-377.37 160.62,-366.18\"/>\r\n",
       "<polygon fill=\"black\" stroke=\"black\" points=\"163.38,-364.01 155.01,-357.52 157.51,-367.82 163.38,-364.01\"/>\r\n",
       "<text text-anchor=\"middle\" x=\"149.77\" y=\"-378.26\" font-family=\"Helvetica,sans-Serif\" font-size=\"14.00\">True</text>\r\n",
       "</g>\r\n",
       "<!-- 2 -->\r\n",
       "<g id=\"node3\" class=\"node\">\r\n",
       "<title>2</title>\r\n",
       "<path fill=\"#eb9f69\" stroke=\"black\" d=\"M319.5,-365C319.5,-365 221.5,-365 221.5,-365 215.5,-365 209.5,-359 209.5,-353 209.5,-353 209.5,-309 209.5,-309 209.5,-303 215.5,-297 221.5,-297 221.5,-297 319.5,-297 319.5,-297 325.5,-297 331.5,-303 331.5,-309 331.5,-309 331.5,-353 331.5,-353 331.5,-359 325.5,-365 319.5,-365\"/>\r\n",
       "<text text-anchor=\"middle\" x=\"270.5\" y=\"-349.8\" font-family=\"Helvetica,sans-Serif\" font-size=\"14.00\">X[10] &lt;= &#45;0.94</text>\r\n",
       "<text text-anchor=\"middle\" x=\"270.5\" y=\"-334.8\" font-family=\"Helvetica,sans-Serif\" font-size=\"14.00\">gini = 0.31</text>\r\n",
       "<text text-anchor=\"middle\" x=\"270.5\" y=\"-319.8\" font-family=\"Helvetica,sans-Serif\" font-size=\"14.00\">samples = 157</text>\r\n",
       "<text text-anchor=\"middle\" x=\"270.5\" y=\"-304.8\" font-family=\"Helvetica,sans-Serif\" font-size=\"14.00\">value = [208, 50]</text>\r\n",
       "</g>\r\n",
       "<!-- 0&#45;&gt;2 -->\r\n",
       "<g id=\"edge2\" class=\"edge\">\r\n",
       "<title>0&#45;&gt;2</title>\r\n",
       "<path fill=\"none\" stroke=\"black\" d=\"M225.93,-400.88C231.52,-392.24 237.62,-382.82 243.46,-373.79\"/>\r\n",
       "<polygon fill=\"black\" stroke=\"black\" points=\"246.46,-375.6 248.95,-365.3 240.58,-371.79 246.46,-375.6\"/>\r\n",
       "<text text-anchor=\"middle\" x=\"254.19\" y=\"-386.04\" font-family=\"Helvetica,sans-Serif\" font-size=\"14.00\">False</text>\r\n",
       "</g>\r\n",
       "<!-- 3 -->\r\n",
       "<g id=\"node4\" class=\"node\">\r\n",
       "<title>3</title>\r\n",
       "<path fill=\"#48a5e7\" stroke=\"black\" d=\"M217,-261C217,-261 136,-261 136,-261 130,-261 124,-255 124,-249 124,-249 124,-205 124,-205 124,-199 130,-193 136,-193 136,-193 217,-193 217,-193 223,-193 229,-199 229,-205 229,-205 229,-249 229,-249 229,-255 223,-261 217,-261\"/>\r\n",
       "<text text-anchor=\"middle\" x=\"176.5\" y=\"-245.8\" font-family=\"Helvetica,sans-Serif\" font-size=\"14.00\">X[0] &lt;= 0.35</text>\r\n",
       "<text text-anchor=\"middle\" x=\"176.5\" y=\"-230.8\" font-family=\"Helvetica,sans-Serif\" font-size=\"14.00\">gini = 0.13</text>\r\n",
       "<text text-anchor=\"middle\" x=\"176.5\" y=\"-215.8\" font-family=\"Helvetica,sans-Serif\" font-size=\"14.00\">samples = 9</text>\r\n",
       "<text text-anchor=\"middle\" x=\"176.5\" y=\"-200.8\" font-family=\"Helvetica,sans-Serif\" font-size=\"14.00\">value = [1, 13]</text>\r\n",
       "</g>\r\n",
       "<!-- 2&#45;&gt;3 -->\r\n",
       "<g id=\"edge3\" class=\"edge\">\r\n",
       "<title>2&#45;&gt;3</title>\r\n",
       "<path fill=\"none\" stroke=\"black\" d=\"M239.98,-296.88C231.69,-287.89 222.62,-278.04 213.99,-268.68\"/>\r\n",
       "<polygon fill=\"black\" stroke=\"black\" points=\"216.54,-266.28 207.19,-261.3 211.39,-271.02 216.54,-266.28\"/>\r\n",
       "</g>\r\n",
       "<!-- 8 -->\r\n",
       "<g id=\"node9\" class=\"node\">\r\n",
       "<title>8</title>\r\n",
       "<path fill=\"#ea985c\" stroke=\"black\" d=\"M413.5,-261C413.5,-261 315.5,-261 315.5,-261 309.5,-261 303.5,-255 303.5,-249 303.5,-249 303.5,-205 303.5,-205 303.5,-199 309.5,-193 315.5,-193 315.5,-193 413.5,-193 413.5,-193 419.5,-193 425.5,-199 425.5,-205 425.5,-205 425.5,-249 425.5,-249 425.5,-255 419.5,-261 413.5,-261\"/>\r\n",
       "<text text-anchor=\"middle\" x=\"364.5\" y=\"-245.8\" font-family=\"Helvetica,sans-Serif\" font-size=\"14.00\">X[12] &lt;= 0.92</text>\r\n",
       "<text text-anchor=\"middle\" x=\"364.5\" y=\"-230.8\" font-family=\"Helvetica,sans-Serif\" font-size=\"14.00\">gini = 0.26</text>\r\n",
       "<text text-anchor=\"middle\" x=\"364.5\" y=\"-215.8\" font-family=\"Helvetica,sans-Serif\" font-size=\"14.00\">samples = 148</text>\r\n",
       "<text text-anchor=\"middle\" x=\"364.5\" y=\"-200.8\" font-family=\"Helvetica,sans-Serif\" font-size=\"14.00\">value = [207, 37]</text>\r\n",
       "</g>\r\n",
       "<!-- 2&#45;&gt;8 -->\r\n",
       "<g id=\"edge8\" class=\"edge\">\r\n",
       "<title>2&#45;&gt;8</title>\r\n",
       "<path fill=\"none\" stroke=\"black\" d=\"M301.02,-296.88C309.31,-287.89 318.38,-278.04 327.01,-268.68\"/>\r\n",
       "<polygon fill=\"black\" stroke=\"black\" points=\"329.61,-271.02 333.81,-261.3 324.46,-266.28 329.61,-271.02\"/>\r\n",
       "</g>\r\n",
       "<!-- 4 -->\r\n",
       "<g id=\"node5\" class=\"node\">\r\n",
       "<title>4</title>\r\n",
       "<path fill=\"#399de5\" stroke=\"black\" d=\"M93,-149.5C93,-149.5 12,-149.5 12,-149.5 6,-149.5 0,-143.5 0,-137.5 0,-137.5 0,-108.5 0,-108.5 0,-102.5 6,-96.5 12,-96.5 12,-96.5 93,-96.5 93,-96.5 99,-96.5 105,-102.5 105,-108.5 105,-108.5 105,-137.5 105,-137.5 105,-143.5 99,-149.5 93,-149.5\"/>\r\n",
       "<text text-anchor=\"middle\" x=\"52.5\" y=\"-134.3\" font-family=\"Helvetica,sans-Serif\" font-size=\"14.00\">gini = 0.0</text>\r\n",
       "<text text-anchor=\"middle\" x=\"52.5\" y=\"-119.3\" font-family=\"Helvetica,sans-Serif\" font-size=\"14.00\">samples = 7</text>\r\n",
       "<text text-anchor=\"middle\" x=\"52.5\" y=\"-104.3\" font-family=\"Helvetica,sans-Serif\" font-size=\"14.00\">value = [0, 12]</text>\r\n",
       "</g>\r\n",
       "<!-- 3&#45;&gt;4 -->\r\n",
       "<g id=\"edge4\" class=\"edge\">\r\n",
       "<title>3&#45;&gt;4</title>\r\n",
       "<path fill=\"none\" stroke=\"black\" d=\"M136.24,-192.88C121.8,-181.01 105.56,-167.65 91.25,-155.88\"/>\r\n",
       "<polygon fill=\"black\" stroke=\"black\" points=\"93.47,-153.17 83.52,-149.52 89.02,-158.58 93.47,-153.17\"/>\r\n",
       "</g>\r\n",
       "<!-- 5 -->\r\n",
       "<g id=\"node6\" class=\"node\">\r\n",
       "<title>5</title>\r\n",
       "<path fill=\"#ffffff\" stroke=\"black\" d=\"M218,-157C218,-157 135,-157 135,-157 129,-157 123,-151 123,-145 123,-145 123,-101 123,-101 123,-95 129,-89 135,-89 135,-89 218,-89 218,-89 224,-89 230,-95 230,-101 230,-101 230,-145 230,-145 230,-151 224,-157 218,-157\"/>\r\n",
       "<text text-anchor=\"middle\" x=\"176.5\" y=\"-141.8\" font-family=\"Helvetica,sans-Serif\" font-size=\"14.00\">X[10] &lt;= &#45;0.97</text>\r\n",
       "<text text-anchor=\"middle\" x=\"176.5\" y=\"-126.8\" font-family=\"Helvetica,sans-Serif\" font-size=\"14.00\">gini = 0.5</text>\r\n",
       "<text text-anchor=\"middle\" x=\"176.5\" y=\"-111.8\" font-family=\"Helvetica,sans-Serif\" font-size=\"14.00\">samples = 2</text>\r\n",
       "<text text-anchor=\"middle\" x=\"176.5\" y=\"-96.8\" font-family=\"Helvetica,sans-Serif\" font-size=\"14.00\">value = [1, 1]</text>\r\n",
       "</g>\r\n",
       "<!-- 3&#45;&gt;5 -->\r\n",
       "<g id=\"edge5\" class=\"edge\">\r\n",
       "<title>3&#45;&gt;5</title>\r\n",
       "<path fill=\"none\" stroke=\"black\" d=\"M176.5,-192.88C176.5,-184.78 176.5,-175.98 176.5,-167.47\"/>\r\n",
       "<polygon fill=\"black\" stroke=\"black\" points=\"180,-167.3 176.5,-157.3 173,-167.3 180,-167.3\"/>\r\n",
       "</g>\r\n",
       "<!-- 6 -->\r\n",
       "<g id=\"node7\" class=\"node\">\r\n",
       "<title>6</title>\r\n",
       "<path fill=\"#399de5\" stroke=\"black\" d=\"M98,-53C98,-53 25,-53 25,-53 19,-53 13,-47 13,-41 13,-41 13,-12 13,-12 13,-6 19,0 25,0 25,0 98,0 98,0 104,0 110,-6 110,-12 110,-12 110,-41 110,-41 110,-47 104,-53 98,-53\"/>\r\n",
       "<text text-anchor=\"middle\" x=\"61.5\" y=\"-37.8\" font-family=\"Helvetica,sans-Serif\" font-size=\"14.00\">gini = 0.0</text>\r\n",
       "<text text-anchor=\"middle\" x=\"61.5\" y=\"-22.8\" font-family=\"Helvetica,sans-Serif\" font-size=\"14.00\">samples = 1</text>\r\n",
       "<text text-anchor=\"middle\" x=\"61.5\" y=\"-7.8\" font-family=\"Helvetica,sans-Serif\" font-size=\"14.00\">value = [0, 1]</text>\r\n",
       "</g>\r\n",
       "<!-- 5&#45;&gt;6 -->\r\n",
       "<g id=\"edge6\" class=\"edge\">\r\n",
       "<title>5&#45;&gt;6</title>\r\n",
       "<path fill=\"none\" stroke=\"black\" d=\"M136.28,-88.95C124.7,-79.43 112.09,-69.07 100.58,-59.62\"/>\r\n",
       "<polygon fill=\"black\" stroke=\"black\" points=\"102.77,-56.88 92.82,-53.24 98.32,-62.29 102.77,-56.88\"/>\r\n",
       "</g>\r\n",
       "<!-- 7 -->\r\n",
       "<g id=\"node8\" class=\"node\">\r\n",
       "<title>7</title>\r\n",
       "<path fill=\"#e58139\" stroke=\"black\" d=\"M213,-53C213,-53 140,-53 140,-53 134,-53 128,-47 128,-41 128,-41 128,-12 128,-12 128,-6 134,0 140,0 140,0 213,0 213,0 219,0 225,-6 225,-12 225,-12 225,-41 225,-41 225,-47 219,-53 213,-53\"/>\r\n",
       "<text text-anchor=\"middle\" x=\"176.5\" y=\"-37.8\" font-family=\"Helvetica,sans-Serif\" font-size=\"14.00\">gini = 0.0</text>\r\n",
       "<text text-anchor=\"middle\" x=\"176.5\" y=\"-22.8\" font-family=\"Helvetica,sans-Serif\" font-size=\"14.00\">samples = 1</text>\r\n",
       "<text text-anchor=\"middle\" x=\"176.5\" y=\"-7.8\" font-family=\"Helvetica,sans-Serif\" font-size=\"14.00\">value = [1, 0]</text>\r\n",
       "</g>\r\n",
       "<!-- 5&#45;&gt;7 -->\r\n",
       "<g id=\"edge7\" class=\"edge\">\r\n",
       "<title>5&#45;&gt;7</title>\r\n",
       "<path fill=\"none\" stroke=\"black\" d=\"M176.5,-88.95C176.5,-80.72 176.5,-71.85 176.5,-63.48\"/>\r\n",
       "<polygon fill=\"black\" stroke=\"black\" points=\"180,-63.24 176.5,-53.24 173,-63.24 180,-63.24\"/>\r\n",
       "</g>\r\n",
       "<!-- 9 -->\r\n",
       "<g id=\"node10\" class=\"node\">\r\n",
       "<title>9</title>\r\n",
       "<path fill=\"#e99457\" stroke=\"black\" d=\"M413.5,-157C413.5,-157 315.5,-157 315.5,-157 309.5,-157 303.5,-151 303.5,-145 303.5,-145 303.5,-101 303.5,-101 303.5,-95 309.5,-89 315.5,-89 315.5,-89 413.5,-89 413.5,-89 419.5,-89 425.5,-95 425.5,-101 425.5,-101 425.5,-145 425.5,-145 425.5,-151 419.5,-157 413.5,-157\"/>\r\n",
       "<text text-anchor=\"middle\" x=\"364.5\" y=\"-141.8\" font-family=\"Helvetica,sans-Serif\" font-size=\"14.00\">X[10] &lt;= 0.77</text>\r\n",
       "<text text-anchor=\"middle\" x=\"364.5\" y=\"-126.8\" font-family=\"Helvetica,sans-Serif\" font-size=\"14.00\">gini = 0.23</text>\r\n",
       "<text text-anchor=\"middle\" x=\"364.5\" y=\"-111.8\" font-family=\"Helvetica,sans-Serif\" font-size=\"14.00\">samples = 141</text>\r\n",
       "<text text-anchor=\"middle\" x=\"364.5\" y=\"-96.8\" font-family=\"Helvetica,sans-Serif\" font-size=\"14.00\">value = [206, 31]</text>\r\n",
       "</g>\r\n",
       "<!-- 8&#45;&gt;9 -->\r\n",
       "<g id=\"edge9\" class=\"edge\">\r\n",
       "<title>8&#45;&gt;9</title>\r\n",
       "<path fill=\"none\" stroke=\"black\" d=\"M364.5,-192.88C364.5,-184.78 364.5,-175.98 364.5,-167.47\"/>\r\n",
       "<polygon fill=\"black\" stroke=\"black\" points=\"368,-167.3 364.5,-157.3 361,-167.3 368,-167.3\"/>\r\n",
       "</g>\r\n",
       "<!-- 12 -->\r\n",
       "<g id=\"node13\" class=\"node\">\r\n",
       "<title>12</title>\r\n",
       "<path fill=\"#5aade9\" stroke=\"black\" d=\"M584,-157C584,-157 511,-157 511,-157 505,-157 499,-151 499,-145 499,-145 499,-101 499,-101 499,-95 505,-89 511,-89 511,-89 584,-89 584,-89 590,-89 596,-95 596,-101 596,-101 596,-145 596,-145 596,-151 590,-157 584,-157\"/>\r\n",
       "<text text-anchor=\"middle\" x=\"547.5\" y=\"-141.8\" font-family=\"Helvetica,sans-Serif\" font-size=\"14.00\">X[1] &lt;= 0.09</text>\r\n",
       "<text text-anchor=\"middle\" x=\"547.5\" y=\"-126.8\" font-family=\"Helvetica,sans-Serif\" font-size=\"14.00\">gini = 0.24</text>\r\n",
       "<text text-anchor=\"middle\" x=\"547.5\" y=\"-111.8\" font-family=\"Helvetica,sans-Serif\" font-size=\"14.00\">samples = 7</text>\r\n",
       "<text text-anchor=\"middle\" x=\"547.5\" y=\"-96.8\" font-family=\"Helvetica,sans-Serif\" font-size=\"14.00\">value = [1, 6]</text>\r\n",
       "</g>\r\n",
       "<!-- 8&#45;&gt;12 -->\r\n",
       "<g id=\"edge12\" class=\"edge\">\r\n",
       "<title>8&#45;&gt;12</title>\r\n",
       "<path fill=\"none\" stroke=\"black\" d=\"M423.91,-192.88C445.1,-181.07 468.91,-167.8 489.94,-156.08\"/>\r\n",
       "<polygon fill=\"black\" stroke=\"black\" points=\"491.74,-159.09 498.77,-151.16 488.33,-152.97 491.74,-159.09\"/>\r\n",
       "</g>\r\n",
       "<!-- 10 -->\r\n",
       "<g id=\"node11\" class=\"node\">\r\n",
       "<title>10</title>\r\n",
       "<path fill=\"#e89152\" stroke=\"black\" d=\"M353.5,-53C353.5,-53 255.5,-53 255.5,-53 249.5,-53 243.5,-47 243.5,-41 243.5,-41 243.5,-12 243.5,-12 243.5,-6 249.5,0 255.5,0 255.5,0 353.5,0 353.5,0 359.5,0 365.5,-6 365.5,-12 365.5,-12 365.5,-41 365.5,-41 365.5,-47 359.5,-53 353.5,-53\"/>\r\n",
       "<text text-anchor=\"middle\" x=\"304.5\" y=\"-37.8\" font-family=\"Helvetica,sans-Serif\" font-size=\"14.00\">gini = 0.2</text>\r\n",
       "<text text-anchor=\"middle\" x=\"304.5\" y=\"-22.8\" font-family=\"Helvetica,sans-Serif\" font-size=\"14.00\">samples = 136</text>\r\n",
       "<text text-anchor=\"middle\" x=\"304.5\" y=\"-7.8\" font-family=\"Helvetica,sans-Serif\" font-size=\"14.00\">value = [203, 26]</text>\r\n",
       "</g>\r\n",
       "<!-- 9&#45;&gt;10 -->\r\n",
       "<g id=\"edge10\" class=\"edge\">\r\n",
       "<title>9&#45;&gt;10</title>\r\n",
       "<path fill=\"none\" stroke=\"black\" d=\"M343.51,-88.95C337.94,-80.17 331.91,-70.66 326.29,-61.82\"/>\r\n",
       "<polygon fill=\"black\" stroke=\"black\" points=\"329.16,-59.8 320.84,-53.24 323.25,-63.55 329.16,-59.8\"/>\r\n",
       "</g>\r\n",
       "<!-- 11 -->\r\n",
       "<g id=\"node12\" class=\"node\">\r\n",
       "<title>11</title>\r\n",
       "<path fill=\"#b0d8f5\" stroke=\"black\" d=\"M469,-53C469,-53 396,-53 396,-53 390,-53 384,-47 384,-41 384,-41 384,-12 384,-12 384,-6 390,0 396,0 396,0 469,0 469,0 475,0 481,-6 481,-12 481,-12 481,-41 481,-41 481,-47 475,-53 469,-53\"/>\r\n",
       "<text text-anchor=\"middle\" x=\"432.5\" y=\"-37.8\" font-family=\"Helvetica,sans-Serif\" font-size=\"14.00\">gini = 0.47</text>\r\n",
       "<text text-anchor=\"middle\" x=\"432.5\" y=\"-22.8\" font-family=\"Helvetica,sans-Serif\" font-size=\"14.00\">samples = 5</text>\r\n",
       "<text text-anchor=\"middle\" x=\"432.5\" y=\"-7.8\" font-family=\"Helvetica,sans-Serif\" font-size=\"14.00\">value = [3, 5]</text>\r\n",
       "</g>\r\n",
       "<!-- 9&#45;&gt;11 -->\r\n",
       "<g id=\"edge11\" class=\"edge\">\r\n",
       "<title>9&#45;&gt;11</title>\r\n",
       "<path fill=\"none\" stroke=\"black\" d=\"M388.28,-88.95C394.67,-80.07 401.58,-70.46 408.01,-61.54\"/>\r\n",
       "<polygon fill=\"black\" stroke=\"black\" points=\"410.98,-63.4 413.98,-53.24 405.3,-59.31 410.98,-63.4\"/>\r\n",
       "</g>\r\n",
       "<!-- 13 -->\r\n",
       "<g id=\"node14\" class=\"node\">\r\n",
       "<title>13</title>\r\n",
       "<path fill=\"#399de5\" stroke=\"black\" d=\"M584,-53C584,-53 511,-53 511,-53 505,-53 499,-47 499,-41 499,-41 499,-12 499,-12 499,-6 505,0 511,0 511,0 584,0 584,0 590,0 596,-6 596,-12 596,-12 596,-41 596,-41 596,-47 590,-53 584,-53\"/>\r\n",
       "<text text-anchor=\"middle\" x=\"547.5\" y=\"-37.8\" font-family=\"Helvetica,sans-Serif\" font-size=\"14.00\">gini = 0.0</text>\r\n",
       "<text text-anchor=\"middle\" x=\"547.5\" y=\"-22.8\" font-family=\"Helvetica,sans-Serif\" font-size=\"14.00\">samples = 5</text>\r\n",
       "<text text-anchor=\"middle\" x=\"547.5\" y=\"-7.8\" font-family=\"Helvetica,sans-Serif\" font-size=\"14.00\">value = [0, 5]</text>\r\n",
       "</g>\r\n",
       "<!-- 12&#45;&gt;13 -->\r\n",
       "<g id=\"edge13\" class=\"edge\">\r\n",
       "<title>12&#45;&gt;13</title>\r\n",
       "<path fill=\"none\" stroke=\"black\" d=\"M547.5,-88.95C547.5,-80.72 547.5,-71.85 547.5,-63.48\"/>\r\n",
       "<polygon fill=\"black\" stroke=\"black\" points=\"551,-63.24 547.5,-53.24 544,-63.24 551,-63.24\"/>\r\n",
       "</g>\r\n",
       "<!-- 14 -->\r\n",
       "<g id=\"node15\" class=\"node\">\r\n",
       "<title>14</title>\r\n",
       "<path fill=\"#ffffff\" stroke=\"black\" d=\"M699,-53C699,-53 626,-53 626,-53 620,-53 614,-47 614,-41 614,-41 614,-12 614,-12 614,-6 620,0 626,0 626,0 699,0 699,0 705,0 711,-6 711,-12 711,-12 711,-41 711,-41 711,-47 705,-53 699,-53\"/>\r\n",
       "<text text-anchor=\"middle\" x=\"662.5\" y=\"-37.8\" font-family=\"Helvetica,sans-Serif\" font-size=\"14.00\">gini = 0.5</text>\r\n",
       "<text text-anchor=\"middle\" x=\"662.5\" y=\"-22.8\" font-family=\"Helvetica,sans-Serif\" font-size=\"14.00\">samples = 2</text>\r\n",
       "<text text-anchor=\"middle\" x=\"662.5\" y=\"-7.8\" font-family=\"Helvetica,sans-Serif\" font-size=\"14.00\">value = [1, 1]</text>\r\n",
       "</g>\r\n",
       "<!-- 12&#45;&gt;14 -->\r\n",
       "<g id=\"edge14\" class=\"edge\">\r\n",
       "<title>12&#45;&gt;14</title>\r\n",
       "<path fill=\"none\" stroke=\"black\" d=\"M587.72,-88.95C599.3,-79.43 611.91,-69.07 623.42,-59.62\"/>\r\n",
       "<polygon fill=\"black\" stroke=\"black\" points=\"625.68,-62.29 631.18,-53.24 621.23,-56.88 625.68,-62.29\"/>\r\n",
       "</g>\r\n",
       "</g>\r\n",
       "</svg>\r\n"
      ],
      "text/plain": [
       "<graphviz.files.Source at 0x2a07bb05c70>"
      ]
     },
     "execution_count": 38,
     "metadata": {},
     "output_type": "execute_result"
    }
   ],
   "source": [
    "# randomforest 중 일부 트리 graph화\n",
    "estimator = RF.estimators_[5]\n",
    "\n",
    "dot_data = export_graphviz(estimator, \n",
    "                rounded = True, proportion = False, \n",
    "                precision = 2, filled = True)\n",
    "\n",
    "graph = graphviz.Source(dot_data)  \n",
    "graph"
   ]
  },
  {
   "cell_type": "markdown",
   "metadata": {},
   "source": [
    "### 3.5 성능평가"
   ]
  },
  {
   "cell_type": "markdown",
   "metadata": {},
   "source": [
    "#### Confusion Matrix"
   ]
  },
  {
   "cell_type": "code",
   "execution_count": 39,
   "metadata": {},
   "outputs": [],
   "source": [
    "from sklearn.metrics import confusion_matrix\n",
    "import matplotlib.pyplot as plt\n",
    "import seaborn as sns"
   ]
  },
  {
   "cell_type": "code",
   "execution_count": 40,
   "metadata": {},
   "outputs": [],
   "source": [
    "y_pred = RF.predict(X_test)"
   ]
  },
  {
   "cell_type": "code",
   "execution_count": 41,
   "metadata": {},
   "outputs": [
    {
     "data": {
      "image/png": "[encoded data removed]",
      "text/plain": [
       "<Figure size 360x360 with 2 Axes>"
      ]
     },
     "metadata": {
      "needs_background": "light"
     },
     "output_type": "display_data"
    }
   ],
   "source": [
    "con_mat = confusion_matrix(y_test, y_pred, labels=[0,1])\n",
    "\n",
    "group_names = [\"TN\",\"FP\",\"FN\",\"TP\"]\n",
    "group_counts = [\"{0:0.0f}\".format(value) for value in con_mat.flatten()]\n",
    "group_percentages = [\"{0:.2%}\".format(value) for value in con_mat.flatten()/np.sum(con_mat)]\n",
    "\n",
    "labels = [f\"{v1}\\n{v2}\\n{v3}\" for v1, v2, v3 in zip(group_names,group_counts,group_percentages)]\n",
    "labels = np.asarray(labels).reshape(2,2)\n",
    "fig, ax = plt.subplots(figsize=(5,5))\n",
    "\n",
    "sns.heatmap(con_mat, annot=labels, cmap = \"Blues\", fmt=\"\", linewidths=10, square=True)\n",
    "ax.set_ylim([0,2])\n",
    "ax.set_title(\"Confusion Matrix\")\n",
    "plt.ylabel('True label')\n",
    "plt.xlabel('Predicted label' + \"\")\n",
    "plt.show()"
   ]
  },
  {
   "cell_type": "markdown",
   "metadata": {},
   "source": [
    "#### AUROC"
   ]
  },
  {
   "cell_type": "code",
   "execution_count": 42,
   "metadata": {},
   "outputs": [],
   "source": [
    "from sklearn.metrics import roc_curve, auc\n",
    "%matplotlib inline"
   ]
  },
  {
   "cell_type": "code",
   "execution_count": 43,
   "metadata": {
    "scrolled": false
   },
   "outputs": [
    {
     "data": {
      "image/png": "[encoded data removed]",
      "text/plain": [
       "<Figure size 432x288 with 1 Axes>"
      ]
     },
     "metadata": {
      "needs_background": "light"
     },
     "output_type": "display_data"
    }
   ],
   "source": [
    "fpr, tpr, thresholds = roc_curve(y_test, RF.predict_proba(X_test)[:,1]) \n",
    "\n",
    "plt.plot(fpr, tpr)\n",
    "#plt.fill_between(fpr, tpr)\n",
    "plt.plot([0, 1], [0, 1], '--')\n",
    "plt.xlabel('1 - Specificity(TNR)')\n",
    "#plt.xlabel('거짓 양성 비율(FPR)')\n",
    "plt.ylabel('Sensitivity(TPR)')\n",
    "\n",
    "auc_s = auc(fpr, tpr) # auc(score)\n",
    "plt.title('ROC curve (AUROC = {})'.format(auc_s))\n",
    "plt.show()"
   ]
  },
  {
   "cell_type": "markdown",
   "metadata": {},
   "source": [
    "#### 각 성능 지표"
   ]
  },
  {
   "cell_type": "code",
   "execution_count": 44,
   "metadata": {},
   "outputs": [],
   "source": [
    "from sklearn.metrics import f1_score, accuracy_score, recall_score, precision_score\n",
    "from sklearn.metrics import classification_report"
   ]
  },
  {
   "cell_type": "code",
   "execution_count": 45,
   "metadata": {},
   "outputs": [
    {
     "name": "stdout",
     "output_type": "stream",
     "text": [
      "              precision    recall  f1-score   support\n",
      "\n",
      "           0       0.83      0.93      0.87        41\n",
      "           1       0.88      0.73      0.80        30\n",
      "\n",
      "    accuracy                           0.85        71\n",
      "   macro avg       0.85      0.83      0.84        71\n",
      "weighted avg       0.85      0.85      0.84        71\n",
      "\n"
     ]
    }
   ],
   "source": [
    "print(classification_report(y_test, y_pred))"
   ]
  },
  {
   "cell_type": "code",
   "execution_count": 46,
   "metadata": {
    "scrolled": false
   },
   "outputs": [
    {
     "name": "stdout",
     "output_type": "stream",
     "text": [
      "Accuracy: 0.8450704225352113\n",
      "Precision: 0.88\n",
      "Recall: 0.7333333333333333\n",
      "F1-score: 0.8\n"
     ]
    }
   ],
   "source": [
    "print(f'Accuracy: {accuracy_score(y_test, y_pred)}')\n",
    "print(f\"Precision: {precision_score(y_test, y_pred, average='binary')}\")\n",
    "print(f\"Recall: {recall_score(y_test, y_pred, average='binary')}\")\n",
    "print(f\"F1-score: {f1_score(y_test, y_pred, average='binary')}\")"
   ]
  },
  {
   "cell_type": "markdown",
   "metadata": {},
   "source": [
    "## 4. Gradient Boosting"
   ]
  },
  {
   "cell_type": "markdown",
   "metadata": {},
   "source": [
    "### 4.1 train test 분리"
   ]
  },
  {
   "cell_type": "code",
   "execution_count": 108,
   "metadata": {},
   "outputs": [],
   "source": [
    "from sklearn.model_selection import train_test_split"
   ]
  },
  {
   "cell_type": "code",
   "execution_count": 109,
   "metadata": {
    "scrolled": true
   },
   "outputs": [
    {
     "data": {
      "text/plain": [
       "6      0\n",
       "52     0\n",
       "114    1\n",
       "45     1\n",
       "106    1\n",
       "Name: target, dtype: int64"
      ]
     },
     "execution_count": 109,
     "metadata": {},
     "output_type": "execute_result"
    }
   ],
   "source": [
    "X, y = data.iloc[:,:-1], data.iloc[:,-1]\n",
    "\n",
    "X_train, X_test, y_train, y_test = train_test_split(X, y, test_size = 0.2, random_state = 0)\n",
    "y_test.head()"
   ]
  },
  {
   "cell_type": "markdown",
   "metadata": {},
   "source": [
    "### 4.2 modeling"
   ]
  },
  {
   "cell_type": "code",
   "execution_count": 110,
   "metadata": {},
   "outputs": [],
   "source": [
    "from sklearn.ensemble import GradientBoostingClassifier"
   ]
  },
  {
   "cell_type": "code",
   "execution_count": 111,
   "metadata": {},
   "outputs": [
    {
     "data": {
      "text/plain": [
       "GradientBoostingClassifier(ccp_alpha=0.0, criterion='friedman_mse', init=None,\n",
       "                           learning_rate=0.1, loss='deviance', max_depth=3,\n",
       "                           max_features=None, max_leaf_nodes=None,\n",
       "                           min_impurity_decrease=0.0, min_impurity_split=None,\n",
       "                           min_samples_leaf=1, min_samples_split=2,\n",
       "                           min_weight_fraction_leaf=0.0, n_estimators=100,\n",
       "                           n_iter_no_change=None, presort='deprecated',\n",
       "                           random_state=42, subsample=1.0, tol=0.0001,\n",
       "                           validation_fraction=0.1, verbose=0,\n",
       "                           warm_start=False)"
      ]
     },
     "execution_count": 111,
     "metadata": {},
     "output_type": "execute_result"
    }
   ],
   "source": [
    "GB = GradientBoostingClassifier(n_estimators=100, random_state=42)\n",
    "\n",
    "GB.fit(X_train, y_train)"
   ]
  },
  {
   "cell_type": "code",
   "execution_count": 112,
   "metadata": {},
   "outputs": [],
   "source": [
    "y_pred = GB.predict(X_train)"
   ]
  },
  {
   "cell_type": "code",
   "execution_count": 113,
   "metadata": {
    "scrolled": true
   },
   "outputs": [
    {
     "name": "stdout",
     "output_type": "stream",
     "text": [
      "100\n",
      "[1.20028912 1.13289437 1.07279737 1.02325668 0.98181885 0.94381579\n",
      " 0.89271484 0.86312661 0.8358784  0.8099776  0.77543723 0.7455536\n",
      " 0.7263883  0.70859992 0.68456031 0.65190288 0.6352255  0.60976556\n",
      " 0.59036984 0.56844391 0.55019472 0.52315727 0.50203495 0.48356449\n",
      " 0.46389768 0.44542314 0.42931772 0.42087365 0.40530715 0.39227018\n",
      " 0.37991966 0.37190415 0.35997027 0.35322635 0.34229947 0.32783142\n",
      " 0.32093805 0.31588445 0.30584234 0.29461575 0.28993696 0.28438409\n",
      " 0.27654321 0.27255081 0.26286179 0.25344608 0.24668439 0.23647892\n",
      " 0.23005778 0.22707979 0.21866879 0.21491402 0.20615963 0.20264204\n",
      " 0.19939618 0.19355878 0.18899116 0.18581715 0.18109439 0.17669122\n",
      " 0.1732497  0.16790417 0.16393395 0.15940375 0.15435931 0.15253887\n",
      " 0.15059544 0.14840293 0.14411817 0.14196569 0.13990071 0.13670452\n",
      " 0.13231755 0.13020835 0.12666573 0.1238417  0.12132401 0.11890099\n",
      " 0.11457634 0.11284076 0.10994463 0.10709121 0.10473041 0.10238293\n",
      " 0.099675   0.09830316 0.09659842 0.09552722 0.09392875 0.09201784\n",
      " 0.08960123 0.0875355  0.08579427 0.08391074 0.08169119 0.07963725\n",
      " 0.07857083 0.07613765 0.07467347 0.07323613]\n"
     ]
    },
    {
     "data": {
      "text/plain": [
       "[<matplotlib.lines.Line2D at 0x2a07bd80820>]"
      ]
     },
     "execution_count": 113,
     "metadata": {},
     "output_type": "execute_result"
    },
    {
     "data": {
      "image/png": "[encoded data removed]",
      "text/plain": [
       "<Figure size 432x288 with 1 Axes>"
      ]
     },
     "metadata": {
      "needs_background": "light"
     },
     "output_type": "display_data"
    }
   ],
   "source": [
    "# staged_score 새로운 data에 대해서 누적한 값\n",
    "# 그 누적값을 학습한 값들을 기록함 \n",
    "print(len(GB.train_score_))\n",
    "print(GB.train_score_)\n",
    "\n",
    "# residual이니깐 계속 값이 떨어지는 것임\n",
    "plt.plot(GB.train_score_)"
   ]
  },
  {
   "cell_type": "markdown",
   "metadata": {},
   "source": [
    "#### Confusion Matrix"
   ]
  },
  {
   "cell_type": "code",
   "execution_count": 114,
   "metadata": {},
   "outputs": [],
   "source": [
    "from sklearn.metrics import confusion_matrix\n",
    "import matplotlib.pyplot as plt\n",
    "import seaborn as sns"
   ]
  },
  {
   "cell_type": "code",
   "execution_count": 115,
   "metadata": {},
   "outputs": [],
   "source": [
    "y_pred = GB.predict(X_test)"
   ]
  },
  {
   "cell_type": "code",
   "execution_count": 116,
   "metadata": {},
   "outputs": [
    {
     "data": {
      "image/png": "[encoded data removed]",
      "text/plain": [
       "<Figure size 360x360 with 2 Axes>"
      ]
     },
     "metadata": {
      "needs_background": "light"
     },
     "output_type": "display_data"
    }
   ],
   "source": [
    "con_mat = confusion_matrix(y_test, y_pred, labels=[0,1])\n",
    "\n",
    "group_names = [\"TN\",\"FP\",\"FN\",\"TP\"]\n",
    "group_counts = [\"{0:0.0f}\".format(value) for value in con_mat.flatten()]\n",
    "group_percentages = [\"{0:.2%}\".format(value) for value in con_mat.flatten()/np.sum(con_mat)]\n",
    "\n",
    "labels = [f\"{v1}\\n{v2}\\n{v3}\" for v1, v2, v3 in zip(group_names,group_counts,group_percentages)]\n",
    "labels = np.asarray(labels).reshape(2,2)\n",
    "fig, ax = plt.subplots(figsize=(5,5))\n",
    "\n",
    "sns.heatmap(con_mat, annot=labels, cmap = \"Blues\", fmt=\"\", linewidths=10, square=True)\n",
    "ax.set_ylim([0,2])\n",
    "ax.set_title(\"Confusion Matrix\")\n",
    "plt.ylabel('True label')\n",
    "plt.xlabel('Predicted label' + \"\")\n",
    "plt.show()"
   ]
  },
  {
   "cell_type": "markdown",
   "metadata": {},
   "source": [
    "#### AUROC"
   ]
  },
  {
   "cell_type": "code",
   "execution_count": 117,
   "metadata": {},
   "outputs": [],
   "source": [
    "from sklearn.metrics import roc_curve, auc\n",
    "%matplotlib inline"
   ]
  },
  {
   "cell_type": "code",
   "execution_count": 118,
   "metadata": {
    "scrolled": false
   },
   "outputs": [
    {
     "data": {
      "image/png": "[encoded data removed]",
      "text/plain": [
       "<Figure size 432x288 with 1 Axes>"
      ]
     },
     "metadata": {
      "needs_background": "light"
     },
     "output_type": "display_data"
    }
   ],
   "source": [
    "fpr, tpr, thresholds = roc_curve(y_test, GB.decision_function(X_test)) \n",
    "\n",
    "plt.plot(fpr, tpr)\n",
    "#plt.fill_between(fpr, tpr)\n",
    "plt.plot([0, 1], [0, 1], '--')\n",
    "plt.xlabel('1 - Specificity(TNR)')\n",
    "#plt.xlabel('거짓 양성 비율(FPR)')\n",
    "plt.ylabel('Sensitivity(TPR)')\n",
    "\n",
    "auc_s = auc(fpr, tpr) # auc(score)\n",
    "plt.title('ROC curve (AUROC = {})'.format(auc_s))\n",
    "plt.show()"
   ]
  },
  {
   "cell_type": "markdown",
   "metadata": {},
   "source": [
    "#### 각 성능 지표"
   ]
  },
  {
   "cell_type": "code",
   "execution_count": 119,
   "metadata": {},
   "outputs": [],
   "source": [
    "from sklearn.metrics import f1_score, accuracy_score, recall_score, precision_score\n",
    "from sklearn.metrics import classification_report"
   ]
  },
  {
   "cell_type": "code",
   "execution_count": 120,
   "metadata": {},
   "outputs": [
    {
     "name": "stdout",
     "output_type": "stream",
     "text": [
      "              precision    recall  f1-score   support\n",
      "\n",
      "           0       0.89      0.98      0.93        41\n",
      "           1       0.96      0.83      0.89        30\n",
      "\n",
      "    accuracy                           0.92        71\n",
      "   macro avg       0.93      0.90      0.91        71\n",
      "weighted avg       0.92      0.92      0.91        71\n",
      "\n"
     ]
    }
   ],
   "source": [
    "print(classification_report(y_test, y_pred))"
   ]
  },
  {
   "cell_type": "code",
   "execution_count": 121,
   "metadata": {
    "scrolled": false
   },
   "outputs": [
    {
     "name": "stdout",
     "output_type": "stream",
     "text": [
      "Accuracy: 0.9154929577464789\n",
      "Precision: 0.9615384615384616\n",
      "Recall: 0.8333333333333334\n",
      "F1-score: 0.8928571428571429\n"
     ]
    }
   ],
   "source": [
    "print(f'Accuracy: {accuracy_score(y_test, y_pred)}')\n",
    "print(f\"Precision: {precision_score(y_test, y_pred, average='binary')}\")\n",
    "print(f\"Recall: {recall_score(y_test, y_pred, average='binary')}\")\n",
    "print(f\"F1-score: {f1_score(y_test, y_pred, average='binary')}\")"
   ]
  },
  {
   "cell_type": "markdown",
   "metadata": {},
   "source": [
    "#### GridSearchCV"
   ]
  },
  {
   "cell_type": "code",
   "execution_count": 122,
   "metadata": {},
   "outputs": [],
   "source": [
    "from sklearn.model_selection import GridSearchCV"
   ]
  },
  {
   "cell_type": "code",
   "execution_count": 123,
   "metadata": {
    "scrolled": true
   },
   "outputs": [
    {
     "name": "stdout",
     "output_type": "stream",
     "text": [
      "Fitting 5 folds for each of 1800 candidates, totalling 9000 fits\n"
     ]
    },
    {
     "name": "stderr",
     "output_type": "stream",
     "text": [
      "[Parallel(n_jobs=-1)]: Using backend LokyBackend with 8 concurrent workers.\n",
      "[Parallel(n_jobs=-1)]: Done  34 tasks      | elapsed:   18.7s\n",
      "[Parallel(n_jobs=-1)]: Done 184 tasks      | elapsed:   34.9s\n",
      "[Parallel(n_jobs=-1)]: Done 434 tasks      | elapsed:   52.1s\n",
      "[Parallel(n_jobs=-1)]: Done 784 tasks      | elapsed:  1.3min\n",
      "[Parallel(n_jobs=-1)]: Done 1234 tasks      | elapsed:  1.6min\n",
      "[Parallel(n_jobs=-1)]: Done 1784 tasks      | elapsed:  2.2min\n",
      "[Parallel(n_jobs=-1)]: Done 2434 tasks      | elapsed:  3.1min\n",
      "[Parallel(n_jobs=-1)]: Done 3280 tasks      | elapsed:  3.8min\n",
      "[Parallel(n_jobs=-1)]: Done 4130 tasks      | elapsed:  4.6min\n",
      "[Parallel(n_jobs=-1)]: Done 5080 tasks      | elapsed:  5.2min\n",
      "[Parallel(n_jobs=-1)]: Done 6130 tasks      | elapsed:  5.9min\n",
      "[Parallel(n_jobs=-1)]: Done 7432 tasks      | elapsed:  6.6min\n",
      "[Parallel(n_jobs=-1)]: Done 9000 out of 9000 | elapsed:  7.0min finished\n"
     ]
    },
    {
     "data": {
      "text/plain": [
       "GridSearchCV(cv=5, error_score=nan,\n",
       "             estimator=GradientBoostingClassifier(ccp_alpha=0.0,\n",
       "                                                  criterion='friedman_mse',\n",
       "                                                  init=None, learning_rate=0.1,\n",
       "                                                  loss='deviance', max_depth=3,\n",
       "                                                  max_features=None,\n",
       "                                                  max_leaf_nodes=None,\n",
       "                                                  min_impurity_decrease=0.0,\n",
       "                                                  min_impurity_split=None,\n",
       "                                                  min_samples_leaf=1,\n",
       "                                                  min_samples_split=2,\n",
       "                                                  min_weight_fraction_leaf=0.0,\n",
       "                                                  n_estimators=100,\n",
       "                                                  n_iter_no_c...\n",
       "                                                  subsample=1.0, tol=0.0001,\n",
       "                                                  validation_fraction=0.1,\n",
       "                                                  verbose=0, warm_start=False),\n",
       "             iid='deprecated', n_jobs=-1,\n",
       "             param_grid=[{'learning_rate': array([0.01, 0.02, 0.03, 0.04, 0.05, 0.06, 0.07, 0.08, 0.09, 0.1 ]),\n",
       "                          'max_depth': range(3, 5),\n",
       "                          'max_features': range(1, 10),\n",
       "                          'n_estimators': range(1, 500, 50)}],\n",
       "             pre_dispatch='2*n_jobs', refit=True, return_train_score=False,\n",
       "             scoring='accuracy', verbose=1)"
      ]
     },
     "execution_count": 123,
     "metadata": {},
     "output_type": "execute_result"
    }
   ],
   "source": [
    "param_grid = [{'n_estimators': range(1, 500, 50), 'max_features': range(1, 10),\n",
    "              'max_depth': range(3, 5), 'learning_rate': np.linspace(0.01, 0.1, 10)}]\n",
    "\n",
    "gs = GridSearchCV(estimator = GB, param_grid = param_grid, scoring='accuracy', cv=5, verbose=1, n_jobs=-1)\n",
    "\n",
    "gs.fit(X_train, y_train)"
   ]
  },
  {
   "cell_type": "code",
   "execution_count": 124,
   "metadata": {},
   "outputs": [
    {
     "data": {
      "text/plain": [
       "GradientBoostingClassifier(ccp_alpha=0.0, criterion='friedman_mse', init=None,\n",
       "                           learning_rate=0.09000000000000001, loss='deviance',\n",
       "                           max_depth=3, max_features=4, max_leaf_nodes=None,\n",
       "                           min_impurity_decrease=0.0, min_impurity_split=None,\n",
       "                           min_samples_leaf=1, min_samples_split=2,\n",
       "                           min_weight_fraction_leaf=0.0, n_estimators=301,\n",
       "                           n_iter_no_change=None, presort='deprecated',\n",
       "                           random_state=42, subsample=1.0, tol=0.0001,\n",
       "                           validation_fraction=0.1, verbose=0,\n",
       "                           warm_start=False)"
      ]
     },
     "execution_count": 124,
     "metadata": {},
     "output_type": "execute_result"
    }
   ],
   "source": [
    "# 모든 모델 중 가장 성능이 좋은 것을 뽑는 best estimator # n_estimators가 제일 높은 모델이 선정되는 것이 대부분\n",
    "best_gsb_estimator = gs.best_estimator_\n",
    "best_gsb_estimator"
   ]
  },
  {
   "cell_type": "code",
   "execution_count": 125,
   "metadata": {},
   "outputs": [
    {
     "name": "stdout",
     "output_type": "stream",
     "text": [
      "Best Estimator Parameters\n",
      "---------------------------\n",
      "n_estimators: 301\n",
      "max_depth: 3\n",
      "Learning Rate: 0.090\n",
      "min_samples_leaf: 1\n",
      "max_features: 4\n",
      "---------------------------\n"
     ]
    }
   ],
   "source": [
    "print(\"Best Estimator Parameters\" )\n",
    "print(\"---------------------------\" )\n",
    "print(\"n_estimators: %d\" %best_gsb_estimator.n_estimators )\n",
    "print(\"max_depth: %d\" %best_gsb_estimator.max_depth )\n",
    "print(\"Learning Rate: %.3f\" %best_gsb_estimator.learning_rate )\n",
    "print(\"min_samples_leaf: %d\" %best_gsb_estimator.min_samples_leaf )\n",
    "print(\"max_features: %d\" %best_gsb_estimator.max_features) \n",
    "print(\"---------------------------\" )"
   ]
  },
  {
   "cell_type": "code",
   "execution_count": 126,
   "metadata": {},
   "outputs": [
    {
     "data": {
      "text/plain": [
       "array([0.10230616, 0.06938593, 0.05060581, 0.02847974, 0.07068816,\n",
       "       0.13972661, 0.05279448, 0.09019211, 0.01941845, 0.06205075,\n",
       "       0.11408888, 0.01229265, 0.12244397, 0.01752383, 0.02194292,\n",
       "       0.02605956])"
      ]
     },
     "execution_count": 126,
     "metadata": {},
     "output_type": "execute_result"
    }
   ],
   "source": [
    "best_feature_importances = best_gsb_estimator.feature_importances_\n",
    "best_feature_importances"
   ]
  },
  {
   "cell_type": "code",
   "execution_count": 127,
   "metadata": {},
   "outputs": [
    {
     "data": {
      "image/png": "[encoded data removed]",
      "text/plain": [
       "<Figure size 720x720 with 1 Axes>"
      ]
     },
     "metadata": {
      "needs_background": "light"
     },
     "output_type": "display_data"
    }
   ],
   "source": [
    "# feature_importances_: feature별 중요도를 수치로 표현 (총합:1)\n",
    "## 결정에 각 특성이 얼마나 중요한지 평가하는 것\n",
    "## 피쳐마다 비슷하게 생성되었기 때문에 수치가 비슷하게 생성된 것을 알 수 있음\n",
    "\n",
    "import seaborn as sns\n",
    "\n",
    "ft_importances = pd.Series(best_feature_importances)\n",
    "\n",
    "plt.figure(figsize=(10,10))\n",
    "n_features = X.shape[1]\n",
    "idx = np.arange(n_features)\n",
    "plt.xticks(np.arange(n_features))\n",
    "plt.xticks(idx, col_names[:])\n",
    "plt.xlim(-1, n_features)\n",
    "\n",
    "plt.title(\"best_model_feature_importances\")\n",
    "plt.xlabel(\"feature\")\n",
    "plt.ylabel(\"feature_importances\")\n",
    "sns.barplot(col_names[:], y = ft_importances)\n",
    "plt.tick_params('x', rotation = 90)\n",
    "plt.show()"
   ]
  },
  {
   "cell_type": "code",
   "execution_count": 128,
   "metadata": {},
   "outputs": [
    {
     "data": {
      "text/plain": [
       "{'learning_rate': 0.09000000000000001,\n",
       " 'max_depth': 3,\n",
       " 'max_features': 4,\n",
       " 'n_estimators': 301}"
      ]
     },
     "execution_count": 128,
     "metadata": {},
     "output_type": "execute_result"
    }
   ],
   "source": [
    "params = gs.best_params_\n",
    "params"
   ]
  },
  {
   "cell_type": "code",
   "execution_count": 129,
   "metadata": {},
   "outputs": [
    {
     "data": {
      "image/png": "[encoded data removed]",
      "text/plain": [
       "<Figure size 432x432 with 1 Axes>"
      ]
     },
     "metadata": {
      "needs_background": "light"
     },
     "output_type": "display_data"
    }
   ],
   "source": [
    "# train, test deviance graph\n",
    "test_score = np.zeros((params['n_estimators'],), dtype=np.float64)\n",
    "for i, y_pred in enumerate(best_gsb_estimator.staged_predict(X_test)):\n",
    "    test_score[i] = best_gsb_estimator.loss_(y_test, y_pred)\n",
    "\n",
    "fig = plt.figure(figsize=(6, 6))\n",
    "plt.subplot(1, 1, 1)\n",
    "plt.title('Deviance')\n",
    "plt.plot(np.arange(params['n_estimators']) + 1, best_gsb_estimator.train_score_, 'b-',\n",
    "         label='Training Set Deviance')\n",
    "plt.plot(np.arange(params['n_estimators']) + 1, test_score, 'r-',\n",
    "         label='Test Set Deviance')\n",
    "plt.legend(loc='upper right')\n",
    "plt.xlabel('Boosting Iterations')\n",
    "plt.ylabel('Deviance')\n",
    "fig.tight_layout()\n",
    "plt.show()"
   ]
  },
  {
   "cell_type": "code",
   "execution_count": 130,
   "metadata": {},
   "outputs": [
    {
     "name": "stdout",
     "output_type": "stream",
     "text": [
      "Train Accuracy: 1.0000\n",
      "Test Accuracy: 0.9437\n"
     ]
    }
   ],
   "source": [
    "print(\"Train Accuracy: %.4f\" %best_gsb_estimator.score(X_train, y_train))\n",
    "print(\"Test Accuracy: %.4f\" %best_gsb_estimator.score(X_test, y_test))"
   ]
  },
  {
   "cell_type": "code",
   "execution_count": 131,
   "metadata": {},
   "outputs": [
    {
     "data": {
      "text/plain": [
       "GradientBoostingClassifier(ccp_alpha=0.0, criterion='friedman_mse', init=None,\n",
       "                           learning_rate=0.09000000000000001, loss='deviance',\n",
       "                           max_depth=3, max_features=4, max_leaf_nodes=None,\n",
       "                           min_impurity_decrease=0.0, min_impurity_split=None,\n",
       "                           min_samples_leaf=1, min_samples_split=2,\n",
       "                           min_weight_fraction_leaf=0.0, n_estimators=301,\n",
       "                           n_iter_no_change=None, presort='deprecated',\n",
       "                           random_state=42, subsample=1.0, tol=0.0001,\n",
       "                           validation_fraction=0.1, verbose=0,\n",
       "                           warm_start=False)"
      ]
     },
     "execution_count": 131,
     "metadata": {},
     "output_type": "execute_result"
    }
   ],
   "source": [
    "best_gsb_estimator"
   ]
  },
  {
   "cell_type": "code",
   "execution_count": 132,
   "metadata": {
    "scrolled": false
   },
   "outputs": [
    {
     "data": {
      "image/svg+xml": [
       "<?xml version=\"1.0\" encoding=\"UTF-8\" standalone=\"no\"?>\r\n",
       "<!DOCTYPE svg PUBLIC \"-//W3C//DTD SVG 1.1//EN\"\r\n",
       " \"http://www.w3.org/Graphics/SVG/1.1/DTD/svg11.dtd\">\r\n",
       "<!-- Generated by graphviz version 2.47.2 (20210527.0053)\r\n",
       " -->\r\n",
       "<!-- Title: Tree Pages: 1 -->\r\n",
       "<svg width=\"1334pt\" height=\"361pt\"\r\n",
       " viewBox=\"0.00 0.00 1334.00 361.00\" xmlns=\"http://www.w3.org/2000/svg\" xmlns:xlink=\"http://www.w3.org/1999/xlink\">\r\n",
       "<g id=\"graph0\" class=\"graph\" transform=\"scale(1 1) rotate(0) translate(4 357)\">\r\n",
       "<title>Tree</title>\r\n",
       "<polygon fill=\"white\" stroke=\"transparent\" points=\"-4,4 -4,-357 1330,-357 1330,4 -4,4\"/>\r\n",
       "<!-- 0 -->\r\n",
       "<g id=\"node1\" class=\"node\">\r\n",
       "<title>0</title>\r\n",
       "<path fill=\"#fae9dd\" stroke=\"black\" d=\"M723,-353C723,-353 595,-353 595,-353 589,-353 583,-347 583,-341 583,-341 583,-301 583,-301 583,-295 589,-289 595,-289 595,-289 723,-289 723,-289 729,-289 735,-295 735,-301 735,-301 735,-341 735,-341 735,-347 729,-353 723,-353\"/>\r\n",
       "<text text-anchor=\"start\" x=\"630.5\" y=\"-338.8\" font-family=\"Helvetica,sans-Serif\" font-size=\"14.00\">X</text>\r\n",
       "<text text-anchor=\"start\" x=\"640.5\" y=\"-338.8\" font-family=\"Helvetica,sans-Serif\" baseline-shift=\"sub\" font-size=\"14.00\">2</text>\r\n",
       "<text text-anchor=\"start\" x=\"647.5\" y=\"-338.8\" font-family=\"Helvetica,sans-Serif\" font-size=\"14.00\"> ≤ &#45;0.4</text>\r\n",
       "<text text-anchor=\"start\" x=\"591\" y=\"-324.8\" font-family=\"Helvetica,sans-Serif\" font-size=\"14.00\">friedman_mse = 0.11</text>\r\n",
       "<text text-anchor=\"start\" x=\"611.5\" y=\"-310.8\" font-family=\"Helvetica,sans-Serif\" font-size=\"14.00\">samples = 280</text>\r\n",
       "<text text-anchor=\"start\" x=\"622\" y=\"-296.8\" font-family=\"Helvetica,sans-Serif\" font-size=\"14.00\">value = &#45;0.0</text>\r\n",
       "</g>\r\n",
       "<!-- 1 -->\r\n",
       "<g id=\"node2\" class=\"node\">\r\n",
       "<title>1</title>\r\n",
       "<path fill=\"#f9e2d2\" stroke=\"black\" d=\"M555,-253C555,-253 427,-253 427,-253 421,-253 415,-247 415,-241 415,-241 415,-201 415,-201 415,-195 421,-189 427,-189 427,-189 555,-189 555,-189 561,-189 567,-195 567,-201 567,-201 567,-241 567,-241 567,-247 561,-253 555,-253\"/>\r\n",
       "<text text-anchor=\"start\" x=\"458\" y=\"-238.8\" font-family=\"Helvetica,sans-Serif\" font-size=\"14.00\">X</text>\r\n",
       "<text text-anchor=\"start\" x=\"468\" y=\"-238.8\" font-family=\"Helvetica,sans-Serif\" baseline-shift=\"sub\" font-size=\"14.00\">8</text>\r\n",
       "<text text-anchor=\"start\" x=\"475\" y=\"-238.8\" font-family=\"Helvetica,sans-Serif\" font-size=\"14.00\"> ≤ &#45;0.03</text>\r\n",
       "<text text-anchor=\"start\" x=\"423\" y=\"-224.8\" font-family=\"Helvetica,sans-Serif\" font-size=\"14.00\">friedman_mse = 0.06</text>\r\n",
       "<text text-anchor=\"start\" x=\"447.5\" y=\"-210.8\" font-family=\"Helvetica,sans-Serif\" font-size=\"14.00\">samples = 34</text>\r\n",
       "<text text-anchor=\"start\" x=\"452\" y=\"-196.8\" font-family=\"Helvetica,sans-Serif\" font-size=\"14.00\">value = 0.21</text>\r\n",
       "</g>\r\n",
       "<!-- 0&#45;&gt;1 -->\r\n",
       "<g id=\"edge1\" class=\"edge\">\r\n",
       "<title>0&#45;&gt;1</title>\r\n",
       "<path fill=\"none\" stroke=\"black\" d=\"M605.84,-288.99C589.14,-279.25 570.56,-268.41 553.28,-258.33\"/>\r\n",
       "<polygon fill=\"black\" stroke=\"black\" points=\"554.79,-255.16 544.39,-253.14 551.26,-261.2 554.79,-255.16\"/>\r\n",
       "<text text-anchor=\"middle\" x=\"550.75\" y=\"-273.62\" font-family=\"Helvetica,sans-Serif\" font-size=\"14.00\">True</text>\r\n",
       "</g>\r\n",
       "<!-- 8 -->\r\n",
       "<g id=\"node9\" class=\"node\">\r\n",
       "<title>8</title>\r\n",
       "<path fill=\"#fbeade\" stroke=\"black\" d=\"M891,-253C891,-253 763,-253 763,-253 757,-253 751,-247 751,-241 751,-241 751,-201 751,-201 751,-195 757,-189 763,-189 763,-189 891,-189 891,-189 897,-189 903,-195 903,-201 903,-201 903,-241 903,-241 903,-247 897,-253 891,-253\"/>\r\n",
       "<text text-anchor=\"start\" x=\"800.5\" y=\"-238.8\" font-family=\"Helvetica,sans-Serif\" font-size=\"14.00\">X</text>\r\n",
       "<text text-anchor=\"start\" x=\"810.5\" y=\"-238.8\" font-family=\"Helvetica,sans-Serif\" baseline-shift=\"sub\" font-size=\"14.00\">4</text>\r\n",
       "<text text-anchor=\"start\" x=\"817.5\" y=\"-238.8\" font-family=\"Helvetica,sans-Serif\" font-size=\"14.00\"> ≤ 0.0</text>\r\n",
       "<text text-anchor=\"start\" x=\"759\" y=\"-224.8\" font-family=\"Helvetica,sans-Serif\" font-size=\"14.00\">friedman_mse = 0.11</text>\r\n",
       "<text text-anchor=\"start\" x=\"779.5\" y=\"-210.8\" font-family=\"Helvetica,sans-Serif\" font-size=\"14.00\">samples = 246</text>\r\n",
       "<text text-anchor=\"start\" x=\"786\" y=\"-196.8\" font-family=\"Helvetica,sans-Serif\" font-size=\"14.00\">value = &#45;0.03</text>\r\n",
       "</g>\r\n",
       "<!-- 0&#45;&gt;8 -->\r\n",
       "<g id=\"edge8\" class=\"edge\">\r\n",
       "<title>0&#45;&gt;8</title>\r\n",
       "<path fill=\"none\" stroke=\"black\" d=\"M712.16,-288.99C728.86,-279.25 747.44,-268.41 764.72,-258.33\"/>\r\n",
       "<polygon fill=\"black\" stroke=\"black\" points=\"766.74,-261.2 773.61,-253.14 763.21,-255.16 766.74,-261.2\"/>\r\n",
       "<text text-anchor=\"middle\" x=\"767.25\" y=\"-273.62\" font-family=\"Helvetica,sans-Serif\" font-size=\"14.00\">False</text>\r\n",
       "</g>\r\n",
       "<!-- 2 -->\r\n",
       "<g id=\"node3\" class=\"node\">\r\n",
       "<title>2</title>\r\n",
       "<path fill=\"#f9e4d4\" stroke=\"black\" d=\"M302,-153C302,-153 174,-153 174,-153 168,-153 162,-147 162,-141 162,-141 162,-101 162,-101 162,-95 168,-89 174,-89 174,-89 302,-89 302,-89 308,-89 314,-95 314,-101 314,-101 314,-141 314,-141 314,-147 308,-153 302,-153\"/>\r\n",
       "<text text-anchor=\"start\" x=\"205\" y=\"-138.8\" font-family=\"Helvetica,sans-Serif\" font-size=\"14.00\">X</text>\r\n",
       "<text text-anchor=\"start\" x=\"215\" y=\"-138.8\" font-family=\"Helvetica,sans-Serif\" baseline-shift=\"sub\" font-size=\"14.00\">9</text>\r\n",
       "<text text-anchor=\"start\" x=\"222\" y=\"-138.8\" font-family=\"Helvetica,sans-Serif\" font-size=\"14.00\"> ≤ &#45;0.12</text>\r\n",
       "<text text-anchor=\"start\" x=\"170\" y=\"-124.8\" font-family=\"Helvetica,sans-Serif\" font-size=\"14.00\">friedman_mse = 0.07</text>\r\n",
       "<text text-anchor=\"start\" x=\"194.5\" y=\"-110.8\" font-family=\"Helvetica,sans-Serif\" font-size=\"14.00\">samples = 19</text>\r\n",
       "<text text-anchor=\"start\" x=\"199\" y=\"-96.8\" font-family=\"Helvetica,sans-Serif\" font-size=\"14.00\">value = 0.16</text>\r\n",
       "</g>\r\n",
       "<!-- 1&#45;&gt;2 -->\r\n",
       "<g id=\"edge2\" class=\"edge\">\r\n",
       "<title>1&#45;&gt;2</title>\r\n",
       "<path fill=\"none\" stroke=\"black\" d=\"M414.75,-190.46C386,-179.33 353.11,-166.59 323.56,-155.14\"/>\r\n",
       "<polygon fill=\"black\" stroke=\"black\" points=\"324.68,-151.82 314.1,-151.48 322.16,-158.35 324.68,-151.82\"/>\r\n",
       "</g>\r\n",
       "<!-- 5 -->\r\n",
       "<g id=\"node6\" class=\"node\">\r\n",
       "<title>5</title>\r\n",
       "<path fill=\"#f9e0cf\" stroke=\"black\" d=\"M555,-153C555,-153 427,-153 427,-153 421,-153 415,-147 415,-141 415,-141 415,-101 415,-101 415,-95 421,-89 427,-89 427,-89 555,-89 555,-89 561,-89 567,-95 567,-101 567,-101 567,-141 567,-141 567,-147 561,-153 555,-153\"/>\r\n",
       "<text text-anchor=\"start\" x=\"458\" y=\"-138.8\" font-family=\"Helvetica,sans-Serif\" font-size=\"14.00\">X</text>\r\n",
       "<text text-anchor=\"start\" x=\"468\" y=\"-138.8\" font-family=\"Helvetica,sans-Serif\" baseline-shift=\"sub\" font-size=\"14.00\">0</text>\r\n",
       "<text text-anchor=\"start\" x=\"475\" y=\"-138.8\" font-family=\"Helvetica,sans-Serif\" font-size=\"14.00\"> ≤ &#45;0.14</text>\r\n",
       "<text text-anchor=\"start\" x=\"423\" y=\"-124.8\" font-family=\"Helvetica,sans-Serif\" font-size=\"14.00\">friedman_mse = 0.04</text>\r\n",
       "<text text-anchor=\"start\" x=\"447.5\" y=\"-110.8\" font-family=\"Helvetica,sans-Serif\" font-size=\"14.00\">samples = 15</text>\r\n",
       "<text text-anchor=\"start\" x=\"452\" y=\"-96.8\" font-family=\"Helvetica,sans-Serif\" font-size=\"14.00\">value = 0.26</text>\r\n",
       "</g>\r\n",
       "<!-- 1&#45;&gt;5 -->\r\n",
       "<g id=\"edge5\" class=\"edge\">\r\n",
       "<title>1&#45;&gt;5</title>\r\n",
       "<path fill=\"none\" stroke=\"black\" d=\"M491,-188.99C491,-180.86 491,-171.96 491,-163.38\"/>\r\n",
       "<polygon fill=\"black\" stroke=\"black\" points=\"494.5,-163.14 491,-153.14 487.5,-163.14 494.5,-163.14\"/>\r\n",
       "</g>\r\n",
       "<!-- 3 -->\r\n",
       "<g id=\"node4\" class=\"node\">\r\n",
       "<title>3</title>\r\n",
       "<path fill=\"#fae5d6\" stroke=\"black\" d=\"M132,-53C132,-53 12,-53 12,-53 6,-53 0,-47 0,-41 0,-41 0,-12 0,-12 0,-6 6,0 12,0 12,0 132,0 132,0 138,0 144,-6 144,-12 144,-12 144,-41 144,-41 144,-47 138,-53 132,-53\"/>\r\n",
       "<text text-anchor=\"start\" x=\"8\" y=\"-37.8\" font-family=\"Helvetica,sans-Serif\" font-size=\"14.00\">friedman_mse = 0.1</text>\r\n",
       "<text text-anchor=\"start\" x=\"32.5\" y=\"-22.8\" font-family=\"Helvetica,sans-Serif\" font-size=\"14.00\">samples = 8</text>\r\n",
       "<text text-anchor=\"start\" x=\"33\" y=\"-7.8\" font-family=\"Helvetica,sans-Serif\" font-size=\"14.00\">value = 0.12</text>\r\n",
       "</g>\r\n",
       "<!-- 2&#45;&gt;3 -->\r\n",
       "<g id=\"edge3\" class=\"edge\">\r\n",
       "<title>2&#45;&gt;3</title>\r\n",
       "<path fill=\"none\" stroke=\"black\" d=\"M182.26,-88.94C164.46,-79.02 144.77,-68.05 127.01,-58.15\"/>\r\n",
       "<polygon fill=\"black\" stroke=\"black\" points=\"128.36,-54.9 117.93,-53.09 124.96,-61.02 128.36,-54.9\"/>\r\n",
       "</g>\r\n",
       "<!-- 4 -->\r\n",
       "<g id=\"node5\" class=\"node\">\r\n",
       "<title>4</title>\r\n",
       "<path fill=\"#f1bc96\" stroke=\"black\" d=\"M302,-53C302,-53 174,-53 174,-53 168,-53 162,-47 162,-41 162,-41 162,-12 162,-12 162,-6 168,0 174,0 174,0 302,0 302,0 308,0 314,-6 314,-12 314,-12 314,-41 314,-41 314,-47 308,-53 302,-53\"/>\r\n",
       "<text text-anchor=\"start\" x=\"170\" y=\"-37.8\" font-family=\"Helvetica,sans-Serif\" font-size=\"14.00\">friedman_mse = 0.03</text>\r\n",
       "<text text-anchor=\"start\" x=\"194.5\" y=\"-22.8\" font-family=\"Helvetica,sans-Serif\" font-size=\"14.00\">samples = 11</text>\r\n",
       "<text text-anchor=\"start\" x=\"199\" y=\"-7.8\" font-family=\"Helvetica,sans-Serif\" font-size=\"14.00\">value = 1.31</text>\r\n",
       "</g>\r\n",
       "<!-- 2&#45;&gt;4 -->\r\n",
       "<g id=\"edge4\" class=\"edge\">\r\n",
       "<title>2&#45;&gt;4</title>\r\n",
       "<path fill=\"none\" stroke=\"black\" d=\"M238,-88.94C238,-80.66 238,-71.64 238,-63.13\"/>\r\n",
       "<polygon fill=\"black\" stroke=\"black\" points=\"241.5,-63.09 238,-53.09 234.5,-63.09 241.5,-63.09\"/>\r\n",
       "</g>\r\n",
       "<!-- 6 -->\r\n",
       "<g id=\"node7\" class=\"node\">\r\n",
       "<title>6</title>\r\n",
       "<path fill=\"#f6d1b7\" stroke=\"black\" d=\"M472,-53C472,-53 344,-53 344,-53 338,-53 332,-47 332,-41 332,-41 332,-12 332,-12 332,-6 338,0 344,0 344,0 472,0 472,0 478,0 484,-6 484,-12 484,-12 484,-41 484,-41 484,-47 478,-53 472,-53\"/>\r\n",
       "<text text-anchor=\"start\" x=\"340\" y=\"-37.8\" font-family=\"Helvetica,sans-Serif\" font-size=\"14.00\">friedman_mse = 0.03</text>\r\n",
       "<text text-anchor=\"start\" x=\"368.5\" y=\"-22.8\" font-family=\"Helvetica,sans-Serif\" font-size=\"14.00\">samples = 6</text>\r\n",
       "<text text-anchor=\"start\" x=\"373\" y=\"-7.8\" font-family=\"Helvetica,sans-Serif\" font-size=\"14.00\">value = 0.7</text>\r\n",
       "</g>\r\n",
       "<!-- 5&#45;&gt;6 -->\r\n",
       "<g id=\"edge6\" class=\"edge\">\r\n",
       "<title>5&#45;&gt;6</title>\r\n",
       "<path fill=\"none\" stroke=\"black\" d=\"M463.13,-88.94C454.96,-79.84 446,-69.85 437.72,-60.63\"/>\r\n",
       "<polygon fill=\"black\" stroke=\"black\" points=\"440.25,-58.2 430.96,-53.09 435.04,-62.87 440.25,-58.2\"/>\r\n",
       "</g>\r\n",
       "<!-- 7 -->\r\n",
       "<g id=\"node8\" class=\"node\">\r\n",
       "<title>7</title>\r\n",
       "<path fill=\"#eead7f\" stroke=\"black\" d=\"M642,-53C642,-53 514,-53 514,-53 508,-53 502,-47 502,-41 502,-41 502,-12 502,-12 502,-6 508,0 514,0 514,0 642,0 642,0 648,0 654,-6 654,-12 654,-12 654,-41 654,-41 654,-47 648,-53 642,-53\"/>\r\n",
       "<text text-anchor=\"start\" x=\"510\" y=\"-37.8\" font-family=\"Helvetica,sans-Serif\" font-size=\"14.00\">friedman_mse = 0.02</text>\r\n",
       "<text text-anchor=\"start\" x=\"538.5\" y=\"-22.8\" font-family=\"Helvetica,sans-Serif\" font-size=\"14.00\">samples = 9</text>\r\n",
       "<text text-anchor=\"start\" x=\"539\" y=\"-7.8\" font-family=\"Helvetica,sans-Serif\" font-size=\"14.00\">value = 1.74</text>\r\n",
       "</g>\r\n",
       "<!-- 5&#45;&gt;7 -->\r\n",
       "<g id=\"edge7\" class=\"edge\">\r\n",
       "<title>5&#45;&gt;7</title>\r\n",
       "<path fill=\"none\" stroke=\"black\" d=\"M520.21,-88.94C528.77,-79.84 538.17,-69.85 546.84,-60.63\"/>\r\n",
       "<polygon fill=\"black\" stroke=\"black\" points=\"549.63,-62.77 553.93,-53.09 544.53,-57.98 549.63,-62.77\"/>\r\n",
       "</g>\r\n",
       "<!-- 9 -->\r\n",
       "<g id=\"node10\" class=\"node\">\r\n",
       "<title>9</title>\r\n",
       "<path fill=\"#fae7d9\" stroke=\"black\" d=\"M891,-153C891,-153 763,-153 763,-153 757,-153 751,-147 751,-141 751,-141 751,-101 751,-101 751,-95 757,-89 763,-89 763,-89 891,-89 891,-89 897,-89 903,-95 903,-101 903,-101 903,-141 903,-141 903,-147 897,-153 891,-153\"/>\r\n",
       "<text text-anchor=\"start\" x=\"794\" y=\"-138.8\" font-family=\"Helvetica,sans-Serif\" font-size=\"14.00\">X</text>\r\n",
       "<text text-anchor=\"start\" x=\"804\" y=\"-138.8\" font-family=\"Helvetica,sans-Serif\" baseline-shift=\"sub\" font-size=\"14.00\">5</text>\r\n",
       "<text text-anchor=\"start\" x=\"811\" y=\"-138.8\" font-family=\"Helvetica,sans-Serif\" font-size=\"14.00\"> ≤ &#45;0.01</text>\r\n",
       "<text text-anchor=\"start\" x=\"759\" y=\"-124.8\" font-family=\"Helvetica,sans-Serif\" font-size=\"14.00\">friedman_mse = 0.16</text>\r\n",
       "<text text-anchor=\"start\" x=\"779.5\" y=\"-110.8\" font-family=\"Helvetica,sans-Serif\" font-size=\"14.00\">samples = 103</text>\r\n",
       "<text text-anchor=\"start\" x=\"788\" y=\"-96.8\" font-family=\"Helvetica,sans-Serif\" font-size=\"14.00\">value = 0.06</text>\r\n",
       "</g>\r\n",
       "<!-- 8&#45;&gt;9 -->\r\n",
       "<g id=\"edge9\" class=\"edge\">\r\n",
       "<title>8&#45;&gt;9</title>\r\n",
       "<path fill=\"none\" stroke=\"black\" d=\"M827,-188.99C827,-180.86 827,-171.96 827,-163.38\"/>\r\n",
       "<polygon fill=\"black\" stroke=\"black\" points=\"830.5,-163.14 827,-153.14 823.5,-163.14 830.5,-163.14\"/>\r\n",
       "</g>\r\n",
       "<!-- 12 -->\r\n",
       "<g id=\"node13\" class=\"node\">\r\n",
       "<title>12</title>\r\n",
       "<path fill=\"#fbece2\" stroke=\"black\" d=\"M1144,-153C1144,-153 1016,-153 1016,-153 1010,-153 1004,-147 1004,-141 1004,-141 1004,-101 1004,-101 1004,-95 1010,-89 1016,-89 1016,-89 1144,-89 1144,-89 1150,-89 1156,-95 1156,-101 1156,-101 1156,-141 1156,-141 1156,-147 1150,-153 1144,-153\"/>\r\n",
       "<text text-anchor=\"start\" x=\"1047\" y=\"-138.8\" font-family=\"Helvetica,sans-Serif\" font-size=\"14.00\">X</text>\r\n",
       "<text text-anchor=\"start\" x=\"1057\" y=\"-138.8\" font-family=\"Helvetica,sans-Serif\" baseline-shift=\"sub\" font-size=\"14.00\">3</text>\r\n",
       "<text text-anchor=\"start\" x=\"1064\" y=\"-138.8\" font-family=\"Helvetica,sans-Serif\" font-size=\"14.00\"> ≤ &#45;0.76</text>\r\n",
       "<text text-anchor=\"start\" x=\"1012\" y=\"-124.8\" font-family=\"Helvetica,sans-Serif\" font-size=\"14.00\">friedman_mse = 0.06</text>\r\n",
       "<text text-anchor=\"start\" x=\"1032.5\" y=\"-110.8\" font-family=\"Helvetica,sans-Serif\" font-size=\"14.00\">samples = 143</text>\r\n",
       "<text text-anchor=\"start\" x=\"1043\" y=\"-96.8\" font-family=\"Helvetica,sans-Serif\" font-size=\"14.00\">value = &#45;0.1</text>\r\n",
       "</g>\r\n",
       "<!-- 8&#45;&gt;12 -->\r\n",
       "<g id=\"edge12\" class=\"edge\">\r\n",
       "<title>8&#45;&gt;12</title>\r\n",
       "<path fill=\"none\" stroke=\"black\" d=\"M903.25,-190.46C932,-179.33 964.89,-166.59 994.44,-155.14\"/>\r\n",
       "<polygon fill=\"black\" stroke=\"black\" points=\"995.84,-158.35 1003.9,-151.48 993.32,-151.82 995.84,-158.35\"/>\r\n",
       "</g>\r\n",
       "<!-- 10 -->\r\n",
       "<g id=\"node11\" class=\"node\">\r\n",
       "<title>10</title>\r\n",
       "<path fill=\"#fef9f5\" stroke=\"black\" d=\"M804,-53C804,-53 684,-53 684,-53 678,-53 672,-47 672,-41 672,-41 672,-12 672,-12 672,-6 678,0 684,0 684,0 804,0 804,0 810,0 816,-6 816,-12 816,-12 816,-41 816,-41 816,-47 810,-53 804,-53\"/>\r\n",
       "<text text-anchor=\"start\" x=\"680\" y=\"-37.8\" font-family=\"Helvetica,sans-Serif\" font-size=\"14.00\">friedman_mse = 0.1</text>\r\n",
       "<text text-anchor=\"start\" x=\"700.5\" y=\"-22.8\" font-family=\"Helvetica,sans-Serif\" font-size=\"14.00\">samples = 54</text>\r\n",
       "<text text-anchor=\"start\" x=\"703\" y=\"-7.8\" font-family=\"Helvetica,sans-Serif\" font-size=\"14.00\">value = &#45;0.45</text>\r\n",
       "</g>\r\n",
       "<!-- 9&#45;&gt;10 -->\r\n",
       "<g id=\"edge10\" class=\"edge\">\r\n",
       "<title>9&#45;&gt;10</title>\r\n",
       "<path fill=\"none\" stroke=\"black\" d=\"M799.13,-88.94C790.96,-79.84 782,-69.85 773.72,-60.63\"/>\r\n",
       "<polygon fill=\"black\" stroke=\"black\" points=\"776.25,-58.2 766.96,-53.09 771.04,-62.87 776.25,-58.2\"/>\r\n",
       "</g>\r\n",
       "<!-- 11 -->\r\n",
       "<g id=\"node12\" class=\"node\">\r\n",
       "<title>11</title>\r\n",
       "<path fill=\"#f3c4a2\" stroke=\"black\" d=\"M974,-53C974,-53 846,-53 846,-53 840,-53 834,-47 834,-41 834,-41 834,-12 834,-12 834,-6 840,0 846,0 846,0 974,0 974,0 980,0 986,-6 986,-12 986,-12 986,-41 986,-41 986,-47 980,-53 974,-53\"/>\r\n",
       "<text text-anchor=\"start\" x=\"842\" y=\"-37.8\" font-family=\"Helvetica,sans-Serif\" font-size=\"14.00\">friedman_mse = 0.18</text>\r\n",
       "<text text-anchor=\"start\" x=\"866.5\" y=\"-22.8\" font-family=\"Helvetica,sans-Serif\" font-size=\"14.00\">samples = 49</text>\r\n",
       "<text text-anchor=\"start\" x=\"871\" y=\"-7.8\" font-family=\"Helvetica,sans-Serif\" font-size=\"14.00\">value = 1.09</text>\r\n",
       "</g>\r\n",
       "<!-- 9&#45;&gt;11 -->\r\n",
       "<g id=\"edge11\" class=\"edge\">\r\n",
       "<title>9&#45;&gt;11</title>\r\n",
       "<path fill=\"none\" stroke=\"black\" d=\"M854.87,-88.94C863.04,-79.84 872,-69.85 880.28,-60.63\"/>\r\n",
       "<polygon fill=\"black\" stroke=\"black\" points=\"882.96,-62.87 887.04,-53.09 877.75,-58.2 882.96,-62.87\"/>\r\n",
       "</g>\r\n",
       "<!-- 13 -->\r\n",
       "<g id=\"node14\" class=\"node\">\r\n",
       "<title>13</title>\r\n",
       "<path fill=\"#e58139\" stroke=\"black\" d=\"M1144,-53C1144,-53 1016,-53 1016,-53 1010,-53 1004,-47 1004,-41 1004,-41 1004,-12 1004,-12 1004,-6 1010,0 1016,0 1016,0 1144,0 1144,0 1150,0 1156,-6 1156,-12 1156,-12 1156,-41 1156,-41 1156,-47 1150,-53 1144,-53\"/>\r\n",
       "<text text-anchor=\"start\" x=\"1012\" y=\"-37.8\" font-family=\"Helvetica,sans-Serif\" font-size=\"14.00\">friedman_mse = 0.07</text>\r\n",
       "<text text-anchor=\"start\" x=\"1040.5\" y=\"-22.8\" font-family=\"Helvetica,sans-Serif\" font-size=\"14.00\">samples = 2</text>\r\n",
       "<text text-anchor=\"start\" x=\"1041\" y=\"-7.8\" font-family=\"Helvetica,sans-Serif\" font-size=\"14.00\">value = 3.04</text>\r\n",
       "</g>\r\n",
       "<!-- 12&#45;&gt;13 -->\r\n",
       "<g id=\"edge13\" class=\"edge\">\r\n",
       "<title>12&#45;&gt;13</title>\r\n",
       "<path fill=\"none\" stroke=\"black\" d=\"M1080,-88.94C1080,-80.66 1080,-71.64 1080,-63.13\"/>\r\n",
       "<polygon fill=\"black\" stroke=\"black\" points=\"1083.5,-63.09 1080,-53.09 1076.5,-63.09 1083.5,-63.09\"/>\r\n",
       "</g>\r\n",
       "<!-- 14 -->\r\n",
       "<g id=\"node15\" class=\"node\">\r\n",
       "<title>14</title>\r\n",
       "<path fill=\"#ffffff\" stroke=\"black\" d=\"M1314,-53C1314,-53 1186,-53 1186,-53 1180,-53 1174,-47 1174,-41 1174,-41 1174,-12 1174,-12 1174,-6 1180,0 1186,0 1186,0 1314,0 1314,0 1320,0 1326,-6 1326,-12 1326,-12 1326,-41 1326,-41 1326,-47 1320,-53 1314,-53\"/>\r\n",
       "<text text-anchor=\"start\" x=\"1182\" y=\"-37.8\" font-family=\"Helvetica,sans-Serif\" font-size=\"14.00\">friedman_mse = 0.06</text>\r\n",
       "<text text-anchor=\"start\" x=\"1202.5\" y=\"-22.8\" font-family=\"Helvetica,sans-Serif\" font-size=\"14.00\">samples = 141</text>\r\n",
       "<text text-anchor=\"start\" x=\"1209\" y=\"-7.8\" font-family=\"Helvetica,sans-Serif\" font-size=\"14.00\">value = &#45;0.64</text>\r\n",
       "</g>\r\n",
       "<!-- 12&#45;&gt;14 -->\r\n",
       "<g id=\"edge14\" class=\"edge\">\r\n",
       "<title>12&#45;&gt;14</title>\r\n",
       "<path fill=\"none\" stroke=\"black\" d=\"M1137.08,-88.94C1155.48,-78.93 1175.85,-67.85 1194.16,-57.88\"/>\r\n",
       "<polygon fill=\"black\" stroke=\"black\" points=\"1195.86,-60.94 1202.97,-53.09 1192.51,-54.8 1195.86,-60.94\"/>\r\n",
       "</g>\r\n",
       "</g>\r\n",
       "</svg>\r\n"
      ],
      "text/plain": [
       "<graphviz.files.Source at 0x2a07c002190>"
      ]
     },
     "execution_count": 132,
     "metadata": {},
     "output_type": "execute_result"
    }
   ],
   "source": [
    "# GB 중 일부 트리 graph화\n",
    "estimator = best_gsb_estimator.estimators_[15][0]\n",
    "\n",
    "dot_data = tree.export_graphviz(estimator, \n",
    "                rounded = True, proportion = False, \n",
    "                precision = 2, filled = True,\n",
    "                special_characters=True)\n",
    "\n",
    "graph = graphviz.Source(dot_data)  \n",
    "graph"
   ]
  },
  {
   "cell_type": "markdown",
   "metadata": {},
   "source": [
    "#### Confusion Matrix"
   ]
  },
  {
   "cell_type": "code",
   "execution_count": 133,
   "metadata": {},
   "outputs": [],
   "source": [
    "from sklearn.metrics import confusion_matrix\n",
    "import matplotlib.pyplot as plt\n",
    "import seaborn as sns"
   ]
  },
  {
   "cell_type": "code",
   "execution_count": 134,
   "metadata": {},
   "outputs": [],
   "source": [
    "y_pred = best_gsb_estimator.predict(X_test)"
   ]
  },
  {
   "cell_type": "code",
   "execution_count": 135,
   "metadata": {},
   "outputs": [
    {
     "data": {
      "image/png": "[encoded data removed]",
      "text/plain": [
       "<Figure size 360x360 with 2 Axes>"
      ]
     },
     "metadata": {
      "needs_background": "light"
     },
     "output_type": "display_data"
    }
   ],
   "source": [
    "con_mat = confusion_matrix(y_test, y_pred, labels=[0,1])\n",
    "\n",
    "group_names = [\"TN\",\"FP\",\"FN\",\"TP\"]\n",
    "group_counts = [\"{0:0.0f}\".format(value) for value in con_mat.flatten()]\n",
    "group_percentages = [\"{0:.2%}\".format(value) for value in con_mat.flatten()/np.sum(con_mat)]\n",
    "\n",
    "labels = [f\"{v1}\\n{v2}\\n{v3}\" for v1, v2, v3 in zip(group_names,group_counts,group_percentages)]\n",
    "labels = np.asarray(labels).reshape(2,2)\n",
    "fig, ax = plt.subplots(figsize=(5,5))\n",
    "\n",
    "sns.heatmap(con_mat, annot=labels, cmap = \"Blues\", fmt=\"\", linewidths=10, square=True)\n",
    "ax.set_ylim([0,2])\n",
    "ax.set_title(\"Confusion Matrix\")\n",
    "plt.ylabel('True label')\n",
    "plt.xlabel('Predicted label' + \"\")\n",
    "plt.show()"
   ]
  },
  {
   "cell_type": "markdown",
   "metadata": {},
   "source": [
    "#### AUROC"
   ]
  },
  {
   "cell_type": "code",
   "execution_count": 136,
   "metadata": {},
   "outputs": [],
   "source": [
    "from sklearn.metrics import roc_curve, auc\n",
    "%matplotlib inline"
   ]
  },
  {
   "cell_type": "code",
   "execution_count": 137,
   "metadata": {
    "scrolled": false
   },
   "outputs": [
    {
     "data": {
      "image/png": "[encoded data removed]",
      "text/plain": [
       "<Figure size 432x288 with 1 Axes>"
      ]
     },
     "metadata": {
      "needs_background": "light"
     },
     "output_type": "display_data"
    }
   ],
   "source": [
    "fpr, tpr, thresholds = roc_curve(y_test, best_gsb_estimator.decision_function(X_test)) \n",
    "\n",
    "plt.plot(fpr, tpr)\n",
    "#plt.fill_between(fpr, tpr)\n",
    "plt.plot([0, 1], [0, 1], '--')\n",
    "plt.xlabel('1 - Specificity(TNR)')\n",
    "#plt.xlabel('거짓 양성 비율(FPR)')\n",
    "plt.ylabel('Sensitivity(TPR)')\n",
    "\n",
    "auc_s = auc(fpr, tpr) # auc(score)\n",
    "plt.title('ROC curve (AUROC = {})'.format(auc_s))\n",
    "plt.show()"
   ]
  },
  {
   "cell_type": "markdown",
   "metadata": {},
   "source": [
    "#### 각 성능 지표"
   ]
  },
  {
   "cell_type": "code",
   "execution_count": 138,
   "metadata": {},
   "outputs": [],
   "source": [
    "from sklearn.metrics import f1_score, accuracy_score, recall_score, precision_score\n",
    "from sklearn.metrics import classification_report"
   ]
  },
  {
   "cell_type": "code",
   "execution_count": 139,
   "metadata": {},
   "outputs": [
    {
     "name": "stdout",
     "output_type": "stream",
     "text": [
      "              precision    recall  f1-score   support\n",
      "\n",
      "           0       0.91      1.00      0.95        41\n",
      "           1       1.00      0.87      0.93        30\n",
      "\n",
      "    accuracy                           0.94        71\n",
      "   macro avg       0.96      0.93      0.94        71\n",
      "weighted avg       0.95      0.94      0.94        71\n",
      "\n"
     ]
    }
   ],
   "source": [
    "print(classification_report(y_test, y_pred))"
   ]
  },
  {
   "cell_type": "code",
   "execution_count": 140,
   "metadata": {
    "scrolled": true
   },
   "outputs": [
    {
     "name": "stdout",
     "output_type": "stream",
     "text": [
      "Accuracy: 0.9436619718309859\n",
      "Precision: 1.0\n",
      "Recall: 0.8666666666666667\n",
      "F1-score: 0.9285714285714286\n"
     ]
    }
   ],
   "source": [
    "print(f'Accuracy: {accuracy_score(y_test, y_pred)}')\n",
    "print(f\"Precision: {precision_score(y_test, y_pred, average='binary')}\")\n",
    "print(f\"Recall: {recall_score(y_test, y_pred, average='binary')}\")\n",
    "print(f\"F1-score: {f1_score(y_test, y_pred, average='binary')}\")"
   ]
  },
  {
   "cell_type": "markdown",
   "metadata": {},
   "source": [
    "## 5. KNN"
   ]
  },
  {
   "cell_type": "markdown",
   "metadata": {},
   "source": [
    "### 5.1 train test 분리"
   ]
  },
  {
   "cell_type": "code",
   "execution_count": 47,
   "metadata": {},
   "outputs": [],
   "source": [
    "from sklearn.model_selection import train_test_split"
   ]
  },
  {
   "cell_type": "code",
   "execution_count": 48,
   "metadata": {
    "scrolled": true
   },
   "outputs": [
    {
     "data": {
      "text/plain": [
       "6      0\n",
       "52     0\n",
       "114    1\n",
       "45     1\n",
       "106    1\n",
       "Name: target, dtype: int64"
      ]
     },
     "execution_count": 48,
     "metadata": {},
     "output_type": "execute_result"
    }
   ],
   "source": [
    "X, y = data.iloc[:,:-1], data.iloc[:,-1]\n",
    "\n",
    "X_train, X_test, y_train, y_test = train_test_split(X, y, test_size = 0.2, random_state = 0)\n",
    "y_test.head()"
   ]
  },
  {
   "cell_type": "markdown",
   "metadata": {},
   "source": [
    "### 5.2 modeling"
   ]
  },
  {
   "cell_type": "code",
   "execution_count": 49,
   "metadata": {},
   "outputs": [],
   "source": [
    "from sklearn.neighbors import KNeighborsClassifier"
   ]
  },
  {
   "cell_type": "code",
   "execution_count": 50,
   "metadata": {},
   "outputs": [
    {
     "data": {
      "image/png": "[encoded data removed]",
      "text/plain": [
       "<Figure size 432x288 with 1 Axes>"
      ]
     },
     "metadata": {
      "needs_background": "light"
     },
     "output_type": "display_data"
    }
   ],
   "source": [
    "k_list = range(1,101)\n",
    "accuracies = []\n",
    "\n",
    "for k in k_list:\n",
    "  classifier = KNeighborsClassifier(n_neighbors = k)\n",
    "  classifier.fit(X_train, y_train)\n",
    "  accuracies.append(classifier.score(X_test, y_test))\n",
    "plt.plot(k_list, accuracies)\n",
    "plt.xlabel(\"k\")\n",
    "plt.ylabel(\"Validation Accuracy\")\n",
    "plt.title(\"Classifier Accuracy\")\n",
    "plt.show()"
   ]
  },
  {
   "cell_type": "code",
   "execution_count": 51,
   "metadata": {},
   "outputs": [
    {
     "data": {
      "text/plain": [
       "0"
      ]
     },
     "execution_count": 51,
     "metadata": {},
     "output_type": "execute_result"
    }
   ],
   "source": [
    "accuracies.index(max(accuracies))"
   ]
  },
  {
   "cell_type": "code",
   "execution_count": 52,
   "metadata": {},
   "outputs": [
    {
     "data": {
      "text/plain": [
       "KNeighborsClassifier(algorithm='auto', leaf_size=30, metric='minkowski',\n",
       "                     metric_params=None, n_jobs=None, n_neighbors=1, p=2,\n",
       "                     weights='uniform')"
      ]
     },
     "execution_count": 52,
     "metadata": {},
     "output_type": "execute_result"
    }
   ],
   "source": [
    "knn = KNeighborsClassifier(n_neighbors = 1)\n",
    "\n",
    "knn.fit(X_train, y_train)"
   ]
  },
  {
   "cell_type": "code",
   "execution_count": 53,
   "metadata": {},
   "outputs": [
    {
     "data": {
      "text/plain": [
       "1.0"
      ]
     },
     "execution_count": 53,
     "metadata": {},
     "output_type": "execute_result"
    }
   ],
   "source": [
    "# train 성능 #\n",
    "knn.score(X_train, y_train)"
   ]
  },
  {
   "cell_type": "code",
   "execution_count": 54,
   "metadata": {},
   "outputs": [],
   "source": [
    "y_pred = knn.predict(X_test)"
   ]
  },
  {
   "cell_type": "code",
   "execution_count": 55,
   "metadata": {},
   "outputs": [
    {
     "data": {
      "text/plain": [
       "0.704225352112676"
      ]
     },
     "execution_count": 55,
     "metadata": {},
     "output_type": "execute_result"
    }
   ],
   "source": [
    "# test 성능 #\n",
    "knn.score(X_test, y_test)"
   ]
  },
  {
   "cell_type": "code",
   "execution_count": null,
   "metadata": {},
   "outputs": [],
   "source": []
  }
 ],
 "metadata": {
  "kernelspec": {
   "display_name": "Python 3",
   "language": "python",
   "name": "python3"
  },
  "language_info": {
   "codemirror_mode": {
    "name": "ipython",
    "version": 3
   },
   "file_extension": ".py",
   "mimetype": "text/x-python",
   "name": "python",
   "nbconvert_exporter": "python",
   "pygments_lexer": "ipython3",
   "version": "3.8.3"
  }
 },
 "nbformat": 4,
 "nbformat_minor": 4
}
