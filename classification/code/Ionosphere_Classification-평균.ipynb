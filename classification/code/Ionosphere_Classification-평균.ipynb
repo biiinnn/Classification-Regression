{
 "cells": [
  {
   "cell_type": "markdown",
   "metadata": {},
   "source": [
    "# classification (ionosphere)_평균값 사용"
   ]
  },
  {
   "cell_type": "markdown",
   "metadata": {},
   "source": [
    "## 0. 데이터 전처리"
   ]
  },
  {
   "cell_type": "markdown",
   "metadata": {},
   "source": [
    "### 0.1 데이터 불러오기"
   ]
  },
  {
   "cell_type": "code",
   "execution_count": 25,
   "metadata": {},
   "outputs": [],
   "source": [
    "import pandas as pd\n",
    "import numpy as np "
   ]
  },
  {
   "cell_type": "code",
   "execution_count": null,
   "metadata": {},
   "outputs": [],
   "source": [
    "data = pd.read_csv('ionosphere_m.csv')"
   ]
  },
  {
   "cell_type": "code",
   "execution_count": 27,
   "metadata": {},
   "outputs": [],
   "source": [
    "data = data[['ob1', 'ob2', 'ob3', 'ob4', 'ob5', 'ob6', 'ob7', 'ob8', 'ob9', 'ob10', 'ob11', 'ob12', 'ob13', 'ob14', 'ob15', 'ob16', 'target']]"
   ]
  },
  {
   "cell_type": "code",
   "execution_count": 28,
   "metadata": {},
   "outputs": [
    {
     "data": {
      "text/html": [
       "<div>\n",
       "<style scoped>\n",
       "    .dataframe tbody tr th:only-of-type {\n",
       "        vertical-align: middle;\n",
       "    }\n",
       "\n",
       "    .dataframe tbody tr th {\n",
       "        vertical-align: top;\n",
       "    }\n",
       "\n",
       "    .dataframe thead th {\n",
       "        text-align: right;\n",
       "    }\n",
       "</style>\n",
       "<table border=\"1\" class=\"dataframe\">\n",
       "  <thead>\n",
       "    <tr style=\"text-align: right;\">\n",
       "      <th></th>\n",
       "      <th>ob1</th>\n",
       "      <th>ob2</th>\n",
       "      <th>ob3</th>\n",
       "      <th>ob4</th>\n",
       "      <th>ob5</th>\n",
       "      <th>ob6</th>\n",
       "      <th>ob7</th>\n",
       "      <th>ob8</th>\n",
       "      <th>ob9</th>\n",
       "      <th>ob10</th>\n",
       "      <th>ob11</th>\n",
       "      <th>ob12</th>\n",
       "      <th>ob13</th>\n",
       "      <th>ob14</th>\n",
       "      <th>ob15</th>\n",
       "      <th>ob16</th>\n",
       "      <th>target</th>\n",
       "    </tr>\n",
       "  </thead>\n",
       "  <tbody>\n",
       "    <tr>\n",
       "      <th>0</th>\n",
       "      <td>0.468250</td>\n",
       "      <td>0.437745</td>\n",
       "      <td>0.228450</td>\n",
       "      <td>0.518800</td>\n",
       "      <td>0.337440</td>\n",
       "      <td>0.074050</td>\n",
       "      <td>0.111565</td>\n",
       "      <td>0.229070</td>\n",
       "      <td>0.130100</td>\n",
       "      <td>0.136485</td>\n",
       "      <td>-0.052055</td>\n",
       "      <td>0.028200</td>\n",
       "      <td>-0.025450</td>\n",
       "      <td>-0.064120</td>\n",
       "      <td>-0.06110</td>\n",
       "      <td>-0.133295</td>\n",
       "      <td>0</td>\n",
       "    </tr>\n",
       "    <tr>\n",
       "      <th>1</th>\n",
       "      <td>0.405855</td>\n",
       "      <td>0.284395</td>\n",
       "      <td>-0.522325</td>\n",
       "      <td>0.477255</td>\n",
       "      <td>-0.084345</td>\n",
       "      <td>-0.176375</td>\n",
       "      <td>-0.746000</td>\n",
       "      <td>-0.283690</td>\n",
       "      <td>-0.334455</td>\n",
       "      <td>-0.292255</td>\n",
       "      <td>-0.268950</td>\n",
       "      <td>-0.234505</td>\n",
       "      <td>-0.194345</td>\n",
       "      <td>-0.153165</td>\n",
       "      <td>-0.11457</td>\n",
       "      <td>-0.080925</td>\n",
       "      <td>1</td>\n",
       "    </tr>\n",
       "    <tr>\n",
       "      <th>2</th>\n",
       "      <td>0.483175</td>\n",
       "      <td>0.502425</td>\n",
       "      <td>0.439690</td>\n",
       "      <td>0.450815</td>\n",
       "      <td>0.392140</td>\n",
       "      <td>0.431350</td>\n",
       "      <td>0.274450</td>\n",
       "      <td>0.350655</td>\n",
       "      <td>0.334975</td>\n",
       "      <td>0.216925</td>\n",
       "      <td>0.156615</td>\n",
       "      <td>0.086540</td>\n",
       "      <td>0.184195</td>\n",
       "      <td>0.128675</td>\n",
       "      <td>0.18128</td>\n",
       "      <td>0.089035</td>\n",
       "      <td>0</td>\n",
       "    </tr>\n",
       "    <tr>\n",
       "      <th>3</th>\n",
       "      <td>0.274195</td>\n",
       "      <td>1.000000</td>\n",
       "      <td>-0.143920</td>\n",
       "      <td>0.000000</td>\n",
       "      <td>0.000000</td>\n",
       "      <td>0.000000</td>\n",
       "      <td>-0.427420</td>\n",
       "      <td>0.073820</td>\n",
       "      <td>-0.772335</td>\n",
       "      <td>0.150125</td>\n",
       "      <td>0.000000</td>\n",
       "      <td>0.953475</td>\n",
       "      <td>0.758065</td>\n",
       "      <td>0.399505</td>\n",
       "      <td>0.62841</td>\n",
       "      <td>0.338090</td>\n",
       "      <td>1</td>\n",
       "    </tr>\n",
       "    <tr>\n",
       "      <th>4</th>\n",
       "      <td>0.487995</td>\n",
       "      <td>0.503355</td>\n",
       "      <td>0.344255</td>\n",
       "      <td>0.303765</td>\n",
       "      <td>0.162615</td>\n",
       "      <td>0.278485</td>\n",
       "      <td>0.034690</td>\n",
       "      <td>0.155800</td>\n",
       "      <td>0.136470</td>\n",
       "      <td>-0.147965</td>\n",
       "      <td>-0.252850</td>\n",
       "      <td>-0.309360</td>\n",
       "      <td>-0.199580</td>\n",
       "      <td>-0.298830</td>\n",
       "      <td>-0.32640</td>\n",
       "      <td>-0.351525</td>\n",
       "      <td>0</td>\n",
       "    </tr>\n",
       "  </tbody>\n",
       "</table>\n",
       "</div>"
      ],
      "text/plain": [
       "        ob1       ob2       ob3       ob4       ob5       ob6       ob7  \\\n",
       "0  0.468250  0.437745  0.228450  0.518800  0.337440  0.074050  0.111565   \n",
       "1  0.405855  0.284395 -0.522325  0.477255 -0.084345 -0.176375 -0.746000   \n",
       "2  0.483175  0.502425  0.439690  0.450815  0.392140  0.431350  0.274450   \n",
       "3  0.274195  1.000000 -0.143920  0.000000  0.000000  0.000000 -0.427420   \n",
       "4  0.487995  0.503355  0.344255  0.303765  0.162615  0.278485  0.034690   \n",
       "\n",
       "        ob8       ob9      ob10      ob11      ob12      ob13      ob14  \\\n",
       "0  0.229070  0.130100  0.136485 -0.052055  0.028200 -0.025450 -0.064120   \n",
       "1 -0.283690 -0.334455 -0.292255 -0.268950 -0.234505 -0.194345 -0.153165   \n",
       "2  0.350655  0.334975  0.216925  0.156615  0.086540  0.184195  0.128675   \n",
       "3  0.073820 -0.772335  0.150125  0.000000  0.953475  0.758065  0.399505   \n",
       "4  0.155800  0.136470 -0.147965 -0.252850 -0.309360 -0.199580 -0.298830   \n",
       "\n",
       "      ob15      ob16  target  \n",
       "0 -0.06110 -0.133295       0  \n",
       "1 -0.11457 -0.080925       1  \n",
       "2  0.18128  0.089035       0  \n",
       "3  0.62841  0.338090       1  \n",
       "4 -0.32640 -0.351525       0  "
      ]
     },
     "execution_count": 28,
     "metadata": {},
     "output_type": "execute_result"
    }
   ],
   "source": [
    "data.head()"
   ]
  },
  {
   "cell_type": "markdown",
   "metadata": {},
   "source": [
    "target에서 0 이 good, 1 이 bad"
   ]
  },
  {
   "cell_type": "code",
   "execution_count": 29,
   "metadata": {},
   "outputs": [
    {
     "data": {
      "text/html": [
       "<div>\n",
       "<style scoped>\n",
       "    .dataframe tbody tr th:only-of-type {\n",
       "        vertical-align: middle;\n",
       "    }\n",
       "\n",
       "    .dataframe tbody tr th {\n",
       "        vertical-align: top;\n",
       "    }\n",
       "\n",
       "    .dataframe thead th {\n",
       "        text-align: right;\n",
       "    }\n",
       "</style>\n",
       "<table border=\"1\" class=\"dataframe\">\n",
       "  <thead>\n",
       "    <tr style=\"text-align: right;\">\n",
       "      <th></th>\n",
       "      <th>ob1</th>\n",
       "      <th>ob2</th>\n",
       "      <th>ob3</th>\n",
       "      <th>ob4</th>\n",
       "      <th>ob5</th>\n",
       "      <th>ob6</th>\n",
       "      <th>ob7</th>\n",
       "      <th>ob8</th>\n",
       "      <th>ob9</th>\n",
       "      <th>ob10</th>\n",
       "      <th>ob11</th>\n",
       "      <th>ob12</th>\n",
       "      <th>ob13</th>\n",
       "      <th>ob14</th>\n",
       "      <th>ob15</th>\n",
       "      <th>ob16</th>\n",
       "      <th>target</th>\n",
       "    </tr>\n",
       "  </thead>\n",
       "  <tbody>\n",
       "    <tr>\n",
       "      <th>count</th>\n",
       "      <td>351.000000</td>\n",
       "      <td>351.000000</td>\n",
       "      <td>351.000000</td>\n",
       "      <td>351.000000</td>\n",
       "      <td>351.000000</td>\n",
       "      <td>351.000000</td>\n",
       "      <td>351.000000</td>\n",
       "      <td>351.000000</td>\n",
       "      <td>351.000000</td>\n",
       "      <td>351.000000</td>\n",
       "      <td>351.000000</td>\n",
       "      <td>351.000000</td>\n",
       "      <td>351.000000</td>\n",
       "      <td>351.000000</td>\n",
       "      <td>351.000000</td>\n",
       "      <td>351.000000</td>\n",
       "      <td>351.000000</td>\n",
       "    </tr>\n",
       "    <tr>\n",
       "      <th>mean</th>\n",
       "      <td>0.342857</td>\n",
       "      <td>0.358478</td>\n",
       "      <td>0.334728</td>\n",
       "      <td>0.346597</td>\n",
       "      <td>0.315612</td>\n",
       "      <td>0.247107</td>\n",
       "      <td>0.207646</td>\n",
       "      <td>0.189166</td>\n",
       "      <td>0.167682</td>\n",
       "      <td>0.172496</td>\n",
       "      <td>0.152535</td>\n",
       "      <td>0.162474</td>\n",
       "      <td>0.236052</td>\n",
       "      <td>0.175269</td>\n",
       "      <td>0.174360</td>\n",
       "      <td>0.181922</td>\n",
       "      <td>0.358974</td>\n",
       "    </tr>\n",
       "    <tr>\n",
       "      <th>std</th>\n",
       "      <td>0.355519</td>\n",
       "      <td>0.353894</td>\n",
       "      <td>0.330419</td>\n",
       "      <td>0.303149</td>\n",
       "      <td>0.331972</td>\n",
       "      <td>0.379109</td>\n",
       "      <td>0.372301</td>\n",
       "      <td>0.394930</td>\n",
       "      <td>0.415252</td>\n",
       "      <td>0.394959</td>\n",
       "      <td>0.395606</td>\n",
       "      <td>0.370092</td>\n",
       "      <td>0.387967</td>\n",
       "      <td>0.381853</td>\n",
       "      <td>0.378616</td>\n",
       "      <td>0.327098</td>\n",
       "      <td>0.480384</td>\n",
       "    </tr>\n",
       "    <tr>\n",
       "      <th>min</th>\n",
       "      <td>-1.000000</td>\n",
       "      <td>-1.000000</td>\n",
       "      <td>-1.000000</td>\n",
       "      <td>-1.000000</td>\n",
       "      <td>-1.000000</td>\n",
       "      <td>-1.000000</td>\n",
       "      <td>-1.000000</td>\n",
       "      <td>-1.000000</td>\n",
       "      <td>-1.000000</td>\n",
       "      <td>-1.000000</td>\n",
       "      <td>-1.000000</td>\n",
       "      <td>-1.000000</td>\n",
       "      <td>-1.000000</td>\n",
       "      <td>-1.000000</td>\n",
       "      <td>-1.000000</td>\n",
       "      <td>-1.000000</td>\n",
       "      <td>0.000000</td>\n",
       "    </tr>\n",
       "    <tr>\n",
       "      <th>25%</th>\n",
       "      <td>0.106310</td>\n",
       "      <td>0.118175</td>\n",
       "      <td>0.030713</td>\n",
       "      <td>0.185305</td>\n",
       "      <td>0.044497</td>\n",
       "      <td>0.000000</td>\n",
       "      <td>0.000000</td>\n",
       "      <td>0.000000</td>\n",
       "      <td>0.000000</td>\n",
       "      <td>0.000000</td>\n",
       "      <td>0.000000</td>\n",
       "      <td>0.000000</td>\n",
       "      <td>0.000000</td>\n",
       "      <td>0.000000</td>\n",
       "      <td>0.000000</td>\n",
       "      <td>0.000000</td>\n",
       "      <td>0.000000</td>\n",
       "    </tr>\n",
       "    <tr>\n",
       "      <th>50%</th>\n",
       "      <td>0.431685</td>\n",
       "      <td>0.428335</td>\n",
       "      <td>0.411840</td>\n",
       "      <td>0.384335</td>\n",
       "      <td>0.357140</td>\n",
       "      <td>0.307395</td>\n",
       "      <td>0.281250</td>\n",
       "      <td>0.281715</td>\n",
       "      <td>0.241910</td>\n",
       "      <td>0.208330</td>\n",
       "      <td>0.169205</td>\n",
       "      <td>0.210225</td>\n",
       "      <td>0.271860</td>\n",
       "      <td>0.183095</td>\n",
       "      <td>0.194580</td>\n",
       "      <td>0.181665</td>\n",
       "      <td>0.000000</td>\n",
       "    </tr>\n",
       "    <tr>\n",
       "      <th>75%</th>\n",
       "      <td>0.536405</td>\n",
       "      <td>0.574280</td>\n",
       "      <td>0.528230</td>\n",
       "      <td>0.490955</td>\n",
       "      <td>0.499865</td>\n",
       "      <td>0.475725</td>\n",
       "      <td>0.462390</td>\n",
       "      <td>0.451858</td>\n",
       "      <td>0.433025</td>\n",
       "      <td>0.428870</td>\n",
       "      <td>0.427115</td>\n",
       "      <td>0.406317</td>\n",
       "      <td>0.460660</td>\n",
       "      <td>0.415273</td>\n",
       "      <td>0.410565</td>\n",
       "      <td>0.392417</td>\n",
       "      <td>1.000000</td>\n",
       "    </tr>\n",
       "    <tr>\n",
       "      <th>max</th>\n",
       "      <td>1.000000</td>\n",
       "      <td>1.000000</td>\n",
       "      <td>1.000000</td>\n",
       "      <td>1.000000</td>\n",
       "      <td>1.000000</td>\n",
       "      <td>1.000000</td>\n",
       "      <td>1.000000</td>\n",
       "      <td>1.000000</td>\n",
       "      <td>1.000000</td>\n",
       "      <td>1.000000</td>\n",
       "      <td>1.000000</td>\n",
       "      <td>1.000000</td>\n",
       "      <td>1.000000</td>\n",
       "      <td>1.000000</td>\n",
       "      <td>1.000000</td>\n",
       "      <td>1.000000</td>\n",
       "      <td>1.000000</td>\n",
       "    </tr>\n",
       "  </tbody>\n",
       "</table>\n",
       "</div>"
      ],
      "text/plain": [
       "              ob1         ob2         ob3         ob4         ob5         ob6  \\\n",
       "count  351.000000  351.000000  351.000000  351.000000  351.000000  351.000000   \n",
       "mean     0.342857    0.358478    0.334728    0.346597    0.315612    0.247107   \n",
       "std      0.355519    0.353894    0.330419    0.303149    0.331972    0.379109   \n",
       "min     -1.000000   -1.000000   -1.000000   -1.000000   -1.000000   -1.000000   \n",
       "25%      0.106310    0.118175    0.030713    0.185305    0.044497    0.000000   \n",
       "50%      0.431685    0.428335    0.411840    0.384335    0.357140    0.307395   \n",
       "75%      0.536405    0.574280    0.528230    0.490955    0.499865    0.475725   \n",
       "max      1.000000    1.000000    1.000000    1.000000    1.000000    1.000000   \n",
       "\n",
       "              ob7         ob8         ob9        ob10        ob11        ob12  \\\n",
       "count  351.000000  351.000000  351.000000  351.000000  351.000000  351.000000   \n",
       "mean     0.207646    0.189166    0.167682    0.172496    0.152535    0.162474   \n",
       "std      0.372301    0.394930    0.415252    0.394959    0.395606    0.370092   \n",
       "min     -1.000000   -1.000000   -1.000000   -1.000000   -1.000000   -1.000000   \n",
       "25%      0.000000    0.000000    0.000000    0.000000    0.000000    0.000000   \n",
       "50%      0.281250    0.281715    0.241910    0.208330    0.169205    0.210225   \n",
       "75%      0.462390    0.451858    0.433025    0.428870    0.427115    0.406317   \n",
       "max      1.000000    1.000000    1.000000    1.000000    1.000000    1.000000   \n",
       "\n",
       "             ob13        ob14        ob15        ob16      target  \n",
       "count  351.000000  351.000000  351.000000  351.000000  351.000000  \n",
       "mean     0.236052    0.175269    0.174360    0.181922    0.358974  \n",
       "std      0.387967    0.381853    0.378616    0.327098    0.480384  \n",
       "min     -1.000000   -1.000000   -1.000000   -1.000000    0.000000  \n",
       "25%      0.000000    0.000000    0.000000    0.000000    0.000000  \n",
       "50%      0.271860    0.183095    0.194580    0.181665    0.000000  \n",
       "75%      0.460660    0.415273    0.410565    0.392417    1.000000  \n",
       "max      1.000000    1.000000    1.000000    1.000000    1.000000  "
      ]
     },
     "execution_count": 29,
     "metadata": {},
     "output_type": "execute_result"
    }
   ],
   "source": [
    "data.describe()"
   ]
  },
  {
   "cell_type": "markdown",
   "metadata": {},
   "source": [
    "### 0.2 데이터 전처리"
   ]
  },
  {
   "cell_type": "markdown",
   "metadata": {},
   "source": [
    "모든 변수 (-1,1) 이므로 따로 scaling X"
   ]
  },
  {
   "cell_type": "code",
   "execution_count": 30,
   "metadata": {
    "scrolled": true
   },
   "outputs": [
    {
     "data": {
      "text/plain": [
       "ob1       0\n",
       "ob2       0\n",
       "ob3       0\n",
       "ob4       0\n",
       "ob5       0\n",
       "ob6       0\n",
       "ob7       0\n",
       "ob8       0\n",
       "ob9       0\n",
       "ob10      0\n",
       "ob11      0\n",
       "ob12      0\n",
       "ob13      0\n",
       "ob14      0\n",
       "ob15      0\n",
       "ob16      0\n",
       "target    0\n",
       "dtype: int64"
      ]
     },
     "execution_count": 30,
     "metadata": {},
     "output_type": "execute_result"
    }
   ],
   "source": [
    "data.isnull().sum()"
   ]
  },
  {
   "cell_type": "markdown",
   "metadata": {},
   "source": [
    "결측치 존재X"
   ]
  },
  {
   "cell_type": "code",
   "execution_count": 31,
   "metadata": {},
   "outputs": [
    {
     "data": {
      "text/plain": [
       "(351, 17)"
      ]
     },
     "execution_count": 31,
     "metadata": {},
     "output_type": "execute_result"
    }
   ],
   "source": [
    "data.shape"
   ]
  },
  {
   "cell_type": "markdown",
   "metadata": {},
   "source": [
    "## 1. Logistic Regression"
   ]
  },
  {
   "cell_type": "markdown",
   "metadata": {},
   "source": [
    "### 1.1 train test 분리"
   ]
  },
  {
   "cell_type": "code",
   "execution_count": 32,
   "metadata": {},
   "outputs": [],
   "source": [
    "from sklearn.model_selection import train_test_split"
   ]
  },
  {
   "cell_type": "code",
   "execution_count": 33,
   "metadata": {
    "scrolled": true
   },
   "outputs": [
    {
     "data": {
      "text/plain": [
       "6      0\n",
       "52     0\n",
       "114    1\n",
       "45     1\n",
       "106    1\n",
       "Name: target, dtype: int64"
      ]
     },
     "execution_count": 33,
     "metadata": {},
     "output_type": "execute_result"
    }
   ],
   "source": [
    "X, y = data.iloc[:,:-1], data.iloc[:,-1]\n",
    "\n",
    "X_train, X_test, y_train, y_test = train_test_split(X, y, test_size = 0.2, random_state = 0)\n",
    "y_test.head()"
   ]
  },
  {
   "cell_type": "markdown",
   "metadata": {},
   "source": [
    "### 1.2 modeling"
   ]
  },
  {
   "cell_type": "code",
   "execution_count": 34,
   "metadata": {},
   "outputs": [],
   "source": [
    "from sklearn.linear_model import LogisticRegression"
   ]
  },
  {
   "cell_type": "code",
   "execution_count": 35,
   "metadata": {},
   "outputs": [
    {
     "data": {
      "text/plain": [
       "LogisticRegression(C=1.0, class_weight=None, dual=False, fit_intercept=True,\n",
       "                   intercept_scaling=1, l1_ratio=None, max_iter=100,\n",
       "                   multi_class='auto', n_jobs=None, penalty='l2',\n",
       "                   random_state=None, solver='lbfgs', tol=0.0001, verbose=0,\n",
       "                   warm_start=False)"
      ]
     },
     "execution_count": 35,
     "metadata": {},
     "output_type": "execute_result"
    }
   ],
   "source": [
    "logreg = LogisticRegression(solver='lbfgs')\n",
    "\n",
    "logreg.fit(X_train, y_train)"
   ]
  },
  {
   "cell_type": "code",
   "execution_count": 36,
   "metadata": {},
   "outputs": [
    {
     "data": {
      "text/plain": [
       "array([0, 1], dtype=int64)"
      ]
     },
     "execution_count": 36,
     "metadata": {},
     "output_type": "execute_result"
    }
   ],
   "source": [
    "logreg.classes_"
   ]
  },
  {
   "cell_type": "code",
   "execution_count": 37,
   "metadata": {
    "scrolled": true
   },
   "outputs": [
    {
     "data": {
      "text/plain": [
       "array([1.371959])"
      ]
     },
     "execution_count": 37,
     "metadata": {},
     "output_type": "execute_result"
    }
   ],
   "source": [
    "logreg.intercept_"
   ]
  },
  {
   "cell_type": "code",
   "execution_count": 38,
   "metadata": {
    "scrolled": true
   },
   "outputs": [
    {
     "data": {
      "text/plain": [
       "array([[-2.33287293, -1.61126626, -1.66729658, -1.02966946,  0.47278891,\n",
       "        -0.41586192, -0.8078055 , -0.54808648,  0.48087814,  1.12844731,\n",
       "        -0.85197185, -0.86359294,  2.32167017, -0.74366563, -1.0069318 ,\n",
       "         0.43110101]])"
      ]
     },
     "execution_count": 38,
     "metadata": {},
     "output_type": "execute_result"
    }
   ],
   "source": [
    "logreg.coef_"
   ]
  },
  {
   "cell_type": "code",
   "execution_count": 39,
   "metadata": {},
   "outputs": [],
   "source": [
    "y_pred_t = logreg.predict(X_train)\n",
    "y_pred = logreg.predict(X_test)"
   ]
  },
  {
   "cell_type": "code",
   "execution_count": 40,
   "metadata": {},
   "outputs": [
    {
     "name": "stdout",
     "output_type": "stream",
     "text": [
      "Train_Accuracy: 0.8571428571428571\n",
      "Test_Accuracy: 0.8873239436619719\n"
     ]
    }
   ],
   "source": [
    "train_acc = logreg.score(X_train, y_train)\n",
    "test_acc = logreg.score(X_test, y_test)\n",
    "\n",
    "print(f'Train_Accuracy: {train_acc}')\n",
    "print(f'Test_Accuracy: {test_acc}')"
   ]
  },
  {
   "cell_type": "markdown",
   "metadata": {},
   "source": [
    "### 1.3 Confusion Matrix / AUROC"
   ]
  },
  {
   "cell_type": "markdown",
   "metadata": {},
   "source": [
    "#### Confusion Matrix"
   ]
  },
  {
   "cell_type": "code",
   "execution_count": 41,
   "metadata": {},
   "outputs": [],
   "source": [
    "from sklearn.metrics import confusion_matrix\n",
    "import matplotlib.pyplot as plt\n",
    "import seaborn as sns"
   ]
  },
  {
   "cell_type": "code",
   "execution_count": 42,
   "metadata": {},
   "outputs": [
    {
     "data": {
      "image/png": "[encoded data removed]",
      "text/plain": [
       "<Figure size 360x360 with 2 Axes>"
      ]
     },
     "metadata": {
      "needs_background": "light"
     },
     "output_type": "display_data"
    }
   ],
   "source": [
    "con_mat = confusion_matrix(y_test, y_pred, labels=[0,1])\n",
    "\n",
    "group_names = [\"TN\",\"FP\",\"FN\",\"TP\"]\n",
    "group_counts = [\"{0:0.0f}\".format(value) for value in con_mat.flatten()]\n",
    "group_percentages = [\"{0:.2%}\".format(value) for value in con_mat.flatten()/np.sum(con_mat)]\n",
    "\n",
    "labels = [f\"{v1}\\n{v2}\\n{v3}\" for v1, v2, v3 in zip(group_names,group_counts,group_percentages)]\n",
    "labels = np.asarray(labels).reshape(2,2)\n",
    "fig, ax = plt.subplots(figsize=(5,5))\n",
    "\n",
    "sns.heatmap(con_mat, annot=labels, cmap = \"Blues\", fmt=\"\", linewidths=10, square=True)\n",
    "ax.set_ylim([0,2])\n",
    "ax.set_title(\"Confusion Matrix\")\n",
    "plt.ylabel('True label')\n",
    "plt.xlabel('Predicted label' + \"\")\n",
    "plt.show()"
   ]
  },
  {
   "cell_type": "markdown",
   "metadata": {},
   "source": [
    "#### AUROC"
   ]
  },
  {
   "cell_type": "code",
   "execution_count": 43,
   "metadata": {},
   "outputs": [],
   "source": [
    "from sklearn.metrics import roc_curve, auc\n",
    "%matplotlib inline"
   ]
  },
  {
   "cell_type": "code",
   "execution_count": 44,
   "metadata": {
    "scrolled": true
   },
   "outputs": [
    {
     "data": {
      "image/png": "[encoded data removed]",
      "text/plain": [
       "<Figure size 432x288 with 1 Axes>"
      ]
     },
     "metadata": {
      "needs_background": "light"
     },
     "output_type": "display_data"
    }
   ],
   "source": [
    "fpr, tpr, thresholds = roc_curve(y_test, logreg.decision_function(X_test)) \n",
    "\n",
    "plt.plot(fpr, tpr)\n",
    "#plt.fill_between(fpr, tpr)\n",
    "plt.plot([0, 1], [0, 1], '--')\n",
    "plt.xlabel('1 - Specificity(TNR)')\n",
    "#plt.xlabel('거짓 양성 비율(FPR)')\n",
    "plt.ylabel('Sensitivity(TPR)')\n",
    "\n",
    "auc_s = auc(fpr, tpr) # auc(score)\n",
    "plt.title('ROC curve (AUROC = {})'.format(auc_s))\n",
    "plt.show()"
   ]
  },
  {
   "cell_type": "markdown",
   "metadata": {},
   "source": [
    "#### 각 성능 지표"
   ]
  },
  {
   "cell_type": "code",
   "execution_count": 45,
   "metadata": {},
   "outputs": [],
   "source": [
    "from sklearn.metrics import f1_score, accuracy_score, recall_score, precision_score\n",
    "from sklearn.metrics import classification_report"
   ]
  },
  {
   "cell_type": "code",
   "execution_count": 46,
   "metadata": {},
   "outputs": [
    {
     "name": "stdout",
     "output_type": "stream",
     "text": [
      "              precision    recall  f1-score   support\n",
      "\n",
      "           0       0.84      1.00      0.91        41\n",
      "           1       1.00      0.73      0.85        30\n",
      "\n",
      "    accuracy                           0.89        71\n",
      "   macro avg       0.92      0.87      0.88        71\n",
      "weighted avg       0.91      0.89      0.88        71\n",
      "\n"
     ]
    }
   ],
   "source": [
    "print(classification_report(y_test, y_pred))"
   ]
  },
  {
   "cell_type": "code",
   "execution_count": 47,
   "metadata": {
    "scrolled": true
   },
   "outputs": [
    {
     "name": "stdout",
     "output_type": "stream",
     "text": [
      "Accuracy: 0.8873239436619719\n",
      "Precision: 1.0\n",
      "Recall: 0.7333333333333333\n",
      "F1-score: 0.846153846153846\n"
     ]
    }
   ],
   "source": [
    "print(f'Accuracy: {accuracy_score(y_test, y_pred)}')\n",
    "print(f\"Precision: {precision_score(y_test, y_pred, average='binary')}\")\n",
    "print(f\"Recall: {recall_score(y_test, y_pred, average='binary')}\")\n",
    "print(f\"F1-score: {f1_score(y_test, y_pred, average='binary')}\")"
   ]
  },
  {
   "cell_type": "markdown",
   "metadata": {},
   "source": [
    "## 2. Decision Tree"
   ]
  },
  {
   "cell_type": "code",
   "execution_count": 190,
   "metadata": {},
   "outputs": [],
   "source": [
    "col_names = ['ob1', 'ob2', 'ob3', 'ob4', 'ob5', 'ob6', 'ob7', 'ob8', 'ob9', 'ob10', 'ob11', 'ob12', 'ob13', 'ob14', 'ob15', 'ob16']"
   ]
  },
  {
   "cell_type": "markdown",
   "metadata": {},
   "source": [
    "30번 반복"
   ]
  },
  {
   "cell_type": "markdown",
   "metadata": {},
   "source": [
    "### 2.1 train test 분리"
   ]
  },
  {
   "cell_type": "code",
   "execution_count": 48,
   "metadata": {},
   "outputs": [],
   "source": [
    "from sklearn.model_selection import train_test_split"
   ]
  },
  {
   "cell_type": "code",
   "execution_count": 240,
   "metadata": {
    "scrolled": false
   },
   "outputs": [
    {
     "data": {
      "text/plain": [
       "58     0\n",
       "290    0\n",
       "31     1\n",
       "293    0\n",
       "39     1\n",
       "Name: target, dtype: int64"
      ]
     },
     "execution_count": 240,
     "metadata": {},
     "output_type": "execute_result"
    }
   ],
   "source": [
    "X, y = data.iloc[:,:-1], data.iloc[:,-1]\n",
    "\n",
    "X_train, X_test, y_train, y_test = train_test_split(X, y, test_size = 0.2)\n",
    "y_test.head()"
   ]
  },
  {
   "cell_type": "markdown",
   "metadata": {},
   "source": [
    "### 2.2 modeling & visualization & 성능평가 : Gini index"
   ]
  },
  {
   "cell_type": "markdown",
   "metadata": {},
   "source": [
    "#### modeling"
   ]
  },
  {
   "cell_type": "code",
   "execution_count": 241,
   "metadata": {},
   "outputs": [],
   "source": [
    "from sklearn.tree import DecisionTreeClassifier"
   ]
  },
  {
   "cell_type": "code",
   "execution_count": 242,
   "metadata": {
    "scrolled": false
   },
   "outputs": [
    {
     "data": {
      "text/plain": [
       "DecisionTreeClassifier(ccp_alpha=0.0, class_weight=None, criterion='gini',\n",
       "                       max_depth=4, max_features=None, max_leaf_nodes=None,\n",
       "                       min_impurity_decrease=0.0, min_impurity_split=None,\n",
       "                       min_samples_leaf=1, min_samples_split=2,\n",
       "                       min_weight_fraction_leaf=0.0, presort='deprecated',\n",
       "                       random_state=None, splitter='best')"
      ]
     },
     "execution_count": 242,
     "metadata": {},
     "output_type": "execute_result"
    }
   ],
   "source": [
    "DT = DecisionTreeClassifier(criterion = 'gini', max_depth = 4) \n",
    "\n",
    "DT.fit(X_train, y_train)"
   ]
  },
  {
   "cell_type": "code",
   "execution_count": 243,
   "metadata": {},
   "outputs": [
    {
     "name": "stdout",
     "output_type": "stream",
     "text": [
      "Train_Accuracy: 0.975\n",
      "Test_Accuracy: 0.8591549295774648\n"
     ]
    }
   ],
   "source": [
    "train_acc = DT.score(X_train, y_train)\n",
    "test_acc = DT.score(X_test, y_test)\n",
    "\n",
    "print(f'Train_Accuracy: {train_acc}')\n",
    "print(f'Test_Accuracy: {test_acc}')"
   ]
  },
  {
   "cell_type": "markdown",
   "metadata": {},
   "source": [
    "#### visualization"
   ]
  },
  {
   "cell_type": "code",
   "execution_count": 244,
   "metadata": {},
   "outputs": [],
   "source": [
    "from sklearn import tree\n",
    "from sklearn.tree import export_graphviz\n",
    "from sklearn.externals.six import StringIO\n",
    "import pydotplus\n",
    "from IPython.display import Image\n",
    "import graphviz"
   ]
  },
  {
   "cell_type": "code",
   "execution_count": 245,
   "metadata": {
    "scrolled": false
   },
   "outputs": [
    {
     "data": {
      "image/png": "[encoded data removed]",
      "text/plain": [
       "<IPython.core.display.Image object>"
      ]
     },
     "execution_count": 245,
     "metadata": {},
     "output_type": "execute_result"
    }
   ],
   "source": [
    "dot_data = StringIO()\n",
    "dot_data = export_graphviz(DT, out_file = None, feature_names = col_names,\n",
    "                          class_names=['good','bad'], filled = True, rounded = True, special_characters = True)\n",
    "graph = pydotplus.graph_from_dot_data(dot_data)\n",
    "Image(graph.create_png())"
   ]
  },
  {
   "cell_type": "markdown",
   "metadata": {},
   "source": [
    "#### Confusion Matrix"
   ]
  },
  {
   "cell_type": "code",
   "execution_count": 56,
   "metadata": {},
   "outputs": [],
   "source": [
    "from sklearn.metrics import confusion_matrix\n",
    "import matplotlib.pyplot as plt\n",
    "import seaborn as sns"
   ]
  },
  {
   "cell_type": "code",
   "execution_count": 57,
   "metadata": {},
   "outputs": [],
   "source": [
    "y_pred = DT.predict(X_test)"
   ]
  },
  {
   "cell_type": "code",
   "execution_count": 58,
   "metadata": {},
   "outputs": [
    {
     "data": {
      "image/png": "[encoded data removed]",
      "text/plain": [
       "<Figure size 360x360 with 2 Axes>"
      ]
     },
     "metadata": {
      "needs_background": "light"
     },
     "output_type": "display_data"
    }
   ],
   "source": [
    "con_mat = confusion_matrix(y_test, y_pred, labels=[0,1])\n",
    "\n",
    "group_names = [\"TN\",\"FP\",\"FN\",\"TP\"]\n",
    "group_counts = [\"{0:0.0f}\".format(value) for value in con_mat.flatten()]\n",
    "group_percentages = [\"{0:.2%}\".format(value) for value in con_mat.flatten()/np.sum(con_mat)]\n",
    "\n",
    "labels = [f\"{v1}\\n{v2}\\n{v3}\" for v1, v2, v3 in zip(group_names,group_counts,group_percentages)]\n",
    "labels = np.asarray(labels).reshape(2,2)\n",
    "fig, ax = plt.subplots(figsize=(5,5))\n",
    "\n",
    "sns.heatmap(con_mat, annot=labels, cmap = \"Blues\", fmt=\"\", linewidths=10, square=True)\n",
    "ax.set_ylim([0,2])\n",
    "ax.set_title(\"Confusion Matrix\")\n",
    "plt.ylabel('True label')\n",
    "plt.xlabel('Predicted label' + \"\")\n",
    "plt.show()"
   ]
  },
  {
   "cell_type": "markdown",
   "metadata": {},
   "source": [
    "#### AUROC"
   ]
  },
  {
   "cell_type": "code",
   "execution_count": 59,
   "metadata": {},
   "outputs": [],
   "source": [
    "from sklearn.metrics import roc_curve, auc\n",
    "%matplotlib inline"
   ]
  },
  {
   "cell_type": "code",
   "execution_count": 62,
   "metadata": {
    "scrolled": false
   },
   "outputs": [
    {
     "data": {
      "image/png": "[encoded data removed]",
      "text/plain": [
       "<Figure size 432x288 with 1 Axes>"
      ]
     },
     "metadata": {
      "needs_background": "light"
     },
     "output_type": "display_data"
    }
   ],
   "source": [
    "fpr, tpr, thresholds = roc_curve(y_test, DT.predict_proba(X_test)[:,1]) \n",
    "\n",
    "plt.plot(fpr, tpr)\n",
    "#plt.fill_between(fpr, tpr)\n",
    "plt.plot([0, 1], [0, 1], '--')\n",
    "plt.xlabel('1 - Specificity(TNR)')\n",
    "#plt.xlabel('거짓 양성 비율(FPR)')\n",
    "plt.ylabel('Sensitivity(TPR)')\n",
    "\n",
    "auc_s = auc(fpr, tpr) # auc(score)\n",
    "plt.title('ROC curve (AUROC = {})'.format(auc_s))\n",
    "plt.show()"
   ]
  },
  {
   "cell_type": "markdown",
   "metadata": {},
   "source": [
    "#### 각 성능 지표"
   ]
  },
  {
   "cell_type": "code",
   "execution_count": 63,
   "metadata": {},
   "outputs": [],
   "source": [
    "from sklearn.metrics import f1_score, accuracy_score, recall_score, precision_score\n",
    "from sklearn.metrics import classification_report"
   ]
  },
  {
   "cell_type": "code",
   "execution_count": 64,
   "metadata": {},
   "outputs": [
    {
     "name": "stdout",
     "output_type": "stream",
     "text": [
      "              precision    recall  f1-score   support\n",
      "\n",
      "           0       0.84      0.96      0.90        45\n",
      "           1       0.90      0.69      0.78        26\n",
      "\n",
      "    accuracy                           0.86        71\n",
      "   macro avg       0.87      0.82      0.84        71\n",
      "weighted avg       0.86      0.86      0.85        71\n",
      "\n"
     ]
    }
   ],
   "source": [
    "print(classification_report(y_test, y_pred))"
   ]
  },
  {
   "cell_type": "code",
   "execution_count": 65,
   "metadata": {
    "scrolled": true
   },
   "outputs": [
    {
     "name": "stdout",
     "output_type": "stream",
     "text": [
      "Accuracy: 0.8591549295774648\n",
      "Precision: 0.9\n",
      "Recall: 0.6923076923076923\n",
      "F1-score: 0.7826086956521738\n"
     ]
    }
   ],
   "source": [
    "print(f'Accuracy: {accuracy_score(y_test, y_pred)}')\n",
    "print(f\"Precision: {precision_score(y_test, y_pred, average='binary')}\")\n",
    "print(f\"Recall: {recall_score(y_test, y_pred, average='binary')}\")\n",
    "print(f\"F1-score: {f1_score(y_test, y_pred, average='binary')}\")"
   ]
  },
  {
   "cell_type": "code",
   "execution_count": null,
   "metadata": {},
   "outputs": [],
   "source": []
  },
  {
   "cell_type": "code",
   "execution_count": null,
   "metadata": {},
   "outputs": [],
   "source": []
  },
  {
   "cell_type": "markdown",
   "metadata": {},
   "source": [
    "## 3. Random Forest"
   ]
  },
  {
   "cell_type": "markdown",
   "metadata": {},
   "source": [
    "### 3.1 train test 분리"
   ]
  },
  {
   "cell_type": "code",
   "execution_count": 66,
   "metadata": {},
   "outputs": [],
   "source": [
    "from sklearn.model_selection import train_test_split"
   ]
  },
  {
   "cell_type": "code",
   "execution_count": 67,
   "metadata": {
    "scrolled": false
   },
   "outputs": [
    {
     "data": {
      "text/plain": [
       "6      0\n",
       "52     0\n",
       "114    1\n",
       "45     1\n",
       "106    1\n",
       "Name: target, dtype: int64"
      ]
     },
     "execution_count": 67,
     "metadata": {},
     "output_type": "execute_result"
    }
   ],
   "source": [
    "X, y = data.iloc[:,:-1], data.iloc[:,-1]\n",
    "\n",
    "X_train, X_test, y_train, y_test = train_test_split(X, y, test_size = 0.2, random_state = 0)\n",
    "y_test.head()"
   ]
  },
  {
   "cell_type": "markdown",
   "metadata": {},
   "source": [
    "### 3.2 modeling"
   ]
  },
  {
   "cell_type": "code",
   "execution_count": 68,
   "metadata": {},
   "outputs": [],
   "source": [
    "from sklearn.ensemble import RandomForestClassifier"
   ]
  },
  {
   "cell_type": "code",
   "execution_count": 145,
   "metadata": {},
   "outputs": [
    {
     "data": {
      "text/plain": [
       "RandomForestClassifier(bootstrap=True, ccp_alpha=0.0, class_weight=None,\n",
       "                       criterion='gini', max_depth=3, max_features='auto',\n",
       "                       max_leaf_nodes=None, max_samples=None,\n",
       "                       min_impurity_decrease=0.0, min_impurity_split=None,\n",
       "                       min_samples_leaf=1, min_samples_split=2,\n",
       "                       min_weight_fraction_leaf=0.0, n_estimators=100,\n",
       "                       n_jobs=None, oob_score=True, random_state=42, verbose=0,\n",
       "                       warm_start=False)"
      ]
     },
     "execution_count": 145,
     "metadata": {},
     "output_type": "execute_result"
    }
   ],
   "source": [
    "RF = RandomForestClassifier(n_estimators=100, oob_score=True,\n",
    "                            criterion='gini', max_depth=4, random_state=42)\n",
    "RF.fit(X_train, y_train)"
   ]
  },
  {
   "cell_type": "code",
   "execution_count": 146,
   "metadata": {
    "scrolled": true
   },
   "outputs": [
    {
     "name": "stdout",
     "output_type": "stream",
     "text": [
      "[DecisionTreeClassifier(ccp_alpha=0.0, class_weight=None, criterion='gini',\n",
      "                       max_depth=3, max_features='auto', max_leaf_nodes=None,\n",
      "                       min_impurity_decrease=0.0, min_impurity_split=None,\n",
      "                       min_samples_leaf=1, min_samples_split=2,\n",
      "                       min_weight_fraction_leaf=0.0, presort='deprecated',\n",
      "                       random_state=1608637542, splitter='best'), DecisionTreeClassifier(ccp_alpha=0.0, class_weight=None, criterion='gini',\n",
      "                       max_depth=3, max_features='auto', max_leaf_nodes=None,\n",
      "                       min_impurity_decrease=0.0, min_impurity_split=None,\n",
      "                       min_samples_leaf=1, min_samples_split=2,\n",
      "                       min_weight_fraction_leaf=0.0, presort='deprecated',\n",
      "                       random_state=1273642419, splitter='best'), DecisionTreeClassifier(ccp_alpha=0.0, class_weight=None, criterion='gini',\n",
      "                       max_depth=3, max_features='auto', max_leaf_nodes=None,\n",
      "                       min_impurity_decrease=0.0, min_impurity_split=None,\n",
      "                       min_samples_leaf=1, min_samples_split=2,\n",
      "                       min_weight_fraction_leaf=0.0, presort='deprecated',\n",
      "                       random_state=1935803228, splitter='best')]\n",
      "100\n"
     ]
    }
   ],
   "source": [
    "print(RF.estimators_[:3])\n",
    "print(len(RF.estimators_))"
   ]
  },
  {
   "cell_type": "markdown",
   "metadata": {},
   "source": [
    "### 3.3 Feature Importance"
   ]
  },
  {
   "cell_type": "code",
   "execution_count": 147,
   "metadata": {},
   "outputs": [],
   "source": [
    "import matplotlib.pyplot as plt"
   ]
  },
  {
   "cell_type": "code",
   "execution_count": 148,
   "metadata": {},
   "outputs": [
    {
     "data": {
      "image/png": "[encoded data removed]",
      "text/plain": [
       "<Figure size 432x288 with 1 Axes>"
      ]
     },
     "metadata": {
      "needs_background": "light"
     },
     "output_type": "display_data"
    }
   ],
   "source": [
    "def plot_feature_importances(model):\n",
    "\n",
    "    n_features = X.shape[1]\n",
    "    idx = np.arange(n_features)\n",
    "\n",
    "    plt.barh(range(n_features), model.feature_importances_, align='center')\n",
    "\n",
    "    plt.yticks(np.arange(n_features))\n",
    "    plt.yticks(idx, col_names[:])\n",
    "\n",
    "    plt.xlabel(\"feature importances\")\n",
    "\n",
    "    plt.ylabel(\"feature\")\n",
    "\n",
    "    plt.ylim(-1, n_features)\n",
    "\n",
    "plot_feature_importances(RF)\n",
    "plt.show()"
   ]
  },
  {
   "cell_type": "code",
   "execution_count": 149,
   "metadata": {},
   "outputs": [
    {
     "data": {
      "text/plain": [
       "0.9357142857142857"
      ]
     },
     "execution_count": 149,
     "metadata": {},
     "output_type": "execute_result"
    }
   ],
   "source": [
    "# oob_score -> test data로 성능 평가와 비슷\n",
    "## train data 중 포함되지 않은 data로 성능측정\n",
    "RF.oob_score_"
   ]
  },
  {
   "cell_type": "markdown",
   "metadata": {},
   "source": [
    "### 3.4 visualization"
   ]
  },
  {
   "cell_type": "code",
   "execution_count": 150,
   "metadata": {},
   "outputs": [
    {
     "data": {
      "image/svg+xml": [
       "<?xml version=\"1.0\" encoding=\"UTF-8\" standalone=\"no\"?>\r\n",
       "<!DOCTYPE svg PUBLIC \"-//W3C//DTD SVG 1.1//EN\"\r\n",
       " \"http://www.w3.org/Graphics/SVG/1.1/DTD/svg11.dtd\">\r\n",
       "<!-- Generated by graphviz version 2.47.2 (20210527.0053)\r\n",
       " -->\r\n",
       "<!-- Title: Tree Pages: 1 -->\r\n",
       "<svg width=\"486pt\" height=\"373pt\"\r\n",
       " viewBox=\"0.00 0.00 486.00 373.00\" xmlns=\"http://www.w3.org/2000/svg\" xmlns:xlink=\"http://www.w3.org/1999/xlink\">\r\n",
       "<g id=\"graph0\" class=\"graph\" transform=\"scale(1 1) rotate(0) translate(4 369)\">\r\n",
       "<title>Tree</title>\r\n",
       "<polygon fill=\"white\" stroke=\"transparent\" points=\"-4,4 -4,-369 482,-369 482,4 -4,4\"/>\r\n",
       "<!-- 0 -->\r\n",
       "<g id=\"node1\" class=\"node\">\r\n",
       "<title>0</title>\r\n",
       "<path fill=\"#f3c4a2\" stroke=\"black\" d=\"M225.5,-365C225.5,-365 127.5,-365 127.5,-365 121.5,-365 115.5,-359 115.5,-353 115.5,-353 115.5,-309 115.5,-309 115.5,-303 121.5,-297 127.5,-297 127.5,-297 225.5,-297 225.5,-297 231.5,-297 237.5,-303 237.5,-309 237.5,-309 237.5,-353 237.5,-353 237.5,-359 231.5,-365 225.5,-365\"/>\r\n",
       "<text text-anchor=\"middle\" x=\"176.5\" y=\"-349.8\" font-family=\"Helvetica,sans-Serif\" font-size=\"14.00\">X[2] &lt;= 0.04</text>\r\n",
       "<text text-anchor=\"middle\" x=\"176.5\" y=\"-334.8\" font-family=\"Helvetica,sans-Serif\" font-size=\"14.00\">gini = 0.45</text>\r\n",
       "<text text-anchor=\"middle\" x=\"176.5\" y=\"-319.8\" font-family=\"Helvetica,sans-Serif\" font-size=\"14.00\">samples = 173</text>\r\n",
       "<text text-anchor=\"middle\" x=\"176.5\" y=\"-304.8\" font-family=\"Helvetica,sans-Serif\" font-size=\"14.00\">value = [183, 97]</text>\r\n",
       "</g>\r\n",
       "<!-- 1 -->\r\n",
       "<g id=\"node2\" class=\"node\">\r\n",
       "<title>1</title>\r\n",
       "<path fill=\"#399de5\" stroke=\"black\" d=\"M151,-253.5C151,-253.5 70,-253.5 70,-253.5 64,-253.5 58,-247.5 58,-241.5 58,-241.5 58,-212.5 58,-212.5 58,-206.5 64,-200.5 70,-200.5 70,-200.5 151,-200.5 151,-200.5 157,-200.5 163,-206.5 163,-212.5 163,-212.5 163,-241.5 163,-241.5 163,-247.5 157,-253.5 151,-253.5\"/>\r\n",
       "<text text-anchor=\"middle\" x=\"110.5\" y=\"-238.3\" font-family=\"Helvetica,sans-Serif\" font-size=\"14.00\">gini = 0.0</text>\r\n",
       "<text text-anchor=\"middle\" x=\"110.5\" y=\"-223.3\" font-family=\"Helvetica,sans-Serif\" font-size=\"14.00\">samples = 42</text>\r\n",
       "<text text-anchor=\"middle\" x=\"110.5\" y=\"-208.3\" font-family=\"Helvetica,sans-Serif\" font-size=\"14.00\">value = [0, 65]</text>\r\n",
       "</g>\r\n",
       "<!-- 0&#45;&gt;1 -->\r\n",
       "<g id=\"edge1\" class=\"edge\">\r\n",
       "<title>0&#45;&gt;1</title>\r\n",
       "<path fill=\"none\" stroke=\"black\" d=\"M155.07,-296.88C147.88,-285.78 139.86,-273.37 132.62,-262.18\"/>\r\n",
       "<polygon fill=\"black\" stroke=\"black\" points=\"135.38,-260.01 127.01,-253.52 129.51,-263.82 135.38,-260.01\"/>\r\n",
       "<text text-anchor=\"middle\" x=\"121.77\" y=\"-274.26\" font-family=\"Helvetica,sans-Serif\" font-size=\"14.00\">True</text>\r\n",
       "</g>\r\n",
       "<!-- 2 -->\r\n",
       "<g id=\"node3\" class=\"node\">\r\n",
       "<title>2</title>\r\n",
       "<path fill=\"#ea975c\" stroke=\"black\" d=\"M291.5,-261C291.5,-261 193.5,-261 193.5,-261 187.5,-261 181.5,-255 181.5,-249 181.5,-249 181.5,-205 181.5,-205 181.5,-199 187.5,-193 193.5,-193 193.5,-193 291.5,-193 291.5,-193 297.5,-193 303.5,-199 303.5,-205 303.5,-205 303.5,-249 303.5,-249 303.5,-255 297.5,-261 291.5,-261\"/>\r\n",
       "<text text-anchor=\"middle\" x=\"242.5\" y=\"-245.8\" font-family=\"Helvetica,sans-Serif\" font-size=\"14.00\">X[10] &lt;= 0.76</text>\r\n",
       "<text text-anchor=\"middle\" x=\"242.5\" y=\"-230.8\" font-family=\"Helvetica,sans-Serif\" font-size=\"14.00\">gini = 0.25</text>\r\n",
       "<text text-anchor=\"middle\" x=\"242.5\" y=\"-215.8\" font-family=\"Helvetica,sans-Serif\" font-size=\"14.00\">samples = 131</text>\r\n",
       "<text text-anchor=\"middle\" x=\"242.5\" y=\"-200.8\" font-family=\"Helvetica,sans-Serif\" font-size=\"14.00\">value = [183, 32]</text>\r\n",
       "</g>\r\n",
       "<!-- 0&#45;&gt;2 -->\r\n",
       "<g id=\"edge2\" class=\"edge\">\r\n",
       "<title>0&#45;&gt;2</title>\r\n",
       "<path fill=\"none\" stroke=\"black\" d=\"M197.93,-296.88C203.52,-288.24 209.62,-278.82 215.46,-269.79\"/>\r\n",
       "<polygon fill=\"black\" stroke=\"black\" points=\"218.46,-271.6 220.95,-261.3 212.58,-267.79 218.46,-271.6\"/>\r\n",
       "<text text-anchor=\"middle\" x=\"226.19\" y=\"-282.04\" font-family=\"Helvetica,sans-Serif\" font-size=\"14.00\">False</text>\r\n",
       "</g>\r\n",
       "<!-- 3 -->\r\n",
       "<g id=\"node4\" class=\"node\">\r\n",
       "<title>3</title>\r\n",
       "<path fill=\"#e88e4e\" stroke=\"black\" d=\"M225.5,-157C225.5,-157 127.5,-157 127.5,-157 121.5,-157 115.5,-151 115.5,-145 115.5,-145 115.5,-101 115.5,-101 115.5,-95 121.5,-89 127.5,-89 127.5,-89 225.5,-89 225.5,-89 231.5,-89 237.5,-95 237.5,-101 237.5,-101 237.5,-145 237.5,-145 237.5,-151 231.5,-157 225.5,-157\"/>\r\n",
       "<text text-anchor=\"middle\" x=\"176.5\" y=\"-141.8\" font-family=\"Helvetica,sans-Serif\" font-size=\"14.00\">X[0] &lt;= 0.02</text>\r\n",
       "<text text-anchor=\"middle\" x=\"176.5\" y=\"-126.8\" font-family=\"Helvetica,sans-Serif\" font-size=\"14.00\">gini = 0.17</text>\r\n",
       "<text text-anchor=\"middle\" x=\"176.5\" y=\"-111.8\" font-family=\"Helvetica,sans-Serif\" font-size=\"14.00\">samples = 125</text>\r\n",
       "<text text-anchor=\"middle\" x=\"176.5\" y=\"-96.8\" font-family=\"Helvetica,sans-Serif\" font-size=\"14.00\">value = [181, 19]</text>\r\n",
       "</g>\r\n",
       "<!-- 2&#45;&gt;3 -->\r\n",
       "<g id=\"edge3\" class=\"edge\">\r\n",
       "<title>2&#45;&gt;3</title>\r\n",
       "<path fill=\"none\" stroke=\"black\" d=\"M221.07,-192.88C215.48,-184.24 209.38,-174.82 203.54,-165.79\"/>\r\n",
       "<polygon fill=\"black\" stroke=\"black\" points=\"206.42,-163.79 198.05,-157.3 200.54,-167.6 206.42,-163.79\"/>\r\n",
       "</g>\r\n",
       "<!-- 6 -->\r\n",
       "<g id=\"node7\" class=\"node\">\r\n",
       "<title>6</title>\r\n",
       "<path fill=\"#57ace9\" stroke=\"black\" d=\"M349,-157C349,-157 268,-157 268,-157 262,-157 256,-151 256,-145 256,-145 256,-101 256,-101 256,-95 262,-89 268,-89 268,-89 349,-89 349,-89 355,-89 361,-95 361,-101 361,-101 361,-145 361,-145 361,-151 355,-157 349,-157\"/>\r\n",
       "<text text-anchor=\"middle\" x=\"308.5\" y=\"-141.8\" font-family=\"Helvetica,sans-Serif\" font-size=\"14.00\">X[2] &lt;= 0.81</text>\r\n",
       "<text text-anchor=\"middle\" x=\"308.5\" y=\"-126.8\" font-family=\"Helvetica,sans-Serif\" font-size=\"14.00\">gini = 0.23</text>\r\n",
       "<text text-anchor=\"middle\" x=\"308.5\" y=\"-111.8\" font-family=\"Helvetica,sans-Serif\" font-size=\"14.00\">samples = 6</text>\r\n",
       "<text text-anchor=\"middle\" x=\"308.5\" y=\"-96.8\" font-family=\"Helvetica,sans-Serif\" font-size=\"14.00\">value = [2, 13]</text>\r\n",
       "</g>\r\n",
       "<!-- 2&#45;&gt;6 -->\r\n",
       "<g id=\"edge6\" class=\"edge\">\r\n",
       "<title>2&#45;&gt;6</title>\r\n",
       "<path fill=\"none\" stroke=\"black\" d=\"M263.93,-192.88C269.52,-184.24 275.62,-174.82 281.46,-165.79\"/>\r\n",
       "<polygon fill=\"black\" stroke=\"black\" points=\"284.46,-167.6 286.95,-157.3 278.58,-163.79 284.46,-167.6\"/>\r\n",
       "</g>\r\n",
       "<!-- 4 -->\r\n",
       "<g id=\"node5\" class=\"node\">\r\n",
       "<title>4</title>\r\n",
       "<path fill=\"#399de5\" stroke=\"black\" d=\"M93,-53C93,-53 12,-53 12,-53 6,-53 0,-47 0,-41 0,-41 0,-12 0,-12 0,-6 6,0 12,0 12,0 93,0 93,0 99,0 105,-6 105,-12 105,-12 105,-41 105,-41 105,-47 99,-53 93,-53\"/>\r\n",
       "<text text-anchor=\"middle\" x=\"52.5\" y=\"-37.8\" font-family=\"Helvetica,sans-Serif\" font-size=\"14.00\">gini = 0.0</text>\r\n",
       "<text text-anchor=\"middle\" x=\"52.5\" y=\"-22.8\" font-family=\"Helvetica,sans-Serif\" font-size=\"14.00\">samples = 7</text>\r\n",
       "<text text-anchor=\"middle\" x=\"52.5\" y=\"-7.8\" font-family=\"Helvetica,sans-Serif\" font-size=\"14.00\">value = [0, 11]</text>\r\n",
       "</g>\r\n",
       "<!-- 3&#45;&gt;4 -->\r\n",
       "<g id=\"edge4\" class=\"edge\">\r\n",
       "<title>3&#45;&gt;4</title>\r\n",
       "<path fill=\"none\" stroke=\"black\" d=\"M133.13,-88.95C120.53,-79.34 106.79,-68.87 94.29,-59.34\"/>\r\n",
       "<polygon fill=\"black\" stroke=\"black\" points=\"96.35,-56.51 86.27,-53.24 92.1,-62.08 96.35,-56.51\"/>\r\n",
       "</g>\r\n",
       "<!-- 5 -->\r\n",
       "<g id=\"node6\" class=\"node\">\r\n",
       "<title>5</title>\r\n",
       "<path fill=\"#e68742\" stroke=\"black\" d=\"M224,-53C224,-53 135,-53 135,-53 129,-53 123,-47 123,-41 123,-41 123,-12 123,-12 123,-6 129,0 135,0 135,0 224,0 224,0 230,0 236,-6 236,-12 236,-12 236,-41 236,-41 236,-47 230,-53 224,-53\"/>\r\n",
       "<text text-anchor=\"middle\" x=\"179.5\" y=\"-37.8\" font-family=\"Helvetica,sans-Serif\" font-size=\"14.00\">gini = 0.08</text>\r\n",
       "<text text-anchor=\"middle\" x=\"179.5\" y=\"-22.8\" font-family=\"Helvetica,sans-Serif\" font-size=\"14.00\">samples = 118</text>\r\n",
       "<text text-anchor=\"middle\" x=\"179.5\" y=\"-7.8\" font-family=\"Helvetica,sans-Serif\" font-size=\"14.00\">value = [181, 8]</text>\r\n",
       "</g>\r\n",
       "<!-- 3&#45;&gt;5 -->\r\n",
       "<g id=\"edge5\" class=\"edge\">\r\n",
       "<title>3&#45;&gt;5</title>\r\n",
       "<path fill=\"none\" stroke=\"black\" d=\"M177.55,-88.95C177.81,-80.72 178.09,-71.85 178.36,-63.48\"/>\r\n",
       "<polygon fill=\"black\" stroke=\"black\" points=\"181.86,-63.34 178.68,-53.24 174.87,-63.12 181.86,-63.34\"/>\r\n",
       "</g>\r\n",
       "<!-- 7 -->\r\n",
       "<g id=\"node8\" class=\"node\">\r\n",
       "<title>7</title>\r\n",
       "<path fill=\"#f2c09c\" stroke=\"black\" d=\"M343,-53C343,-53 270,-53 270,-53 264,-53 258,-47 258,-41 258,-41 258,-12 258,-12 258,-6 264,0 270,0 270,0 343,0 343,0 349,0 355,-6 355,-12 355,-12 355,-41 355,-41 355,-47 349,-53 343,-53\"/>\r\n",
       "<text text-anchor=\"middle\" x=\"306.5\" y=\"-37.8\" font-family=\"Helvetica,sans-Serif\" font-size=\"14.00\">gini = 0.44</text>\r\n",
       "<text text-anchor=\"middle\" x=\"306.5\" y=\"-22.8\" font-family=\"Helvetica,sans-Serif\" font-size=\"14.00\">samples = 2</text>\r\n",
       "<text text-anchor=\"middle\" x=\"306.5\" y=\"-7.8\" font-family=\"Helvetica,sans-Serif\" font-size=\"14.00\">value = [2, 1]</text>\r\n",
       "</g>\r\n",
       "<!-- 6&#45;&gt;7 -->\r\n",
       "<g id=\"edge7\" class=\"edge\">\r\n",
       "<title>6&#45;&gt;7</title>\r\n",
       "<path fill=\"none\" stroke=\"black\" d=\"M307.8,-88.95C307.63,-80.72 307.44,-71.85 307.26,-63.48\"/>\r\n",
       "<polygon fill=\"black\" stroke=\"black\" points=\"310.76,-63.16 307.04,-53.24 303.76,-63.31 310.76,-63.16\"/>\r\n",
       "</g>\r\n",
       "<!-- 8 -->\r\n",
       "<g id=\"node9\" class=\"node\">\r\n",
       "<title>8</title>\r\n",
       "<path fill=\"#399de5\" stroke=\"black\" d=\"M466,-53C466,-53 385,-53 385,-53 379,-53 373,-47 373,-41 373,-41 373,-12 373,-12 373,-6 379,0 385,0 385,0 466,0 466,0 472,0 478,-6 478,-12 478,-12 478,-41 478,-41 478,-47 472,-53 466,-53\"/>\r\n",
       "<text text-anchor=\"middle\" x=\"425.5\" y=\"-37.8\" font-family=\"Helvetica,sans-Serif\" font-size=\"14.00\">gini = 0.0</text>\r\n",
       "<text text-anchor=\"middle\" x=\"425.5\" y=\"-22.8\" font-family=\"Helvetica,sans-Serif\" font-size=\"14.00\">samples = 4</text>\r\n",
       "<text text-anchor=\"middle\" x=\"425.5\" y=\"-7.8\" font-family=\"Helvetica,sans-Serif\" font-size=\"14.00\">value = [0, 12]</text>\r\n",
       "</g>\r\n",
       "<!-- 6&#45;&gt;8 -->\r\n",
       "<g id=\"edge8\" class=\"edge\">\r\n",
       "<title>6&#45;&gt;8</title>\r\n",
       "<path fill=\"none\" stroke=\"black\" d=\"M349.42,-88.95C361.2,-79.43 374.03,-69.07 385.74,-59.62\"/>\r\n",
       "<polygon fill=\"black\" stroke=\"black\" points=\"388.06,-62.24 393.64,-53.24 383.66,-56.8 388.06,-62.24\"/>\r\n",
       "</g>\r\n",
       "</g>\r\n",
       "</svg>\r\n"
      ],
      "text/plain": [
       "<graphviz.files.Source at 0x1c32b5767f0>"
      ]
     },
     "execution_count": 150,
     "metadata": {},
     "output_type": "execute_result"
    }
   ],
   "source": [
    "# randomforest 중 일부 트리 graph화\n",
    "estimator = RF.estimators_[5]\n",
    "\n",
    "dot_data = export_graphviz(estimator, \n",
    "                rounded = True, proportion = False, \n",
    "                precision = 2, filled = True)\n",
    "\n",
    "graph = graphviz.Source(dot_data)  \n",
    "graph"
   ]
  },
  {
   "cell_type": "markdown",
   "metadata": {},
   "source": [
    "### 3.5 성능평가"
   ]
  },
  {
   "cell_type": "markdown",
   "metadata": {},
   "source": [
    "#### Confusion Matrix"
   ]
  },
  {
   "cell_type": "code",
   "execution_count": 75,
   "metadata": {},
   "outputs": [],
   "source": [
    "from sklearn.metrics import confusion_matrix\n",
    "import matplotlib.pyplot as plt\n",
    "import seaborn as sns"
   ]
  },
  {
   "cell_type": "code",
   "execution_count": 76,
   "metadata": {},
   "outputs": [],
   "source": [
    "y_pred = RF.predict(X_test)"
   ]
  },
  {
   "cell_type": "code",
   "execution_count": 77,
   "metadata": {},
   "outputs": [
    {
     "data": {
      "image/png": "[encoded data removed]",
      "text/plain": [
       "<Figure size 360x360 with 2 Axes>"
      ]
     },
     "metadata": {
      "needs_background": "light"
     },
     "output_type": "display_data"
    }
   ],
   "source": [
    "con_mat = confusion_matrix(y_test, y_pred, labels=[0,1])\n",
    "\n",
    "group_names = [\"TN\",\"FP\",\"FN\",\"TP\"]\n",
    "group_counts = [\"{0:0.0f}\".format(value) for value in con_mat.flatten()]\n",
    "group_percentages = [\"{0:.2%}\".format(value) for value in con_mat.flatten()/np.sum(con_mat)]\n",
    "\n",
    "labels = [f\"{v1}\\n{v2}\\n{v3}\" for v1, v2, v3 in zip(group_names,group_counts,group_percentages)]\n",
    "labels = np.asarray(labels).reshape(2,2)\n",
    "fig, ax = plt.subplots(figsize=(5,5))\n",
    "\n",
    "sns.heatmap(con_mat, annot=labels, cmap = \"Blues\", fmt=\"\", linewidths=10, square=True)\n",
    "ax.set_ylim([0,2])\n",
    "ax.set_title(\"Confusion Matrix\")\n",
    "plt.ylabel('True label')\n",
    "plt.xlabel('Predicted label' + \"\")\n",
    "plt.show()"
   ]
  },
  {
   "cell_type": "markdown",
   "metadata": {},
   "source": [
    "#### AUROC"
   ]
  },
  {
   "cell_type": "code",
   "execution_count": 78,
   "metadata": {},
   "outputs": [],
   "source": [
    "from sklearn.metrics import roc_curve, auc\n",
    "%matplotlib inline"
   ]
  },
  {
   "cell_type": "code",
   "execution_count": 80,
   "metadata": {
    "scrolled": false
   },
   "outputs": [
    {
     "data": {
      "image/png": "[encoded data removed]",
      "text/plain": [
       "<Figure size 432x288 with 1 Axes>"
      ]
     },
     "metadata": {
      "needs_background": "light"
     },
     "output_type": "display_data"
    }
   ],
   "source": [
    "fpr, tpr, thresholds = roc_curve(y_test, RF.predict_proba(X_test)[:,1]) \n",
    "\n",
    "plt.plot(fpr, tpr)\n",
    "#plt.fill_between(fpr, tpr)\n",
    "plt.plot([0, 1], [0, 1], '--')\n",
    "plt.xlabel('1 - Specificity(TNR)')\n",
    "#plt.xlabel('거짓 양성 비율(FPR)')\n",
    "plt.ylabel('Sensitivity(TPR)')\n",
    "\n",
    "auc_s = auc(fpr, tpr) # auc(score)\n",
    "plt.title('ROC curve (AUROC = {})'.format(auc_s))\n",
    "plt.show()"
   ]
  },
  {
   "cell_type": "markdown",
   "metadata": {},
   "source": [
    "#### 각 성능 지표"
   ]
  },
  {
   "cell_type": "code",
   "execution_count": 81,
   "metadata": {},
   "outputs": [],
   "source": [
    "from sklearn.metrics import f1_score, accuracy_score, recall_score, precision_score\n",
    "from sklearn.metrics import classification_report"
   ]
  },
  {
   "cell_type": "code",
   "execution_count": 82,
   "metadata": {},
   "outputs": [
    {
     "name": "stdout",
     "output_type": "stream",
     "text": [
      "              precision    recall  f1-score   support\n",
      "\n",
      "           0       0.93      1.00      0.96        41\n",
      "           1       1.00      0.90      0.95        30\n",
      "\n",
      "    accuracy                           0.96        71\n",
      "   macro avg       0.97      0.95      0.96        71\n",
      "weighted avg       0.96      0.96      0.96        71\n",
      "\n"
     ]
    }
   ],
   "source": [
    "print(classification_report(y_test, y_pred))"
   ]
  },
  {
   "cell_type": "code",
   "execution_count": 83,
   "metadata": {
    "scrolled": false
   },
   "outputs": [
    {
     "name": "stdout",
     "output_type": "stream",
     "text": [
      "Accuracy: 0.9577464788732394\n",
      "Precision: 1.0\n",
      "Recall: 0.9\n",
      "F1-score: 0.9473684210526316\n"
     ]
    }
   ],
   "source": [
    "print(f'Accuracy: {accuracy_score(y_test, y_pred)}')\n",
    "print(f\"Precision: {precision_score(y_test, y_pred, average='binary')}\")\n",
    "print(f\"Recall: {recall_score(y_test, y_pred, average='binary')}\")\n",
    "print(f\"F1-score: {f1_score(y_test, y_pred, average='binary')}\")"
   ]
  },
  {
   "cell_type": "markdown",
   "metadata": {},
   "source": [
    "## 4. Gradient Boosting"
   ]
  },
  {
   "cell_type": "markdown",
   "metadata": {},
   "source": [
    "### 4.1 train test 분리"
   ]
  },
  {
   "cell_type": "code",
   "execution_count": 246,
   "metadata": {},
   "outputs": [],
   "source": [
    "from sklearn.model_selection import train_test_split"
   ]
  },
  {
   "cell_type": "code",
   "execution_count": 247,
   "metadata": {
    "scrolled": true
   },
   "outputs": [
    {
     "data": {
      "text/plain": [
       "6      0\n",
       "52     0\n",
       "114    1\n",
       "45     1\n",
       "106    1\n",
       "Name: target, dtype: int64"
      ]
     },
     "execution_count": 247,
     "metadata": {},
     "output_type": "execute_result"
    }
   ],
   "source": [
    "X, y = data.iloc[:,:-1], data.iloc[:,-1]\n",
    "\n",
    "X_train, X_test, y_train, y_test = train_test_split(X, y, test_size = 0.2, random_state = 0)\n",
    "y_test.head()"
   ]
  },
  {
   "cell_type": "markdown",
   "metadata": {},
   "source": [
    "### 4.2 modeling"
   ]
  },
  {
   "cell_type": "code",
   "execution_count": 248,
   "metadata": {},
   "outputs": [],
   "source": [
    "from sklearn.ensemble import GradientBoostingClassifier"
   ]
  },
  {
   "cell_type": "code",
   "execution_count": 249,
   "metadata": {},
   "outputs": [
    {
     "data": {
      "text/plain": [
       "GradientBoostingClassifier(ccp_alpha=0.0, criterion='friedman_mse', init=None,\n",
       "                           learning_rate=0.1, loss='deviance', max_depth=3,\n",
       "                           max_features=None, max_leaf_nodes=None,\n",
       "                           min_impurity_decrease=0.0, min_impurity_split=None,\n",
       "                           min_samples_leaf=1, min_samples_split=2,\n",
       "                           min_weight_fraction_leaf=0.0, n_estimators=100,\n",
       "                           n_iter_no_change=None, presort='deprecated',\n",
       "                           random_state=42, subsample=1.0, tol=0.0001,\n",
       "                           validation_fraction=0.1, verbose=0,\n",
       "                           warm_start=False)"
      ]
     },
     "execution_count": 249,
     "metadata": {},
     "output_type": "execute_result"
    }
   ],
   "source": [
    "GB = GradientBoostingClassifier(n_estimators=100, random_state=42)\n",
    "\n",
    "GB.fit(X_train, y_train)"
   ]
  },
  {
   "cell_type": "code",
   "execution_count": 250,
   "metadata": {},
   "outputs": [],
   "source": [
    "y_pred = GB.predict(X_train)"
   ]
  },
  {
   "cell_type": "code",
   "execution_count": 251,
   "metadata": {
    "scrolled": true
   },
   "outputs": [
    {
     "name": "stdout",
     "output_type": "stream",
     "text": [
      "100\n",
      "[1.13195085 1.0064127  0.90525538 0.82178048 0.7500977  0.68891738\n",
      " 0.63661827 0.58661389 0.54668504 0.51182452 0.47561427 0.44697897\n",
      " 0.42179508 0.39701796 0.37722447 0.3452956  0.32704848 0.30666335\n",
      " 0.29416414 0.26831419 0.25757445 0.23861973 0.22433089 0.20962021\n",
      " 0.2023266  0.18990903 0.18384465 0.17217331 0.16189569 0.15405235\n",
      " 0.14923554 0.14473699 0.13671496 0.13108328 0.12287046 0.11540332\n",
      " 0.11126875 0.10640539 0.10061083 0.09631128 0.09331784 0.08790726\n",
      " 0.08577164 0.08086947 0.0769521  0.07399079 0.071923   0.06843223\n",
      " 0.06537833 0.06356703 0.06063784 0.05777538 0.05603667 0.0545756\n",
      " 0.05271015 0.0512852  0.04986273 0.04865445 0.04671855 0.04569465\n",
      " 0.043964   0.04282877 0.0413106  0.0399329  0.03886606 0.03759769\n",
      " 0.03622163 0.03489225 0.03392195 0.03296804 0.03214458 0.03129486\n",
      " 0.03033105 0.02958473 0.02867995 0.02786904 0.02718525 0.02651602\n",
      " 0.02605272 0.02543981 0.02486741 0.0243736  0.02328059 0.02258011\n",
      " 0.02172582 0.02095701 0.02047912 0.01979613 0.01925673 0.01881545\n",
      " 0.0183268  0.01768259 0.01723815 0.0168766  0.01657427 0.016002\n",
      " 0.0156346  0.01528855 0.01467749 0.01429565]\n"
     ]
    },
    {
     "data": {
      "text/plain": [
       "[<matplotlib.lines.Line2D at 0x1c32add5220>]"
      ]
     },
     "execution_count": 251,
     "metadata": {},
     "output_type": "execute_result"
    },
    {
     "data": {
      "image/png": "[encoded data removed]",
      "text/plain": [
       "<Figure size 432x288 with 1 Axes>"
      ]
     },
     "metadata": {
      "needs_background": "light"
     },
     "output_type": "display_data"
    }
   ],
   "source": [
    "# staged_score 새로운 data에 대해서 누적한 값\n",
    "# 그 누적값을 학습한 값들을 기록함 \n",
    "print(len(GB.train_score_))\n",
    "print(GB.train_score_)\n",
    "\n",
    "# residual이니깐 계속 값이 떨어지는 것임\n",
    "plt.plot(GB.train_score_)"
   ]
  },
  {
   "cell_type": "markdown",
   "metadata": {},
   "source": [
    "#### Confusion Matrix"
   ]
  },
  {
   "cell_type": "code",
   "execution_count": 252,
   "metadata": {},
   "outputs": [],
   "source": [
    "from sklearn.metrics import confusion_matrix\n",
    "import matplotlib.pyplot as plt\n",
    "import seaborn as sns"
   ]
  },
  {
   "cell_type": "code",
   "execution_count": 253,
   "metadata": {},
   "outputs": [],
   "source": [
    "y_pred = GB.predict(X_test)"
   ]
  },
  {
   "cell_type": "code",
   "execution_count": 254,
   "metadata": {},
   "outputs": [
    {
     "data": {
      "image/png": "[encoded data removed]",
      "text/plain": [
       "<Figure size 360x360 with 2 Axes>"
      ]
     },
     "metadata": {
      "needs_background": "light"
     },
     "output_type": "display_data"
    }
   ],
   "source": [
    "con_mat = confusion_matrix(y_test, y_pred, labels=[0,1])\n",
    "\n",
    "group_names = [\"TN\",\"FP\",\"FN\",\"TP\"]\n",
    "group_counts = [\"{0:0.0f}\".format(value) for value in con_mat.flatten()]\n",
    "group_percentages = [\"{0:.2%}\".format(value) for value in con_mat.flatten()/np.sum(con_mat)]\n",
    "\n",
    "labels = [f\"{v1}\\n{v2}\\n{v3}\" for v1, v2, v3 in zip(group_names,group_counts,group_percentages)]\n",
    "labels = np.asarray(labels).reshape(2,2)\n",
    "fig, ax = plt.subplots(figsize=(5,5))\n",
    "\n",
    "sns.heatmap(con_mat, annot=labels, cmap = \"Blues\", fmt=\"\", linewidths=10, square=True)\n",
    "ax.set_ylim([0,2])\n",
    "ax.set_title(\"Confusion Matrix\")\n",
    "plt.ylabel('True label')\n",
    "plt.xlabel('Predicted label' + \"\")\n",
    "plt.show()"
   ]
  },
  {
   "cell_type": "markdown",
   "metadata": {},
   "source": [
    "#### AUROC"
   ]
  },
  {
   "cell_type": "code",
   "execution_count": 255,
   "metadata": {},
   "outputs": [],
   "source": [
    "from sklearn.metrics import roc_curve, auc\n",
    "%matplotlib inline"
   ]
  },
  {
   "cell_type": "code",
   "execution_count": 256,
   "metadata": {
    "scrolled": false
   },
   "outputs": [
    {
     "data": {
      "image/png": "[encoded data removed]",
      "text/plain": [
       "<Figure size 432x288 with 1 Axes>"
      ]
     },
     "metadata": {
      "needs_background": "light"
     },
     "output_type": "display_data"
    }
   ],
   "source": [
    "fpr, tpr, thresholds = roc_curve(y_test, GB.decision_function(X_test)) \n",
    "\n",
    "plt.plot(fpr, tpr)\n",
    "#plt.fill_between(fpr, tpr)\n",
    "plt.plot([0, 1], [0, 1], '--')\n",
    "plt.xlabel('1 - Specificity(TNR)')\n",
    "#plt.xlabel('거짓 양성 비율(FPR)')\n",
    "plt.ylabel('Sensitivity(TPR)')\n",
    "\n",
    "auc_s = auc(fpr, tpr) # auc(score)\n",
    "plt.title('ROC curve (AUROC = {})'.format(auc_s))\n",
    "plt.show()"
   ]
  },
  {
   "cell_type": "markdown",
   "metadata": {},
   "source": [
    "#### 각 성능 지표"
   ]
  },
  {
   "cell_type": "code",
   "execution_count": 257,
   "metadata": {},
   "outputs": [],
   "source": [
    "from sklearn.metrics import f1_score, accuracy_score, recall_score, precision_score\n",
    "from sklearn.metrics import classification_report"
   ]
  },
  {
   "cell_type": "code",
   "execution_count": 258,
   "metadata": {},
   "outputs": [
    {
     "name": "stdout",
     "output_type": "stream",
     "text": [
      "              precision    recall  f1-score   support\n",
      "\n",
      "           0       0.95      0.93      0.94        41\n",
      "           1       0.90      0.93      0.92        30\n",
      "\n",
      "    accuracy                           0.93        71\n",
      "   macro avg       0.93      0.93      0.93        71\n",
      "weighted avg       0.93      0.93      0.93        71\n",
      "\n"
     ]
    }
   ],
   "source": [
    "print(classification_report(y_test, y_pred))"
   ]
  },
  {
   "cell_type": "code",
   "execution_count": 259,
   "metadata": {
    "scrolled": false
   },
   "outputs": [
    {
     "name": "stdout",
     "output_type": "stream",
     "text": [
      "Accuracy: 0.9295774647887324\n",
      "Precision: 0.9032258064516129\n",
      "Recall: 0.9333333333333333\n",
      "F1-score: 0.9180327868852459\n"
     ]
    }
   ],
   "source": [
    "print(f'Accuracy: {accuracy_score(y_test, y_pred)}')\n",
    "print(f\"Precision: {precision_score(y_test, y_pred, average='binary')}\")\n",
    "print(f\"Recall: {recall_score(y_test, y_pred, average='binary')}\")\n",
    "print(f\"F1-score: {f1_score(y_test, y_pred, average='binary')}\")"
   ]
  },
  {
   "cell_type": "markdown",
   "metadata": {},
   "source": [
    "#### GridSearchCV"
   ]
  },
  {
   "cell_type": "code",
   "execution_count": 260,
   "metadata": {},
   "outputs": [],
   "source": [
    "from sklearn.model_selection import GridSearchCV"
   ]
  },
  {
   "cell_type": "code",
   "execution_count": 261,
   "metadata": {
    "scrolled": true
   },
   "outputs": [
    {
     "name": "stdout",
     "output_type": "stream",
     "text": [
      "Fitting 5 folds for each of 1800 candidates, totalling 9000 fits\n"
     ]
    },
    {
     "name": "stderr",
     "output_type": "stream",
     "text": [
      "[Parallel(n_jobs=-1)]: Using backend LokyBackend with 8 concurrent workers.\n",
      "[Parallel(n_jobs=-1)]: Done  34 tasks      | elapsed:    4.5s\n",
      "[Parallel(n_jobs=-1)]: Done 184 tasks      | elapsed:    9.7s\n",
      "[Parallel(n_jobs=-1)]: Done 434 tasks      | elapsed:   18.5s\n",
      "[Parallel(n_jobs=-1)]: Done 784 tasks      | elapsed:   29.9s\n",
      "[Parallel(n_jobs=-1)]: Done 1492 tasks      | elapsed:   52.1s\n",
      "[Parallel(n_jobs=-1)]: Done 2581 tasks      | elapsed:  1.5min\n",
      "[Parallel(n_jobs=-1)]: Done 3234 tasks      | elapsed:  1.9min\n",
      "[Parallel(n_jobs=-1)]: Done 3984 tasks      | elapsed:  2.7min\n",
      "[Parallel(n_jobs=-1)]: Done 4834 tasks      | elapsed:  3.6min\n",
      "[Parallel(n_jobs=-1)]: Done 5784 tasks      | elapsed:  4.4min\n",
      "[Parallel(n_jobs=-1)]: Done 6834 tasks      | elapsed:  5.4min\n",
      "[Parallel(n_jobs=-1)]: Done 7984 tasks      | elapsed:  6.5min\n",
      "[Parallel(n_jobs=-1)]: Done 9000 out of 9000 | elapsed:  7.2min finished\n"
     ]
    },
    {
     "data": {
      "text/plain": [
       "GridSearchCV(cv=5, error_score=nan,\n",
       "             estimator=GradientBoostingClassifier(ccp_alpha=0.0,\n",
       "                                                  criterion='friedman_mse',\n",
       "                                                  init=None, learning_rate=0.1,\n",
       "                                                  loss='deviance', max_depth=3,\n",
       "                                                  max_features=None,\n",
       "                                                  max_leaf_nodes=None,\n",
       "                                                  min_impurity_decrease=0.0,\n",
       "                                                  min_impurity_split=None,\n",
       "                                                  min_samples_leaf=1,\n",
       "                                                  min_samples_split=2,\n",
       "                                                  min_weight_fraction_leaf=0.0,\n",
       "                                                  n_estimators=100,\n",
       "                                                  n_iter_no_c...\n",
       "                                                  subsample=1.0, tol=0.0001,\n",
       "                                                  validation_fraction=0.1,\n",
       "                                                  verbose=0, warm_start=False),\n",
       "             iid='deprecated', n_jobs=-1,\n",
       "             param_grid=[{'learning_rate': array([0.01, 0.02, 0.03, 0.04, 0.05, 0.06, 0.07, 0.08, 0.09, 0.1 ]),\n",
       "                          'max_depth': range(3, 5),\n",
       "                          'max_features': range(1, 10),\n",
       "                          'n_estimators': range(1, 500, 50)}],\n",
       "             pre_dispatch='2*n_jobs', refit=True, return_train_score=False,\n",
       "             scoring='accuracy', verbose=1)"
      ]
     },
     "execution_count": 261,
     "metadata": {},
     "output_type": "execute_result"
    }
   ],
   "source": [
    "param_grid = [{'n_estimators': range(1, 500, 50), 'max_features': range(1, 10),\n",
    "              'max_depth': range(3, 5), 'learning_rate': np.linspace(0.01, 0.1, 10)}]\n",
    "\n",
    "gs = GridSearchCV(estimator = GB, param_grid = param_grid, scoring='accuracy', cv=5, verbose=1, n_jobs=-1)\n",
    "\n",
    "gs.fit(X_train, y_train)"
   ]
  },
  {
   "cell_type": "code",
   "execution_count": 262,
   "metadata": {
    "scrolled": true
   },
   "outputs": [
    {
     "data": {
      "text/plain": [
       "GradientBoostingClassifier(ccp_alpha=0.0, criterion='friedman_mse', init=None,\n",
       "                           learning_rate=0.06000000000000001, loss='deviance',\n",
       "                           max_depth=4, max_features=3, max_leaf_nodes=None,\n",
       "                           min_impurity_decrease=0.0, min_impurity_split=None,\n",
       "                           min_samples_leaf=1, min_samples_split=2,\n",
       "                           min_weight_fraction_leaf=0.0, n_estimators=51,\n",
       "                           n_iter_no_change=None, presort='deprecated',\n",
       "                           random_state=42, subsample=1.0, tol=0.0001,\n",
       "                           validation_fraction=0.1, verbose=0,\n",
       "                           warm_start=False)"
      ]
     },
     "execution_count": 262,
     "metadata": {},
     "output_type": "execute_result"
    }
   ],
   "source": [
    "# 모든 모델 중 가장 성능이 좋은 것을 뽑는 best estimator # n_estimators가 제일 높은 모델이 선정되는 것이 대부분\n",
    "best_gsb_estimator = gs.best_estimator_\n",
    "best_gsb_estimator"
   ]
  },
  {
   "cell_type": "code",
   "execution_count": 263,
   "metadata": {},
   "outputs": [
    {
     "name": "stdout",
     "output_type": "stream",
     "text": [
      "Best Estimator Parameters\n",
      "---------------------------\n",
      "n_estimators: 51\n",
      "max_depth: 4\n",
      "Learning Rate: 0.060\n",
      "min_samples_leaf: 1\n",
      "max_features: 3\n",
      "---------------------------\n"
     ]
    }
   ],
   "source": [
    "print(\"Best Estimator Parameters\" )\n",
    "print(\"---------------------------\" )\n",
    "print(\"n_estimators: %d\" %best_gsb_estimator.n_estimators )\n",
    "print(\"max_depth: %d\" %best_gsb_estimator.max_depth )\n",
    "print(\"Learning Rate: %.3f\" %best_gsb_estimator.learning_rate )\n",
    "print(\"min_samples_leaf: %d\" %best_gsb_estimator.min_samples_leaf )\n",
    "print(\"max_features: %d\" %best_gsb_estimator.max_features) \n",
    "print(\"---------------------------\" )"
   ]
  },
  {
   "cell_type": "code",
   "execution_count": 264,
   "metadata": {},
   "outputs": [
    {
     "data": {
      "text/plain": [
       "array([0.22828133, 0.1504917 , 0.19626846, 0.05797848, 0.05659779,\n",
       "       0.02071249, 0.01917135, 0.01018847, 0.01370998, 0.0249188 ,\n",
       "       0.02052784, 0.02251536, 0.0498185 , 0.03017424, 0.05187415,\n",
       "       0.04677105])"
      ]
     },
     "execution_count": 264,
     "metadata": {},
     "output_type": "execute_result"
    }
   ],
   "source": [
    "best_feature_importances = best_gsb_estimator.feature_importances_\n",
    "best_feature_importances"
   ]
  },
  {
   "cell_type": "code",
   "execution_count": 265,
   "metadata": {},
   "outputs": [
    {
     "data": {
      "image/png": "[encoded data removed]",
      "text/plain": [
       "<Figure size 720x720 with 1 Axes>"
      ]
     },
     "metadata": {
      "needs_background": "light"
     },
     "output_type": "display_data"
    }
   ],
   "source": [
    "# feature_importances_: feature별 중요도를 수치로 표현 (총합:1)\n",
    "## 결정에 각 특성이 얼마나 중요한지 평가하는 것\n",
    "## 피쳐마다 비슷하게 생성되었기 때문에 수치가 비슷하게 생성된 것을 알 수 있음\n",
    "\n",
    "import seaborn as sns\n",
    "\n",
    "ft_importances = pd.Series(best_feature_importances)\n",
    "\n",
    "plt.figure(figsize=(10,10))\n",
    "n_features = X.shape[1]\n",
    "idx = np.arange(n_features)\n",
    "plt.xticks(np.arange(n_features))\n",
    "plt.xticks(idx, col_names[:])\n",
    "plt.xlim(-1, n_features)\n",
    "\n",
    "plt.title(\"best_model_feature_importances\")\n",
    "plt.xlabel(\"feature\")\n",
    "plt.ylabel(\"feature_importances\")\n",
    "sns.barplot(col_names[:], y = ft_importances)\n",
    "plt.tick_params('x', rotation = 90)\n",
    "plt.show()"
   ]
  },
  {
   "cell_type": "code",
   "execution_count": 266,
   "metadata": {},
   "outputs": [
    {
     "data": {
      "text/plain": [
       "{'learning_rate': 0.06000000000000001,\n",
       " 'max_depth': 4,\n",
       " 'max_features': 3,\n",
       " 'n_estimators': 51}"
      ]
     },
     "execution_count": 266,
     "metadata": {},
     "output_type": "execute_result"
    }
   ],
   "source": [
    "params = gs.best_params_\n",
    "params"
   ]
  },
  {
   "cell_type": "code",
   "execution_count": 267,
   "metadata": {},
   "outputs": [
    {
     "data": {
      "image/png": "[encoded data removed]",
      "text/plain": [
       "<Figure size 432x432 with 1 Axes>"
      ]
     },
     "metadata": {
      "needs_background": "light"
     },
     "output_type": "display_data"
    }
   ],
   "source": [
    "# train, test deviance graph\n",
    "test_score = np.zeros((params['n_estimators'],), dtype=np.float64)\n",
    "for i, y_pred in enumerate(best_gsb_estimator.staged_predict(X_test)):\n",
    "    test_score[i] = best_gsb_estimator.loss_(y_test, y_pred)\n",
    "\n",
    "fig = plt.figure(figsize=(6, 6))\n",
    "plt.subplot(1, 1, 1)\n",
    "plt.title('Deviance')\n",
    "plt.plot(np.arange(params['n_estimators']) + 1, best_gsb_estimator.train_score_, 'b-',\n",
    "         label='Training Set Deviance')\n",
    "plt.plot(np.arange(params['n_estimators']) + 1, test_score, 'r-',\n",
    "         label='Test Set Deviance')\n",
    "plt.legend(loc='upper right')\n",
    "plt.xlabel('Boosting Iterations')\n",
    "plt.ylabel('Deviance')\n",
    "fig.tight_layout()\n",
    "plt.show()"
   ]
  },
  {
   "cell_type": "code",
   "execution_count": 268,
   "metadata": {},
   "outputs": [
    {
     "name": "stdout",
     "output_type": "stream",
     "text": [
      "Train Accuracy: 0.9964\n",
      "Test Accuracy: 0.9577\n"
     ]
    }
   ],
   "source": [
    "print(\"Train Accuracy: %.4f\" %best_gsb_estimator.score(X_train, y_train))\n",
    "print(\"Test Accuracy: %.4f\" %best_gsb_estimator.score(X_test, y_test))"
   ]
  },
  {
   "cell_type": "code",
   "execution_count": 269,
   "metadata": {},
   "outputs": [
    {
     "data": {
      "text/plain": [
       "GradientBoostingClassifier(ccp_alpha=0.0, criterion='friedman_mse', init=None,\n",
       "                           learning_rate=0.06000000000000001, loss='deviance',\n",
       "                           max_depth=4, max_features=3, max_leaf_nodes=None,\n",
       "                           min_impurity_decrease=0.0, min_impurity_split=None,\n",
       "                           min_samples_leaf=1, min_samples_split=2,\n",
       "                           min_weight_fraction_leaf=0.0, n_estimators=51,\n",
       "                           n_iter_no_change=None, presort='deprecated',\n",
       "                           random_state=42, subsample=1.0, tol=0.0001,\n",
       "                           validation_fraction=0.1, verbose=0,\n",
       "                           warm_start=False)"
      ]
     },
     "execution_count": 269,
     "metadata": {},
     "output_type": "execute_result"
    }
   ],
   "source": [
    "best_gsb_estimator"
   ]
  },
  {
   "cell_type": "code",
   "execution_count": 270,
   "metadata": {
    "scrolled": false
   },
   "outputs": [
    {
     "data": {
      "image/svg+xml": [
       "<?xml version=\"1.0\" encoding=\"UTF-8\" standalone=\"no\"?>\r\n",
       "<!DOCTYPE svg PUBLIC \"-//W3C//DTD SVG 1.1//EN\"\r\n",
       " \"http://www.w3.org/Graphics/SVG/1.1/DTD/svg11.dtd\">\r\n",
       "<!-- Generated by graphviz version 2.47.2 (20210527.0053)\r\n",
       " -->\r\n",
       "<!-- Title: Tree Pages: 1 -->\r\n",
       "<svg width=\"2612pt\" height=\"461pt\"\r\n",
       " viewBox=\"0.00 0.00 2612.00 461.00\" xmlns=\"http://www.w3.org/2000/svg\" xmlns:xlink=\"http://www.w3.org/1999/xlink\">\r\n",
       "<g id=\"graph0\" class=\"graph\" transform=\"scale(1 1) rotate(0) translate(4 457)\">\r\n",
       "<title>Tree</title>\r\n",
       "<polygon fill=\"white\" stroke=\"transparent\" points=\"-4,4 -4,-457 2608,-457 2608,4 -4,4\"/>\r\n",
       "<!-- 0 -->\r\n",
       "<g id=\"node1\" class=\"node\">\r\n",
       "<title>0</title>\r\n",
       "<path fill=\"#f5ccb0\" stroke=\"black\" d=\"M1357,-453C1357,-453 1229,-453 1229,-453 1223,-453 1217,-447 1217,-441 1217,-441 1217,-401 1217,-401 1217,-395 1223,-389 1229,-389 1229,-389 1357,-389 1357,-389 1363,-389 1369,-395 1369,-401 1369,-401 1369,-441 1369,-441 1369,-447 1363,-453 1357,-453\"/>\r\n",
       "<text text-anchor=\"start\" x=\"1262.5\" y=\"-438.8\" font-family=\"Helvetica,sans-Serif\" font-size=\"14.00\">X</text>\r\n",
       "<text text-anchor=\"start\" x=\"1272.5\" y=\"-438.8\" font-family=\"Helvetica,sans-Serif\" baseline-shift=\"sub\" font-size=\"14.00\">2</text>\r\n",
       "<text text-anchor=\"start\" x=\"1279.5\" y=\"-438.8\" font-family=\"Helvetica,sans-Serif\" font-size=\"14.00\"> ≤ 0.05</text>\r\n",
       "<text text-anchor=\"start\" x=\"1225\" y=\"-424.8\" font-family=\"Helvetica,sans-Serif\" font-size=\"14.00\">friedman_mse = 0.06</text>\r\n",
       "<text text-anchor=\"start\" x=\"1245.5\" y=\"-410.8\" font-family=\"Helvetica,sans-Serif\" font-size=\"14.00\">samples = 280</text>\r\n",
       "<text text-anchor=\"start\" x=\"1256\" y=\"-396.8\" font-family=\"Helvetica,sans-Serif\" font-size=\"14.00\">value = &#45;0.0</text>\r\n",
       "</g>\r\n",
       "<!-- 1 -->\r\n",
       "<g id=\"node2\" class=\"node\">\r\n",
       "<title>1</title>\r\n",
       "<path fill=\"#f3c2a0\" stroke=\"black\" d=\"M1035,-353C1035,-353 907,-353 907,-353 901,-353 895,-347 895,-341 895,-341 895,-301 895,-301 895,-295 901,-289 907,-289 907,-289 1035,-289 1035,-289 1041,-289 1047,-295 1047,-301 1047,-301 1047,-341 1047,-341 1047,-347 1041,-353 1035,-353\"/>\r\n",
       "<text text-anchor=\"start\" x=\"938\" y=\"-338.8\" font-family=\"Helvetica,sans-Serif\" font-size=\"14.00\">X</text>\r\n",
       "<text text-anchor=\"start\" x=\"948\" y=\"-338.8\" font-family=\"Helvetica,sans-Serif\" baseline-shift=\"sub\" font-size=\"14.00\">5</text>\r\n",
       "<text text-anchor=\"start\" x=\"955\" y=\"-338.8\" font-family=\"Helvetica,sans-Serif\" font-size=\"14.00\"> ≤ &#45;0.01</text>\r\n",
       "<text text-anchor=\"start\" x=\"903\" y=\"-324.8\" font-family=\"Helvetica,sans-Serif\" font-size=\"14.00\">friedman_mse = 0.01</text>\r\n",
       "<text text-anchor=\"start\" x=\"927.5\" y=\"-310.8\" font-family=\"Helvetica,sans-Serif\" font-size=\"14.00\">samples = 67</text>\r\n",
       "<text text-anchor=\"start\" x=\"932\" y=\"-296.8\" font-family=\"Helvetica,sans-Serif\" font-size=\"14.00\">value = 0.26</text>\r\n",
       "</g>\r\n",
       "<!-- 0&#45;&gt;1 -->\r\n",
       "<g id=\"edge1\" class=\"edge\">\r\n",
       "<title>0&#45;&gt;1</title>\r\n",
       "<path fill=\"none\" stroke=\"black\" d=\"M1216.69,-396.78C1168.66,-382.16 1106.56,-363.26 1056.82,-348.12\"/>\r\n",
       "<polygon fill=\"black\" stroke=\"black\" points=\"1057.63,-344.71 1047.04,-345.14 1055.59,-351.4 1057.63,-344.71\"/>\r\n",
       "<text text-anchor=\"middle\" x=\"1058.8\" y=\"-363.5\" font-family=\"Helvetica,sans-Serif\" font-size=\"14.00\">True</text>\r\n",
       "</g>\r\n",
       "<!-- 16 -->\r\n",
       "<g id=\"node17\" class=\"node\">\r\n",
       "<title>16</title>\r\n",
       "<path fill=\"#f5d0b5\" stroke=\"black\" d=\"M1683,-353C1683,-353 1555,-353 1555,-353 1549,-353 1543,-347 1543,-341 1543,-341 1543,-301 1543,-301 1543,-295 1549,-289 1555,-289 1555,-289 1683,-289 1683,-289 1689,-289 1695,-295 1695,-301 1695,-301 1695,-341 1695,-341 1695,-347 1689,-353 1683,-353\"/>\r\n",
       "<text text-anchor=\"start\" x=\"1588.5\" y=\"-338.8\" font-family=\"Helvetica,sans-Serif\" font-size=\"14.00\">X</text>\r\n",
       "<text text-anchor=\"start\" x=\"1598.5\" y=\"-338.8\" font-family=\"Helvetica,sans-Serif\" baseline-shift=\"sub\" font-size=\"14.00\">0</text>\r\n",
       "<text text-anchor=\"start\" x=\"1605.5\" y=\"-338.8\" font-family=\"Helvetica,sans-Serif\" font-size=\"14.00\"> ≤ 0.04</text>\r\n",
       "<text text-anchor=\"start\" x=\"1551\" y=\"-324.8\" font-family=\"Helvetica,sans-Serif\" font-size=\"14.00\">friedman_mse = 0.05</text>\r\n",
       "<text text-anchor=\"start\" x=\"1571.5\" y=\"-310.8\" font-family=\"Helvetica,sans-Serif\" font-size=\"14.00\">samples = 213</text>\r\n",
       "<text text-anchor=\"start\" x=\"1578\" y=\"-296.8\" font-family=\"Helvetica,sans-Serif\" font-size=\"14.00\">value = &#45;0.08</text>\r\n",
       "</g>\r\n",
       "<!-- 0&#45;&gt;16 -->\r\n",
       "<g id=\"edge16\" class=\"edge\">\r\n",
       "<title>0&#45;&gt;16</title>\r\n",
       "<path fill=\"none\" stroke=\"black\" d=\"M1369.02,-397.15C1418.16,-382.38 1482.21,-363.12 1533.18,-347.8\"/>\r\n",
       "<polygon fill=\"black\" stroke=\"black\" points=\"1534.29,-351.12 1542.86,-344.89 1532.27,-344.42 1534.29,-351.12\"/>\r\n",
       "<text text-anchor=\"middle\" x=\"1531.02\" y=\"-363.21\" font-family=\"Helvetica,sans-Serif\" font-size=\"14.00\">False</text>\r\n",
       "</g>\r\n",
       "<!-- 2 -->\r\n",
       "<g id=\"node3\" class=\"node\">\r\n",
       "<title>2</title>\r\n",
       "<path fill=\"#f3c4a2\" stroke=\"black\" d=\"M549,-253C549,-253 421,-253 421,-253 415,-253 409,-247 409,-241 409,-241 409,-201 409,-201 409,-195 415,-189 421,-189 421,-189 549,-189 549,-189 555,-189 561,-195 561,-201 561,-201 561,-241 561,-241 561,-247 555,-253 549,-253\"/>\r\n",
       "<text text-anchor=\"start\" x=\"448.5\" y=\"-238.8\" font-family=\"Helvetica,sans-Serif\" font-size=\"14.00\">X</text>\r\n",
       "<text text-anchor=\"start\" x=\"458.5\" y=\"-238.8\" font-family=\"Helvetica,sans-Serif\" baseline-shift=\"sub\" font-size=\"14.00\">15</text>\r\n",
       "<text text-anchor=\"start\" x=\"472.5\" y=\"-238.8\" font-family=\"Helvetica,sans-Serif\" font-size=\"14.00\"> ≤ &#45;0.11</text>\r\n",
       "<text text-anchor=\"start\" x=\"417\" y=\"-224.8\" font-family=\"Helvetica,sans-Serif\" font-size=\"14.00\">friedman_mse = 0.03</text>\r\n",
       "<text text-anchor=\"start\" x=\"441.5\" y=\"-210.8\" font-family=\"Helvetica,sans-Serif\" font-size=\"14.00\">samples = 17</text>\r\n",
       "<text text-anchor=\"start\" x=\"446\" y=\"-196.8\" font-family=\"Helvetica,sans-Serif\" font-size=\"14.00\">value = 0.22</text>\r\n",
       "</g>\r\n",
       "<!-- 1&#45;&gt;2 -->\r\n",
       "<g id=\"edge2\" class=\"edge\">\r\n",
       "<title>1&#45;&gt;2</title>\r\n",
       "<path fill=\"none\" stroke=\"black\" d=\"M894.8,-304.63C806.9,-286.91 662.75,-257.84 570.94,-239.33\"/>\r\n",
       "<polygon fill=\"black\" stroke=\"black\" points=\"571.61,-235.89 561.12,-237.35 570.23,-242.76 571.61,-235.89\"/>\r\n",
       "</g>\r\n",
       "<!-- 9 -->\r\n",
       "<g id=\"node10\" class=\"node\">\r\n",
       "<title>9</title>\r\n",
       "<path fill=\"#f2c29f\" stroke=\"black\" d=\"M1031,-253C1031,-253 911,-253 911,-253 905,-253 899,-247 899,-241 899,-241 899,-201 899,-201 899,-195 905,-189 911,-189 911,-189 1031,-189 1031,-189 1037,-189 1043,-195 1043,-201 1043,-201 1043,-241 1043,-241 1043,-247 1037,-253 1031,-253\"/>\r\n",
       "<text text-anchor=\"start\" x=\"941\" y=\"-238.8\" font-family=\"Helvetica,sans-Serif\" font-size=\"14.00\">X</text>\r\n",
       "<text text-anchor=\"start\" x=\"951\" y=\"-238.8\" font-family=\"Helvetica,sans-Serif\" baseline-shift=\"sub\" font-size=\"14.00\">11</text>\r\n",
       "<text text-anchor=\"start\" x=\"965\" y=\"-238.8\" font-family=\"Helvetica,sans-Serif\" font-size=\"14.00\"> ≤ 0.1</text>\r\n",
       "<text text-anchor=\"start\" x=\"907\" y=\"-224.8\" font-family=\"Helvetica,sans-Serif\" font-size=\"14.00\">friedman_mse = 0.0</text>\r\n",
       "<text text-anchor=\"start\" x=\"927.5\" y=\"-210.8\" font-family=\"Helvetica,sans-Serif\" font-size=\"14.00\">samples = 50</text>\r\n",
       "<text text-anchor=\"start\" x=\"932\" y=\"-196.8\" font-family=\"Helvetica,sans-Serif\" font-size=\"14.00\">value = 0.28</text>\r\n",
       "</g>\r\n",
       "<!-- 1&#45;&gt;9 -->\r\n",
       "<g id=\"edge9\" class=\"edge\">\r\n",
       "<title>1&#45;&gt;9</title>\r\n",
       "<path fill=\"none\" stroke=\"black\" d=\"M971,-288.99C971,-280.86 971,-271.96 971,-263.38\"/>\r\n",
       "<polygon fill=\"black\" stroke=\"black\" points=\"974.5,-263.14 971,-253.14 967.5,-263.14 974.5,-263.14\"/>\r\n",
       "</g>\r\n",
       "<!-- 3 -->\r\n",
       "<g id=\"node4\" class=\"node\">\r\n",
       "<title>3</title>\r\n",
       "<path fill=\"#f4c8a8\" stroke=\"black\" d=\"M302,-153C302,-153 174,-153 174,-153 168,-153 162,-147 162,-141 162,-141 162,-101 162,-101 162,-95 168,-89 174,-89 174,-89 302,-89 302,-89 308,-89 314,-95 314,-101 314,-101 314,-141 314,-141 314,-147 308,-153 302,-153\"/>\r\n",
       "<text text-anchor=\"start\" x=\"205\" y=\"-138.8\" font-family=\"Helvetica,sans-Serif\" font-size=\"14.00\">X</text>\r\n",
       "<text text-anchor=\"start\" x=\"215\" y=\"-138.8\" font-family=\"Helvetica,sans-Serif\" baseline-shift=\"sub\" font-size=\"14.00\">9</text>\r\n",
       "<text text-anchor=\"start\" x=\"222\" y=\"-138.8\" font-family=\"Helvetica,sans-Serif\" font-size=\"14.00\"> ≤ &#45;0.13</text>\r\n",
       "<text text-anchor=\"start\" x=\"170\" y=\"-124.8\" font-family=\"Helvetica,sans-Serif\" font-size=\"14.00\">friedman_mse = 0.05</text>\r\n",
       "<text text-anchor=\"start\" x=\"198.5\" y=\"-110.8\" font-family=\"Helvetica,sans-Serif\" font-size=\"14.00\">samples = 7</text>\r\n",
       "<text text-anchor=\"start\" x=\"199\" y=\"-96.8\" font-family=\"Helvetica,sans-Serif\" font-size=\"14.00\">value = 0.13</text>\r\n",
       "</g>\r\n",
       "<!-- 2&#45;&gt;3 -->\r\n",
       "<g id=\"edge3\" class=\"edge\">\r\n",
       "<title>2&#45;&gt;3</title>\r\n",
       "<path fill=\"none\" stroke=\"black\" d=\"M408.88,-189.8C382,-179.13 351.58,-167.07 323.95,-156.1\"/>\r\n",
       "<polygon fill=\"black\" stroke=\"black\" points=\"324.88,-152.71 314.3,-152.27 322.3,-159.21 324.88,-152.71\"/>\r\n",
       "</g>\r\n",
       "<!-- 6 -->\r\n",
       "<g id=\"node7\" class=\"node\">\r\n",
       "<title>6</title>\r\n",
       "<path fill=\"#f2c29f\" stroke=\"black\" d=\"M545,-153C545,-153 425,-153 425,-153 419,-153 413,-147 413,-141 413,-141 413,-101 413,-101 413,-95 419,-89 425,-89 425,-89 545,-89 545,-89 551,-89 557,-95 557,-101 557,-101 557,-141 557,-141 557,-147 551,-153 545,-153\"/>\r\n",
       "<text text-anchor=\"start\" x=\"448.5\" y=\"-138.8\" font-family=\"Helvetica,sans-Serif\" font-size=\"14.00\">X</text>\r\n",
       "<text text-anchor=\"start\" x=\"458.5\" y=\"-138.8\" font-family=\"Helvetica,sans-Serif\" baseline-shift=\"sub\" font-size=\"14.00\">11</text>\r\n",
       "<text text-anchor=\"start\" x=\"472.5\" y=\"-138.8\" font-family=\"Helvetica,sans-Serif\" font-size=\"14.00\"> ≤ &#45;0.12</text>\r\n",
       "<text text-anchor=\"start\" x=\"421\" y=\"-124.8\" font-family=\"Helvetica,sans-Serif\" font-size=\"14.00\">friedman_mse = 0.0</text>\r\n",
       "<text text-anchor=\"start\" x=\"441.5\" y=\"-110.8\" font-family=\"Helvetica,sans-Serif\" font-size=\"14.00\">samples = 10</text>\r\n",
       "<text text-anchor=\"start\" x=\"446\" y=\"-96.8\" font-family=\"Helvetica,sans-Serif\" font-size=\"14.00\">value = 0.29</text>\r\n",
       "</g>\r\n",
       "<!-- 2&#45;&gt;6 -->\r\n",
       "<g id=\"edge6\" class=\"edge\">\r\n",
       "<title>2&#45;&gt;6</title>\r\n",
       "<path fill=\"none\" stroke=\"black\" d=\"M485,-188.99C485,-180.86 485,-171.96 485,-163.38\"/>\r\n",
       "<polygon fill=\"black\" stroke=\"black\" points=\"488.5,-163.14 485,-153.14 481.5,-163.14 488.5,-163.14\"/>\r\n",
       "</g>\r\n",
       "<!-- 4 -->\r\n",
       "<g id=\"node5\" class=\"node\">\r\n",
       "<title>4</title>\r\n",
       "<path fill=\"#ea985e\" stroke=\"black\" d=\"M132,-53C132,-53 12,-53 12,-53 6,-53 0,-47 0,-41 0,-41 0,-12 0,-12 0,-6 6,0 12,0 12,0 132,0 132,0 138,0 144,-6 144,-12 144,-12 144,-41 144,-41 144,-47 138,-53 132,-53\"/>\r\n",
       "<text text-anchor=\"start\" x=\"8\" y=\"-37.8\" font-family=\"Helvetica,sans-Serif\" font-size=\"14.00\">friedman_mse = 0.0</text>\r\n",
       "<text text-anchor=\"start\" x=\"32.5\" y=\"-22.8\" font-family=\"Helvetica,sans-Serif\" font-size=\"14.00\">samples = 3</text>\r\n",
       "<text text-anchor=\"start\" x=\"33\" y=\"-7.8\" font-family=\"Helvetica,sans-Serif\" font-size=\"14.00\">value = 1.37</text>\r\n",
       "</g>\r\n",
       "<!-- 3&#45;&gt;4 -->\r\n",
       "<g id=\"edge4\" class=\"edge\">\r\n",
       "<title>3&#45;&gt;4</title>\r\n",
       "<path fill=\"none\" stroke=\"black\" d=\"M182.26,-88.94C164.46,-79.02 144.77,-68.05 127.01,-58.15\"/>\r\n",
       "<polygon fill=\"black\" stroke=\"black\" points=\"128.36,-54.9 117.93,-53.09 124.96,-61.02 128.36,-54.9\"/>\r\n",
       "</g>\r\n",
       "<!-- 5 -->\r\n",
       "<g id=\"node6\" class=\"node\">\r\n",
       "<title>5</title>\r\n",
       "<path fill=\"#f4c7a8\" stroke=\"black\" d=\"M302,-53C302,-53 174,-53 174,-53 168,-53 162,-47 162,-41 162,-41 162,-12 162,-12 162,-6 168,0 174,0 174,0 302,0 302,0 308,0 314,-6 314,-12 314,-12 314,-41 314,-41 314,-47 308,-53 302,-53\"/>\r\n",
       "<text text-anchor=\"start\" x=\"170\" y=\"-37.8\" font-family=\"Helvetica,sans-Serif\" font-size=\"14.00\">friedman_mse = 0.06</text>\r\n",
       "<text text-anchor=\"start\" x=\"198.5\" y=\"-22.8\" font-family=\"Helvetica,sans-Serif\" font-size=\"14.00\">samples = 4</text>\r\n",
       "<text text-anchor=\"start\" x=\"199\" y=\"-7.8\" font-family=\"Helvetica,sans-Serif\" font-size=\"14.00\">value = 0.13</text>\r\n",
       "</g>\r\n",
       "<!-- 3&#45;&gt;5 -->\r\n",
       "<g id=\"edge5\" class=\"edge\">\r\n",
       "<title>3&#45;&gt;5</title>\r\n",
       "<path fill=\"none\" stroke=\"black\" d=\"M238,-88.94C238,-80.66 238,-71.64 238,-63.13\"/>\r\n",
       "<polygon fill=\"black\" stroke=\"black\" points=\"241.5,-63.09 238,-53.09 234.5,-63.09 241.5,-63.09\"/>\r\n",
       "</g>\r\n",
       "<!-- 7 -->\r\n",
       "<g id=\"node8\" class=\"node\">\r\n",
       "<title>7</title>\r\n",
       "<path fill=\"#e6843e\" stroke=\"black\" d=\"M464,-53C464,-53 344,-53 344,-53 338,-53 332,-47 332,-41 332,-41 332,-12 332,-12 332,-6 338,0 344,0 344,0 464,0 464,0 470,0 476,-6 476,-12 476,-12 476,-41 476,-41 476,-47 470,-53 464,-53\"/>\r\n",
       "<text text-anchor=\"start\" x=\"340\" y=\"-37.8\" font-family=\"Helvetica,sans-Serif\" font-size=\"14.00\">friedman_mse = 0.0</text>\r\n",
       "<text text-anchor=\"start\" x=\"364.5\" y=\"-22.8\" font-family=\"Helvetica,sans-Serif\" font-size=\"14.00\">samples = 1</text>\r\n",
       "<text text-anchor=\"start\" x=\"365\" y=\"-7.8\" font-family=\"Helvetica,sans-Serif\" font-size=\"14.00\">value = 1.91</text>\r\n",
       "</g>\r\n",
       "<!-- 6&#45;&gt;7 -->\r\n",
       "<g id=\"edge7\" class=\"edge\">\r\n",
       "<title>6&#45;&gt;7</title>\r\n",
       "<path fill=\"none\" stroke=\"black\" d=\"M457.8,-88.94C449.83,-79.84 441.09,-69.85 433.01,-60.63\"/>\r\n",
       "<polygon fill=\"black\" stroke=\"black\" points=\"435.63,-58.31 426.41,-53.09 430.36,-62.92 435.63,-58.31\"/>\r\n",
       "</g>\r\n",
       "<!-- 8 -->\r\n",
       "<g id=\"node9\" class=\"node\">\r\n",
       "<title>8</title>\r\n",
       "<path fill=\"#ea995f\" stroke=\"black\" d=\"M626,-53C626,-53 506,-53 506,-53 500,-53 494,-47 494,-41 494,-41 494,-12 494,-12 494,-6 500,0 506,0 506,0 626,0 626,0 632,0 638,-6 638,-12 638,-12 638,-41 638,-41 638,-47 632,-53 626,-53\"/>\r\n",
       "<text text-anchor=\"start\" x=\"502\" y=\"-37.8\" font-family=\"Helvetica,sans-Serif\" font-size=\"14.00\">friedman_mse = 0.0</text>\r\n",
       "<text text-anchor=\"start\" x=\"526.5\" y=\"-22.8\" font-family=\"Helvetica,sans-Serif\" font-size=\"14.00\">samples = 9</text>\r\n",
       "<text text-anchor=\"start\" x=\"527\" y=\"-7.8\" font-family=\"Helvetica,sans-Serif\" font-size=\"14.00\">value = 1.36</text>\r\n",
       "</g>\r\n",
       "<!-- 6&#45;&gt;8 -->\r\n",
       "<g id=\"edge8\" class=\"edge\">\r\n",
       "<title>6&#45;&gt;8</title>\r\n",
       "<path fill=\"none\" stroke=\"black\" d=\"M512.2,-88.94C520.17,-79.84 528.91,-69.85 536.99,-60.63\"/>\r\n",
       "<polygon fill=\"black\" stroke=\"black\" points=\"539.64,-62.92 543.59,-53.09 534.37,-58.31 539.64,-62.92\"/>\r\n",
       "</g>\r\n",
       "<!-- 10 -->\r\n",
       "<g id=\"node11\" class=\"node\">\r\n",
       "<title>10</title>\r\n",
       "<path fill=\"#f2c29f\" stroke=\"black\" d=\"M950,-153C950,-153 830,-153 830,-153 824,-153 818,-147 818,-141 818,-141 818,-101 818,-101 818,-95 824,-89 830,-89 830,-89 950,-89 950,-89 956,-89 962,-95 962,-101 962,-101 962,-141 962,-141 962,-147 956,-153 950,-153\"/>\r\n",
       "<text text-anchor=\"start\" x=\"859.5\" y=\"-138.8\" font-family=\"Helvetica,sans-Serif\" font-size=\"14.00\">X</text>\r\n",
       "<text text-anchor=\"start\" x=\"869.5\" y=\"-138.8\" font-family=\"Helvetica,sans-Serif\" baseline-shift=\"sub\" font-size=\"14.00\">3</text>\r\n",
       "<text text-anchor=\"start\" x=\"876.5\" y=\"-138.8\" font-family=\"Helvetica,sans-Serif\" font-size=\"14.00\"> ≤ 0.31</text>\r\n",
       "<text text-anchor=\"start\" x=\"826\" y=\"-124.8\" font-family=\"Helvetica,sans-Serif\" font-size=\"14.00\">friedman_mse = 0.0</text>\r\n",
       "<text text-anchor=\"start\" x=\"846.5\" y=\"-110.8\" font-family=\"Helvetica,sans-Serif\" font-size=\"14.00\">samples = 35</text>\r\n",
       "<text text-anchor=\"start\" x=\"851\" y=\"-96.8\" font-family=\"Helvetica,sans-Serif\" font-size=\"14.00\">value = 0.27</text>\r\n",
       "</g>\r\n",
       "<!-- 9&#45;&gt;10 -->\r\n",
       "<g id=\"edge10\" class=\"edge\">\r\n",
       "<title>9&#45;&gt;10</title>\r\n",
       "<path fill=\"none\" stroke=\"black\" d=\"M945.37,-188.99C938.06,-180.14 929.99,-170.39 922.34,-161.12\"/>\r\n",
       "<polygon fill=\"black\" stroke=\"black\" points=\"924.81,-158.62 915.74,-153.14 919.41,-163.08 924.81,-158.62\"/>\r\n",
       "</g>\r\n",
       "<!-- 13 -->\r\n",
       "<g id=\"node14\" class=\"node\">\r\n",
       "<title>13</title>\r\n",
       "<path fill=\"#f2c19e\" stroke=\"black\" d=\"M1112,-153C1112,-153 992,-153 992,-153 986,-153 980,-147 980,-141 980,-141 980,-101 980,-101 980,-95 986,-89 992,-89 992,-89 1112,-89 1112,-89 1118,-89 1124,-95 1124,-101 1124,-101 1124,-141 1124,-141 1124,-147 1118,-153 1112,-153\"/>\r\n",
       "<text text-anchor=\"start\" x=\"1022\" y=\"-138.8\" font-family=\"Helvetica,sans-Serif\" font-size=\"14.00\">X</text>\r\n",
       "<text text-anchor=\"start\" x=\"1032\" y=\"-138.8\" font-family=\"Helvetica,sans-Serif\" baseline-shift=\"sub\" font-size=\"14.00\">15</text>\r\n",
       "<text text-anchor=\"start\" x=\"1046\" y=\"-138.8\" font-family=\"Helvetica,sans-Serif\" font-size=\"14.00\"> ≤ 0.4</text>\r\n",
       "<text text-anchor=\"start\" x=\"988\" y=\"-124.8\" font-family=\"Helvetica,sans-Serif\" font-size=\"14.00\">friedman_mse = 0.0</text>\r\n",
       "<text text-anchor=\"start\" x=\"1008.5\" y=\"-110.8\" font-family=\"Helvetica,sans-Serif\" font-size=\"14.00\">samples = 15</text>\r\n",
       "<text text-anchor=\"start\" x=\"1013\" y=\"-96.8\" font-family=\"Helvetica,sans-Serif\" font-size=\"14.00\">value = 0.29</text>\r\n",
       "</g>\r\n",
       "<!-- 9&#45;&gt;13 -->\r\n",
       "<g id=\"edge13\" class=\"edge\">\r\n",
       "<title>9&#45;&gt;13</title>\r\n",
       "<path fill=\"none\" stroke=\"black\" d=\"M996.63,-188.99C1003.94,-180.14 1012.01,-170.39 1019.66,-161.12\"/>\r\n",
       "<polygon fill=\"black\" stroke=\"black\" points=\"1022.59,-163.08 1026.26,-153.14 1017.19,-158.62 1022.59,-163.08\"/>\r\n",
       "</g>\r\n",
       "<!-- 11 -->\r\n",
       "<g id=\"node12\" class=\"node\">\r\n",
       "<title>11</title>\r\n",
       "<path fill=\"#ea995e\" stroke=\"black\" d=\"M788,-53C788,-53 668,-53 668,-53 662,-53 656,-47 656,-41 656,-41 656,-12 656,-12 656,-6 662,0 668,0 668,0 788,0 788,0 794,0 800,-6 800,-12 800,-12 800,-41 800,-41 800,-47 794,-53 788,-53\"/>\r\n",
       "<text text-anchor=\"start\" x=\"664\" y=\"-37.8\" font-family=\"Helvetica,sans-Serif\" font-size=\"14.00\">friedman_mse = 0.0</text>\r\n",
       "<text text-anchor=\"start\" x=\"684.5\" y=\"-22.8\" font-family=\"Helvetica,sans-Serif\" font-size=\"14.00\">samples = 27</text>\r\n",
       "<text text-anchor=\"start\" x=\"689\" y=\"-7.8\" font-family=\"Helvetica,sans-Serif\" font-size=\"14.00\">value = 1.36</text>\r\n",
       "</g>\r\n",
       "<!-- 10&#45;&gt;11 -->\r\n",
       "<g id=\"edge11\" class=\"edge\">\r\n",
       "<title>10&#45;&gt;11</title>\r\n",
       "<path fill=\"none\" stroke=\"black\" d=\"M835.61,-88.94C818.23,-79.02 799.01,-68.05 781.69,-58.15\"/>\r\n",
       "<polygon fill=\"black\" stroke=\"black\" points=\"783.24,-55.01 772.82,-53.09 779.77,-61.09 783.24,-55.01\"/>\r\n",
       "</g>\r\n",
       "<!-- 12 -->\r\n",
       "<g id=\"node13\" class=\"node\">\r\n",
       "<title>12</title>\r\n",
       "<path fill=\"#ea975c\" stroke=\"black\" d=\"M950,-53C950,-53 830,-53 830,-53 824,-53 818,-47 818,-41 818,-41 818,-12 818,-12 818,-6 824,0 830,0 830,0 950,0 950,0 956,0 962,-6 962,-12 962,-12 962,-41 962,-41 962,-47 956,-53 950,-53\"/>\r\n",
       "<text text-anchor=\"start\" x=\"826\" y=\"-37.8\" font-family=\"Helvetica,sans-Serif\" font-size=\"14.00\">friedman_mse = 0.0</text>\r\n",
       "<text text-anchor=\"start\" x=\"850.5\" y=\"-22.8\" font-family=\"Helvetica,sans-Serif\" font-size=\"14.00\">samples = 8</text>\r\n",
       "<text text-anchor=\"start\" x=\"855\" y=\"-7.8\" font-family=\"Helvetica,sans-Serif\" font-size=\"14.00\">value = 1.4</text>\r\n",
       "</g>\r\n",
       "<!-- 10&#45;&gt;12 -->\r\n",
       "<g id=\"edge12\" class=\"edge\">\r\n",
       "<title>10&#45;&gt;12</title>\r\n",
       "<path fill=\"none\" stroke=\"black\" d=\"M890,-88.94C890,-80.66 890,-71.64 890,-63.13\"/>\r\n",
       "<polygon fill=\"black\" stroke=\"black\" points=\"893.5,-63.09 890,-53.09 886.5,-63.09 893.5,-63.09\"/>\r\n",
       "</g>\r\n",
       "<!-- 14 -->\r\n",
       "<g id=\"node15\" class=\"node\">\r\n",
       "<title>14</title>\r\n",
       "<path fill=\"#e9975b\" stroke=\"black\" d=\"M1112,-53C1112,-53 992,-53 992,-53 986,-53 980,-47 980,-41 980,-41 980,-12 980,-12 980,-6 986,0 992,0 992,0 1112,0 1112,0 1118,0 1124,-6 1124,-12 1124,-12 1124,-41 1124,-41 1124,-47 1118,-53 1112,-53\"/>\r\n",
       "<text text-anchor=\"start\" x=\"988\" y=\"-37.8\" font-family=\"Helvetica,sans-Serif\" font-size=\"14.00\">friedman_mse = 0.0</text>\r\n",
       "<text text-anchor=\"start\" x=\"1008.5\" y=\"-22.8\" font-family=\"Helvetica,sans-Serif\" font-size=\"14.00\">samples = 14</text>\r\n",
       "<text text-anchor=\"start\" x=\"1013\" y=\"-7.8\" font-family=\"Helvetica,sans-Serif\" font-size=\"14.00\">value = 1.42</text>\r\n",
       "</g>\r\n",
       "<!-- 13&#45;&gt;14 -->\r\n",
       "<g id=\"edge14\" class=\"edge\">\r\n",
       "<title>13&#45;&gt;14</title>\r\n",
       "<path fill=\"none\" stroke=\"black\" d=\"M1052,-88.94C1052,-80.66 1052,-71.64 1052,-63.13\"/>\r\n",
       "<polygon fill=\"black\" stroke=\"black\" points=\"1055.5,-63.09 1052,-53.09 1048.5,-63.09 1055.5,-63.09\"/>\r\n",
       "</g>\r\n",
       "<!-- 15 -->\r\n",
       "<g id=\"node16\" class=\"node\">\r\n",
       "<title>15</title>\r\n",
       "<path fill=\"#e78c4b\" stroke=\"black\" d=\"M1274,-53C1274,-53 1154,-53 1154,-53 1148,-53 1142,-47 1142,-41 1142,-41 1142,-12 1142,-12 1142,-6 1148,0 1154,0 1154,0 1274,0 1274,0 1280,0 1286,-6 1286,-12 1286,-12 1286,-41 1286,-41 1286,-47 1280,-53 1274,-53\"/>\r\n",
       "<text text-anchor=\"start\" x=\"1150\" y=\"-37.8\" font-family=\"Helvetica,sans-Serif\" font-size=\"14.00\">friedman_mse = 0.0</text>\r\n",
       "<text text-anchor=\"start\" x=\"1174.5\" y=\"-22.8\" font-family=\"Helvetica,sans-Serif\" font-size=\"14.00\">samples = 1</text>\r\n",
       "<text text-anchor=\"start\" x=\"1179\" y=\"-7.8\" font-family=\"Helvetica,sans-Serif\" font-size=\"14.00\">value = 1.7</text>\r\n",
       "</g>\r\n",
       "<!-- 13&#45;&gt;15 -->\r\n",
       "<g id=\"edge15\" class=\"edge\">\r\n",
       "<title>13&#45;&gt;15</title>\r\n",
       "<path fill=\"none\" stroke=\"black\" d=\"M1106.39,-88.94C1123.77,-79.02 1142.99,-68.05 1160.31,-58.15\"/>\r\n",
       "<polygon fill=\"black\" stroke=\"black\" points=\"1162.23,-61.09 1169.18,-53.09 1158.76,-55.01 1162.23,-61.09\"/>\r\n",
       "</g>\r\n",
       "<!-- 17 -->\r\n",
       "<g id=\"node18\" class=\"node\">\r\n",
       "<title>17</title>\r\n",
       "<path fill=\"#f3c3a1\" stroke=\"black\" d=\"M1683,-253C1683,-253 1555,-253 1555,-253 1549,-253 1543,-247 1543,-241 1543,-241 1543,-201 1543,-201 1543,-195 1549,-189 1555,-189 1555,-189 1683,-189 1683,-189 1689,-189 1695,-195 1695,-201 1695,-201 1695,-241 1695,-241 1695,-247 1689,-253 1683,-253\"/>\r\n",
       "<text text-anchor=\"start\" x=\"1588.5\" y=\"-238.8\" font-family=\"Helvetica,sans-Serif\" font-size=\"14.00\">X</text>\r\n",
       "<text text-anchor=\"start\" x=\"1598.5\" y=\"-238.8\" font-family=\"Helvetica,sans-Serif\" baseline-shift=\"sub\" font-size=\"14.00\">8</text>\r\n",
       "<text text-anchor=\"start\" x=\"1605.5\" y=\"-238.8\" font-family=\"Helvetica,sans-Serif\" font-size=\"14.00\"> ≤ 0.22</text>\r\n",
       "<text text-anchor=\"start\" x=\"1551\" y=\"-224.8\" font-family=\"Helvetica,sans-Serif\" font-size=\"14.00\">friedman_mse = 0.04</text>\r\n",
       "<text text-anchor=\"start\" x=\"1575.5\" y=\"-210.8\" font-family=\"Helvetica,sans-Serif\" font-size=\"14.00\">samples = 16</text>\r\n",
       "<text text-anchor=\"start\" x=\"1580\" y=\"-196.8\" font-family=\"Helvetica,sans-Serif\" font-size=\"14.00\">value = 0.25</text>\r\n",
       "</g>\r\n",
       "<!-- 16&#45;&gt;17 -->\r\n",
       "<g id=\"edge17\" class=\"edge\">\r\n",
       "<title>16&#45;&gt;17</title>\r\n",
       "<path fill=\"none\" stroke=\"black\" d=\"M1619,-288.99C1619,-280.86 1619,-271.96 1619,-263.38\"/>\r\n",
       "<polygon fill=\"black\" stroke=\"black\" points=\"1622.5,-263.14 1619,-253.14 1615.5,-263.14 1622.5,-263.14\"/>\r\n",
       "</g>\r\n",
       "<!-- 24 -->\r\n",
       "<g id=\"node25\" class=\"node\">\r\n",
       "<title>24</title>\r\n",
       "<path fill=\"#f5d1b6\" stroke=\"black\" d=\"M2174,-253C2174,-253 2046,-253 2046,-253 2040,-253 2034,-247 2034,-241 2034,-241 2034,-201 2034,-201 2034,-195 2040,-189 2046,-189 2046,-189 2174,-189 2174,-189 2180,-189 2186,-195 2186,-201 2186,-201 2186,-241 2186,-241 2186,-247 2180,-253 2174,-253\"/>\r\n",
       "<text text-anchor=\"start\" x=\"2079.5\" y=\"-238.8\" font-family=\"Helvetica,sans-Serif\" font-size=\"14.00\">X</text>\r\n",
       "<text text-anchor=\"start\" x=\"2089.5\" y=\"-238.8\" font-family=\"Helvetica,sans-Serif\" baseline-shift=\"sub\" font-size=\"14.00\">2</text>\r\n",
       "<text text-anchor=\"start\" x=\"2096.5\" y=\"-238.8\" font-family=\"Helvetica,sans-Serif\" font-size=\"14.00\"> ≤ 0.73</text>\r\n",
       "<text text-anchor=\"start\" x=\"2042\" y=\"-224.8\" font-family=\"Helvetica,sans-Serif\" font-size=\"14.00\">friedman_mse = 0.04</text>\r\n",
       "<text text-anchor=\"start\" x=\"2062.5\" y=\"-210.8\" font-family=\"Helvetica,sans-Serif\" font-size=\"14.00\">samples = 197</text>\r\n",
       "<text text-anchor=\"start\" x=\"2069\" y=\"-196.8\" font-family=\"Helvetica,sans-Serif\" font-size=\"14.00\">value = &#45;0.11</text>\r\n",
       "</g>\r\n",
       "<!-- 16&#45;&gt;24 -->\r\n",
       "<g id=\"edge24\" class=\"edge\">\r\n",
       "<title>16&#45;&gt;24</title>\r\n",
       "<path fill=\"none\" stroke=\"black\" d=\"M1695.18,-304.8C1784.06,-287.05 1930.68,-257.79 2023.69,-239.23\"/>\r\n",
       "<polygon fill=\"black\" stroke=\"black\" points=\"2024.52,-242.63 2033.64,-237.24 2023.15,-235.77 2024.52,-242.63\"/>\r\n",
       "</g>\r\n",
       "<!-- 18 -->\r\n",
       "<g id=\"node19\" class=\"node\">\r\n",
       "<title>18</title>\r\n",
       "<path fill=\"#f2c09c\" stroke=\"black\" d=\"M1596,-153C1596,-153 1476,-153 1476,-153 1470,-153 1464,-147 1464,-141 1464,-141 1464,-101 1464,-101 1464,-95 1470,-89 1476,-89 1476,-89 1596,-89 1596,-89 1602,-89 1608,-95 1608,-101 1608,-101 1608,-141 1608,-141 1608,-147 1602,-153 1596,-153\"/>\r\n",
       "<text text-anchor=\"start\" x=\"1505.5\" y=\"-138.8\" font-family=\"Helvetica,sans-Serif\" font-size=\"14.00\">X</text>\r\n",
       "<text text-anchor=\"start\" x=\"1515.5\" y=\"-138.8\" font-family=\"Helvetica,sans-Serif\" baseline-shift=\"sub\" font-size=\"14.00\">2</text>\r\n",
       "<text text-anchor=\"start\" x=\"1522.5\" y=\"-138.8\" font-family=\"Helvetica,sans-Serif\" font-size=\"14.00\"> ≤ 0.72</text>\r\n",
       "<text text-anchor=\"start\" x=\"1472\" y=\"-124.8\" font-family=\"Helvetica,sans-Serif\" font-size=\"14.00\">friedman_mse = 0.0</text>\r\n",
       "<text text-anchor=\"start\" x=\"1492.5\" y=\"-110.8\" font-family=\"Helvetica,sans-Serif\" font-size=\"14.00\">samples = 10</text>\r\n",
       "<text text-anchor=\"start\" x=\"1497\" y=\"-96.8\" font-family=\"Helvetica,sans-Serif\" font-size=\"14.00\">value = 0.33</text>\r\n",
       "</g>\r\n",
       "<!-- 17&#45;&gt;18 -->\r\n",
       "<g id=\"edge18\" class=\"edge\">\r\n",
       "<title>17&#45;&gt;18</title>\r\n",
       "<path fill=\"none\" stroke=\"black\" d=\"M1592.74,-188.99C1585.17,-180.06 1576.81,-170.19 1568.9,-160.84\"/>\r\n",
       "<polygon fill=\"black\" stroke=\"black\" points=\"1571.51,-158.51 1562.38,-153.14 1566.17,-163.04 1571.51,-158.51\"/>\r\n",
       "</g>\r\n",
       "<!-- 21 -->\r\n",
       "<g id=\"node22\" class=\"node\">\r\n",
       "<title>21</title>\r\n",
       "<path fill=\"#f4c8a9\" stroke=\"black\" d=\"M1766,-153C1766,-153 1638,-153 1638,-153 1632,-153 1626,-147 1626,-141 1626,-141 1626,-101 1626,-101 1626,-95 1632,-89 1638,-89 1638,-89 1766,-89 1766,-89 1772,-89 1778,-95 1778,-101 1778,-101 1778,-141 1778,-141 1778,-147 1772,-153 1766,-153\"/>\r\n",
       "<text text-anchor=\"start\" x=\"1671.5\" y=\"-138.8\" font-family=\"Helvetica,sans-Serif\" font-size=\"14.00\">X</text>\r\n",
       "<text text-anchor=\"start\" x=\"1681.5\" y=\"-138.8\" font-family=\"Helvetica,sans-Serif\" baseline-shift=\"sub\" font-size=\"14.00\">8</text>\r\n",
       "<text text-anchor=\"start\" x=\"1688.5\" y=\"-138.8\" font-family=\"Helvetica,sans-Serif\" font-size=\"14.00\"> ≤ 0.36</text>\r\n",
       "<text text-anchor=\"start\" x=\"1634\" y=\"-124.8\" font-family=\"Helvetica,sans-Serif\" font-size=\"14.00\">friedman_mse = 0.07</text>\r\n",
       "<text text-anchor=\"start\" x=\"1662.5\" y=\"-110.8\" font-family=\"Helvetica,sans-Serif\" font-size=\"14.00\">samples = 6</text>\r\n",
       "<text text-anchor=\"start\" x=\"1663\" y=\"-96.8\" font-family=\"Helvetica,sans-Serif\" font-size=\"14.00\">value = 0.12</text>\r\n",
       "</g>\r\n",
       "<!-- 17&#45;&gt;21 -->\r\n",
       "<g id=\"edge21\" class=\"edge\">\r\n",
       "<title>17&#45;&gt;21</title>\r\n",
       "<path fill=\"none\" stroke=\"black\" d=\"M1645.26,-188.99C1652.83,-180.06 1661.19,-170.19 1669.1,-160.84\"/>\r\n",
       "<polygon fill=\"black\" stroke=\"black\" points=\"1671.83,-163.04 1675.62,-153.14 1666.49,-158.51 1671.83,-163.04\"/>\r\n",
       "</g>\r\n",
       "<!-- 19 -->\r\n",
       "<g id=\"node20\" class=\"node\">\r\n",
       "<title>19</title>\r\n",
       "<path fill=\"#e89051\" stroke=\"black\" d=\"M1436,-53C1436,-53 1316,-53 1316,-53 1310,-53 1304,-47 1304,-41 1304,-41 1304,-12 1304,-12 1304,-6 1310,0 1316,0 1316,0 1436,0 1436,0 1442,0 1448,-6 1448,-12 1448,-12 1448,-41 1448,-41 1448,-47 1442,-53 1436,-53\"/>\r\n",
       "<text text-anchor=\"start\" x=\"1312\" y=\"-37.8\" font-family=\"Helvetica,sans-Serif\" font-size=\"14.00\">friedman_mse = 0.0</text>\r\n",
       "<text text-anchor=\"start\" x=\"1336.5\" y=\"-22.8\" font-family=\"Helvetica,sans-Serif\" font-size=\"14.00\">samples = 5</text>\r\n",
       "<text text-anchor=\"start\" x=\"1337\" y=\"-7.8\" font-family=\"Helvetica,sans-Serif\" font-size=\"14.00\">value = 1.58</text>\r\n",
       "</g>\r\n",
       "<!-- 18&#45;&gt;19 -->\r\n",
       "<g id=\"edge19\" class=\"edge\">\r\n",
       "<title>18&#45;&gt;19</title>\r\n",
       "<path fill=\"none\" stroke=\"black\" d=\"M1482.28,-88.94C1465.11,-79.02 1446.14,-68.05 1429.02,-58.15\"/>\r\n",
       "<polygon fill=\"black\" stroke=\"black\" points=\"1430.67,-55.07 1420.27,-53.09 1427.17,-61.13 1430.67,-55.07\"/>\r\n",
       "</g>\r\n",
       "<!-- 20 -->\r\n",
       "<g id=\"node21\" class=\"node\">\r\n",
       "<title>20</title>\r\n",
       "<path fill=\"#e9975b\" stroke=\"black\" d=\"M1598,-53C1598,-53 1478,-53 1478,-53 1472,-53 1466,-47 1466,-41 1466,-41 1466,-12 1466,-12 1466,-6 1472,0 1478,0 1478,0 1598,0 1598,0 1604,0 1610,-6 1610,-12 1610,-12 1610,-41 1610,-41 1610,-47 1604,-53 1598,-53\"/>\r\n",
       "<text text-anchor=\"start\" x=\"1474\" y=\"-37.8\" font-family=\"Helvetica,sans-Serif\" font-size=\"14.00\">friedman_mse = 0.0</text>\r\n",
       "<text text-anchor=\"start\" x=\"1498.5\" y=\"-22.8\" font-family=\"Helvetica,sans-Serif\" font-size=\"14.00\">samples = 5</text>\r\n",
       "<text text-anchor=\"start\" x=\"1499\" y=\"-7.8\" font-family=\"Helvetica,sans-Serif\" font-size=\"14.00\">value = 1.42</text>\r\n",
       "</g>\r\n",
       "<!-- 18&#45;&gt;20 -->\r\n",
       "<g id=\"edge20\" class=\"edge\">\r\n",
       "<title>18&#45;&gt;20</title>\r\n",
       "<path fill=\"none\" stroke=\"black\" d=\"M1536.67,-88.94C1536.85,-80.66 1537.05,-71.64 1537.23,-63.13\"/>\r\n",
       "<polygon fill=\"black\" stroke=\"black\" points=\"1540.73,-63.16 1537.45,-53.09 1533.73,-63.01 1540.73,-63.16\"/>\r\n",
       "</g>\r\n",
       "<!-- 22 -->\r\n",
       "<g id=\"node23\" class=\"node\">\r\n",
       "<title>22</title>\r\n",
       "<path fill=\"#ffffff\" stroke=\"black\" d=\"M1760,-53C1760,-53 1640,-53 1640,-53 1634,-53 1628,-47 1628,-41 1628,-41 1628,-12 1628,-12 1628,-6 1634,0 1640,0 1640,0 1760,0 1760,0 1766,0 1772,-6 1772,-12 1772,-12 1772,-41 1772,-41 1772,-47 1766,-53 1760,-53\"/>\r\n",
       "<text text-anchor=\"start\" x=\"1636\" y=\"-37.8\" font-family=\"Helvetica,sans-Serif\" font-size=\"14.00\">friedman_mse = 0.0</text>\r\n",
       "<text text-anchor=\"start\" x=\"1660.5\" y=\"-22.8\" font-family=\"Helvetica,sans-Serif\" font-size=\"14.00\">samples = 2</text>\r\n",
       "<text text-anchor=\"start\" x=\"1659\" y=\"-7.8\" font-family=\"Helvetica,sans-Serif\" font-size=\"14.00\">value = &#45;1.33</text>\r\n",
       "</g>\r\n",
       "<!-- 21&#45;&gt;22 -->\r\n",
       "<g id=\"edge22\" class=\"edge\">\r\n",
       "<title>21&#45;&gt;22</title>\r\n",
       "<path fill=\"none\" stroke=\"black\" d=\"M1701.33,-88.94C1701.15,-80.66 1700.95,-71.64 1700.77,-63.13\"/>\r\n",
       "<polygon fill=\"black\" stroke=\"black\" points=\"1704.27,-63.01 1700.55,-53.09 1697.27,-63.16 1704.27,-63.01\"/>\r\n",
       "</g>\r\n",
       "<!-- 23 -->\r\n",
       "<g id=\"node24\" class=\"node\">\r\n",
       "<title>23</title>\r\n",
       "<path fill=\"#e9965b\" stroke=\"black\" d=\"M1922,-53C1922,-53 1802,-53 1802,-53 1796,-53 1790,-47 1790,-41 1790,-41 1790,-12 1790,-12 1790,-6 1796,0 1802,0 1802,0 1922,0 1922,0 1928,0 1934,-6 1934,-12 1934,-12 1934,-41 1934,-41 1934,-47 1928,-53 1922,-53\"/>\r\n",
       "<text text-anchor=\"start\" x=\"1798\" y=\"-37.8\" font-family=\"Helvetica,sans-Serif\" font-size=\"14.00\">friedman_mse = 0.0</text>\r\n",
       "<text text-anchor=\"start\" x=\"1822.5\" y=\"-22.8\" font-family=\"Helvetica,sans-Serif\" font-size=\"14.00\">samples = 4</text>\r\n",
       "<text text-anchor=\"start\" x=\"1823\" y=\"-7.8\" font-family=\"Helvetica,sans-Serif\" font-size=\"14.00\">value = 1.43</text>\r\n",
       "</g>\r\n",
       "<!-- 21&#45;&gt;23 -->\r\n",
       "<g id=\"edge23\" class=\"edge\">\r\n",
       "<title>21&#45;&gt;23</title>\r\n",
       "<path fill=\"none\" stroke=\"black\" d=\"M1755.72,-88.94C1772.89,-79.02 1791.86,-68.05 1808.98,-58.15\"/>\r\n",
       "<polygon fill=\"black\" stroke=\"black\" points=\"1810.83,-61.13 1817.73,-53.09 1807.33,-55.07 1810.83,-61.13\"/>\r\n",
       "</g>\r\n",
       "<!-- 25 -->\r\n",
       "<g id=\"node26\" class=\"node\">\r\n",
       "<title>25</title>\r\n",
       "<path fill=\"#f6d1b7\" stroke=\"black\" d=\"M2174,-153C2174,-153 2046,-153 2046,-153 2040,-153 2034,-147 2034,-141 2034,-141 2034,-101 2034,-101 2034,-95 2040,-89 2046,-89 2046,-89 2174,-89 2174,-89 2180,-89 2186,-95 2186,-101 2186,-101 2186,-141 2186,-141 2186,-147 2180,-153 2174,-153\"/>\r\n",
       "<text text-anchor=\"start\" x=\"2079.5\" y=\"-138.8\" font-family=\"Helvetica,sans-Serif\" font-size=\"14.00\">X</text>\r\n",
       "<text text-anchor=\"start\" x=\"2089.5\" y=\"-138.8\" font-family=\"Helvetica,sans-Serif\" baseline-shift=\"sub\" font-size=\"14.00\">4</text>\r\n",
       "<text text-anchor=\"start\" x=\"2096.5\" y=\"-138.8\" font-family=\"Helvetica,sans-Serif\" font-size=\"14.00\"> ≤ 0.78</text>\r\n",
       "<text text-anchor=\"start\" x=\"2042\" y=\"-124.8\" font-family=\"Helvetica,sans-Serif\" font-size=\"14.00\">friedman_mse = 0.03</text>\r\n",
       "<text text-anchor=\"start\" x=\"2062.5\" y=\"-110.8\" font-family=\"Helvetica,sans-Serif\" font-size=\"14.00\">samples = 189</text>\r\n",
       "<text text-anchor=\"start\" x=\"2069\" y=\"-96.8\" font-family=\"Helvetica,sans-Serif\" font-size=\"14.00\">value = &#45;0.13</text>\r\n",
       "</g>\r\n",
       "<!-- 24&#45;&gt;25 -->\r\n",
       "<g id=\"edge25\" class=\"edge\">\r\n",
       "<title>24&#45;&gt;25</title>\r\n",
       "<path fill=\"none\" stroke=\"black\" d=\"M2110,-188.99C2110,-180.86 2110,-171.96 2110,-163.38\"/>\r\n",
       "<polygon fill=\"black\" stroke=\"black\" points=\"2113.5,-163.14 2110,-153.14 2106.5,-163.14 2113.5,-163.14\"/>\r\n",
       "</g>\r\n",
       "<!-- 28 -->\r\n",
       "<g id=\"node29\" class=\"node\">\r\n",
       "<title>28</title>\r\n",
       "<path fill=\"#f2c2a0\" stroke=\"black\" d=\"M2426,-153C2426,-153 2298,-153 2298,-153 2292,-153 2286,-147 2286,-141 2286,-141 2286,-101 2286,-101 2286,-95 2292,-89 2298,-89 2298,-89 2426,-89 2426,-89 2432,-89 2438,-95 2438,-101 2438,-101 2438,-141 2438,-141 2438,-147 2432,-153 2426,-153\"/>\r\n",
       "<text text-anchor=\"start\" x=\"2325.5\" y=\"-138.8\" font-family=\"Helvetica,sans-Serif\" font-size=\"14.00\">X</text>\r\n",
       "<text text-anchor=\"start\" x=\"2335.5\" y=\"-138.8\" font-family=\"Helvetica,sans-Serif\" baseline-shift=\"sub\" font-size=\"14.00\">11</text>\r\n",
       "<text text-anchor=\"start\" x=\"2349.5\" y=\"-138.8\" font-family=\"Helvetica,sans-Serif\" font-size=\"14.00\"> ≤ &#45;0.17</text>\r\n",
       "<text text-anchor=\"start\" x=\"2294\" y=\"-124.8\" font-family=\"Helvetica,sans-Serif\" font-size=\"14.00\">friedman_mse = 0.09</text>\r\n",
       "<text text-anchor=\"start\" x=\"2322.5\" y=\"-110.8\" font-family=\"Helvetica,sans-Serif\" font-size=\"14.00\">samples = 8</text>\r\n",
       "<text text-anchor=\"start\" x=\"2323\" y=\"-96.8\" font-family=\"Helvetica,sans-Serif\" font-size=\"14.00\">value = 0.27</text>\r\n",
       "</g>\r\n",
       "<!-- 24&#45;&gt;28 -->\r\n",
       "<g id=\"edge28\" class=\"edge\">\r\n",
       "<title>24&#45;&gt;28</title>\r\n",
       "<path fill=\"none\" stroke=\"black\" d=\"M2186.29,-190.33C2214.79,-179.25 2247.32,-166.6 2276.59,-155.22\"/>\r\n",
       "<polygon fill=\"black\" stroke=\"black\" points=\"2277.92,-158.45 2285.97,-151.57 2275.38,-151.93 2277.92,-158.45\"/>\r\n",
       "</g>\r\n",
       "<!-- 26 -->\r\n",
       "<g id=\"node27\" class=\"node\">\r\n",
       "<title>26</title>\r\n",
       "<path fill=\"#fcefe5\" stroke=\"black\" d=\"M2092,-53C2092,-53 1964,-53 1964,-53 1958,-53 1952,-47 1952,-41 1952,-41 1952,-12 1952,-12 1952,-6 1958,0 1964,0 1964,0 2092,0 2092,0 2098,0 2104,-6 2104,-12 2104,-12 2104,-41 2104,-41 2104,-47 2098,-53 2092,-53\"/>\r\n",
       "<text text-anchor=\"start\" x=\"1960\" y=\"-37.8\" font-family=\"Helvetica,sans-Serif\" font-size=\"14.00\">friedman_mse = 0.03</text>\r\n",
       "<text text-anchor=\"start\" x=\"1980.5\" y=\"-22.8\" font-family=\"Helvetica,sans-Serif\" font-size=\"14.00\">samples = 188</text>\r\n",
       "<text text-anchor=\"start\" x=\"1991\" y=\"-7.8\" font-family=\"Helvetica,sans-Serif\" font-size=\"14.00\">value = &#45;0.9</text>\r\n",
       "</g>\r\n",
       "<!-- 25&#45;&gt;26 -->\r\n",
       "<g id=\"edge26\" class=\"edge\">\r\n",
       "<title>25&#45;&gt;26</title>\r\n",
       "<path fill=\"none\" stroke=\"black\" d=\"M2082.47,-88.94C2074.4,-79.84 2065.55,-69.85 2057.37,-60.63\"/>\r\n",
       "<polygon fill=\"black\" stroke=\"black\" points=\"2059.94,-58.25 2050.69,-53.09 2054.7,-62.9 2059.94,-58.25\"/>\r\n",
       "</g>\r\n",
       "<!-- 27 -->\r\n",
       "<g id=\"node28\" class=\"node\">\r\n",
       "<title>27</title>\r\n",
       "<path fill=\"#e58139\" stroke=\"black\" d=\"M2259.5,-53C2259.5,-53 2134.5,-53 2134.5,-53 2128.5,-53 2122.5,-47 2122.5,-41 2122.5,-41 2122.5,-12 2122.5,-12 2122.5,-6 2128.5,0 2134.5,0 2134.5,0 2259.5,0 2259.5,0 2265.5,0 2271.5,-6 2271.5,-12 2271.5,-12 2271.5,-41 2271.5,-41 2271.5,-47 2265.5,-53 2259.5,-53\"/>\r\n",
       "<text text-anchor=\"start\" x=\"2130.5\" y=\"-37.8\" font-family=\"Helvetica,sans-Serif\" font-size=\"14.00\">friedman_mse = &#45;0.0</text>\r\n",
       "<text text-anchor=\"start\" x=\"2157.5\" y=\"-22.8\" font-family=\"Helvetica,sans-Serif\" font-size=\"14.00\">samples = 1</text>\r\n",
       "<text text-anchor=\"start\" x=\"2158\" y=\"-7.8\" font-family=\"Helvetica,sans-Serif\" font-size=\"14.00\">value = 1.99</text>\r\n",
       "</g>\r\n",
       "<!-- 25&#45;&gt;27 -->\r\n",
       "<g id=\"edge27\" class=\"edge\">\r\n",
       "<title>25&#45;&gt;27</title>\r\n",
       "<path fill=\"none\" stroke=\"black\" d=\"M2139.21,-88.94C2147.77,-79.84 2157.17,-69.85 2165.84,-60.63\"/>\r\n",
       "<polygon fill=\"black\" stroke=\"black\" points=\"2168.63,-62.77 2172.93,-53.09 2163.53,-57.98 2168.63,-62.77\"/>\r\n",
       "</g>\r\n",
       "<!-- 29 -->\r\n",
       "<g id=\"node30\" class=\"node\">\r\n",
       "<title>29</title>\r\n",
       "<path fill=\"#fefcfa\" stroke=\"black\" d=\"M2422,-53C2422,-53 2302,-53 2302,-53 2296,-53 2290,-47 2290,-41 2290,-41 2290,-12 2290,-12 2290,-6 2296,0 2302,0 2302,0 2422,0 2422,0 2428,0 2434,-6 2434,-12 2434,-12 2434,-41 2434,-41 2434,-47 2428,-53 2422,-53\"/>\r\n",
       "<text text-anchor=\"start\" x=\"2298\" y=\"-37.8\" font-family=\"Helvetica,sans-Serif\" font-size=\"14.00\">friedman_mse = 0.0</text>\r\n",
       "<text text-anchor=\"start\" x=\"2322.5\" y=\"-22.8\" font-family=\"Helvetica,sans-Serif\" font-size=\"14.00\">samples = 2</text>\r\n",
       "<text text-anchor=\"start\" x=\"2321\" y=\"-7.8\" font-family=\"Helvetica,sans-Serif\" font-size=\"14.00\">value = &#45;1.26</text>\r\n",
       "</g>\r\n",
       "<!-- 28&#45;&gt;29 -->\r\n",
       "<g id=\"edge29\" class=\"edge\">\r\n",
       "<title>28&#45;&gt;29</title>\r\n",
       "<path fill=\"none\" stroke=\"black\" d=\"M2362,-88.94C2362,-80.66 2362,-71.64 2362,-63.13\"/>\r\n",
       "<polygon fill=\"black\" stroke=\"black\" points=\"2365.5,-63.09 2362,-53.09 2358.5,-63.09 2365.5,-63.09\"/>\r\n",
       "</g>\r\n",
       "<!-- 30 -->\r\n",
       "<g id=\"node31\" class=\"node\">\r\n",
       "<title>30</title>\r\n",
       "<path fill=\"#e6853f\" stroke=\"black\" d=\"M2592,-53C2592,-53 2464,-53 2464,-53 2458,-53 2452,-47 2452,-41 2452,-41 2452,-12 2452,-12 2452,-6 2458,0 2464,0 2464,0 2592,0 2592,0 2598,0 2604,-6 2604,-12 2604,-12 2604,-41 2604,-41 2604,-47 2598,-53 2592,-53\"/>\r\n",
       "<text text-anchor=\"start\" x=\"2460\" y=\"-37.8\" font-family=\"Helvetica,sans-Serif\" font-size=\"14.00\">friedman_mse = 0.02</text>\r\n",
       "<text text-anchor=\"start\" x=\"2488.5\" y=\"-22.8\" font-family=\"Helvetica,sans-Serif\" font-size=\"14.00\">samples = 6</text>\r\n",
       "<text text-anchor=\"start\" x=\"2493\" y=\"-7.8\" font-family=\"Helvetica,sans-Serif\" font-size=\"14.00\">value = 1.9</text>\r\n",
       "</g>\r\n",
       "<!-- 28&#45;&gt;30 -->\r\n",
       "<g id=\"edge30\" class=\"edge\">\r\n",
       "<title>28&#45;&gt;30</title>\r\n",
       "<path fill=\"none\" stroke=\"black\" d=\"M2417.74,-88.94C2435.54,-79.02 2455.23,-68.05 2472.99,-58.15\"/>\r\n",
       "<polygon fill=\"black\" stroke=\"black\" points=\"2475.04,-61.02 2482.07,-53.09 2471.64,-54.9 2475.04,-61.02\"/>\r\n",
       "</g>\r\n",
       "</g>\r\n",
       "</svg>\r\n"
      ],
      "text/plain": [
       "<graphviz.files.Source at 0x1c32ae335e0>"
      ]
     },
     "execution_count": 270,
     "metadata": {},
     "output_type": "execute_result"
    }
   ],
   "source": [
    "# GB 중 일부 트리 graph화\n",
    "estimator = best_gsb_estimator.estimators_[15][0]\n",
    "\n",
    "dot_data = tree.export_graphviz(estimator, \n",
    "                rounded = True, proportion = False, \n",
    "                precision = 2, filled = True,\n",
    "                special_characters=True)\n",
    "\n",
    "graph = graphviz.Source(dot_data)  \n",
    "graph"
   ]
  },
  {
   "cell_type": "markdown",
   "metadata": {},
   "source": [
    "#### Confusion Matrix"
   ]
  },
  {
   "cell_type": "code",
   "execution_count": 271,
   "metadata": {},
   "outputs": [],
   "source": [
    "from sklearn.metrics import confusion_matrix\n",
    "import matplotlib.pyplot as plt\n",
    "import seaborn as sns"
   ]
  },
  {
   "cell_type": "code",
   "execution_count": 272,
   "metadata": {},
   "outputs": [],
   "source": [
    "y_pred = best_gsb_estimator.predict(X_test)"
   ]
  },
  {
   "cell_type": "code",
   "execution_count": 273,
   "metadata": {},
   "outputs": [
    {
     "data": {
      "image/png": "[encoded data removed]",
      "text/plain": [
       "<Figure size 360x360 with 2 Axes>"
      ]
     },
     "metadata": {
      "needs_background": "light"
     },
     "output_type": "display_data"
    }
   ],
   "source": [
    "con_mat = confusion_matrix(y_test, y_pred, labels=[0,1])\n",
    "\n",
    "group_names = [\"TN\",\"FP\",\"FN\",\"TP\"]\n",
    "group_counts = [\"{0:0.0f}\".format(value) for value in con_mat.flatten()]\n",
    "group_percentages = [\"{0:.2%}\".format(value) for value in con_mat.flatten()/np.sum(con_mat)]\n",
    "\n",
    "labels = [f\"{v1}\\n{v2}\\n{v3}\" for v1, v2, v3 in zip(group_names,group_counts,group_percentages)]\n",
    "labels = np.asarray(labels).reshape(2,2)\n",
    "fig, ax = plt.subplots(figsize=(5,5))\n",
    "\n",
    "sns.heatmap(con_mat, annot=labels, cmap = \"Blues\", fmt=\"\", linewidths=10, square=True)\n",
    "ax.set_ylim([0,2])\n",
    "ax.set_title(\"Confusion Matrix\")\n",
    "plt.ylabel('True label')\n",
    "plt.xlabel('Predicted label' + \"\")\n",
    "plt.show()"
   ]
  },
  {
   "cell_type": "markdown",
   "metadata": {},
   "source": [
    "#### AUROC"
   ]
  },
  {
   "cell_type": "code",
   "execution_count": 274,
   "metadata": {},
   "outputs": [],
   "source": [
    "from sklearn.metrics import roc_curve, auc\n",
    "%matplotlib inline"
   ]
  },
  {
   "cell_type": "code",
   "execution_count": 275,
   "metadata": {
    "scrolled": false
   },
   "outputs": [
    {
     "data": {
      "image/png": "[encoded data removed]",
      "text/plain": [
       "<Figure size 432x288 with 1 Axes>"
      ]
     },
     "metadata": {
      "needs_background": "light"
     },
     "output_type": "display_data"
    }
   ],
   "source": [
    "fpr, tpr, thresholds = roc_curve(y_test, best_gsb_estimator.decision_function(X_test)) \n",
    "\n",
    "plt.plot(fpr, tpr)\n",
    "#plt.fill_between(fpr, tpr)\n",
    "plt.plot([0, 1], [0, 1], '--')\n",
    "plt.xlabel('1 - Specificity(TNR)')\n",
    "#plt.xlabel('거짓 양성 비율(FPR)')\n",
    "plt.ylabel('Sensitivity(TPR)')\n",
    "\n",
    "auc_s = auc(fpr, tpr) # auc(score)\n",
    "plt.title('ROC curve (AUROC = {})'.format(auc_s))\n",
    "plt.show()"
   ]
  },
  {
   "cell_type": "markdown",
   "metadata": {},
   "source": [
    "#### 각 성능 지표"
   ]
  },
  {
   "cell_type": "code",
   "execution_count": 276,
   "metadata": {},
   "outputs": [],
   "source": [
    "from sklearn.metrics import f1_score, accuracy_score, recall_score, precision_score\n",
    "from sklearn.metrics import classification_report"
   ]
  },
  {
   "cell_type": "code",
   "execution_count": 277,
   "metadata": {},
   "outputs": [
    {
     "name": "stdout",
     "output_type": "stream",
     "text": [
      "              precision    recall  f1-score   support\n",
      "\n",
      "           0       0.93      1.00      0.96        41\n",
      "           1       1.00      0.90      0.95        30\n",
      "\n",
      "    accuracy                           0.96        71\n",
      "   macro avg       0.97      0.95      0.96        71\n",
      "weighted avg       0.96      0.96      0.96        71\n",
      "\n"
     ]
    }
   ],
   "source": [
    "print(classification_report(y_test, y_pred))"
   ]
  },
  {
   "cell_type": "code",
   "execution_count": 278,
   "metadata": {
    "scrolled": true
   },
   "outputs": [
    {
     "name": "stdout",
     "output_type": "stream",
     "text": [
      "Accuracy: 0.9577464788732394\n",
      "Precision: 1.0\n",
      "Recall: 0.9\n",
      "F1-score: 0.9473684210526316\n"
     ]
    }
   ],
   "source": [
    "print(f'Accuracy: {accuracy_score(y_test, y_pred)}')\n",
    "print(f\"Precision: {precision_score(y_test, y_pred, average='binary')}\")\n",
    "print(f\"Recall: {recall_score(y_test, y_pred, average='binary')}\")\n",
    "print(f\"F1-score: {f1_score(y_test, y_pred, average='binary')}\")"
   ]
  },
  {
   "cell_type": "markdown",
   "metadata": {},
   "source": [
    "## 5. KNN"
   ]
  },
  {
   "cell_type": "markdown",
   "metadata": {},
   "source": [
    "### 5.1 train test 분리"
   ]
  },
  {
   "cell_type": "code",
   "execution_count": 152,
   "metadata": {},
   "outputs": [],
   "source": [
    "from sklearn.model_selection import train_test_split"
   ]
  },
  {
   "cell_type": "code",
   "execution_count": 153,
   "metadata": {
    "scrolled": true
   },
   "outputs": [
    {
     "data": {
      "text/plain": [
       "157    0\n",
       "342    0\n",
       "316    0\n",
       "234    1\n",
       "155    0\n",
       "Name: target, dtype: int64"
      ]
     },
     "execution_count": 153,
     "metadata": {},
     "output_type": "execute_result"
    }
   ],
   "source": [
    "X, y = data.iloc[:,:-1], data.iloc[:,-1]\n",
    "\n",
    "X_train, X_test, y_train, y_test = train_test_split(X, y, test_size = 0.2, random_state = 0)\n",
    "y_test.head()"
   ]
  },
  {
   "cell_type": "markdown",
   "metadata": {},
   "source": [
    "### 5.2 modeling"
   ]
  },
  {
   "cell_type": "code",
   "execution_count": 154,
   "metadata": {},
   "outputs": [],
   "source": [
    "from sklearn.neighbors import KNeighborsClassifier"
   ]
  },
  {
   "cell_type": "code",
   "execution_count": 120,
   "metadata": {},
   "outputs": [
    {
     "data": {
      "image/png": "[encoded data removed]",
      "text/plain": [
       "<Figure size 432x288 with 1 Axes>"
      ]
     },
     "metadata": {
      "needs_background": "light"
     },
     "output_type": "display_data"
    }
   ],
   "source": [
    "k_list = range(1,101)\n",
    "accuracies = []\n",
    "\n",
    "for k in k_list:\n",
    "  classifier = KNeighborsClassifier(n_neighbors = k)\n",
    "  classifier.fit(X_train, y_train)\n",
    "  accuracies.append(classifier.score(X_test, y_test))\n",
    "plt.plot(k_list, accuracies)\n",
    "plt.xlabel(\"k\")\n",
    "plt.ylabel(\"Validation Accuracy\")\n",
    "plt.title(\"Classifier Accuracy\")\n",
    "plt.show()"
   ]
  },
  {
   "cell_type": "code",
   "execution_count": 121,
   "metadata": {},
   "outputs": [
    {
     "data": {
      "text/plain": [
       "0"
      ]
     },
     "execution_count": 121,
     "metadata": {},
     "output_type": "execute_result"
    }
   ],
   "source": [
    "accuracies.index(max(accuracies))"
   ]
  },
  {
   "cell_type": "code",
   "execution_count": 134,
   "metadata": {},
   "outputs": [
    {
     "data": {
      "text/plain": [
       "KNeighborsClassifier(algorithm='auto', leaf_size=30, metric='minkowski',\n",
       "                     metric_params=None, n_jobs=None, n_neighbors=1, p=2,\n",
       "                     weights='uniform')"
      ]
     },
     "execution_count": 134,
     "metadata": {},
     "output_type": "execute_result"
    }
   ],
   "source": [
    "knn = KNeighborsClassifier(n_neighbors = 1)\n",
    "\n",
    "knn.fit(X_train, y_train)"
   ]
  },
  {
   "cell_type": "code",
   "execution_count": 135,
   "metadata": {},
   "outputs": [
    {
     "data": {
      "text/plain": [
       "1.0"
      ]
     },
     "execution_count": 135,
     "metadata": {},
     "output_type": "execute_result"
    }
   ],
   "source": [
    "# train 성능 #\n",
    "knn.score(X_train, y_train)"
   ]
  },
  {
   "cell_type": "code",
   "execution_count": 136,
   "metadata": {},
   "outputs": [],
   "source": [
    "y_pred = knn.predict(X_test)"
   ]
  },
  {
   "cell_type": "code",
   "execution_count": 137,
   "metadata": {},
   "outputs": [
    {
     "data": {
      "text/plain": [
       "0.8450704225352113"
      ]
     },
     "execution_count": 137,
     "metadata": {},
     "output_type": "execute_result"
    }
   ],
   "source": [
    "# test 성능 #\n",
    "knn.score(X_test, y_test)"
   ]
  },
  {
   "cell_type": "code",
   "execution_count": null,
   "metadata": {},
   "outputs": [],
   "source": []
  }
 ],
 "metadata": {
  "kernelspec": {
   "display_name": "Python 3",
   "language": "python",
   "name": "python3"
  },
  "language_info": {
   "codemirror_mode": {
    "name": "ipython",
    "version": 3
   },
   "file_extension": ".py",
   "mimetype": "text/x-python",
   "name": "python",
   "nbconvert_exporter": "python",
   "pygments_lexer": "ipython3",
   "version": "3.8.3"
  }
 },
 "nbformat": 4,
 "nbformat_minor": 4
}
