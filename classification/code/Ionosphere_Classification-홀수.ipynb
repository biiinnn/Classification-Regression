{
 "cells": [
  {
   "cell_type": "markdown",
   "metadata": {},
   "source": [
    "# classification (ionosphere)_홀수"
   ]
  },
  {
   "cell_type": "markdown",
   "metadata": {},
   "source": [
    "## 0. 데이터 전처리"
   ]
  },
  {
   "cell_type": "markdown",
   "metadata": {},
   "source": [
    "### 0.1 데이터 불러오기"
   ]
  },
  {
   "cell_type": "code",
   "execution_count": 5,
   "metadata": {},
   "outputs": [],
   "source": [
    "import pandas as pd\n",
    "import numpy as np "
   ]
  },
  {
   "cell_type": "code",
   "execution_count": 6,
   "metadata": {},
   "outputs": [],
   "source": [
    "data = pd.read_csv('ionosphere.csv')"
   ]
  },
  {
   "cell_type": "markdown",
   "metadata": {},
   "source": [
    "### 0.2 데이터 전처리"
   ]
  },
  {
   "cell_type": "markdown",
   "metadata": {},
   "source": [
    "#### EDA 결과 처음 두 변수 지움"
   ]
  },
  {
   "cell_type": "code",
   "execution_count": 7,
   "metadata": {},
   "outputs": [],
   "source": [
    "data.drop(columns=['attribute1','attribute2'], inplace=True)"
   ]
  },
  {
   "cell_type": "markdown",
   "metadata": {},
   "source": [
    "#### 컬럼 이름 해석하기 쉽게 바꿈: 관측소1-1, 관측소1-2....."
   ]
  },
  {
   "cell_type": "code",
   "execution_count": 8,
   "metadata": {},
   "outputs": [],
   "source": [
    "data.columns = ['ob1-1', 'ob1-2', 'ob2-1', 'ob2-2', 'ob3-1', 'ob3-2', 'ob4-1', 'ob4-2', 'ob5-1', 'ob5-2', 'ob6-1', 'ob6-2', 'ob7-1', 'ob7-2', 'ob8-1', 'ob8-2', 'ob9-1', 'ob9-2', 'ob10-1', 'ob10-2', 'ob11-1', 'ob11-2', 'ob12-1', 'ob12-2', 'ob13-1', 'ob13-2', 'ob14-1', 'ob14-2', 'ob15-1', 'ob15-2', 'ob16-1', 'ob16-2', 'target']"
   ]
  },
  {
   "cell_type": "markdown",
   "metadata": {},
   "source": [
    "#### 홀수번째 값만 사용(짝수번째 버림)"
   ]
  },
  {
   "cell_type": "code",
   "execution_count": 9,
   "metadata": {},
   "outputs": [],
   "source": [
    "data.drop(columns = ['ob1-2', 'ob2-2', 'ob3-2', 'ob4-2', 'ob5-2', 'ob6-2', 'ob7-2', 'ob8-2', 'ob9-2', 'ob10-2', 'ob11-2', 'ob12-2', 'ob13-2', 'ob14-2', 'ob15-2', 'ob16-2']\n",
    ", inplace=True)"
   ]
  },
  {
   "cell_type": "code",
   "execution_count": 10,
   "metadata": {},
   "outputs": [
    {
     "data": {
      "text/html": [
       "<div>\n",
       "<style scoped>\n",
       "    .dataframe tbody tr th:only-of-type {\n",
       "        vertical-align: middle;\n",
       "    }\n",
       "\n",
       "    .dataframe tbody tr th {\n",
       "        vertical-align: top;\n",
       "    }\n",
       "\n",
       "    .dataframe thead th {\n",
       "        text-align: right;\n",
       "    }\n",
       "</style>\n",
       "<table border=\"1\" class=\"dataframe\">\n",
       "  <thead>\n",
       "    <tr style=\"text-align: right;\">\n",
       "      <th></th>\n",
       "      <th>ob1-1</th>\n",
       "      <th>ob2-1</th>\n",
       "      <th>ob3-1</th>\n",
       "      <th>ob4-1</th>\n",
       "      <th>ob5-1</th>\n",
       "      <th>ob6-1</th>\n",
       "      <th>ob7-1</th>\n",
       "      <th>ob8-1</th>\n",
       "      <th>ob9-1</th>\n",
       "      <th>ob10-1</th>\n",
       "      <th>ob11-1</th>\n",
       "      <th>ob12-1</th>\n",
       "      <th>ob13-1</th>\n",
       "      <th>ob14-1</th>\n",
       "      <th>ob15-1</th>\n",
       "      <th>ob16-1</th>\n",
       "      <th>target</th>\n",
       "    </tr>\n",
       "  </thead>\n",
       "  <tbody>\n",
       "    <tr>\n",
       "      <th>0</th>\n",
       "      <td>0.99539</td>\n",
       "      <td>0.85243</td>\n",
       "      <td>0.83398</td>\n",
       "      <td>1.00000</td>\n",
       "      <td>0.85243</td>\n",
       "      <td>0.59755</td>\n",
       "      <td>0.60536</td>\n",
       "      <td>0.84356</td>\n",
       "      <td>0.58212</td>\n",
       "      <td>0.56971</td>\n",
       "      <td>0.36946</td>\n",
       "      <td>0.56811</td>\n",
       "      <td>0.41078</td>\n",
       "      <td>0.21266</td>\n",
       "      <td>0.42267</td>\n",
       "      <td>0.18641</td>\n",
       "      <td>0</td>\n",
       "    </tr>\n",
       "    <tr>\n",
       "      <th>1</th>\n",
       "      <td>1.00000</td>\n",
       "      <td>0.93035</td>\n",
       "      <td>-0.10868</td>\n",
       "      <td>1.00000</td>\n",
       "      <td>0.50874</td>\n",
       "      <td>0.34432</td>\n",
       "      <td>-0.51685</td>\n",
       "      <td>0.05499</td>\n",
       "      <td>0.33109</td>\n",
       "      <td>-0.13151</td>\n",
       "      <td>-0.18056</td>\n",
       "      <td>-0.20332</td>\n",
       "      <td>-0.20468</td>\n",
       "      <td>-0.19040</td>\n",
       "      <td>-0.16626</td>\n",
       "      <td>-0.13738</td>\n",
       "      <td>1</td>\n",
       "    </tr>\n",
       "    <tr>\n",
       "      <th>2</th>\n",
       "      <td>1.00000</td>\n",
       "      <td>1.00000</td>\n",
       "      <td>1.00000</td>\n",
       "      <td>0.88965</td>\n",
       "      <td>0.73082</td>\n",
       "      <td>0.85443</td>\n",
       "      <td>0.54591</td>\n",
       "      <td>0.83775</td>\n",
       "      <td>0.75535</td>\n",
       "      <td>0.70887</td>\n",
       "      <td>0.43385</td>\n",
       "      <td>0.57528</td>\n",
       "      <td>0.58984</td>\n",
       "      <td>0.43100</td>\n",
       "      <td>0.60436</td>\n",
       "      <td>0.56045</td>\n",
       "      <td>0</td>\n",
       "    </tr>\n",
       "    <tr>\n",
       "      <th>3</th>\n",
       "      <td>1.00000</td>\n",
       "      <td>1.00000</td>\n",
       "      <td>0.71216</td>\n",
       "      <td>0.00000</td>\n",
       "      <td>0.00000</td>\n",
       "      <td>0.00000</td>\n",
       "      <td>-1.00000</td>\n",
       "      <td>0.54094</td>\n",
       "      <td>-1.00000</td>\n",
       "      <td>-0.69975</td>\n",
       "      <td>0.00000</td>\n",
       "      <td>1.00000</td>\n",
       "      <td>0.51613</td>\n",
       "      <td>1.00000</td>\n",
       "      <td>0.25682</td>\n",
       "      <td>-0.32382</td>\n",
       "      <td>1</td>\n",
       "    </tr>\n",
       "    <tr>\n",
       "      <th>4</th>\n",
       "      <td>1.00000</td>\n",
       "      <td>0.94140</td>\n",
       "      <td>0.92106</td>\n",
       "      <td>0.77152</td>\n",
       "      <td>0.52798</td>\n",
       "      <td>0.56409</td>\n",
       "      <td>0.34395</td>\n",
       "      <td>0.52940</td>\n",
       "      <td>0.45107</td>\n",
       "      <td>0.05982</td>\n",
       "      <td>0.02309</td>\n",
       "      <td>0.03286</td>\n",
       "      <td>0.13290</td>\n",
       "      <td>0.02431</td>\n",
       "      <td>-0.05707</td>\n",
       "      <td>-0.04608</td>\n",
       "      <td>0</td>\n",
       "    </tr>\n",
       "  </tbody>\n",
       "</table>\n",
       "</div>"
      ],
      "text/plain": [
       "     ob1-1    ob2-1    ob3-1    ob4-1    ob5-1    ob6-1    ob7-1    ob8-1  \\\n",
       "0  0.99539  0.85243  0.83398  1.00000  0.85243  0.59755  0.60536  0.84356   \n",
       "1  1.00000  0.93035 -0.10868  1.00000  0.50874  0.34432 -0.51685  0.05499   \n",
       "2  1.00000  1.00000  1.00000  0.88965  0.73082  0.85443  0.54591  0.83775   \n",
       "3  1.00000  1.00000  0.71216  0.00000  0.00000  0.00000 -1.00000  0.54094   \n",
       "4  1.00000  0.94140  0.92106  0.77152  0.52798  0.56409  0.34395  0.52940   \n",
       "\n",
       "     ob9-1   ob10-1   ob11-1   ob12-1   ob13-1   ob14-1   ob15-1   ob16-1  \\\n",
       "0  0.58212  0.56971  0.36946  0.56811  0.41078  0.21266  0.42267  0.18641   \n",
       "1  0.33109 -0.13151 -0.18056 -0.20332 -0.20468 -0.19040 -0.16626 -0.13738   \n",
       "2  0.75535  0.70887  0.43385  0.57528  0.58984  0.43100  0.60436  0.56045   \n",
       "3 -1.00000 -0.69975  0.00000  1.00000  0.51613  1.00000  0.25682 -0.32382   \n",
       "4  0.45107  0.05982  0.02309  0.03286  0.13290  0.02431 -0.05707 -0.04608   \n",
       "\n",
       "   target  \n",
       "0       0  \n",
       "1       1  \n",
       "2       0  \n",
       "3       1  \n",
       "4       0  "
      ]
     },
     "execution_count": 10,
     "metadata": {},
     "output_type": "execute_result"
    }
   ],
   "source": [
    "data.head()"
   ]
  },
  {
   "cell_type": "markdown",
   "metadata": {},
   "source": [
    "target에서 0 이 good, 1 이 bad"
   ]
  },
  {
   "cell_type": "code",
   "execution_count": 11,
   "metadata": {},
   "outputs": [
    {
     "data": {
      "text/html": [
       "<div>\n",
       "<style scoped>\n",
       "    .dataframe tbody tr th:only-of-type {\n",
       "        vertical-align: middle;\n",
       "    }\n",
       "\n",
       "    .dataframe tbody tr th {\n",
       "        vertical-align: top;\n",
       "    }\n",
       "\n",
       "    .dataframe thead th {\n",
       "        text-align: right;\n",
       "    }\n",
       "</style>\n",
       "<table border=\"1\" class=\"dataframe\">\n",
       "  <thead>\n",
       "    <tr style=\"text-align: right;\">\n",
       "      <th></th>\n",
       "      <th>ob1-1</th>\n",
       "      <th>ob2-1</th>\n",
       "      <th>ob3-1</th>\n",
       "      <th>ob4-1</th>\n",
       "      <th>ob5-1</th>\n",
       "      <th>ob6-1</th>\n",
       "      <th>ob7-1</th>\n",
       "      <th>ob8-1</th>\n",
       "      <th>ob9-1</th>\n",
       "      <th>ob10-1</th>\n",
       "      <th>ob11-1</th>\n",
       "      <th>ob12-1</th>\n",
       "      <th>ob13-1</th>\n",
       "      <th>ob14-1</th>\n",
       "      <th>ob15-1</th>\n",
       "      <th>ob16-1</th>\n",
       "      <th>target</th>\n",
       "    </tr>\n",
       "  </thead>\n",
       "  <tbody>\n",
       "    <tr>\n",
       "      <th>count</th>\n",
       "      <td>351.000000</td>\n",
       "      <td>351.000000</td>\n",
       "      <td>351.000000</td>\n",
       "      <td>351.000000</td>\n",
       "      <td>351.000000</td>\n",
       "      <td>351.000000</td>\n",
       "      <td>351.000000</td>\n",
       "      <td>351.000000</td>\n",
       "      <td>351.000000</td>\n",
       "      <td>351.000000</td>\n",
       "      <td>351.000000</td>\n",
       "      <td>351.000000</td>\n",
       "      <td>351.000000</td>\n",
       "      <td>351.000000</td>\n",
       "      <td>351.000000</td>\n",
       "      <td>351.000000</td>\n",
       "      <td>351.000000</td>\n",
       "    </tr>\n",
       "    <tr>\n",
       "      <th>mean</th>\n",
       "      <td>0.641342</td>\n",
       "      <td>0.601068</td>\n",
       "      <td>0.550095</td>\n",
       "      <td>0.511848</td>\n",
       "      <td>0.476183</td>\n",
       "      <td>0.400801</td>\n",
       "      <td>0.344159</td>\n",
       "      <td>0.381949</td>\n",
       "      <td>0.359390</td>\n",
       "      <td>0.336695</td>\n",
       "      <td>0.362475</td>\n",
       "      <td>0.396135</td>\n",
       "      <td>0.541641</td>\n",
       "      <td>0.378445</td>\n",
       "      <td>0.352514</td>\n",
       "      <td>0.349364</td>\n",
       "      <td>0.358974</td>\n",
       "    </tr>\n",
       "    <tr>\n",
       "      <th>std</th>\n",
       "      <td>0.497708</td>\n",
       "      <td>0.519862</td>\n",
       "      <td>0.492654</td>\n",
       "      <td>0.507066</td>\n",
       "      <td>0.563496</td>\n",
       "      <td>0.622186</td>\n",
       "      <td>0.652828</td>\n",
       "      <td>0.618020</td>\n",
       "      <td>0.626267</td>\n",
       "      <td>0.609828</td>\n",
       "      <td>0.603767</td>\n",
       "      <td>0.578451</td>\n",
       "      <td>0.516205</td>\n",
       "      <td>0.575886</td>\n",
       "      <td>0.571483</td>\n",
       "      <td>0.522663</td>\n",
       "      <td>0.480384</td>\n",
       "    </tr>\n",
       "    <tr>\n",
       "      <th>min</th>\n",
       "      <td>-1.000000</td>\n",
       "      <td>-1.000000</td>\n",
       "      <td>-1.000000</td>\n",
       "      <td>-1.000000</td>\n",
       "      <td>-1.000000</td>\n",
       "      <td>-1.000000</td>\n",
       "      <td>-1.000000</td>\n",
       "      <td>-1.000000</td>\n",
       "      <td>-1.000000</td>\n",
       "      <td>-1.000000</td>\n",
       "      <td>-1.000000</td>\n",
       "      <td>-1.000000</td>\n",
       "      <td>-1.000000</td>\n",
       "      <td>-1.000000</td>\n",
       "      <td>-1.000000</td>\n",
       "      <td>-1.000000</td>\n",
       "      <td>0.000000</td>\n",
       "    </tr>\n",
       "    <tr>\n",
       "      <th>25%</th>\n",
       "      <td>0.472135</td>\n",
       "      <td>0.412660</td>\n",
       "      <td>0.211310</td>\n",
       "      <td>0.087110</td>\n",
       "      <td>0.021120</td>\n",
       "      <td>0.000000</td>\n",
       "      <td>0.000000</td>\n",
       "      <td>0.000000</td>\n",
       "      <td>0.000000</td>\n",
       "      <td>0.000000</td>\n",
       "      <td>0.000000</td>\n",
       "      <td>0.000000</td>\n",
       "      <td>0.286435</td>\n",
       "      <td>0.000000</td>\n",
       "      <td>0.000000</td>\n",
       "      <td>0.000000</td>\n",
       "      <td>0.000000</td>\n",
       "    </tr>\n",
       "    <tr>\n",
       "      <th>50%</th>\n",
       "      <td>0.871110</td>\n",
       "      <td>0.809200</td>\n",
       "      <td>0.728730</td>\n",
       "      <td>0.684210</td>\n",
       "      <td>0.667980</td>\n",
       "      <td>0.644070</td>\n",
       "      <td>0.601940</td>\n",
       "      <td>0.590910</td>\n",
       "      <td>0.576190</td>\n",
       "      <td>0.499090</td>\n",
       "      <td>0.531760</td>\n",
       "      <td>0.553890</td>\n",
       "      <td>0.708240</td>\n",
       "      <td>0.496640</td>\n",
       "      <td>0.442770</td>\n",
       "      <td>0.409560</td>\n",
       "      <td>0.000000</td>\n",
       "    </tr>\n",
       "    <tr>\n",
       "      <th>75%</th>\n",
       "      <td>1.000000</td>\n",
       "      <td>1.000000</td>\n",
       "      <td>0.969240</td>\n",
       "      <td>0.953240</td>\n",
       "      <td>0.957895</td>\n",
       "      <td>0.955505</td>\n",
       "      <td>0.919330</td>\n",
       "      <td>0.935705</td>\n",
       "      <td>0.899265</td>\n",
       "      <td>0.894865</td>\n",
       "      <td>0.911235</td>\n",
       "      <td>0.905240</td>\n",
       "      <td>0.999945</td>\n",
       "      <td>0.883465</td>\n",
       "      <td>0.857620</td>\n",
       "      <td>0.813765</td>\n",
       "      <td>1.000000</td>\n",
       "    </tr>\n",
       "    <tr>\n",
       "      <th>max</th>\n",
       "      <td>1.000000</td>\n",
       "      <td>1.000000</td>\n",
       "      <td>1.000000</td>\n",
       "      <td>1.000000</td>\n",
       "      <td>1.000000</td>\n",
       "      <td>1.000000</td>\n",
       "      <td>1.000000</td>\n",
       "      <td>1.000000</td>\n",
       "      <td>1.000000</td>\n",
       "      <td>1.000000</td>\n",
       "      <td>1.000000</td>\n",
       "      <td>1.000000</td>\n",
       "      <td>1.000000</td>\n",
       "      <td>1.000000</td>\n",
       "      <td>1.000000</td>\n",
       "      <td>1.000000</td>\n",
       "      <td>1.000000</td>\n",
       "    </tr>\n",
       "  </tbody>\n",
       "</table>\n",
       "</div>"
      ],
      "text/plain": [
       "            ob1-1       ob2-1       ob3-1       ob4-1       ob5-1       ob6-1  \\\n",
       "count  351.000000  351.000000  351.000000  351.000000  351.000000  351.000000   \n",
       "mean     0.641342    0.601068    0.550095    0.511848    0.476183    0.400801   \n",
       "std      0.497708    0.519862    0.492654    0.507066    0.563496    0.622186   \n",
       "min     -1.000000   -1.000000   -1.000000   -1.000000   -1.000000   -1.000000   \n",
       "25%      0.472135    0.412660    0.211310    0.087110    0.021120    0.000000   \n",
       "50%      0.871110    0.809200    0.728730    0.684210    0.667980    0.644070   \n",
       "75%      1.000000    1.000000    0.969240    0.953240    0.957895    0.955505   \n",
       "max      1.000000    1.000000    1.000000    1.000000    1.000000    1.000000   \n",
       "\n",
       "            ob7-1       ob8-1       ob9-1      ob10-1      ob11-1      ob12-1  \\\n",
       "count  351.000000  351.000000  351.000000  351.000000  351.000000  351.000000   \n",
       "mean     0.344159    0.381949    0.359390    0.336695    0.362475    0.396135   \n",
       "std      0.652828    0.618020    0.626267    0.609828    0.603767    0.578451   \n",
       "min     -1.000000   -1.000000   -1.000000   -1.000000   -1.000000   -1.000000   \n",
       "25%      0.000000    0.000000    0.000000    0.000000    0.000000    0.000000   \n",
       "50%      0.601940    0.590910    0.576190    0.499090    0.531760    0.553890   \n",
       "75%      0.919330    0.935705    0.899265    0.894865    0.911235    0.905240   \n",
       "max      1.000000    1.000000    1.000000    1.000000    1.000000    1.000000   \n",
       "\n",
       "           ob13-1      ob14-1      ob15-1      ob16-1      target  \n",
       "count  351.000000  351.000000  351.000000  351.000000  351.000000  \n",
       "mean     0.541641    0.378445    0.352514    0.349364    0.358974  \n",
       "std      0.516205    0.575886    0.571483    0.522663    0.480384  \n",
       "min     -1.000000   -1.000000   -1.000000   -1.000000    0.000000  \n",
       "25%      0.286435    0.000000    0.000000    0.000000    0.000000  \n",
       "50%      0.708240    0.496640    0.442770    0.409560    0.000000  \n",
       "75%      0.999945    0.883465    0.857620    0.813765    1.000000  \n",
       "max      1.000000    1.000000    1.000000    1.000000    1.000000  "
      ]
     },
     "execution_count": 11,
     "metadata": {},
     "output_type": "execute_result"
    }
   ],
   "source": [
    "data.describe()"
   ]
  },
  {
   "cell_type": "markdown",
   "metadata": {},
   "source": [
    "모든 변수 (-1,1) 이므로 따로 scaling X"
   ]
  },
  {
   "cell_type": "code",
   "execution_count": 12,
   "metadata": {
    "scrolled": true
   },
   "outputs": [
    {
     "data": {
      "text/plain": [
       "ob1-1     0\n",
       "ob2-1     0\n",
       "ob3-1     0\n",
       "ob4-1     0\n",
       "ob5-1     0\n",
       "ob6-1     0\n",
       "ob7-1     0\n",
       "ob8-1     0\n",
       "ob9-1     0\n",
       "ob10-1    0\n",
       "ob11-1    0\n",
       "ob12-1    0\n",
       "ob13-1    0\n",
       "ob14-1    0\n",
       "ob15-1    0\n",
       "ob16-1    0\n",
       "target    0\n",
       "dtype: int64"
      ]
     },
     "execution_count": 12,
     "metadata": {},
     "output_type": "execute_result"
    }
   ],
   "source": [
    "data.isnull().sum()"
   ]
  },
  {
   "cell_type": "markdown",
   "metadata": {},
   "source": [
    "결측치 존재X"
   ]
  },
  {
   "cell_type": "code",
   "execution_count": 13,
   "metadata": {},
   "outputs": [
    {
     "data": {
      "text/plain": [
       "(351, 17)"
      ]
     },
     "execution_count": 13,
     "metadata": {},
     "output_type": "execute_result"
    }
   ],
   "source": [
    "data.shape"
   ]
  },
  {
   "cell_type": "markdown",
   "metadata": {},
   "source": [
    "## 1. Logistic Regression"
   ]
  },
  {
   "cell_type": "markdown",
   "metadata": {},
   "source": [
    "### 1.1 train test 분리"
   ]
  },
  {
   "cell_type": "code",
   "execution_count": 14,
   "metadata": {},
   "outputs": [],
   "source": [
    "from sklearn.model_selection import train_test_split"
   ]
  },
  {
   "cell_type": "code",
   "execution_count": 15,
   "metadata": {
    "scrolled": true
   },
   "outputs": [
    {
     "data": {
      "text/plain": [
       "6      0\n",
       "52     0\n",
       "114    1\n",
       "45     1\n",
       "106    1\n",
       "Name: target, dtype: int64"
      ]
     },
     "execution_count": 15,
     "metadata": {},
     "output_type": "execute_result"
    }
   ],
   "source": [
    "X, y = data.iloc[:,:-1], data.iloc[:,-1]\n",
    "\n",
    "X_train, X_test, y_train, y_test = train_test_split(X, y, test_size = 0.2, random_state = 0)\n",
    "y_test.head()"
   ]
  },
  {
   "cell_type": "markdown",
   "metadata": {},
   "source": [
    "### 1.2 modeling"
   ]
  },
  {
   "cell_type": "code",
   "execution_count": 16,
   "metadata": {},
   "outputs": [],
   "source": [
    "from sklearn.linear_model import LogisticRegression"
   ]
  },
  {
   "cell_type": "code",
   "execution_count": 17,
   "metadata": {},
   "outputs": [
    {
     "data": {
      "text/plain": [
       "LogisticRegression(C=1.0, class_weight=None, dual=False, fit_intercept=True,\n",
       "                   intercept_scaling=1, l1_ratio=None, max_iter=100,\n",
       "                   multi_class='auto', n_jobs=None, penalty='l2',\n",
       "                   random_state=None, solver='lbfgs', tol=0.0001, verbose=0,\n",
       "                   warm_start=False)"
      ]
     },
     "execution_count": 17,
     "metadata": {},
     "output_type": "execute_result"
    }
   ],
   "source": [
    "logreg = LogisticRegression(solver='lbfgs')\n",
    "\n",
    "logreg.fit(X_train, y_train)"
   ]
  },
  {
   "cell_type": "code",
   "execution_count": 18,
   "metadata": {},
   "outputs": [
    {
     "data": {
      "text/plain": [
       "array([0, 1], dtype=int64)"
      ]
     },
     "execution_count": 18,
     "metadata": {},
     "output_type": "execute_result"
    }
   ],
   "source": [
    "logreg.classes_"
   ]
  },
  {
   "cell_type": "code",
   "execution_count": 19,
   "metadata": {
    "scrolled": true
   },
   "outputs": [
    {
     "data": {
      "text/plain": [
       "array([1.18278995])"
      ]
     },
     "execution_count": 19,
     "metadata": {},
     "output_type": "execute_result"
    }
   ],
   "source": [
    "logreg.intercept_"
   ]
  },
  {
   "cell_type": "code",
   "execution_count": 20,
   "metadata": {
    "scrolled": true
   },
   "outputs": [
    {
     "data": {
      "text/plain": [
       "array([[-2.07644454e+00, -1.59976616e+00, -3.50090303e-01,\n",
       "        -5.15455636e-01,  9.20153472e-01,  9.43235731e-01,\n",
       "        -6.12426276e-01,  9.85965631e-02,  6.70790171e-01,\n",
       "        -8.37320165e-01,  1.17351585e-03,  1.59636569e-01,\n",
       "         1.38977939e+00, -4.55634390e-01, -8.59960384e-01,\n",
       "        -4.09299469e-02]])"
      ]
     },
     "execution_count": 20,
     "metadata": {},
     "output_type": "execute_result"
    }
   ],
   "source": [
    "logreg.coef_"
   ]
  },
  {
   "cell_type": "code",
   "execution_count": 21,
   "metadata": {},
   "outputs": [],
   "source": [
    "y_pred_t = logreg.predict(X_train)\n",
    "y_pred = logreg.predict(X_test)"
   ]
  },
  {
   "cell_type": "code",
   "execution_count": 22,
   "metadata": {},
   "outputs": [
    {
     "name": "stdout",
     "output_type": "stream",
     "text": [
      "Train_Accuracy: 0.8428571428571429\n",
      "Test_Accuracy: 0.8873239436619719\n"
     ]
    }
   ],
   "source": [
    "train_acc = logreg.score(X_train, y_train)\n",
    "test_acc = logreg.score(X_test, y_test)\n",
    "\n",
    "print(f'Train_Accuracy: {train_acc}')\n",
    "print(f'Test_Accuracy: {test_acc}')"
   ]
  },
  {
   "cell_type": "markdown",
   "metadata": {},
   "source": [
    "### 1.3 Confusion Matrix / AUROC"
   ]
  },
  {
   "cell_type": "markdown",
   "metadata": {},
   "source": [
    "#### Confusion Matrix"
   ]
  },
  {
   "cell_type": "code",
   "execution_count": 23,
   "metadata": {},
   "outputs": [],
   "source": [
    "from sklearn.metrics import confusion_matrix\n",
    "import matplotlib.pyplot as plt\n",
    "import seaborn as sns"
   ]
  },
  {
   "cell_type": "code",
   "execution_count": 24,
   "metadata": {},
   "outputs": [
    {
     "data": {
      "image/png": "[encoded data removed]",
      "text/plain": [
       "<Figure size 360x360 with 2 Axes>"
      ]
     },
     "metadata": {
      "needs_background": "light"
     },
     "output_type": "display_data"
    }
   ],
   "source": [
    "con_mat = confusion_matrix(y_test, y_pred, labels=[0,1])\n",
    "\n",
    "group_names = [\"TN\",\"FP\",\"FN\",\"TP\"]\n",
    "group_counts = [\"{0:0.0f}\".format(value) for value in con_mat.flatten()]\n",
    "group_percentages = [\"{0:.2%}\".format(value) for value in con_mat.flatten()/np.sum(con_mat)]\n",
    "\n",
    "labels = [f\"{v1}\\n{v2}\\n{v3}\" for v1, v2, v3 in zip(group_names,group_counts,group_percentages)]\n",
    "labels = np.asarray(labels).reshape(2,2)\n",
    "fig, ax = plt.subplots(figsize=(5,5))\n",
    "\n",
    "sns.heatmap(con_mat, annot=labels, cmap = \"Blues\", fmt=\"\", linewidths=10, square=True)\n",
    "ax.set_ylim([0,2])\n",
    "ax.set_title(\"Confusion Matrix\")\n",
    "plt.ylabel('True label')\n",
    "plt.xlabel('Predicted label' + \"\")\n",
    "plt.show()"
   ]
  },
  {
   "cell_type": "markdown",
   "metadata": {},
   "source": [
    "#### AUROC"
   ]
  },
  {
   "cell_type": "code",
   "execution_count": 25,
   "metadata": {},
   "outputs": [],
   "source": [
    "from sklearn.metrics import roc_curve, auc\n",
    "%matplotlib inline"
   ]
  },
  {
   "cell_type": "code",
   "execution_count": 26,
   "metadata": {
    "scrolled": true
   },
   "outputs": [
    {
     "data": {
      "image/png": "[encoded data removed]",
      "text/plain": [
       "<Figure size 432x288 with 1 Axes>"
      ]
     },
     "metadata": {
      "needs_background": "light"
     },
     "output_type": "display_data"
    }
   ],
   "source": [
    "fpr, tpr, thresholds = roc_curve(y_test, logreg.decision_function(X_test)) \n",
    "\n",
    "plt.plot(fpr, tpr)\n",
    "#plt.fill_between(fpr, tpr)\n",
    "plt.plot([0, 1], [0, 1], '--')\n",
    "plt.xlabel('1 - Specificity(TNR)')\n",
    "#plt.xlabel('거짓 양성 비율(FPR)')\n",
    "plt.ylabel('Sensitivity(TPR)')\n",
    "\n",
    "auc_s = auc(fpr, tpr) # auc(score)\n",
    "plt.title('ROC curve (AUROC = {})'.format(auc_s))\n",
    "plt.show()"
   ]
  },
  {
   "cell_type": "markdown",
   "metadata": {},
   "source": [
    "#### 각 성능 지표"
   ]
  },
  {
   "cell_type": "code",
   "execution_count": 27,
   "metadata": {},
   "outputs": [],
   "source": [
    "from sklearn.metrics import f1_score, accuracy_score, recall_score, precision_score\n",
    "from sklearn.metrics import classification_report"
   ]
  },
  {
   "cell_type": "code",
   "execution_count": 28,
   "metadata": {},
   "outputs": [
    {
     "name": "stdout",
     "output_type": "stream",
     "text": [
      "              precision    recall  f1-score   support\n",
      "\n",
      "           0       0.84      1.00      0.91        41\n",
      "           1       1.00      0.73      0.85        30\n",
      "\n",
      "    accuracy                           0.89        71\n",
      "   macro avg       0.92      0.87      0.88        71\n",
      "weighted avg       0.91      0.89      0.88        71\n",
      "\n"
     ]
    }
   ],
   "source": [
    "print(classification_report(y_test, y_pred))"
   ]
  },
  {
   "cell_type": "code",
   "execution_count": 29,
   "metadata": {
    "scrolled": true
   },
   "outputs": [
    {
     "name": "stdout",
     "output_type": "stream",
     "text": [
      "Accuracy: 0.8873239436619719\n",
      "Precision: 1.0\n",
      "Recall: 0.7333333333333333\n",
      "F1-score: 0.846153846153846\n"
     ]
    }
   ],
   "source": [
    "print(f'Accuracy: {accuracy_score(y_test, y_pred)}')\n",
    "print(f\"Precision: {precision_score(y_test, y_pred, average='binary')}\")\n",
    "print(f\"Recall: {recall_score(y_test, y_pred, average='binary')}\")\n",
    "print(f\"F1-score: {f1_score(y_test, y_pred, average='binary')}\")"
   ]
  },
  {
   "cell_type": "markdown",
   "metadata": {},
   "source": [
    "## 2. Decision Tree"
   ]
  },
  {
   "cell_type": "code",
   "execution_count": 62,
   "metadata": {},
   "outputs": [],
   "source": [
    "col_names = ['ob1-1', 'ob2-1', 'ob3-1', 'ob4-1', 'ob5-1', 'ob6-1', 'ob7-1', 'ob8-1', 'ob9-1', 'ob10-1', 'ob11-1', 'ob12-1', 'ob13-1', 'ob14-1', 'ob15-1', 'ob16-1']"
   ]
  },
  {
   "cell_type": "markdown",
   "metadata": {},
   "source": [
    "30번 반복"
   ]
  },
  {
   "cell_type": "markdown",
   "metadata": {},
   "source": [
    "### 2.1 train test 분리"
   ]
  },
  {
   "cell_type": "code",
   "execution_count": 63,
   "metadata": {},
   "outputs": [],
   "source": [
    "from sklearn.model_selection import train_test_split"
   ]
  },
  {
   "cell_type": "code",
   "execution_count": 124,
   "metadata": {
    "scrolled": false
   },
   "outputs": [
    {
     "data": {
      "text/plain": [
       "189    0\n",
       "48     0\n",
       "58     0\n",
       "212    1\n",
       "82     0\n",
       "Name: target, dtype: int64"
      ]
     },
     "execution_count": 124,
     "metadata": {},
     "output_type": "execute_result"
    }
   ],
   "source": [
    "X, y = data.iloc[:,:-1], data.iloc[:,-1]\n",
    "\n",
    "X_train, X_test, y_train, y_test = train_test_split(X, y, test_size = 0.2)\n",
    "y_test.head()"
   ]
  },
  {
   "cell_type": "markdown",
   "metadata": {},
   "source": [
    "### 2.2 modeling & visualization & 성능평가 : Gini index"
   ]
  },
  {
   "cell_type": "markdown",
   "metadata": {},
   "source": [
    "#### modeling"
   ]
  },
  {
   "cell_type": "code",
   "execution_count": 125,
   "metadata": {},
   "outputs": [],
   "source": [
    "from sklearn.tree import DecisionTreeClassifier"
   ]
  },
  {
   "cell_type": "code",
   "execution_count": 126,
   "metadata": {
    "scrolled": false
   },
   "outputs": [
    {
     "data": {
      "text/plain": [
       "DecisionTreeClassifier(ccp_alpha=0.0, class_weight=None, criterion='gini',\n",
       "                       max_depth=4, max_features=None, max_leaf_nodes=None,\n",
       "                       min_impurity_decrease=0.0, min_impurity_split=None,\n",
       "                       min_samples_leaf=1, min_samples_split=2,\n",
       "                       min_weight_fraction_leaf=0.0, presort='deprecated',\n",
       "                       random_state=None, splitter='best')"
      ]
     },
     "execution_count": 126,
     "metadata": {},
     "output_type": "execute_result"
    }
   ],
   "source": [
    "DT = DecisionTreeClassifier(criterion = 'gini', max_depth = 4) \n",
    "\n",
    "DT.fit(X_train, y_train)"
   ]
  },
  {
   "cell_type": "code",
   "execution_count": 127,
   "metadata": {},
   "outputs": [
    {
     "name": "stdout",
     "output_type": "stream",
     "text": [
      "Train_Accuracy: 0.9357142857142857\n",
      "Test_Accuracy: 0.9014084507042254\n"
     ]
    }
   ],
   "source": [
    "train_acc = DT.score(X_train, y_train)\n",
    "test_acc = DT.score(X_test, y_test)\n",
    "\n",
    "print(f'Train_Accuracy: {train_acc}')\n",
    "print(f'Test_Accuracy: {test_acc}')"
   ]
  },
  {
   "cell_type": "markdown",
   "metadata": {},
   "source": [
    "#### visualization"
   ]
  },
  {
   "cell_type": "code",
   "execution_count": 128,
   "metadata": {},
   "outputs": [],
   "source": [
    "from sklearn import tree\n",
    "from sklearn.tree import export_graphviz\n",
    "from sklearn.externals.six import StringIO\n",
    "import pydotplus\n",
    "from IPython.display import Image\n",
    "import graphviz"
   ]
  },
  {
   "cell_type": "code",
   "execution_count": 129,
   "metadata": {
    "scrolled": false
   },
   "outputs": [
    {
     "data": {
      "image/png": "[encoded data removed]",
      "text/plain": [
       "<IPython.core.display.Image object>"
      ]
     },
     "execution_count": 129,
     "metadata": {},
     "output_type": "execute_result"
    }
   ],
   "source": [
    "dot_data = StringIO()\n",
    "dot_data = export_graphviz(DT, out_file = None, feature_names = col_names,\n",
    "                          class_names=['good','bad'], filled = True, rounded = True, special_characters = True)\n",
    "graph = pydotplus.graph_from_dot_data(dot_data)\n",
    "Image(graph.create_png())"
   ]
  },
  {
   "cell_type": "markdown",
   "metadata": {},
   "source": [
    "#### Confusion Matrix"
   ]
  },
  {
   "cell_type": "code",
   "execution_count": 130,
   "metadata": {},
   "outputs": [],
   "source": [
    "from sklearn.metrics import confusion_matrix\n",
    "import matplotlib.pyplot as plt\n",
    "import seaborn as sns"
   ]
  },
  {
   "cell_type": "code",
   "execution_count": 131,
   "metadata": {},
   "outputs": [],
   "source": [
    "y_pred = DT.predict(X_test)"
   ]
  },
  {
   "cell_type": "code",
   "execution_count": 132,
   "metadata": {},
   "outputs": [
    {
     "data": {
      "image/png": "[encoded data removed]",
      "text/plain": [
       "<Figure size 360x360 with 2 Axes>"
      ]
     },
     "metadata": {
      "needs_background": "light"
     },
     "output_type": "display_data"
    }
   ],
   "source": [
    "con_mat = confusion_matrix(y_test, y_pred, labels=[0,1])\n",
    "\n",
    "group_names = [\"TN\",\"FP\",\"FN\",\"TP\"]\n",
    "group_counts = [\"{0:0.0f}\".format(value) for value in con_mat.flatten()]\n",
    "group_percentages = [\"{0:.2%}\".format(value) for value in con_mat.flatten()/np.sum(con_mat)]\n",
    "\n",
    "labels = [f\"{v1}\\n{v2}\\n{v3}\" for v1, v2, v3 in zip(group_names,group_counts,group_percentages)]\n",
    "labels = np.asarray(labels).reshape(2,2)\n",
    "fig, ax = plt.subplots(figsize=(5,5))\n",
    "\n",
    "sns.heatmap(con_mat, annot=labels, cmap = \"Blues\", fmt=\"\", linewidths=10, square=True)\n",
    "ax.set_ylim([0,2])\n",
    "ax.set_title(\"Confusion Matrix\")\n",
    "plt.ylabel('True label')\n",
    "plt.xlabel('Predicted label' + \"\")\n",
    "plt.show()"
   ]
  },
  {
   "cell_type": "markdown",
   "metadata": {},
   "source": [
    "#### AUROC"
   ]
  },
  {
   "cell_type": "code",
   "execution_count": 133,
   "metadata": {},
   "outputs": [],
   "source": [
    "from sklearn.metrics import roc_curve, auc\n",
    "%matplotlib inline"
   ]
  },
  {
   "cell_type": "code",
   "execution_count": 134,
   "metadata": {
    "scrolled": false
   },
   "outputs": [
    {
     "data": {
      "image/png": "[encoded data removed]",
      "text/plain": [
       "<Figure size 432x288 with 1 Axes>"
      ]
     },
     "metadata": {
      "needs_background": "light"
     },
     "output_type": "display_data"
    }
   ],
   "source": [
    "fpr, tpr, thresholds = roc_curve(y_test, DT.predict_proba(X_test)[:,1]) \n",
    "\n",
    "plt.plot(fpr, tpr)\n",
    "#plt.fill_between(fpr, tpr)\n",
    "plt.plot([0, 1], [0, 1], '--')\n",
    "plt.xlabel('1 - Specificity(TNR)')\n",
    "#plt.xlabel('거짓 양성 비율(FPR)')\n",
    "plt.ylabel('Sensitivity(TPR)')\n",
    "\n",
    "auc_s = auc(fpr, tpr) # auc(score)\n",
    "plt.title('ROC curve (AUROC = {})'.format(auc_s))\n",
    "plt.show()"
   ]
  },
  {
   "cell_type": "markdown",
   "metadata": {},
   "source": [
    "#### 각 성능 지표"
   ]
  },
  {
   "cell_type": "code",
   "execution_count": 135,
   "metadata": {},
   "outputs": [],
   "source": [
    "from sklearn.metrics import f1_score, accuracy_score, recall_score, precision_score\n",
    "from sklearn.metrics import classification_report"
   ]
  },
  {
   "cell_type": "code",
   "execution_count": 136,
   "metadata": {},
   "outputs": [
    {
     "name": "stdout",
     "output_type": "stream",
     "text": [
      "              precision    recall  f1-score   support\n",
      "\n",
      "           0       0.96      0.90      0.93        50\n",
      "           1       0.79      0.90      0.84        21\n",
      "\n",
      "    accuracy                           0.90        71\n",
      "   macro avg       0.87      0.90      0.89        71\n",
      "weighted avg       0.91      0.90      0.90        71\n",
      "\n"
     ]
    }
   ],
   "source": [
    "print(classification_report(y_test, y_pred))"
   ]
  },
  {
   "cell_type": "code",
   "execution_count": 137,
   "metadata": {
    "scrolled": true
   },
   "outputs": [
    {
     "name": "stdout",
     "output_type": "stream",
     "text": [
      "Accuracy: 0.9014084507042254\n",
      "Precision: 0.7916666666666666\n",
      "Recall: 0.9047619047619048\n",
      "F1-score: 0.8444444444444444\n"
     ]
    }
   ],
   "source": [
    "print(f'Accuracy: {accuracy_score(y_test, y_pred)}')\n",
    "print(f\"Precision: {precision_score(y_test, y_pred, average='binary')}\")\n",
    "print(f\"Recall: {recall_score(y_test, y_pred, average='binary')}\")\n",
    "print(f\"F1-score: {f1_score(y_test, y_pred, average='binary')}\")"
   ]
  },
  {
   "cell_type": "code",
   "execution_count": null,
   "metadata": {},
   "outputs": [],
   "source": []
  },
  {
   "cell_type": "code",
   "execution_count": null,
   "metadata": {},
   "outputs": [],
   "source": []
  },
  {
   "cell_type": "markdown",
   "metadata": {},
   "source": [
    "## 3. Random Forest"
   ]
  },
  {
   "cell_type": "markdown",
   "metadata": {},
   "source": [
    "### 3.1 train test 분리"
   ]
  },
  {
   "cell_type": "code",
   "execution_count": 31,
   "metadata": {},
   "outputs": [],
   "source": [
    "from sklearn.model_selection import train_test_split"
   ]
  },
  {
   "cell_type": "code",
   "execution_count": 32,
   "metadata": {
    "scrolled": false
   },
   "outputs": [
    {
     "data": {
      "text/plain": [
       "6      0\n",
       "52     0\n",
       "114    1\n",
       "45     1\n",
       "106    1\n",
       "Name: target, dtype: int64"
      ]
     },
     "execution_count": 32,
     "metadata": {},
     "output_type": "execute_result"
    }
   ],
   "source": [
    "X, y = data.iloc[:,:-1], data.iloc[:,-1]\n",
    "\n",
    "X_train, X_test, y_train, y_test = train_test_split(X, y, test_size = 0.2, random_state = 0)\n",
    "y_test.head()"
   ]
  },
  {
   "cell_type": "markdown",
   "metadata": {},
   "source": [
    "### 3.2 modeling"
   ]
  },
  {
   "cell_type": "code",
   "execution_count": 33,
   "metadata": {},
   "outputs": [],
   "source": [
    "from sklearn.ensemble import RandomForestClassifier"
   ]
  },
  {
   "cell_type": "code",
   "execution_count": 36,
   "metadata": {},
   "outputs": [
    {
     "data": {
      "text/plain": [
       "RandomForestClassifier(bootstrap=True, ccp_alpha=0.0, class_weight=None,\n",
       "                       criterion='gini', max_depth=4, max_features='auto',\n",
       "                       max_leaf_nodes=None, max_samples=None,\n",
       "                       min_impurity_decrease=0.0, min_impurity_split=None,\n",
       "                       min_samples_leaf=1, min_samples_split=2,\n",
       "                       min_weight_fraction_leaf=0.0, n_estimators=100,\n",
       "                       n_jobs=None, oob_score=True, random_state=42, verbose=0,\n",
       "                       warm_start=False)"
      ]
     },
     "execution_count": 36,
     "metadata": {},
     "output_type": "execute_result"
    }
   ],
   "source": [
    "RF = RandomForestClassifier(n_estimators=100, oob_score=True,\n",
    "                            criterion='gini', max_depth=4, random_state=42)\n",
    "RF.fit(X_train, y_train)"
   ]
  },
  {
   "cell_type": "code",
   "execution_count": 37,
   "metadata": {
    "scrolled": true
   },
   "outputs": [
    {
     "name": "stdout",
     "output_type": "stream",
     "text": [
      "[DecisionTreeClassifier(ccp_alpha=0.0, class_weight=None, criterion='gini',\n",
      "                       max_depth=4, max_features='auto', max_leaf_nodes=None,\n",
      "                       min_impurity_decrease=0.0, min_impurity_split=None,\n",
      "                       min_samples_leaf=1, min_samples_split=2,\n",
      "                       min_weight_fraction_leaf=0.0, presort='deprecated',\n",
      "                       random_state=1608637542, splitter='best'), DecisionTreeClassifier(ccp_alpha=0.0, class_weight=None, criterion='gini',\n",
      "                       max_depth=4, max_features='auto', max_leaf_nodes=None,\n",
      "                       min_impurity_decrease=0.0, min_impurity_split=None,\n",
      "                       min_samples_leaf=1, min_samples_split=2,\n",
      "                       min_weight_fraction_leaf=0.0, presort='deprecated',\n",
      "                       random_state=1273642419, splitter='best'), DecisionTreeClassifier(ccp_alpha=0.0, class_weight=None, criterion='gini',\n",
      "                       max_depth=4, max_features='auto', max_leaf_nodes=None,\n",
      "                       min_impurity_decrease=0.0, min_impurity_split=None,\n",
      "                       min_samples_leaf=1, min_samples_split=2,\n",
      "                       min_weight_fraction_leaf=0.0, presort='deprecated',\n",
      "                       random_state=1935803228, splitter='best')]\n",
      "100\n"
     ]
    }
   ],
   "source": [
    "print(RF.estimators_[:3])\n",
    "print(len(RF.estimators_))"
   ]
  },
  {
   "cell_type": "markdown",
   "metadata": {},
   "source": [
    "### 3.3 Feature Importance"
   ]
  },
  {
   "cell_type": "code",
   "execution_count": 38,
   "metadata": {},
   "outputs": [],
   "source": [
    "import matplotlib.pyplot as plt"
   ]
  },
  {
   "cell_type": "code",
   "execution_count": 39,
   "metadata": {},
   "outputs": [
    {
     "data": {
      "image/png": "[encoded data removed]",
      "text/plain": [
       "<Figure size 432x288 with 1 Axes>"
      ]
     },
     "metadata": {
      "needs_background": "light"
     },
     "output_type": "display_data"
    }
   ],
   "source": [
    "def plot_feature_importances(model):\n",
    "\n",
    "    n_features = X.shape[1]\n",
    "    idx = np.arange(n_features)\n",
    "\n",
    "    plt.barh(range(n_features), model.feature_importances_, align='center')\n",
    "\n",
    "    plt.yticks(np.arange(n_features))\n",
    "    plt.yticks(idx, col_names[:])\n",
    "\n",
    "    plt.xlabel(\"feature importances\")\n",
    "\n",
    "    plt.ylabel(\"feature\")\n",
    "\n",
    "    plt.ylim(-1, n_features)\n",
    "\n",
    "plot_feature_importances(RF)\n",
    "plt.show()"
   ]
  },
  {
   "cell_type": "code",
   "execution_count": 40,
   "metadata": {},
   "outputs": [
    {
     "data": {
      "text/plain": [
       "0.8892857142857142"
      ]
     },
     "execution_count": 40,
     "metadata": {},
     "output_type": "execute_result"
    }
   ],
   "source": [
    "# oob_score -> test data로 성능 평가와 비슷\n",
    "## train data 중 포함되지 않은 data로 성능측정\n",
    "RF.oob_score_"
   ]
  },
  {
   "cell_type": "markdown",
   "metadata": {},
   "source": [
    "### 3.4 visualization"
   ]
  },
  {
   "cell_type": "code",
   "execution_count": 42,
   "metadata": {},
   "outputs": [
    {
     "name": "stderr",
     "output_type": "stream",
     "text": [
      "C:\\Users\\yebin\\anaconda3\\lib\\site-packages\\sklearn\\externals\\six.py:28: FutureWarning: The module is deprecated in version 0.21 and will be removed in version 0.23 since we've dropped support for Python 2.7. Please rely on the official version of six (https://pypi.org/project/six/).\n",
      "  warnings.warn(\"The module is deprecated in version 0.21 and will be removed \"\n"
     ]
    }
   ],
   "source": [
    "from sklearn import tree\n",
    "from sklearn.tree import export_graphviz\n",
    "from sklearn.externals.six import StringIO\n",
    "import pydotplus\n",
    "from IPython.display import Image\n",
    "import graphviz"
   ]
  },
  {
   "cell_type": "code",
   "execution_count": 43,
   "metadata": {},
   "outputs": [
    {
     "data": {
      "image/svg+xml": [
       "<?xml version=\"1.0\" encoding=\"UTF-8\" standalone=\"no\"?>\r\n",
       "<!DOCTYPE svg PUBLIC \"-//W3C//DTD SVG 1.1//EN\"\r\n",
       " \"http://www.w3.org/Graphics/SVG/1.1/DTD/svg11.dtd\">\r\n",
       "<!-- Generated by graphviz version 2.47.2 (20210527.0053)\r\n",
       " -->\r\n",
       "<!-- Title: Tree Pages: 1 -->\r\n",
       "<svg width=\"789pt\" height=\"477pt\"\r\n",
       " viewBox=\"0.00 0.00 789.00 477.00\" xmlns=\"http://www.w3.org/2000/svg\" xmlns:xlink=\"http://www.w3.org/1999/xlink\">\r\n",
       "<g id=\"graph0\" class=\"graph\" transform=\"scale(1 1) rotate(0) translate(4 473)\">\r\n",
       "<title>Tree</title>\r\n",
       "<polygon fill=\"white\" stroke=\"transparent\" points=\"-4,4 -4,-473 785,-473 785,4 -4,4\"/>\r\n",
       "<!-- 0 -->\r\n",
       "<g id=\"node1\" class=\"node\">\r\n",
       "<title>0</title>\r\n",
       "<path fill=\"#eead7e\" stroke=\"black\" d=\"M290.5,-469C290.5,-469 192.5,-469 192.5,-469 186.5,-469 180.5,-463 180.5,-457 180.5,-457 180.5,-413 180.5,-413 180.5,-407 186.5,-401 192.5,-401 192.5,-401 290.5,-401 290.5,-401 296.5,-401 302.5,-407 302.5,-413 302.5,-413 302.5,-457 302.5,-457 302.5,-463 296.5,-469 290.5,-469\"/>\r\n",
       "<text text-anchor=\"middle\" x=\"241.5\" y=\"-453.8\" font-family=\"Helvetica,sans-Serif\" font-size=\"14.00\">X[2] &lt;= 0.03</text>\r\n",
       "<text text-anchor=\"middle\" x=\"241.5\" y=\"-438.8\" font-family=\"Helvetica,sans-Serif\" font-size=\"14.00\">gini = 0.38</text>\r\n",
       "<text text-anchor=\"middle\" x=\"241.5\" y=\"-423.8\" font-family=\"Helvetica,sans-Serif\" font-size=\"14.00\">samples = 173</text>\r\n",
       "<text text-anchor=\"middle\" x=\"241.5\" y=\"-408.8\" font-family=\"Helvetica,sans-Serif\" font-size=\"14.00\">value = [208, 72]</text>\r\n",
       "</g>\r\n",
       "<!-- 1 -->\r\n",
       "<g id=\"node2\" class=\"node\">\r\n",
       "<title>1</title>\r\n",
       "<path fill=\"#4da7e8\" stroke=\"black\" d=\"M216,-365C216,-365 135,-365 135,-365 129,-365 123,-359 123,-353 123,-353 123,-309 123,-309 123,-303 129,-297 135,-297 135,-297 216,-297 216,-297 222,-297 228,-303 228,-309 228,-309 228,-353 228,-353 228,-359 222,-365 216,-365\"/>\r\n",
       "<text text-anchor=\"middle\" x=\"175.5\" y=\"-349.8\" font-family=\"Helvetica,sans-Serif\" font-size=\"14.00\">X[10] &lt;= 0.06</text>\r\n",
       "<text text-anchor=\"middle\" x=\"175.5\" y=\"-334.8\" font-family=\"Helvetica,sans-Serif\" font-size=\"14.00\">gini = 0.17</text>\r\n",
       "<text text-anchor=\"middle\" x=\"175.5\" y=\"-319.8\" font-family=\"Helvetica,sans-Serif\" font-size=\"14.00\">samples = 31</text>\r\n",
       "<text text-anchor=\"middle\" x=\"175.5\" y=\"-304.8\" font-family=\"Helvetica,sans-Serif\" font-size=\"14.00\">value = [4, 40]</text>\r\n",
       "</g>\r\n",
       "<!-- 0&#45;&gt;1 -->\r\n",
       "<g id=\"edge1\" class=\"edge\">\r\n",
       "<title>0&#45;&gt;1</title>\r\n",
       "<path fill=\"none\" stroke=\"black\" d=\"M220.07,-400.88C214.48,-392.24 208.38,-382.82 202.54,-373.79\"/>\r\n",
       "<polygon fill=\"black\" stroke=\"black\" points=\"205.42,-371.79 197.05,-365.3 199.54,-375.6 205.42,-371.79\"/>\r\n",
       "<text text-anchor=\"middle\" x=\"191.81\" y=\"-386.04\" font-family=\"Helvetica,sans-Serif\" font-size=\"14.00\">True</text>\r\n",
       "</g>\r\n",
       "<!-- 8 -->\r\n",
       "<g id=\"node9\" class=\"node\">\r\n",
       "<title>8</title>\r\n",
       "<path fill=\"#e99558\" stroke=\"black\" d=\"M409.5,-365C409.5,-365 311.5,-365 311.5,-365 305.5,-365 299.5,-359 299.5,-353 299.5,-353 299.5,-309 299.5,-309 299.5,-303 305.5,-297 311.5,-297 311.5,-297 409.5,-297 409.5,-297 415.5,-297 421.5,-303 421.5,-309 421.5,-309 421.5,-353 421.5,-353 421.5,-359 415.5,-365 409.5,-365\"/>\r\n",
       "<text text-anchor=\"middle\" x=\"360.5\" y=\"-349.8\" font-family=\"Helvetica,sans-Serif\" font-size=\"14.00\">X[12] &lt;= 0.99</text>\r\n",
       "<text text-anchor=\"middle\" x=\"360.5\" y=\"-334.8\" font-family=\"Helvetica,sans-Serif\" font-size=\"14.00\">gini = 0.23</text>\r\n",
       "<text text-anchor=\"middle\" x=\"360.5\" y=\"-319.8\" font-family=\"Helvetica,sans-Serif\" font-size=\"14.00\">samples = 142</text>\r\n",
       "<text text-anchor=\"middle\" x=\"360.5\" y=\"-304.8\" font-family=\"Helvetica,sans-Serif\" font-size=\"14.00\">value = [204, 32]</text>\r\n",
       "</g>\r\n",
       "<!-- 0&#45;&gt;8 -->\r\n",
       "<g id=\"edge8\" class=\"edge\">\r\n",
       "<title>0&#45;&gt;8</title>\r\n",
       "<path fill=\"none\" stroke=\"black\" d=\"M280.14,-400.88C290.94,-391.62 302.8,-381.45 314.01,-371.85\"/>\r\n",
       "<polygon fill=\"black\" stroke=\"black\" points=\"316.34,-374.46 321.65,-365.3 311.78,-369.15 316.34,-374.46\"/>\r\n",
       "<text text-anchor=\"middle\" x=\"319.73\" y=\"-386.53\" font-family=\"Helvetica,sans-Serif\" font-size=\"14.00\">False</text>\r\n",
       "</g>\r\n",
       "<!-- 2 -->\r\n",
       "<g id=\"node3\" class=\"node\">\r\n",
       "<title>2</title>\r\n",
       "<path fill=\"#399de5\" stroke=\"black\" d=\"M93,-253.5C93,-253.5 12,-253.5 12,-253.5 6,-253.5 0,-247.5 0,-241.5 0,-241.5 0,-212.5 0,-212.5 0,-206.5 6,-200.5 12,-200.5 12,-200.5 93,-200.5 93,-200.5 99,-200.5 105,-206.5 105,-212.5 105,-212.5 105,-241.5 105,-241.5 105,-247.5 99,-253.5 93,-253.5\"/>\r\n",
       "<text text-anchor=\"middle\" x=\"52.5\" y=\"-238.3\" font-family=\"Helvetica,sans-Serif\" font-size=\"14.00\">gini = 0.0</text>\r\n",
       "<text text-anchor=\"middle\" x=\"52.5\" y=\"-223.3\" font-family=\"Helvetica,sans-Serif\" font-size=\"14.00\">samples = 21</text>\r\n",
       "<text text-anchor=\"middle\" x=\"52.5\" y=\"-208.3\" font-family=\"Helvetica,sans-Serif\" font-size=\"14.00\">value = [0, 28]</text>\r\n",
       "</g>\r\n",
       "<!-- 1&#45;&gt;2 -->\r\n",
       "<g id=\"edge2\" class=\"edge\">\r\n",
       "<title>1&#45;&gt;2</title>\r\n",
       "<path fill=\"none\" stroke=\"black\" d=\"M135.57,-296.88C121.37,-285.12 105.43,-271.89 91.33,-260.2\"/>\r\n",
       "<polygon fill=\"black\" stroke=\"black\" points=\"93.21,-257.21 83.27,-253.52 88.74,-262.6 93.21,-257.21\"/>\r\n",
       "</g>\r\n",
       "<!-- 3 -->\r\n",
       "<g id=\"node4\" class=\"node\">\r\n",
       "<title>3</title>\r\n",
       "<path fill=\"#7bbeee\" stroke=\"black\" d=\"M216,-261C216,-261 135,-261 135,-261 129,-261 123,-255 123,-249 123,-249 123,-205 123,-205 123,-199 129,-193 135,-193 135,-193 216,-193 216,-193 222,-193 228,-199 228,-205 228,-205 228,-249 228,-249 228,-255 222,-261 216,-261\"/>\r\n",
       "<text text-anchor=\"middle\" x=\"175.5\" y=\"-245.8\" font-family=\"Helvetica,sans-Serif\" font-size=\"14.00\">X[0] &lt;= 0.11</text>\r\n",
       "<text text-anchor=\"middle\" x=\"175.5\" y=\"-230.8\" font-family=\"Helvetica,sans-Serif\" font-size=\"14.00\">gini = 0.38</text>\r\n",
       "<text text-anchor=\"middle\" x=\"175.5\" y=\"-215.8\" font-family=\"Helvetica,sans-Serif\" font-size=\"14.00\">samples = 10</text>\r\n",
       "<text text-anchor=\"middle\" x=\"175.5\" y=\"-200.8\" font-family=\"Helvetica,sans-Serif\" font-size=\"14.00\">value = [4, 12]</text>\r\n",
       "</g>\r\n",
       "<!-- 1&#45;&gt;3 -->\r\n",
       "<g id=\"edge3\" class=\"edge\">\r\n",
       "<title>1&#45;&gt;3</title>\r\n",
       "<path fill=\"none\" stroke=\"black\" d=\"M175.5,-296.88C175.5,-288.78 175.5,-279.98 175.5,-271.47\"/>\r\n",
       "<polygon fill=\"black\" stroke=\"black\" points=\"179,-271.3 175.5,-261.3 172,-271.3 179,-271.3\"/>\r\n",
       "</g>\r\n",
       "<!-- 4 -->\r\n",
       "<g id=\"node5\" class=\"node\">\r\n",
       "<title>4</title>\r\n",
       "<path fill=\"#399de5\" stroke=\"black\" d=\"M94,-149.5C94,-149.5 13,-149.5 13,-149.5 7,-149.5 1,-143.5 1,-137.5 1,-137.5 1,-108.5 1,-108.5 1,-102.5 7,-96.5 13,-96.5 13,-96.5 94,-96.5 94,-96.5 100,-96.5 106,-102.5 106,-108.5 106,-108.5 106,-137.5 106,-137.5 106,-143.5 100,-149.5 94,-149.5\"/>\r\n",
       "<text text-anchor=\"middle\" x=\"53.5\" y=\"-134.3\" font-family=\"Helvetica,sans-Serif\" font-size=\"14.00\">gini = 0.0</text>\r\n",
       "<text text-anchor=\"middle\" x=\"53.5\" y=\"-119.3\" font-family=\"Helvetica,sans-Serif\" font-size=\"14.00\">samples = 6</text>\r\n",
       "<text text-anchor=\"middle\" x=\"53.5\" y=\"-104.3\" font-family=\"Helvetica,sans-Serif\" font-size=\"14.00\">value = [0, 11]</text>\r\n",
       "</g>\r\n",
       "<!-- 3&#45;&gt;4 -->\r\n",
       "<g id=\"edge4\" class=\"edge\">\r\n",
       "<title>3&#45;&gt;4</title>\r\n",
       "<path fill=\"none\" stroke=\"black\" d=\"M135.89,-192.88C121.81,-181.12 106,-167.89 92.02,-156.2\"/>\r\n",
       "<polygon fill=\"black\" stroke=\"black\" points=\"93.94,-153.25 84.02,-149.52 89.45,-158.62 93.94,-153.25\"/>\r\n",
       "</g>\r\n",
       "<!-- 5 -->\r\n",
       "<g id=\"node6\" class=\"node\">\r\n",
       "<title>5</title>\r\n",
       "<path fill=\"#eca06a\" stroke=\"black\" d=\"M215,-157C215,-157 136,-157 136,-157 130,-157 124,-151 124,-145 124,-145 124,-101 124,-101 124,-95 130,-89 136,-89 136,-89 215,-89 215,-89 221,-89 227,-95 227,-101 227,-101 227,-145 227,-145 227,-151 221,-157 215,-157\"/>\r\n",
       "<text text-anchor=\"middle\" x=\"175.5\" y=\"-141.8\" font-family=\"Helvetica,sans-Serif\" font-size=\"14.00\">X[10] &lt;= 0.87</text>\r\n",
       "<text text-anchor=\"middle\" x=\"175.5\" y=\"-126.8\" font-family=\"Helvetica,sans-Serif\" font-size=\"14.00\">gini = 0.32</text>\r\n",
       "<text text-anchor=\"middle\" x=\"175.5\" y=\"-111.8\" font-family=\"Helvetica,sans-Serif\" font-size=\"14.00\">samples = 4</text>\r\n",
       "<text text-anchor=\"middle\" x=\"175.5\" y=\"-96.8\" font-family=\"Helvetica,sans-Serif\" font-size=\"14.00\">value = [4, 1]</text>\r\n",
       "</g>\r\n",
       "<!-- 3&#45;&gt;5 -->\r\n",
       "<g id=\"edge5\" class=\"edge\">\r\n",
       "<title>3&#45;&gt;5</title>\r\n",
       "<path fill=\"none\" stroke=\"black\" d=\"M175.5,-192.88C175.5,-184.78 175.5,-175.98 175.5,-167.47\"/>\r\n",
       "<polygon fill=\"black\" stroke=\"black\" points=\"179,-167.3 175.5,-157.3 172,-167.3 179,-167.3\"/>\r\n",
       "</g>\r\n",
       "<!-- 6 -->\r\n",
       "<g id=\"node7\" class=\"node\">\r\n",
       "<title>6</title>\r\n",
       "<path fill=\"#e58139\" stroke=\"black\" d=\"M156,-53C156,-53 83,-53 83,-53 77,-53 71,-47 71,-41 71,-41 71,-12 71,-12 71,-6 77,0 83,0 83,0 156,0 156,0 162,0 168,-6 168,-12 168,-12 168,-41 168,-41 168,-47 162,-53 156,-53\"/>\r\n",
       "<text text-anchor=\"middle\" x=\"119.5\" y=\"-37.8\" font-family=\"Helvetica,sans-Serif\" font-size=\"14.00\">gini = 0.0</text>\r\n",
       "<text text-anchor=\"middle\" x=\"119.5\" y=\"-22.8\" font-family=\"Helvetica,sans-Serif\" font-size=\"14.00\">samples = 3</text>\r\n",
       "<text text-anchor=\"middle\" x=\"119.5\" y=\"-7.8\" font-family=\"Helvetica,sans-Serif\" font-size=\"14.00\">value = [4, 0]</text>\r\n",
       "</g>\r\n",
       "<!-- 5&#45;&gt;6 -->\r\n",
       "<g id=\"edge6\" class=\"edge\">\r\n",
       "<title>5&#45;&gt;6</title>\r\n",
       "<path fill=\"none\" stroke=\"black\" d=\"M155.91,-88.95C150.76,-80.26 145.2,-70.86 140,-62.09\"/>\r\n",
       "<polygon fill=\"black\" stroke=\"black\" points=\"142.86,-60.06 134.75,-53.24 136.84,-63.62 142.86,-60.06\"/>\r\n",
       "</g>\r\n",
       "<!-- 7 -->\r\n",
       "<g id=\"node8\" class=\"node\">\r\n",
       "<title>7</title>\r\n",
       "<path fill=\"#399de5\" stroke=\"black\" d=\"M271,-53C271,-53 198,-53 198,-53 192,-53 186,-47 186,-41 186,-41 186,-12 186,-12 186,-6 192,0 198,0 198,0 271,0 271,0 277,0 283,-6 283,-12 283,-12 283,-41 283,-41 283,-47 277,-53 271,-53\"/>\r\n",
       "<text text-anchor=\"middle\" x=\"234.5\" y=\"-37.8\" font-family=\"Helvetica,sans-Serif\" font-size=\"14.00\">gini = 0.0</text>\r\n",
       "<text text-anchor=\"middle\" x=\"234.5\" y=\"-22.8\" font-family=\"Helvetica,sans-Serif\" font-size=\"14.00\">samples = 1</text>\r\n",
       "<text text-anchor=\"middle\" x=\"234.5\" y=\"-7.8\" font-family=\"Helvetica,sans-Serif\" font-size=\"14.00\">value = [0, 1]</text>\r\n",
       "</g>\r\n",
       "<!-- 5&#45;&gt;7 -->\r\n",
       "<g id=\"edge7\" class=\"edge\">\r\n",
       "<title>5&#45;&gt;7</title>\r\n",
       "<path fill=\"none\" stroke=\"black\" d=\"M196.14,-88.95C201.62,-80.17 207.55,-70.66 213.08,-61.82\"/>\r\n",
       "<polygon fill=\"black\" stroke=\"black\" points=\"216.1,-63.57 218.43,-53.24 210.17,-59.87 216.1,-63.57\"/>\r\n",
       "</g>\r\n",
       "<!-- 9 -->\r\n",
       "<g id=\"node10\" class=\"node\">\r\n",
       "<title>9</title>\r\n",
       "<path fill=\"#e78b49\" stroke=\"black\" d=\"M409.5,-261C409.5,-261 311.5,-261 311.5,-261 305.5,-261 299.5,-255 299.5,-249 299.5,-249 299.5,-205 299.5,-205 299.5,-199 305.5,-193 311.5,-193 311.5,-193 409.5,-193 409.5,-193 415.5,-193 421.5,-199 421.5,-205 421.5,-205 421.5,-249 421.5,-249 421.5,-255 415.5,-261 409.5,-261\"/>\r\n",
       "<text text-anchor=\"middle\" x=\"360.5\" y=\"-245.8\" font-family=\"Helvetica,sans-Serif\" font-size=\"14.00\">X[7] &lt;= &#45;0.97</text>\r\n",
       "<text text-anchor=\"middle\" x=\"360.5\" y=\"-230.8\" font-family=\"Helvetica,sans-Serif\" font-size=\"14.00\">gini = 0.14</text>\r\n",
       "<text text-anchor=\"middle\" x=\"360.5\" y=\"-215.8\" font-family=\"Helvetica,sans-Serif\" font-size=\"14.00\">samples = 124</text>\r\n",
       "<text text-anchor=\"middle\" x=\"360.5\" y=\"-200.8\" font-family=\"Helvetica,sans-Serif\" font-size=\"14.00\">value = [194, 16]</text>\r\n",
       "</g>\r\n",
       "<!-- 8&#45;&gt;9 -->\r\n",
       "<g id=\"edge9\" class=\"edge\">\r\n",
       "<title>8&#45;&gt;9</title>\r\n",
       "<path fill=\"none\" stroke=\"black\" d=\"M360.5,-296.88C360.5,-288.78 360.5,-279.98 360.5,-271.47\"/>\r\n",
       "<polygon fill=\"black\" stroke=\"black\" points=\"364,-271.3 360.5,-261.3 357,-271.3 364,-271.3\"/>\r\n",
       "</g>\r\n",
       "<!-- 14 -->\r\n",
       "<g id=\"node15\" class=\"node\">\r\n",
       "<title>14</title>\r\n",
       "<path fill=\"#b5daf5\" stroke=\"black\" d=\"M594,-261C594,-261 505,-261 505,-261 499,-261 493,-255 493,-249 493,-249 493,-205 493,-205 493,-199 499,-193 505,-193 505,-193 594,-193 594,-193 600,-193 606,-199 606,-205 606,-205 606,-249 606,-249 606,-255 600,-261 594,-261\"/>\r\n",
       "<text text-anchor=\"middle\" x=\"549.5\" y=\"-245.8\" font-family=\"Helvetica,sans-Serif\" font-size=\"14.00\">X[2] &lt;= 0.79</text>\r\n",
       "<text text-anchor=\"middle\" x=\"549.5\" y=\"-230.8\" font-family=\"Helvetica,sans-Serif\" font-size=\"14.00\">gini = 0.47</text>\r\n",
       "<text text-anchor=\"middle\" x=\"549.5\" y=\"-215.8\" font-family=\"Helvetica,sans-Serif\" font-size=\"14.00\">samples = 18</text>\r\n",
       "<text text-anchor=\"middle\" x=\"549.5\" y=\"-200.8\" font-family=\"Helvetica,sans-Serif\" font-size=\"14.00\">value = [10, 16]</text>\r\n",
       "</g>\r\n",
       "<!-- 8&#45;&gt;14 -->\r\n",
       "<g id=\"edge14\" class=\"edge\">\r\n",
       "<title>8&#45;&gt;14</title>\r\n",
       "<path fill=\"none\" stroke=\"black\" d=\"M421.6,-297.02C441.52,-286.28 463.71,-274.3 483.94,-263.38\"/>\r\n",
       "<polygon fill=\"black\" stroke=\"black\" points=\"485.64,-266.44 492.78,-258.61 482.31,-260.28 485.64,-266.44\"/>\r\n",
       "</g>\r\n",
       "<!-- 10 -->\r\n",
       "<g id=\"node11\" class=\"node\">\r\n",
       "<title>10</title>\r\n",
       "<path fill=\"#399de5\" stroke=\"black\" d=\"M330,-149.5C330,-149.5 257,-149.5 257,-149.5 251,-149.5 245,-143.5 245,-137.5 245,-137.5 245,-108.5 245,-108.5 245,-102.5 251,-96.5 257,-96.5 257,-96.5 330,-96.5 330,-96.5 336,-96.5 342,-102.5 342,-108.5 342,-108.5 342,-137.5 342,-137.5 342,-143.5 336,-149.5 330,-149.5\"/>\r\n",
       "<text text-anchor=\"middle\" x=\"293.5\" y=\"-134.3\" font-family=\"Helvetica,sans-Serif\" font-size=\"14.00\">gini = 0.0</text>\r\n",
       "<text text-anchor=\"middle\" x=\"293.5\" y=\"-119.3\" font-family=\"Helvetica,sans-Serif\" font-size=\"14.00\">samples = 1</text>\r\n",
       "<text text-anchor=\"middle\" x=\"293.5\" y=\"-104.3\" font-family=\"Helvetica,sans-Serif\" font-size=\"14.00\">value = [0, 2]</text>\r\n",
       "</g>\r\n",
       "<!-- 9&#45;&gt;10 -->\r\n",
       "<g id=\"edge10\" class=\"edge\">\r\n",
       "<title>9&#45;&gt;10</title>\r\n",
       "<path fill=\"none\" stroke=\"black\" d=\"M338.75,-192.88C331.45,-181.78 323.3,-169.37 315.95,-158.18\"/>\r\n",
       "<polygon fill=\"black\" stroke=\"black\" points=\"318.68,-155.96 310.26,-149.52 312.83,-159.8 318.68,-155.96\"/>\r\n",
       "</g>\r\n",
       "<!-- 11 -->\r\n",
       "<g id=\"node12\" class=\"node\">\r\n",
       "<title>11</title>\r\n",
       "<path fill=\"#e78a47\" stroke=\"black\" d=\"M470.5,-157C470.5,-157 372.5,-157 372.5,-157 366.5,-157 360.5,-151 360.5,-145 360.5,-145 360.5,-101 360.5,-101 360.5,-95 366.5,-89 372.5,-89 372.5,-89 470.5,-89 470.5,-89 476.5,-89 482.5,-95 482.5,-101 482.5,-101 482.5,-145 482.5,-145 482.5,-151 476.5,-157 470.5,-157\"/>\r\n",
       "<text text-anchor=\"middle\" x=\"421.5\" y=\"-141.8\" font-family=\"Helvetica,sans-Serif\" font-size=\"14.00\">X[0] &lt;= 0.39</text>\r\n",
       "<text text-anchor=\"middle\" x=\"421.5\" y=\"-126.8\" font-family=\"Helvetica,sans-Serif\" font-size=\"14.00\">gini = 0.13</text>\r\n",
       "<text text-anchor=\"middle\" x=\"421.5\" y=\"-111.8\" font-family=\"Helvetica,sans-Serif\" font-size=\"14.00\">samples = 123</text>\r\n",
       "<text text-anchor=\"middle\" x=\"421.5\" y=\"-96.8\" font-family=\"Helvetica,sans-Serif\" font-size=\"14.00\">value = [194, 14]</text>\r\n",
       "</g>\r\n",
       "<!-- 9&#45;&gt;11 -->\r\n",
       "<g id=\"edge11\" class=\"edge\">\r\n",
       "<title>9&#45;&gt;11</title>\r\n",
       "<path fill=\"none\" stroke=\"black\" d=\"M380.3,-192.88C385.42,-184.33 390.99,-175.01 396.34,-166.07\"/>\r\n",
       "<polygon fill=\"black\" stroke=\"black\" points=\"399.46,-167.68 401.59,-157.3 393.45,-164.09 399.46,-167.68\"/>\r\n",
       "</g>\r\n",
       "<!-- 12 -->\r\n",
       "<g id=\"node13\" class=\"node\">\r\n",
       "<title>12</title>\r\n",
       "<path fill=\"#f6d5bd\" stroke=\"black\" d=\"M397,-53C397,-53 318,-53 318,-53 312,-53 306,-47 306,-41 306,-41 306,-12 306,-12 306,-6 312,0 318,0 318,0 397,0 397,0 403,0 409,-6 409,-12 409,-12 409,-41 409,-41 409,-47 403,-53 397,-53\"/>\r\n",
       "<text text-anchor=\"middle\" x=\"357.5\" y=\"-37.8\" font-family=\"Helvetica,sans-Serif\" font-size=\"14.00\">gini = 0.48</text>\r\n",
       "<text text-anchor=\"middle\" x=\"357.5\" y=\"-22.8\" font-family=\"Helvetica,sans-Serif\" font-size=\"14.00\">samples = 10</text>\r\n",
       "<text text-anchor=\"middle\" x=\"357.5\" y=\"-7.8\" font-family=\"Helvetica,sans-Serif\" font-size=\"14.00\">value = [9, 6]</text>\r\n",
       "</g>\r\n",
       "<!-- 11&#45;&gt;12 -->\r\n",
       "<g id=\"edge12\" class=\"edge\">\r\n",
       "<title>11&#45;&gt;12</title>\r\n",
       "<path fill=\"none\" stroke=\"black\" d=\"M399.12,-88.95C393.11,-80.07 386.6,-70.46 380.55,-61.54\"/>\r\n",
       "<polygon fill=\"black\" stroke=\"black\" points=\"383.44,-59.55 374.93,-53.24 377.64,-63.48 383.44,-59.55\"/>\r\n",
       "</g>\r\n",
       "<!-- 13 -->\r\n",
       "<g id=\"node14\" class=\"node\">\r\n",
       "<title>13</title>\r\n",
       "<path fill=\"#e68642\" stroke=\"black\" d=\"M528,-53C528,-53 439,-53 439,-53 433,-53 427,-47 427,-41 427,-41 427,-12 427,-12 427,-6 433,0 439,0 439,0 528,0 528,0 534,0 540,-6 540,-12 540,-12 540,-41 540,-41 540,-47 534,-53 528,-53\"/>\r\n",
       "<text text-anchor=\"middle\" x=\"483.5\" y=\"-37.8\" font-family=\"Helvetica,sans-Serif\" font-size=\"14.00\">gini = 0.08</text>\r\n",
       "<text text-anchor=\"middle\" x=\"483.5\" y=\"-22.8\" font-family=\"Helvetica,sans-Serif\" font-size=\"14.00\">samples = 113</text>\r\n",
       "<text text-anchor=\"middle\" x=\"483.5\" y=\"-7.8\" font-family=\"Helvetica,sans-Serif\" font-size=\"14.00\">value = [185, 8]</text>\r\n",
       "</g>\r\n",
       "<!-- 11&#45;&gt;13 -->\r\n",
       "<g id=\"edge13\" class=\"edge\">\r\n",
       "<title>11&#45;&gt;13</title>\r\n",
       "<path fill=\"none\" stroke=\"black\" d=\"M443.18,-88.95C448.95,-80.17 455.18,-70.66 460.99,-61.82\"/>\r\n",
       "<polygon fill=\"black\" stroke=\"black\" points=\"464.06,-63.52 466.61,-53.24 458.2,-59.68 464.06,-63.52\"/>\r\n",
       "</g>\r\n",
       "<!-- 15 -->\r\n",
       "<g id=\"node16\" class=\"node\">\r\n",
       "<title>15</title>\r\n",
       "<path fill=\"#399de5\" stroke=\"black\" d=\"M586,-149.5C586,-149.5 513,-149.5 513,-149.5 507,-149.5 501,-143.5 501,-137.5 501,-137.5 501,-108.5 501,-108.5 501,-102.5 507,-96.5 513,-96.5 513,-96.5 586,-96.5 586,-96.5 592,-96.5 598,-102.5 598,-108.5 598,-108.5 598,-137.5 598,-137.5 598,-143.5 592,-149.5 586,-149.5\"/>\r\n",
       "<text text-anchor=\"middle\" x=\"549.5\" y=\"-134.3\" font-family=\"Helvetica,sans-Serif\" font-size=\"14.00\">gini = 0.0</text>\r\n",
       "<text text-anchor=\"middle\" x=\"549.5\" y=\"-119.3\" font-family=\"Helvetica,sans-Serif\" font-size=\"14.00\">samples = 3</text>\r\n",
       "<text text-anchor=\"middle\" x=\"549.5\" y=\"-104.3\" font-family=\"Helvetica,sans-Serif\" font-size=\"14.00\">value = [0, 6]</text>\r\n",
       "</g>\r\n",
       "<!-- 14&#45;&gt;15 -->\r\n",
       "<g id=\"edge15\" class=\"edge\">\r\n",
       "<title>14&#45;&gt;15</title>\r\n",
       "<path fill=\"none\" stroke=\"black\" d=\"M549.5,-192.88C549.5,-182.33 549.5,-170.6 549.5,-159.85\"/>\r\n",
       "<polygon fill=\"black\" stroke=\"black\" points=\"553,-159.52 549.5,-149.52 546,-159.52 553,-159.52\"/>\r\n",
       "</g>\r\n",
       "<!-- 16 -->\r\n",
       "<g id=\"node17\" class=\"node\">\r\n",
       "<title>16</title>\r\n",
       "<path fill=\"#ffffff\" stroke=\"black\" d=\"M717,-157C717,-157 628,-157 628,-157 622,-157 616,-151 616,-145 616,-145 616,-101 616,-101 616,-95 622,-89 628,-89 628,-89 717,-89 717,-89 723,-89 729,-95 729,-101 729,-101 729,-145 729,-145 729,-151 723,-157 717,-157\"/>\r\n",
       "<text text-anchor=\"middle\" x=\"672.5\" y=\"-141.8\" font-family=\"Helvetica,sans-Serif\" font-size=\"14.00\">X[5] &lt;= 1.0</text>\r\n",
       "<text text-anchor=\"middle\" x=\"672.5\" y=\"-126.8\" font-family=\"Helvetica,sans-Serif\" font-size=\"14.00\">gini = 0.5</text>\r\n",
       "<text text-anchor=\"middle\" x=\"672.5\" y=\"-111.8\" font-family=\"Helvetica,sans-Serif\" font-size=\"14.00\">samples = 15</text>\r\n",
       "<text text-anchor=\"middle\" x=\"672.5\" y=\"-96.8\" font-family=\"Helvetica,sans-Serif\" font-size=\"14.00\">value = [10, 10]</text>\r\n",
       "</g>\r\n",
       "<!-- 14&#45;&gt;16 -->\r\n",
       "<g id=\"edge16\" class=\"edge\">\r\n",
       "<title>14&#45;&gt;16</title>\r\n",
       "<path fill=\"none\" stroke=\"black\" d=\"M589.43,-192.88C600.61,-183.62 612.86,-173.45 624.45,-163.85\"/>\r\n",
       "<polygon fill=\"black\" stroke=\"black\" points=\"626.88,-166.38 632.34,-157.3 622.41,-160.99 626.88,-166.38\"/>\r\n",
       "</g>\r\n",
       "<!-- 17 -->\r\n",
       "<g id=\"node18\" class=\"node\">\r\n",
       "<title>17</title>\r\n",
       "<path fill=\"#e58139\" stroke=\"black\" d=\"M646,-53C646,-53 573,-53 573,-53 567,-53 561,-47 561,-41 561,-41 561,-12 561,-12 561,-6 567,0 573,0 573,0 646,0 646,0 652,0 658,-6 658,-12 658,-12 658,-41 658,-41 658,-47 652,-53 646,-53\"/>\r\n",
       "<text text-anchor=\"middle\" x=\"609.5\" y=\"-37.8\" font-family=\"Helvetica,sans-Serif\" font-size=\"14.00\">gini = 0.0</text>\r\n",
       "<text text-anchor=\"middle\" x=\"609.5\" y=\"-22.8\" font-family=\"Helvetica,sans-Serif\" font-size=\"14.00\">samples = 3</text>\r\n",
       "<text text-anchor=\"middle\" x=\"609.5\" y=\"-7.8\" font-family=\"Helvetica,sans-Serif\" font-size=\"14.00\">value = [7, 0]</text>\r\n",
       "</g>\r\n",
       "<!-- 16&#45;&gt;17 -->\r\n",
       "<g id=\"edge17\" class=\"edge\">\r\n",
       "<title>16&#45;&gt;17</title>\r\n",
       "<path fill=\"none\" stroke=\"black\" d=\"M650.47,-88.95C644.61,-80.17 638.28,-70.66 632.38,-61.82\"/>\r\n",
       "<polygon fill=\"black\" stroke=\"black\" points=\"635.12,-59.62 626.66,-53.24 629.29,-63.5 635.12,-59.62\"/>\r\n",
       "</g>\r\n",
       "<!-- 18 -->\r\n",
       "<g id=\"node19\" class=\"node\">\r\n",
       "<title>18</title>\r\n",
       "<path fill=\"#74baed\" stroke=\"black\" d=\"M769,-53C769,-53 688,-53 688,-53 682,-53 676,-47 676,-41 676,-41 676,-12 676,-12 676,-6 682,0 688,0 688,0 769,0 769,0 775,0 781,-6 781,-12 781,-12 781,-41 781,-41 781,-47 775,-53 769,-53\"/>\r\n",
       "<text text-anchor=\"middle\" x=\"728.5\" y=\"-37.8\" font-family=\"Helvetica,sans-Serif\" font-size=\"14.00\">gini = 0.36</text>\r\n",
       "<text text-anchor=\"middle\" x=\"728.5\" y=\"-22.8\" font-family=\"Helvetica,sans-Serif\" font-size=\"14.00\">samples = 12</text>\r\n",
       "<text text-anchor=\"middle\" x=\"728.5\" y=\"-7.8\" font-family=\"Helvetica,sans-Serif\" font-size=\"14.00\">value = [3, 10]</text>\r\n",
       "</g>\r\n",
       "<!-- 16&#45;&gt;18 -->\r\n",
       "<g id=\"edge18\" class=\"edge\">\r\n",
       "<title>16&#45;&gt;18</title>\r\n",
       "<path fill=\"none\" stroke=\"black\" d=\"M692.09,-88.95C697.24,-80.26 702.8,-70.86 708,-62.09\"/>\r\n",
       "<polygon fill=\"black\" stroke=\"black\" points=\"711.16,-63.62 713.25,-53.24 705.14,-60.06 711.16,-63.62\"/>\r\n",
       "</g>\r\n",
       "</g>\r\n",
       "</svg>\r\n"
      ],
      "text/plain": [
       "<graphviz.files.Source at 0x272fe698430>"
      ]
     },
     "execution_count": 43,
     "metadata": {},
     "output_type": "execute_result"
    }
   ],
   "source": [
    "# randomforest 중 일부 트리 graph화\n",
    "estimator = RF.estimators_[5]\n",
    "\n",
    "dot_data = export_graphviz(estimator, \n",
    "                rounded = True, proportion = False, \n",
    "                precision = 2, filled = True)\n",
    "\n",
    "graph = graphviz.Source(dot_data)  \n",
    "graph"
   ]
  },
  {
   "cell_type": "markdown",
   "metadata": {},
   "source": [
    "### 3.5 성능평가"
   ]
  },
  {
   "cell_type": "markdown",
   "metadata": {},
   "source": [
    "#### Confusion Matrix"
   ]
  },
  {
   "cell_type": "code",
   "execution_count": 44,
   "metadata": {},
   "outputs": [],
   "source": [
    "from sklearn.metrics import confusion_matrix\n",
    "import matplotlib.pyplot as plt\n",
    "import seaborn as sns"
   ]
  },
  {
   "cell_type": "code",
   "execution_count": 45,
   "metadata": {},
   "outputs": [],
   "source": [
    "y_pred = RF.predict(X_test)"
   ]
  },
  {
   "cell_type": "code",
   "execution_count": 46,
   "metadata": {},
   "outputs": [
    {
     "data": {
      "image/png": "[encoded data removed]",
      "text/plain": [
       "<Figure size 360x360 with 2 Axes>"
      ]
     },
     "metadata": {
      "needs_background": "light"
     },
     "output_type": "display_data"
    }
   ],
   "source": [
    "con_mat = confusion_matrix(y_test, y_pred, labels=[0,1])\n",
    "\n",
    "group_names = [\"TN\",\"FP\",\"FN\",\"TP\"]\n",
    "group_counts = [\"{0:0.0f}\".format(value) for value in con_mat.flatten()]\n",
    "group_percentages = [\"{0:.2%}\".format(value) for value in con_mat.flatten()/np.sum(con_mat)]\n",
    "\n",
    "labels = [f\"{v1}\\n{v2}\\n{v3}\" for v1, v2, v3 in zip(group_names,group_counts,group_percentages)]\n",
    "labels = np.asarray(labels).reshape(2,2)\n",
    "fig, ax = plt.subplots(figsize=(5,5))\n",
    "\n",
    "sns.heatmap(con_mat, annot=labels, cmap = \"Blues\", fmt=\"\", linewidths=10, square=True)\n",
    "ax.set_ylim([0,2])\n",
    "ax.set_title(\"Confusion Matrix\")\n",
    "plt.ylabel('True label')\n",
    "plt.xlabel('Predicted label' + \"\")\n",
    "plt.show()"
   ]
  },
  {
   "cell_type": "markdown",
   "metadata": {},
   "source": [
    "#### AUROC"
   ]
  },
  {
   "cell_type": "code",
   "execution_count": 47,
   "metadata": {},
   "outputs": [],
   "source": [
    "from sklearn.metrics import roc_curve, auc\n",
    "%matplotlib inline"
   ]
  },
  {
   "cell_type": "code",
   "execution_count": 48,
   "metadata": {
    "scrolled": false
   },
   "outputs": [
    {
     "data": {
      "image/png": "[encoded data removed]",
      "text/plain": [
       "<Figure size 432x288 with 1 Axes>"
      ]
     },
     "metadata": {
      "needs_background": "light"
     },
     "output_type": "display_data"
    }
   ],
   "source": [
    "fpr, tpr, thresholds = roc_curve(y_test, RF.predict_proba(X_test)[:,1]) \n",
    "\n",
    "plt.plot(fpr, tpr)\n",
    "#plt.fill_between(fpr, tpr)\n",
    "plt.plot([0, 1], [0, 1], '--')\n",
    "plt.xlabel('1 - Specificity(TNR)')\n",
    "#plt.xlabel('거짓 양성 비율(FPR)')\n",
    "plt.ylabel('Sensitivity(TPR)')\n",
    "\n",
    "auc_s = auc(fpr, tpr) # auc(score)\n",
    "plt.title('ROC curve (AUROC = {})'.format(auc_s))\n",
    "plt.show()"
   ]
  },
  {
   "cell_type": "markdown",
   "metadata": {},
   "source": [
    "#### 각 성능 지표"
   ]
  },
  {
   "cell_type": "code",
   "execution_count": 49,
   "metadata": {},
   "outputs": [],
   "source": [
    "from sklearn.metrics import f1_score, accuracy_score, recall_score, precision_score\n",
    "from sklearn.metrics import classification_report"
   ]
  },
  {
   "cell_type": "code",
   "execution_count": 50,
   "metadata": {},
   "outputs": [
    {
     "name": "stdout",
     "output_type": "stream",
     "text": [
      "              precision    recall  f1-score   support\n",
      "\n",
      "           0       0.97      0.95      0.96        41\n",
      "           1       0.94      0.97      0.95        30\n",
      "\n",
      "    accuracy                           0.96        71\n",
      "   macro avg       0.96      0.96      0.96        71\n",
      "weighted avg       0.96      0.96      0.96        71\n",
      "\n"
     ]
    }
   ],
   "source": [
    "print(classification_report(y_test, y_pred))"
   ]
  },
  {
   "cell_type": "code",
   "execution_count": 51,
   "metadata": {
    "scrolled": false
   },
   "outputs": [
    {
     "name": "stdout",
     "output_type": "stream",
     "text": [
      "Accuracy: 0.9577464788732394\n",
      "Precision: 0.9354838709677419\n",
      "Recall: 0.9666666666666667\n",
      "F1-score: 0.9508196721311476\n"
     ]
    }
   ],
   "source": [
    "print(f'Accuracy: {accuracy_score(y_test, y_pred)}')\n",
    "print(f\"Precision: {precision_score(y_test, y_pred, average='binary')}\")\n",
    "print(f\"Recall: {recall_score(y_test, y_pred, average='binary')}\")\n",
    "print(f\"F1-score: {f1_score(y_test, y_pred, average='binary')}\")"
   ]
  },
  {
   "cell_type": "markdown",
   "metadata": {},
   "source": [
    "## 4. Gradient Boosting"
   ]
  },
  {
   "cell_type": "markdown",
   "metadata": {},
   "source": [
    "### 4.1 train test 분리"
   ]
  },
  {
   "cell_type": "code",
   "execution_count": 138,
   "metadata": {},
   "outputs": [],
   "source": [
    "from sklearn.model_selection import train_test_split"
   ]
  },
  {
   "cell_type": "code",
   "execution_count": 139,
   "metadata": {
    "scrolled": true
   },
   "outputs": [
    {
     "data": {
      "text/plain": [
       "6      0\n",
       "52     0\n",
       "114    1\n",
       "45     1\n",
       "106    1\n",
       "Name: target, dtype: int64"
      ]
     },
     "execution_count": 139,
     "metadata": {},
     "output_type": "execute_result"
    }
   ],
   "source": [
    "X, y = data.iloc[:,:-1], data.iloc[:,-1]\n",
    "\n",
    "X_train, X_test, y_train, y_test = train_test_split(X, y, test_size = 0.2, random_state = 0)\n",
    "y_test.head()"
   ]
  },
  {
   "cell_type": "markdown",
   "metadata": {},
   "source": [
    "### 4.2 modeling"
   ]
  },
  {
   "cell_type": "code",
   "execution_count": 140,
   "metadata": {},
   "outputs": [],
   "source": [
    "from sklearn.ensemble import GradientBoostingClassifier"
   ]
  },
  {
   "cell_type": "code",
   "execution_count": 141,
   "metadata": {},
   "outputs": [
    {
     "data": {
      "text/plain": [
       "GradientBoostingClassifier(ccp_alpha=0.0, criterion='friedman_mse', init=None,\n",
       "                           learning_rate=0.1, loss='deviance', max_depth=3,\n",
       "                           max_features=None, max_leaf_nodes=None,\n",
       "                           min_impurity_decrease=0.0, min_impurity_split=None,\n",
       "                           min_samples_leaf=1, min_samples_split=2,\n",
       "                           min_weight_fraction_leaf=0.0, n_estimators=100,\n",
       "                           n_iter_no_change=None, presort='deprecated',\n",
       "                           random_state=42, subsample=1.0, tol=0.0001,\n",
       "                           validation_fraction=0.1, verbose=0,\n",
       "                           warm_start=False)"
      ]
     },
     "execution_count": 141,
     "metadata": {},
     "output_type": "execute_result"
    }
   ],
   "source": [
    "GB = GradientBoostingClassifier(n_estimators=100, random_state=42)\n",
    "\n",
    "GB.fit(X_train, y_train)"
   ]
  },
  {
   "cell_type": "code",
   "execution_count": 142,
   "metadata": {},
   "outputs": [],
   "source": [
    "y_pred = GB.predict(X_train)"
   ]
  },
  {
   "cell_type": "code",
   "execution_count": 143,
   "metadata": {
    "scrolled": true
   },
   "outputs": [
    {
     "name": "stdout",
     "output_type": "stream",
     "text": [
      "100\n",
      "[1.15025933 1.04388776 0.95757133 0.88456339 0.82363928 0.77215571\n",
      " 0.72821702 0.69060204 0.65740106 0.62876638 0.60400381 0.57007823\n",
      " 0.54393792 0.52567451 0.50337691 0.48876049 0.46625852 0.44602111\n",
      " 0.42006542 0.41013765 0.39068086 0.3820354  0.36608493 0.35266484\n",
      " 0.34038212 0.33291897 0.32414386 0.31533507 0.30280054 0.29511913\n",
      " 0.28899888 0.27932536 0.27482131 0.26710612 0.25782772 0.25001178\n",
      " 0.24636794 0.23991433 0.23247516 0.22653052 0.22058207 0.21719434\n",
      " 0.21155054 0.20610508 0.20130046 0.19799768 0.19356379 0.18883437\n",
      " 0.18515126 0.18132935 0.17791811 0.17508743 0.17239247 0.1691735\n",
      " 0.16685338 0.16334545 0.15901276 0.15654439 0.15383747 0.15084356\n",
      " 0.14870073 0.14531094 0.14306919 0.14135944 0.13923025 0.13707352\n",
      " 0.13457701 0.13166602 0.13040408 0.12908206 0.12659928 0.12484137\n",
      " 0.12328217 0.12127474 0.11979521 0.11787703 0.11593705 0.11473202\n",
      " 0.11270878 0.11193891 0.11028286 0.10871287 0.10764421 0.10684324\n",
      " 0.10570299 0.10440236 0.10309222 0.10175495 0.10000668 0.09911518\n",
      " 0.09771972 0.09714334 0.09586543 0.09483089 0.09397681 0.09285011\n",
      " 0.09210894 0.09105082 0.09043517 0.08950298]\n"
     ]
    },
    {
     "data": {
      "text/plain": [
       "[<matplotlib.lines.Line2D at 0x272fe8448e0>]"
      ]
     },
     "execution_count": 143,
     "metadata": {},
     "output_type": "execute_result"
    },
    {
     "data": {
      "image/png": "[encoded data removed]",
      "text/plain": [
       "<Figure size 432x288 with 1 Axes>"
      ]
     },
     "metadata": {
      "needs_background": "light"
     },
     "output_type": "display_data"
    }
   ],
   "source": [
    "# staged_score 새로운 data에 대해서 누적한 값\n",
    "# 그 누적값을 학습한 값들을 기록함 \n",
    "print(len(GB.train_score_))\n",
    "print(GB.train_score_)\n",
    "\n",
    "# residual이니깐 계속 값이 떨어지는 것임\n",
    "plt.plot(GB.train_score_)"
   ]
  },
  {
   "cell_type": "markdown",
   "metadata": {},
   "source": [
    "#### Confusion Matrix"
   ]
  },
  {
   "cell_type": "code",
   "execution_count": 144,
   "metadata": {},
   "outputs": [],
   "source": [
    "from sklearn.metrics import confusion_matrix\n",
    "import matplotlib.pyplot as plt\n",
    "import seaborn as sns"
   ]
  },
  {
   "cell_type": "code",
   "execution_count": 145,
   "metadata": {},
   "outputs": [],
   "source": [
    "y_pred = GB.predict(X_test)"
   ]
  },
  {
   "cell_type": "code",
   "execution_count": 146,
   "metadata": {},
   "outputs": [
    {
     "data": {
      "image/png": "[encoded data removed]",
      "text/plain": [
       "<Figure size 360x360 with 2 Axes>"
      ]
     },
     "metadata": {
      "needs_background": "light"
     },
     "output_type": "display_data"
    }
   ],
   "source": [
    "con_mat = confusion_matrix(y_test, y_pred, labels=[0,1])\n",
    "\n",
    "group_names = [\"TN\",\"FP\",\"FN\",\"TP\"]\n",
    "group_counts = [\"{0:0.0f}\".format(value) for value in con_mat.flatten()]\n",
    "group_percentages = [\"{0:.2%}\".format(value) for value in con_mat.flatten()/np.sum(con_mat)]\n",
    "\n",
    "labels = [f\"{v1}\\n{v2}\\n{v3}\" for v1, v2, v3 in zip(group_names,group_counts,group_percentages)]\n",
    "labels = np.asarray(labels).reshape(2,2)\n",
    "fig, ax = plt.subplots(figsize=(5,5))\n",
    "\n",
    "sns.heatmap(con_mat, annot=labels, cmap = \"Blues\", fmt=\"\", linewidths=10, square=True)\n",
    "ax.set_ylim([0,2])\n",
    "ax.set_title(\"Confusion Matrix\")\n",
    "plt.ylabel('True label')\n",
    "plt.xlabel('Predicted label' + \"\")\n",
    "plt.show()"
   ]
  },
  {
   "cell_type": "markdown",
   "metadata": {},
   "source": [
    "#### AUROC"
   ]
  },
  {
   "cell_type": "code",
   "execution_count": 147,
   "metadata": {},
   "outputs": [],
   "source": [
    "from sklearn.metrics import roc_curve, auc\n",
    "%matplotlib inline"
   ]
  },
  {
   "cell_type": "code",
   "execution_count": 148,
   "metadata": {
    "scrolled": false
   },
   "outputs": [
    {
     "data": {
      "image/png": "[encoded data removed]",
      "text/plain": [
       "<Figure size 432x288 with 1 Axes>"
      ]
     },
     "metadata": {
      "needs_background": "light"
     },
     "output_type": "display_data"
    }
   ],
   "source": [
    "fpr, tpr, thresholds = roc_curve(y_test, GB.decision_function(X_test)) \n",
    "\n",
    "plt.plot(fpr, tpr)\n",
    "#plt.fill_between(fpr, tpr)\n",
    "plt.plot([0, 1], [0, 1], '--')\n",
    "plt.xlabel('1 - Specificity(TNR)')\n",
    "#plt.xlabel('거짓 양성 비율(FPR)')\n",
    "plt.ylabel('Sensitivity(TPR)')\n",
    "\n",
    "auc_s = auc(fpr, tpr) # auc(score)\n",
    "plt.title('ROC curve (AUROC = {})'.format(auc_s))\n",
    "plt.show()"
   ]
  },
  {
   "cell_type": "markdown",
   "metadata": {},
   "source": [
    "#### 각 성능 지표"
   ]
  },
  {
   "cell_type": "code",
   "execution_count": 149,
   "metadata": {},
   "outputs": [],
   "source": [
    "from sklearn.metrics import f1_score, accuracy_score, recall_score, precision_score\n",
    "from sklearn.metrics import classification_report"
   ]
  },
  {
   "cell_type": "code",
   "execution_count": 150,
   "metadata": {},
   "outputs": [
    {
     "name": "stdout",
     "output_type": "stream",
     "text": [
      "              precision    recall  f1-score   support\n",
      "\n",
      "           0       0.97      0.95      0.96        41\n",
      "           1       0.94      0.97      0.95        30\n",
      "\n",
      "    accuracy                           0.96        71\n",
      "   macro avg       0.96      0.96      0.96        71\n",
      "weighted avg       0.96      0.96      0.96        71\n",
      "\n"
     ]
    }
   ],
   "source": [
    "print(classification_report(y_test, y_pred))"
   ]
  },
  {
   "cell_type": "code",
   "execution_count": 151,
   "metadata": {
    "scrolled": false
   },
   "outputs": [
    {
     "name": "stdout",
     "output_type": "stream",
     "text": [
      "Accuracy: 0.9577464788732394\n",
      "Precision: 0.9354838709677419\n",
      "Recall: 0.9666666666666667\n",
      "F1-score: 0.9508196721311476\n"
     ]
    }
   ],
   "source": [
    "print(f'Accuracy: {accuracy_score(y_test, y_pred)}')\n",
    "print(f\"Precision: {precision_score(y_test, y_pred, average='binary')}\")\n",
    "print(f\"Recall: {recall_score(y_test, y_pred, average='binary')}\")\n",
    "print(f\"F1-score: {f1_score(y_test, y_pred, average='binary')}\")"
   ]
  },
  {
   "cell_type": "markdown",
   "metadata": {},
   "source": [
    "#### GridSearchCV"
   ]
  },
  {
   "cell_type": "code",
   "execution_count": 152,
   "metadata": {},
   "outputs": [],
   "source": [
    "from sklearn.model_selection import GridSearchCV"
   ]
  },
  {
   "cell_type": "code",
   "execution_count": 153,
   "metadata": {
    "scrolled": true
   },
   "outputs": [
    {
     "name": "stdout",
     "output_type": "stream",
     "text": [
      "Fitting 5 folds for each of 1800 candidates, totalling 9000 fits\n"
     ]
    },
    {
     "name": "stderr",
     "output_type": "stream",
     "text": [
      "[Parallel(n_jobs=-1)]: Using backend LokyBackend with 8 concurrent workers.\n",
      "[Parallel(n_jobs=-1)]: Done  34 tasks      | elapsed:    8.0s\n",
      "[Parallel(n_jobs=-1)]: Done 184 tasks      | elapsed:   15.4s\n",
      "[Parallel(n_jobs=-1)]: Done 434 tasks      | elapsed:   28.2s\n",
      "[Parallel(n_jobs=-1)]: Done 784 tasks      | elapsed:   44.5s\n",
      "[Parallel(n_jobs=-1)]: Done 1234 tasks      | elapsed:  1.1min\n",
      "[Parallel(n_jobs=-1)]: Done 1784 tasks      | elapsed:  2.0min\n",
      "[Parallel(n_jobs=-1)]: Done 2434 tasks      | elapsed:  2.9min\n",
      "[Parallel(n_jobs=-1)]: Done 3184 tasks      | elapsed:  3.5min\n",
      "[Parallel(n_jobs=-1)]: Done 4186 tasks      | elapsed:  4.3min\n",
      "[Parallel(n_jobs=-1)]: Done 5136 tasks      | elapsed:  5.1min\n",
      "[Parallel(n_jobs=-1)]: Done 6186 tasks      | elapsed:  5.9min\n",
      "[Parallel(n_jobs=-1)]: Done 7336 tasks      | elapsed:  6.5min\n",
      "[Parallel(n_jobs=-1)]: Done 9000 out of 9000 | elapsed:  7.3min finished\n"
     ]
    },
    {
     "data": {
      "text/plain": [
       "GridSearchCV(cv=5, error_score=nan,\n",
       "             estimator=GradientBoostingClassifier(ccp_alpha=0.0,\n",
       "                                                  criterion='friedman_mse',\n",
       "                                                  init=None, learning_rate=0.1,\n",
       "                                                  loss='deviance', max_depth=3,\n",
       "                                                  max_features=None,\n",
       "                                                  max_leaf_nodes=None,\n",
       "                                                  min_impurity_decrease=0.0,\n",
       "                                                  min_impurity_split=None,\n",
       "                                                  min_samples_leaf=1,\n",
       "                                                  min_samples_split=2,\n",
       "                                                  min_weight_fraction_leaf=0.0,\n",
       "                                                  n_estimators=100,\n",
       "                                                  n_iter_no_c...\n",
       "                                                  subsample=1.0, tol=0.0001,\n",
       "                                                  validation_fraction=0.1,\n",
       "                                                  verbose=0, warm_start=False),\n",
       "             iid='deprecated', n_jobs=-1,\n",
       "             param_grid=[{'learning_rate': array([0.01, 0.02, 0.03, 0.04, 0.05, 0.06, 0.07, 0.08, 0.09, 0.1 ]),\n",
       "                          'max_depth': range(3, 5),\n",
       "                          'max_features': range(1, 10),\n",
       "                          'n_estimators': range(1, 500, 50)}],\n",
       "             pre_dispatch='2*n_jobs', refit=True, return_train_score=False,\n",
       "             scoring='accuracy', verbose=1)"
      ]
     },
     "execution_count": 153,
     "metadata": {},
     "output_type": "execute_result"
    }
   ],
   "source": [
    "param_grid = [{'n_estimators': range(1, 500, 50), 'max_features': range(1, 10),\n",
    "              'max_depth': range(3, 5), 'learning_rate': np.linspace(0.01, 0.1, 10)}]\n",
    "\n",
    "gs = GridSearchCV(estimator = GB, param_grid = param_grid, scoring='accuracy', cv=5, verbose=1, n_jobs=-1)\n",
    "\n",
    "gs.fit(X_train, y_train)"
   ]
  },
  {
   "cell_type": "code",
   "execution_count": 154,
   "metadata": {},
   "outputs": [
    {
     "data": {
      "text/plain": [
       "GradientBoostingClassifier(ccp_alpha=0.0, criterion='friedman_mse', init=None,\n",
       "                           learning_rate=0.030000000000000006, loss='deviance',\n",
       "                           max_depth=3, max_features=1, max_leaf_nodes=None,\n",
       "                           min_impurity_decrease=0.0, min_impurity_split=None,\n",
       "                           min_samples_leaf=1, min_samples_split=2,\n",
       "                           min_weight_fraction_leaf=0.0, n_estimators=101,\n",
       "                           n_iter_no_change=None, presort='deprecated',\n",
       "                           random_state=42, subsample=1.0, tol=0.0001,\n",
       "                           validation_fraction=0.1, verbose=0,\n",
       "                           warm_start=False)"
      ]
     },
     "execution_count": 154,
     "metadata": {},
     "output_type": "execute_result"
    }
   ],
   "source": [
    "# 모든 모델 중 가장 성능이 좋은 것을 뽑는 best estimator # n_estimators가 제일 높은 모델이 선정되는 것이 대부분\n",
    "best_gsb_estimator = gs.best_estimator_\n",
    "best_gsb_estimator"
   ]
  },
  {
   "cell_type": "code",
   "execution_count": 155,
   "metadata": {},
   "outputs": [
    {
     "name": "stdout",
     "output_type": "stream",
     "text": [
      "Best Estimator Parameters\n",
      "---------------------------\n",
      "n_estimators: 101\n",
      "max_depth: 3\n",
      "Learning Rate: 0.030\n",
      "min_samples_leaf: 1\n",
      "max_features: 1\n",
      "---------------------------\n"
     ]
    }
   ],
   "source": [
    "print(\"Best Estimator Parameters\" )\n",
    "print(\"---------------------------\" )\n",
    "print(\"n_estimators: %d\" %best_gsb_estimator.n_estimators )\n",
    "print(\"max_depth: %d\" %best_gsb_estimator.max_depth )\n",
    "print(\"Learning Rate: %.3f\" %best_gsb_estimator.learning_rate )\n",
    "print(\"min_samples_leaf: %d\" %best_gsb_estimator.min_samples_leaf )\n",
    "print(\"max_features: %d\" %best_gsb_estimator.max_features) \n",
    "print(\"---------------------------\" )"
   ]
  },
  {
   "cell_type": "code",
   "execution_count": 156,
   "metadata": {},
   "outputs": [
    {
     "data": {
      "text/plain": [
       "array([0.19258934, 0.10441645, 0.05243887, 0.03068367, 0.04719066,\n",
       "       0.05133456, 0.02177767, 0.04071564, 0.05315075, 0.04509476,\n",
       "       0.03038201, 0.02592254, 0.11653148, 0.06746621, 0.05074524,\n",
       "       0.06956015])"
      ]
     },
     "execution_count": 156,
     "metadata": {},
     "output_type": "execute_result"
    }
   ],
   "source": [
    "best_feature_importances = best_gsb_estimator.feature_importances_\n",
    "best_feature_importances"
   ]
  },
  {
   "cell_type": "code",
   "execution_count": 157,
   "metadata": {},
   "outputs": [
    {
     "data": {
      "image/png": "[encoded data removed]",
      "text/plain": [
       "<Figure size 720x720 with 1 Axes>"
      ]
     },
     "metadata": {
      "needs_background": "light"
     },
     "output_type": "display_data"
    }
   ],
   "source": [
    "# feature_importances_: feature별 중요도를 수치로 표현 (총합:1)\n",
    "## 결정에 각 특성이 얼마나 중요한지 평가하는 것\n",
    "## 피쳐마다 비슷하게 생성되었기 때문에 수치가 비슷하게 생성된 것을 알 수 있음\n",
    "\n",
    "import seaborn as sns\n",
    "\n",
    "ft_importances = pd.Series(best_feature_importances)\n",
    "\n",
    "plt.figure(figsize=(10,10))\n",
    "n_features = X.shape[1]\n",
    "idx = np.arange(n_features)\n",
    "plt.xticks(np.arange(n_features))\n",
    "plt.xticks(idx, col_names[:])\n",
    "plt.xlim(-1, n_features)\n",
    "\n",
    "plt.title(\"best_model_feature_importances\")\n",
    "plt.xlabel(\"feature\")\n",
    "plt.ylabel(\"feature_importances\")\n",
    "sns.barplot(col_names[:], y = ft_importances)\n",
    "plt.tick_params('x', rotation = 90)\n",
    "plt.show()"
   ]
  },
  {
   "cell_type": "code",
   "execution_count": 158,
   "metadata": {},
   "outputs": [
    {
     "data": {
      "text/plain": [
       "{'learning_rate': 0.030000000000000006,\n",
       " 'max_depth': 3,\n",
       " 'max_features': 1,\n",
       " 'n_estimators': 101}"
      ]
     },
     "execution_count": 158,
     "metadata": {},
     "output_type": "execute_result"
    }
   ],
   "source": [
    "params = gs.best_params_\n",
    "params"
   ]
  },
  {
   "cell_type": "code",
   "execution_count": 159,
   "metadata": {},
   "outputs": [
    {
     "data": {
      "image/png": "[encoded data removed]",
      "text/plain": [
       "<Figure size 432x432 with 1 Axes>"
      ]
     },
     "metadata": {
      "needs_background": "light"
     },
     "output_type": "display_data"
    }
   ],
   "source": [
    "# train, test deviance graph\n",
    "test_score = np.zeros((params['n_estimators'],), dtype=np.float64)\n",
    "for i, y_pred in enumerate(best_gsb_estimator.staged_predict(X_test)):\n",
    "    test_score[i] = best_gsb_estimator.loss_(y_test, y_pred)\n",
    "\n",
    "fig = plt.figure(figsize=(6, 6))\n",
    "plt.subplot(1, 1, 1)\n",
    "plt.title('Deviance')\n",
    "plt.plot(np.arange(params['n_estimators']) + 1, best_gsb_estimator.train_score_, 'b-',\n",
    "         label='Training Set Deviance')\n",
    "plt.plot(np.arange(params['n_estimators']) + 1, test_score, 'r-',\n",
    "         label='Test Set Deviance')\n",
    "plt.legend(loc='upper right')\n",
    "plt.xlabel('Boosting Iterations')\n",
    "plt.ylabel('Deviance')\n",
    "fig.tight_layout()\n",
    "plt.show()"
   ]
  },
  {
   "cell_type": "code",
   "execution_count": 160,
   "metadata": {},
   "outputs": [
    {
     "name": "stdout",
     "output_type": "stream",
     "text": [
      "Train Accuracy: 0.9393\n",
      "Test Accuracy: 0.9296\n"
     ]
    }
   ],
   "source": [
    "print(\"Train Accuracy: %.4f\" %best_gsb_estimator.score(X_train, y_train))\n",
    "print(\"Test Accuracy: %.4f\" %best_gsb_estimator.score(X_test, y_test))"
   ]
  },
  {
   "cell_type": "code",
   "execution_count": 161,
   "metadata": {},
   "outputs": [
    {
     "data": {
      "text/plain": [
       "GradientBoostingClassifier(ccp_alpha=0.0, criterion='friedman_mse', init=None,\n",
       "                           learning_rate=0.030000000000000006, loss='deviance',\n",
       "                           max_depth=3, max_features=1, max_leaf_nodes=None,\n",
       "                           min_impurity_decrease=0.0, min_impurity_split=None,\n",
       "                           min_samples_leaf=1, min_samples_split=2,\n",
       "                           min_weight_fraction_leaf=0.0, n_estimators=101,\n",
       "                           n_iter_no_change=None, presort='deprecated',\n",
       "                           random_state=42, subsample=1.0, tol=0.0001,\n",
       "                           validation_fraction=0.1, verbose=0,\n",
       "                           warm_start=False)"
      ]
     },
     "execution_count": 161,
     "metadata": {},
     "output_type": "execute_result"
    }
   ],
   "source": [
    "best_gsb_estimator"
   ]
  },
  {
   "cell_type": "code",
   "execution_count": 162,
   "metadata": {
    "scrolled": false
   },
   "outputs": [
    {
     "data": {
      "image/svg+xml": [
       "<?xml version=\"1.0\" encoding=\"UTF-8\" standalone=\"no\"?>\r\n",
       "<!DOCTYPE svg PUBLIC \"-//W3C//DTD SVG 1.1//EN\"\r\n",
       " \"http://www.w3.org/Graphics/SVG/1.1/DTD/svg11.dtd\">\r\n",
       "<!-- Generated by graphviz version 2.47.2 (20210527.0053)\r\n",
       " -->\r\n",
       "<!-- Title: Tree Pages: 1 -->\r\n",
       "<svg width=\"1318pt\" height=\"361pt\"\r\n",
       " viewBox=\"0.00 0.00 1318.00 361.00\" xmlns=\"http://www.w3.org/2000/svg\" xmlns:xlink=\"http://www.w3.org/1999/xlink\">\r\n",
       "<g id=\"graph0\" class=\"graph\" transform=\"scale(1 1) rotate(0) translate(4 357)\">\r\n",
       "<title>Tree</title>\r\n",
       "<polygon fill=\"white\" stroke=\"transparent\" points=\"-4,4 -4,-357 1314,-357 1314,4 -4,4\"/>\r\n",
       "<!-- 0 -->\r\n",
       "<g id=\"node1\" class=\"node\">\r\n",
       "<title>0</title>\r\n",
       "<path fill=\"#f8dbc7\" stroke=\"black\" d=\"M685,-353C685,-353 557,-353 557,-353 551,-353 545,-347 545,-341 545,-341 545,-301 545,-301 545,-295 551,-289 557,-289 557,-289 685,-289 685,-289 691,-289 697,-295 697,-301 697,-301 697,-341 697,-341 697,-347 691,-353 685,-353\"/>\r\n",
       "<text text-anchor=\"start\" x=\"590.5\" y=\"-338.8\" font-family=\"Helvetica,sans-Serif\" font-size=\"14.00\">X</text>\r\n",
       "<text text-anchor=\"start\" x=\"600.5\" y=\"-338.8\" font-family=\"Helvetica,sans-Serif\" baseline-shift=\"sub\" font-size=\"14.00\">5</text>\r\n",
       "<text text-anchor=\"start\" x=\"607.5\" y=\"-338.8\" font-family=\"Helvetica,sans-Serif\" font-size=\"14.00\"> ≤ 0.35</text>\r\n",
       "<text text-anchor=\"start\" x=\"553\" y=\"-324.8\" font-family=\"Helvetica,sans-Serif\" font-size=\"14.00\">friedman_mse = 0.15</text>\r\n",
       "<text text-anchor=\"start\" x=\"573.5\" y=\"-310.8\" font-family=\"Helvetica,sans-Serif\" font-size=\"14.00\">samples = 280</text>\r\n",
       "<text text-anchor=\"start\" x=\"584\" y=\"-296.8\" font-family=\"Helvetica,sans-Serif\" font-size=\"14.00\">value = &#45;0.0</text>\r\n",
       "</g>\r\n",
       "<!-- 1 -->\r\n",
       "<g id=\"node2\" class=\"node\">\r\n",
       "<title>1</title>\r\n",
       "<path fill=\"#f6d6be\" stroke=\"black\" d=\"M600,-253C600,-253 472,-253 472,-253 466,-253 460,-247 460,-241 460,-241 460,-201 460,-201 460,-195 466,-189 472,-189 472,-189 600,-189 600,-189 606,-189 612,-195 612,-201 612,-201 612,-241 612,-241 612,-247 606,-253 600,-253\"/>\r\n",
       "<text text-anchor=\"start\" x=\"502\" y=\"-238.8\" font-family=\"Helvetica,sans-Serif\" font-size=\"14.00\">X</text>\r\n",
       "<text text-anchor=\"start\" x=\"512\" y=\"-238.8\" font-family=\"Helvetica,sans-Serif\" baseline-shift=\"sub\" font-size=\"14.00\">14</text>\r\n",
       "<text text-anchor=\"start\" x=\"526\" y=\"-238.8\" font-family=\"Helvetica,sans-Serif\" font-size=\"14.00\"> ≤ 0.19</text>\r\n",
       "<text text-anchor=\"start\" x=\"468\" y=\"-224.8\" font-family=\"Helvetica,sans-Serif\" font-size=\"14.00\">friedman_mse = 0.16</text>\r\n",
       "<text text-anchor=\"start\" x=\"488.5\" y=\"-210.8\" font-family=\"Helvetica,sans-Serif\" font-size=\"14.00\">samples = 107</text>\r\n",
       "<text text-anchor=\"start\" x=\"497\" y=\"-196.8\" font-family=\"Helvetica,sans-Serif\" font-size=\"14.00\">value = 0.13</text>\r\n",
       "</g>\r\n",
       "<!-- 0&#45;&gt;1 -->\r\n",
       "<g id=\"edge1\" class=\"edge\">\r\n",
       "<title>0&#45;&gt;1</title>\r\n",
       "<path fill=\"none\" stroke=\"black\" d=\"M594.11,-288.99C586.35,-280.06 577.8,-270.19 569.69,-260.84\"/>\r\n",
       "<polygon fill=\"black\" stroke=\"black\" points=\"572.21,-258.4 563.01,-253.14 566.92,-262.99 572.21,-258.4\"/>\r\n",
       "<text text-anchor=\"middle\" x=\"561.24\" y=\"-274.38\" font-family=\"Helvetica,sans-Serif\" font-size=\"14.00\">True</text>\r\n",
       "</g>\r\n",
       "<!-- 8 -->\r\n",
       "<g id=\"node9\" class=\"node\">\r\n",
       "<title>8</title>\r\n",
       "<path fill=\"#f8dfcd\" stroke=\"black\" d=\"M849,-253C849,-253 721,-253 721,-253 715,-253 709,-247 709,-241 709,-241 709,-201 709,-201 709,-195 715,-189 721,-189 721,-189 849,-189 849,-189 855,-189 861,-195 861,-201 861,-201 861,-241 861,-241 861,-247 855,-253 849,-253\"/>\r\n",
       "<text text-anchor=\"start\" x=\"754.5\" y=\"-238.8\" font-family=\"Helvetica,sans-Serif\" font-size=\"14.00\">X</text>\r\n",
       "<text text-anchor=\"start\" x=\"764.5\" y=\"-238.8\" font-family=\"Helvetica,sans-Serif\" baseline-shift=\"sub\" font-size=\"14.00\">1</text>\r\n",
       "<text text-anchor=\"start\" x=\"771.5\" y=\"-238.8\" font-family=\"Helvetica,sans-Serif\" font-size=\"14.00\"> ≤ 0.03</text>\r\n",
       "<text text-anchor=\"start\" x=\"717\" y=\"-224.8\" font-family=\"Helvetica,sans-Serif\" font-size=\"14.00\">friedman_mse = 0.13</text>\r\n",
       "<text text-anchor=\"start\" x=\"737.5\" y=\"-210.8\" font-family=\"Helvetica,sans-Serif\" font-size=\"14.00\">samples = 173</text>\r\n",
       "<text text-anchor=\"start\" x=\"744\" y=\"-196.8\" font-family=\"Helvetica,sans-Serif\" font-size=\"14.00\">value = &#45;0.08</text>\r\n",
       "</g>\r\n",
       "<!-- 0&#45;&gt;8 -->\r\n",
       "<g id=\"edge8\" class=\"edge\">\r\n",
       "<title>0&#45;&gt;8</title>\r\n",
       "<path fill=\"none\" stroke=\"black\" d=\"M672.89,-288.99C689.19,-279.25 707.34,-268.41 724.2,-258.33\"/>\r\n",
       "<polygon fill=\"black\" stroke=\"black\" points=\"726.1,-261.28 732.88,-253.14 722.5,-255.27 726.1,-261.28\"/>\r\n",
       "<text text-anchor=\"middle\" x=\"726.78\" y=\"-273.69\" font-family=\"Helvetica,sans-Serif\" font-size=\"14.00\">False</text>\r\n",
       "</g>\r\n",
       "<!-- 2 -->\r\n",
       "<g id=\"node3\" class=\"node\">\r\n",
       "<title>2</title>\r\n",
       "<path fill=\"#f5cfb4\" stroke=\"black\" d=\"M310,-153C310,-153 182,-153 182,-153 176,-153 170,-147 170,-141 170,-141 170,-101 170,-101 170,-95 176,-89 182,-89 182,-89 310,-89 310,-89 316,-89 322,-95 322,-101 322,-101 322,-141 322,-141 322,-147 316,-153 310,-153\"/>\r\n",
       "<text text-anchor=\"start\" x=\"215.5\" y=\"-138.8\" font-family=\"Helvetica,sans-Serif\" font-size=\"14.00\">X</text>\r\n",
       "<text text-anchor=\"start\" x=\"225.5\" y=\"-138.8\" font-family=\"Helvetica,sans-Serif\" baseline-shift=\"sub\" font-size=\"14.00\">2</text>\r\n",
       "<text text-anchor=\"start\" x=\"232.5\" y=\"-138.8\" font-family=\"Helvetica,sans-Serif\" font-size=\"14.00\"> ≤ 0.03</text>\r\n",
       "<text text-anchor=\"start\" x=\"178\" y=\"-124.8\" font-family=\"Helvetica,sans-Serif\" font-size=\"14.00\">friedman_mse = 0.15</text>\r\n",
       "<text text-anchor=\"start\" x=\"202.5\" y=\"-110.8\" font-family=\"Helvetica,sans-Serif\" font-size=\"14.00\">samples = 64</text>\r\n",
       "<text text-anchor=\"start\" x=\"207\" y=\"-96.8\" font-family=\"Helvetica,sans-Serif\" font-size=\"14.00\">value = 0.27</text>\r\n",
       "</g>\r\n",
       "<!-- 1&#45;&gt;2 -->\r\n",
       "<g id=\"edge2\" class=\"edge\">\r\n",
       "<title>1&#45;&gt;2</title>\r\n",
       "<path fill=\"none\" stroke=\"black\" d=\"M459.81,-194.25C420.5,-180.97 372.41,-164.72 331.8,-151\"/>\r\n",
       "<polygon fill=\"black\" stroke=\"black\" points=\"332.78,-147.63 322.19,-147.75 330.54,-154.26 332.78,-147.63\"/>\r\n",
       "</g>\r\n",
       "<!-- 5 -->\r\n",
       "<g id=\"node6\" class=\"node\">\r\n",
       "<title>5</title>\r\n",
       "<path fill=\"#f8dfcc\" stroke=\"black\" d=\"M600,-153C600,-153 472,-153 472,-153 466,-153 460,-147 460,-141 460,-141 460,-101 460,-101 460,-95 466,-89 472,-89 472,-89 600,-89 600,-89 606,-89 612,-95 612,-101 612,-101 612,-141 612,-141 612,-147 606,-153 600,-153\"/>\r\n",
       "<text text-anchor=\"start\" x=\"505.5\" y=\"-138.8\" font-family=\"Helvetica,sans-Serif\" font-size=\"14.00\">X</text>\r\n",
       "<text text-anchor=\"start\" x=\"515.5\" y=\"-138.8\" font-family=\"Helvetica,sans-Serif\" baseline-shift=\"sub\" font-size=\"14.00\">0</text>\r\n",
       "<text text-anchor=\"start\" x=\"522.5\" y=\"-138.8\" font-family=\"Helvetica,sans-Serif\" font-size=\"14.00\"> ≤ 0.16</text>\r\n",
       "<text text-anchor=\"start\" x=\"468\" y=\"-124.8\" font-family=\"Helvetica,sans-Serif\" font-size=\"14.00\">friedman_mse = 0.12</text>\r\n",
       "<text text-anchor=\"start\" x=\"492.5\" y=\"-110.8\" font-family=\"Helvetica,sans-Serif\" font-size=\"14.00\">samples = 43</text>\r\n",
       "<text text-anchor=\"start\" x=\"495\" y=\"-96.8\" font-family=\"Helvetica,sans-Serif\" font-size=\"14.00\">value = &#45;0.08</text>\r\n",
       "</g>\r\n",
       "<!-- 1&#45;&gt;5 -->\r\n",
       "<g id=\"edge5\" class=\"edge\">\r\n",
       "<title>1&#45;&gt;5</title>\r\n",
       "<path fill=\"none\" stroke=\"black\" d=\"M536,-188.99C536,-180.86 536,-171.96 536,-163.38\"/>\r\n",
       "<polygon fill=\"black\" stroke=\"black\" points=\"539.5,-163.14 536,-153.14 532.5,-163.14 539.5,-163.14\"/>\r\n",
       "</g>\r\n",
       "<!-- 3 -->\r\n",
       "<g id=\"node4\" class=\"node\">\r\n",
       "<title>3</title>\r\n",
       "<path fill=\"#e78945\" stroke=\"black\" d=\"M140,-53C140,-53 12,-53 12,-53 6,-53 0,-47 0,-41 0,-41 0,-12 0,-12 0,-6 6,0 12,0 12,0 140,0 140,0 146,0 152,-6 152,-12 152,-12 152,-41 152,-41 152,-47 146,-53 140,-53\"/>\r\n",
       "<text text-anchor=\"start\" x=\"8\" y=\"-37.8\" font-family=\"Helvetica,sans-Serif\" font-size=\"14.00\">friedman_mse = 0.04</text>\r\n",
       "<text text-anchor=\"start\" x=\"32.5\" y=\"-22.8\" font-family=\"Helvetica,sans-Serif\" font-size=\"14.00\">samples = 37</text>\r\n",
       "<text text-anchor=\"start\" x=\"37\" y=\"-7.8\" font-family=\"Helvetica,sans-Serif\" font-size=\"14.00\">value = 1.85</text>\r\n",
       "</g>\r\n",
       "<!-- 2&#45;&gt;3 -->\r\n",
       "<g id=\"edge3\" class=\"edge\">\r\n",
       "<title>2&#45;&gt;3</title>\r\n",
       "<path fill=\"none\" stroke=\"black\" d=\"M188.92,-88.94C170.52,-78.93 150.15,-67.85 131.84,-57.88\"/>\r\n",
       "<polygon fill=\"black\" stroke=\"black\" points=\"133.49,-54.8 123.03,-53.09 130.14,-60.94 133.49,-54.8\"/>\r\n",
       "</g>\r\n",
       "<!-- 4 -->\r\n",
       "<g id=\"node5\" class=\"node\">\r\n",
       "<title>4</title>\r\n",
       "<path fill=\"#f7dac5\" stroke=\"black\" d=\"M310,-53C310,-53 182,-53 182,-53 176,-53 170,-47 170,-41 170,-41 170,-12 170,-12 170,-6 176,0 182,0 182,0 310,0 310,0 316,0 322,-6 322,-12 322,-12 322,-41 322,-41 322,-47 316,-53 310,-53\"/>\r\n",
       "<text text-anchor=\"start\" x=\"178\" y=\"-37.8\" font-family=\"Helvetica,sans-Serif\" font-size=\"14.00\">friedman_mse = 0.18</text>\r\n",
       "<text text-anchor=\"start\" x=\"202.5\" y=\"-22.8\" font-family=\"Helvetica,sans-Serif\" font-size=\"14.00\">samples = 27</text>\r\n",
       "<text text-anchor=\"start\" x=\"207\" y=\"-7.8\" font-family=\"Helvetica,sans-Serif\" font-size=\"14.00\">value = 0.03</text>\r\n",
       "</g>\r\n",
       "<!-- 2&#45;&gt;4 -->\r\n",
       "<g id=\"edge4\" class=\"edge\">\r\n",
       "<title>2&#45;&gt;4</title>\r\n",
       "<path fill=\"none\" stroke=\"black\" d=\"M246,-88.94C246,-80.66 246,-71.64 246,-63.13\"/>\r\n",
       "<polygon fill=\"black\" stroke=\"black\" points=\"249.5,-63.09 246,-53.09 242.5,-63.09 249.5,-63.09\"/>\r\n",
       "</g>\r\n",
       "<!-- 6 -->\r\n",
       "<g id=\"node7\" class=\"node\">\r\n",
       "<title>6</title>\r\n",
       "<path fill=\"#e68640\" stroke=\"black\" d=\"M472,-53C472,-53 352,-53 352,-53 346,-53 340,-47 340,-41 340,-41 340,-12 340,-12 340,-6 346,0 352,0 352,0 472,0 472,0 478,0 484,-6 484,-12 484,-12 484,-41 484,-41 484,-47 478,-53 472,-53\"/>\r\n",
       "<text text-anchor=\"start\" x=\"348\" y=\"-37.8\" font-family=\"Helvetica,sans-Serif\" font-size=\"14.00\">friedman_mse = 0.0</text>\r\n",
       "<text text-anchor=\"start\" x=\"372.5\" y=\"-22.8\" font-family=\"Helvetica,sans-Serif\" font-size=\"14.00\">samples = 6</text>\r\n",
       "<text text-anchor=\"start\" x=\"373\" y=\"-7.8\" font-family=\"Helvetica,sans-Serif\" font-size=\"14.00\">value = 1.92</text>\r\n",
       "</g>\r\n",
       "<!-- 5&#45;&gt;6 -->\r\n",
       "<g id=\"edge6\" class=\"edge\">\r\n",
       "<title>5&#45;&gt;6</title>\r\n",
       "<path fill=\"none\" stroke=\"black\" d=\"M494.36,-88.94C481.55,-79.38 467.43,-68.85 454.56,-59.25\"/>\r\n",
       "<polygon fill=\"black\" stroke=\"black\" points=\"456.41,-56.26 446.31,-53.09 452.23,-61.88 456.41,-56.26\"/>\r\n",
       "</g>\r\n",
       "<!-- 7 -->\r\n",
       "<g id=\"node8\" class=\"node\">\r\n",
       "<title>7</title>\r\n",
       "<path fill=\"#ffffff\" stroke=\"black\" d=\"M642,-53C642,-53 514,-53 514,-53 508,-53 502,-47 502,-41 502,-41 502,-12 502,-12 502,-6 508,0 514,0 514,0 642,0 642,0 648,0 654,-6 654,-12 654,-12 654,-41 654,-41 654,-47 648,-53 642,-53\"/>\r\n",
       "<text text-anchor=\"start\" x=\"510\" y=\"-37.8\" font-family=\"Helvetica,sans-Serif\" font-size=\"14.00\">friedman_mse = 0.08</text>\r\n",
       "<text text-anchor=\"start\" x=\"534.5\" y=\"-22.8\" font-family=\"Helvetica,sans-Serif\" font-size=\"14.00\">samples = 37</text>\r\n",
       "<text text-anchor=\"start\" x=\"541\" y=\"-7.8\" font-family=\"Helvetica,sans-Serif\" font-size=\"14.00\">value = &#45;0.8</text>\r\n",
       "</g>\r\n",
       "<!-- 5&#45;&gt;7 -->\r\n",
       "<g id=\"edge7\" class=\"edge\">\r\n",
       "<title>5&#45;&gt;7</title>\r\n",
       "<path fill=\"none\" stroke=\"black\" d=\"M550.1,-88.94C553.99,-80.38 558.23,-71.05 562.2,-62.29\"/>\r\n",
       "<polygon fill=\"black\" stroke=\"black\" points=\"565.43,-63.64 566.38,-53.09 559.06,-60.75 565.43,-63.64\"/>\r\n",
       "</g>\r\n",
       "<!-- 9 -->\r\n",
       "<g id=\"node10\" class=\"node\">\r\n",
       "<title>9</title>\r\n",
       "<path fill=\"#f3c6a6\" stroke=\"black\" d=\"M845,-153C845,-153 725,-153 725,-153 719,-153 713,-147 713,-141 713,-141 713,-101 713,-101 713,-95 719,-89 725,-89 725,-89 845,-89 845,-89 851,-89 857,-95 857,-101 857,-101 857,-141 857,-141 857,-147 851,-153 845,-153\"/>\r\n",
       "<text text-anchor=\"start\" x=\"754.5\" y=\"-138.8\" font-family=\"Helvetica,sans-Serif\" font-size=\"14.00\">X</text>\r\n",
       "<text text-anchor=\"start\" x=\"764.5\" y=\"-138.8\" font-family=\"Helvetica,sans-Serif\" baseline-shift=\"sub\" font-size=\"14.00\">8</text>\r\n",
       "<text text-anchor=\"start\" x=\"771.5\" y=\"-138.8\" font-family=\"Helvetica,sans-Serif\" font-size=\"14.00\"> ≤ 0.17</text>\r\n",
       "<text text-anchor=\"start\" x=\"721\" y=\"-124.8\" font-family=\"Helvetica,sans-Serif\" font-size=\"14.00\">friedman_mse = 0.0</text>\r\n",
       "<text text-anchor=\"start\" x=\"745.5\" y=\"-110.8\" font-family=\"Helvetica,sans-Serif\" font-size=\"14.00\">samples = 7</text>\r\n",
       "<text text-anchor=\"start\" x=\"746\" y=\"-96.8\" font-family=\"Helvetica,sans-Serif\" font-size=\"14.00\">value = 0.47</text>\r\n",
       "</g>\r\n",
       "<!-- 8&#45;&gt;9 -->\r\n",
       "<g id=\"edge9\" class=\"edge\">\r\n",
       "<title>8&#45;&gt;9</title>\r\n",
       "<path fill=\"none\" stroke=\"black\" d=\"M785,-188.99C785,-180.86 785,-171.96 785,-163.38\"/>\r\n",
       "<polygon fill=\"black\" stroke=\"black\" points=\"788.5,-163.14 785,-153.14 781.5,-163.14 788.5,-163.14\"/>\r\n",
       "</g>\r\n",
       "<!-- 12 -->\r\n",
       "<g id=\"node13\" class=\"node\">\r\n",
       "<title>12</title>\r\n",
       "<path fill=\"#f9e0ce\" stroke=\"black\" d=\"M1132,-153C1132,-153 1004,-153 1004,-153 998,-153 992,-147 992,-141 992,-141 992,-101 992,-101 992,-95 998,-89 1004,-89 1004,-89 1132,-89 1132,-89 1138,-89 1144,-95 1144,-101 1144,-101 1144,-141 1144,-141 1144,-147 1138,-153 1132,-153\"/>\r\n",
       "<text text-anchor=\"start\" x=\"1041.5\" y=\"-138.8\" font-family=\"Helvetica,sans-Serif\" font-size=\"14.00\">X</text>\r\n",
       "<text text-anchor=\"start\" x=\"1051.5\" y=\"-138.8\" font-family=\"Helvetica,sans-Serif\" baseline-shift=\"sub\" font-size=\"14.00\">7</text>\r\n",
       "<text text-anchor=\"start\" x=\"1058.5\" y=\"-138.8\" font-family=\"Helvetica,sans-Serif\" font-size=\"14.00\"> ≤ 0.0</text>\r\n",
       "<text text-anchor=\"start\" x=\"1000\" y=\"-124.8\" font-family=\"Helvetica,sans-Serif\" font-size=\"14.00\">friedman_mse = 0.12</text>\r\n",
       "<text text-anchor=\"start\" x=\"1020.5\" y=\"-110.8\" font-family=\"Helvetica,sans-Serif\" font-size=\"14.00\">samples = 166</text>\r\n",
       "<text text-anchor=\"start\" x=\"1031\" y=\"-96.8\" font-family=\"Helvetica,sans-Serif\" font-size=\"14.00\">value = &#45;0.1</text>\r\n",
       "</g>\r\n",
       "<!-- 8&#45;&gt;12 -->\r\n",
       "<g id=\"edge12\" class=\"edge\">\r\n",
       "<title>8&#45;&gt;12</title>\r\n",
       "<path fill=\"none\" stroke=\"black\" d=\"M861.21,-193.61C898.49,-180.7 943.51,-165.11 982.01,-151.78\"/>\r\n",
       "<polygon fill=\"black\" stroke=\"black\" points=\"983.35,-155.02 991.65,-148.44 981.06,-148.4 983.35,-155.02\"/>\r\n",
       "</g>\r\n",
       "<!-- 10 -->\r\n",
       "<g id=\"node11\" class=\"node\">\r\n",
       "<title>10</title>\r\n",
       "<path fill=\"#e78b49\" stroke=\"black\" d=\"M804,-53C804,-53 684,-53 684,-53 678,-53 672,-47 672,-41 672,-41 672,-12 672,-12 672,-6 678,0 684,0 684,0 804,0 804,0 810,0 816,-6 816,-12 816,-12 816,-41 816,-41 816,-47 810,-53 804,-53\"/>\r\n",
       "<text text-anchor=\"start\" x=\"680\" y=\"-37.8\" font-family=\"Helvetica,sans-Serif\" font-size=\"14.00\">friedman_mse = 0.0</text>\r\n",
       "<text text-anchor=\"start\" x=\"704.5\" y=\"-22.8\" font-family=\"Helvetica,sans-Serif\" font-size=\"14.00\">samples = 4</text>\r\n",
       "<text text-anchor=\"start\" x=\"709\" y=\"-7.8\" font-family=\"Helvetica,sans-Serif\" font-size=\"14.00\">value = 1.8</text>\r\n",
       "</g>\r\n",
       "<!-- 9&#45;&gt;10 -->\r\n",
       "<g id=\"edge10\" class=\"edge\">\r\n",
       "<title>9&#45;&gt;10</title>\r\n",
       "<path fill=\"none\" stroke=\"black\" d=\"M771.23,-88.94C767.44,-80.38 763.3,-71.05 759.42,-62.29\"/>\r\n",
       "<polygon fill=\"black\" stroke=\"black\" points=\"762.6,-60.81 755.34,-53.09 756.2,-63.65 762.6,-60.81\"/>\r\n",
       "</g>\r\n",
       "<!-- 11 -->\r\n",
       "<g id=\"node12\" class=\"node\">\r\n",
       "<title>11</title>\r\n",
       "<path fill=\"#e58139\" stroke=\"black\" d=\"M966,-53C966,-53 846,-53 846,-53 840,-53 834,-47 834,-41 834,-41 834,-12 834,-12 834,-6 840,0 846,0 846,0 966,0 966,0 972,0 978,-6 978,-12 978,-12 978,-41 978,-41 978,-47 972,-53 966,-53\"/>\r\n",
       "<text text-anchor=\"start\" x=\"842\" y=\"-37.8\" font-family=\"Helvetica,sans-Serif\" font-size=\"14.00\">friedman_mse = 0.0</text>\r\n",
       "<text text-anchor=\"start\" x=\"866.5\" y=\"-22.8\" font-family=\"Helvetica,sans-Serif\" font-size=\"14.00\">samples = 3</text>\r\n",
       "<text text-anchor=\"start\" x=\"867\" y=\"-7.8\" font-family=\"Helvetica,sans-Serif\" font-size=\"14.00\">value = 2.02</text>\r\n",
       "</g>\r\n",
       "<!-- 9&#45;&gt;11 -->\r\n",
       "<g id=\"edge11\" class=\"edge\">\r\n",
       "<title>9&#45;&gt;11</title>\r\n",
       "<path fill=\"none\" stroke=\"black\" d=\"M825.63,-88.94C838.13,-79.38 851.91,-68.85 864.47,-59.25\"/>\r\n",
       "<polygon fill=\"black\" stroke=\"black\" points=\"866.71,-61.94 872.52,-53.09 862.45,-56.38 866.71,-61.94\"/>\r\n",
       "</g>\r\n",
       "<!-- 13 -->\r\n",
       "<g id=\"node14\" class=\"node\">\r\n",
       "<title>13</title>\r\n",
       "<path fill=\"#ea9a60\" stroke=\"black\" d=\"M1128,-53C1128,-53 1008,-53 1008,-53 1002,-53 996,-47 996,-41 996,-41 996,-12 996,-12 996,-6 1002,0 1008,0 1008,0 1128,0 1128,0 1134,0 1140,-6 1140,-12 1140,-12 1140,-41 1140,-41 1140,-47 1134,-53 1128,-53\"/>\r\n",
       "<text text-anchor=\"start\" x=\"1004\" y=\"-37.8\" font-family=\"Helvetica,sans-Serif\" font-size=\"14.00\">friedman_mse = 0.1</text>\r\n",
       "<text text-anchor=\"start\" x=\"1028.5\" y=\"-22.8\" font-family=\"Helvetica,sans-Serif\" font-size=\"14.00\">samples = 7</text>\r\n",
       "<text text-anchor=\"start\" x=\"1029\" y=\"-7.8\" font-family=\"Helvetica,sans-Serif\" font-size=\"14.00\">value = 1.47</text>\r\n",
       "</g>\r\n",
       "<!-- 12&#45;&gt;13 -->\r\n",
       "<g id=\"edge13\" class=\"edge\">\r\n",
       "<title>12&#45;&gt;13</title>\r\n",
       "<path fill=\"none\" stroke=\"black\" d=\"M1068,-88.94C1068,-80.66 1068,-71.64 1068,-63.13\"/>\r\n",
       "<polygon fill=\"black\" stroke=\"black\" points=\"1071.5,-63.09 1068,-53.09 1064.5,-63.09 1071.5,-63.09\"/>\r\n",
       "</g>\r\n",
       "<!-- 14 -->\r\n",
       "<g id=\"node15\" class=\"node\">\r\n",
       "<title>14</title>\r\n",
       "<path fill=\"#fdf7f2\" stroke=\"black\" d=\"M1298,-53C1298,-53 1170,-53 1170,-53 1164,-53 1158,-47 1158,-41 1158,-41 1158,-12 1158,-12 1158,-6 1164,0 1170,0 1170,0 1298,0 1298,0 1304,0 1310,-6 1310,-12 1310,-12 1310,-41 1310,-41 1310,-47 1304,-53 1298,-53\"/>\r\n",
       "<text text-anchor=\"start\" x=\"1166\" y=\"-37.8\" font-family=\"Helvetica,sans-Serif\" font-size=\"14.00\">friedman_mse = 0.11</text>\r\n",
       "<text text-anchor=\"start\" x=\"1186.5\" y=\"-22.8\" font-family=\"Helvetica,sans-Serif\" font-size=\"14.00\">samples = 159</text>\r\n",
       "<text text-anchor=\"start\" x=\"1193\" y=\"-7.8\" font-family=\"Helvetica,sans-Serif\" font-size=\"14.00\">value = &#45;0.61</text>\r\n",
       "</g>\r\n",
       "<!-- 12&#45;&gt;14 -->\r\n",
       "<g id=\"edge14\" class=\"edge\">\r\n",
       "<title>12&#45;&gt;14</title>\r\n",
       "<path fill=\"none\" stroke=\"black\" d=\"M1123.74,-88.94C1141.54,-79.02 1161.23,-68.05 1178.99,-58.15\"/>\r\n",
       "<polygon fill=\"black\" stroke=\"black\" points=\"1181.04,-61.02 1188.07,-53.09 1177.64,-54.9 1181.04,-61.02\"/>\r\n",
       "</g>\r\n",
       "</g>\r\n",
       "</svg>\r\n"
      ],
      "text/plain": [
       "<graphviz.files.Source at 0x272fe910c10>"
      ]
     },
     "execution_count": 162,
     "metadata": {},
     "output_type": "execute_result"
    }
   ],
   "source": [
    "# GB 중 일부 트리 graph화\n",
    "estimator = best_gsb_estimator.estimators_[15][0]\n",
    "\n",
    "dot_data = tree.export_graphviz(estimator, \n",
    "                rounded = True, proportion = False, \n",
    "                precision = 2, filled = True,\n",
    "                special_characters=True)\n",
    "\n",
    "graph = graphviz.Source(dot_data)  \n",
    "graph"
   ]
  },
  {
   "cell_type": "markdown",
   "metadata": {},
   "source": [
    "#### Confusion Matrix"
   ]
  },
  {
   "cell_type": "code",
   "execution_count": 163,
   "metadata": {},
   "outputs": [],
   "source": [
    "from sklearn.metrics import confusion_matrix\n",
    "import matplotlib.pyplot as plt\n",
    "import seaborn as sns"
   ]
  },
  {
   "cell_type": "code",
   "execution_count": 164,
   "metadata": {},
   "outputs": [],
   "source": [
    "y_pred = best_gsb_estimator.predict(X_test)"
   ]
  },
  {
   "cell_type": "code",
   "execution_count": 165,
   "metadata": {},
   "outputs": [
    {
     "data": {
      "image/png": "[encoded data removed]",
      "text/plain": [
       "<Figure size 360x360 with 2 Axes>"
      ]
     },
     "metadata": {
      "needs_background": "light"
     },
     "output_type": "display_data"
    }
   ],
   "source": [
    "con_mat = confusion_matrix(y_test, y_pred, labels=[0,1])\n",
    "\n",
    "group_names = [\"TN\",\"FP\",\"FN\",\"TP\"]\n",
    "group_counts = [\"{0:0.0f}\".format(value) for value in con_mat.flatten()]\n",
    "group_percentages = [\"{0:.2%}\".format(value) for value in con_mat.flatten()/np.sum(con_mat)]\n",
    "\n",
    "labels = [f\"{v1}\\n{v2}\\n{v3}\" for v1, v2, v3 in zip(group_names,group_counts,group_percentages)]\n",
    "labels = np.asarray(labels).reshape(2,2)\n",
    "fig, ax = plt.subplots(figsize=(5,5))\n",
    "\n",
    "sns.heatmap(con_mat, annot=labels, cmap = \"Blues\", fmt=\"\", linewidths=10, square=True)\n",
    "ax.set_ylim([0,2])\n",
    "ax.set_title(\"Confusion Matrix\")\n",
    "plt.ylabel('True label')\n",
    "plt.xlabel('Predicted label' + \"\")\n",
    "plt.show()"
   ]
  },
  {
   "cell_type": "markdown",
   "metadata": {},
   "source": [
    "#### AUROC"
   ]
  },
  {
   "cell_type": "code",
   "execution_count": 166,
   "metadata": {},
   "outputs": [],
   "source": [
    "from sklearn.metrics import roc_curve, auc\n",
    "%matplotlib inline"
   ]
  },
  {
   "cell_type": "code",
   "execution_count": 167,
   "metadata": {
    "scrolled": false
   },
   "outputs": [
    {
     "data": {
      "image/png": "[encoded data removed]",
      "text/plain": [
       "<Figure size 432x288 with 1 Axes>"
      ]
     },
     "metadata": {
      "needs_background": "light"
     },
     "output_type": "display_data"
    }
   ],
   "source": [
    "fpr, tpr, thresholds = roc_curve(y_test, best_gsb_estimator.decision_function(X_test)) \n",
    "\n",
    "plt.plot(fpr, tpr)\n",
    "#plt.fill_between(fpr, tpr)\n",
    "plt.plot([0, 1], [0, 1], '--')\n",
    "plt.xlabel('1 - Specificity(TNR)')\n",
    "#plt.xlabel('거짓 양성 비율(FPR)')\n",
    "plt.ylabel('Sensitivity(TPR)')\n",
    "\n",
    "auc_s = auc(fpr, tpr) # auc(score)\n",
    "plt.title('ROC curve (AUROC = {})'.format(auc_s))\n",
    "plt.show()"
   ]
  },
  {
   "cell_type": "markdown",
   "metadata": {},
   "source": [
    "#### 각 성능 지표"
   ]
  },
  {
   "cell_type": "code",
   "execution_count": 168,
   "metadata": {},
   "outputs": [],
   "source": [
    "from sklearn.metrics import f1_score, accuracy_score, recall_score, precision_score\n",
    "from sklearn.metrics import classification_report"
   ]
  },
  {
   "cell_type": "code",
   "execution_count": 169,
   "metadata": {},
   "outputs": [
    {
     "name": "stdout",
     "output_type": "stream",
     "text": [
      "              precision    recall  f1-score   support\n",
      "\n",
      "           0       0.91      0.98      0.94        41\n",
      "           1       0.96      0.87      0.91        30\n",
      "\n",
      "    accuracy                           0.93        71\n",
      "   macro avg       0.94      0.92      0.93        71\n",
      "weighted avg       0.93      0.93      0.93        71\n",
      "\n"
     ]
    }
   ],
   "source": [
    "print(classification_report(y_test, y_pred))"
   ]
  },
  {
   "cell_type": "code",
   "execution_count": 170,
   "metadata": {
    "scrolled": true
   },
   "outputs": [
    {
     "name": "stdout",
     "output_type": "stream",
     "text": [
      "Accuracy: 0.9295774647887324\n",
      "Precision: 0.9629629629629629\n",
      "Recall: 0.8666666666666667\n",
      "F1-score: 0.912280701754386\n"
     ]
    }
   ],
   "source": [
    "print(f'Accuracy: {accuracy_score(y_test, y_pred)}')\n",
    "print(f\"Precision: {precision_score(y_test, y_pred, average='binary')}\")\n",
    "print(f\"Recall: {recall_score(y_test, y_pred, average='binary')}\")\n",
    "print(f\"F1-score: {f1_score(y_test, y_pred, average='binary')}\")"
   ]
  },
  {
   "cell_type": "markdown",
   "metadata": {},
   "source": [
    "## 5. KNN"
   ]
  },
  {
   "cell_type": "markdown",
   "metadata": {},
   "source": [
    "### 5.1 train test 분리"
   ]
  },
  {
   "cell_type": "code",
   "execution_count": 52,
   "metadata": {},
   "outputs": [],
   "source": [
    "from sklearn.model_selection import train_test_split"
   ]
  },
  {
   "cell_type": "code",
   "execution_count": 53,
   "metadata": {
    "scrolled": true
   },
   "outputs": [
    {
     "data": {
      "text/plain": [
       "6      0\n",
       "52     0\n",
       "114    1\n",
       "45     1\n",
       "106    1\n",
       "Name: target, dtype: int64"
      ]
     },
     "execution_count": 53,
     "metadata": {},
     "output_type": "execute_result"
    }
   ],
   "source": [
    "X, y = data.iloc[:,:-1], data.iloc[:,-1]\n",
    "\n",
    "X_train, X_test, y_train, y_test = train_test_split(X, y, test_size = 0.2, random_state = 0)\n",
    "y_test.head()"
   ]
  },
  {
   "cell_type": "markdown",
   "metadata": {},
   "source": [
    "### 5.2 modeling"
   ]
  },
  {
   "cell_type": "code",
   "execution_count": 54,
   "metadata": {},
   "outputs": [],
   "source": [
    "from sklearn.neighbors import KNeighborsClassifier"
   ]
  },
  {
   "cell_type": "code",
   "execution_count": 55,
   "metadata": {},
   "outputs": [
    {
     "data": {
      "image/png": "[encoded data removed]",
      "text/plain": [
       "<Figure size 432x288 with 1 Axes>"
      ]
     },
     "metadata": {
      "needs_background": "light"
     },
     "output_type": "display_data"
    }
   ],
   "source": [
    "k_list = range(1,101)\n",
    "accuracies = []\n",
    "\n",
    "for k in k_list:\n",
    "  classifier = KNeighborsClassifier(n_neighbors = k)\n",
    "  classifier.fit(X_train, y_train)\n",
    "  accuracies.append(classifier.score(X_test, y_test))\n",
    "plt.plot(k_list, accuracies)\n",
    "plt.xlabel(\"k\")\n",
    "plt.ylabel(\"Validation Accuracy\")\n",
    "plt.title(\"Classifier Accuracy\")\n",
    "plt.show()"
   ]
  },
  {
   "cell_type": "code",
   "execution_count": 56,
   "metadata": {},
   "outputs": [
    {
     "data": {
      "text/plain": [
       "2"
      ]
     },
     "execution_count": 56,
     "metadata": {},
     "output_type": "execute_result"
    }
   ],
   "source": [
    "accuracies.index(max(accuracies))"
   ]
  },
  {
   "cell_type": "code",
   "execution_count": 58,
   "metadata": {},
   "outputs": [
    {
     "data": {
      "text/plain": [
       "KNeighborsClassifier(algorithm='auto', leaf_size=30, metric='minkowski',\n",
       "                     metric_params=None, n_jobs=None, n_neighbors=3, p=2,\n",
       "                     weights='uniform')"
      ]
     },
     "execution_count": 58,
     "metadata": {},
     "output_type": "execute_result"
    }
   ],
   "source": [
    "knn = KNeighborsClassifier(n_neighbors = 3)\n",
    "\n",
    "knn.fit(X_train, y_train)"
   ]
  },
  {
   "cell_type": "code",
   "execution_count": 59,
   "metadata": {},
   "outputs": [
    {
     "data": {
      "text/plain": [
       "0.8892857142857142"
      ]
     },
     "execution_count": 59,
     "metadata": {},
     "output_type": "execute_result"
    }
   ],
   "source": [
    "# train 성능 #\n",
    "knn.score(X_train, y_train)"
   ]
  },
  {
   "cell_type": "code",
   "execution_count": 60,
   "metadata": {},
   "outputs": [],
   "source": [
    "y_pred = knn.predict(X_test)"
   ]
  },
  {
   "cell_type": "code",
   "execution_count": 61,
   "metadata": {},
   "outputs": [
    {
     "data": {
      "text/plain": [
       "0.9014084507042254"
      ]
     },
     "execution_count": 61,
     "metadata": {},
     "output_type": "execute_result"
    }
   ],
   "source": [
    "# test 성능 #\n",
    "knn.score(X_test, y_test)"
   ]
  },
  {
   "cell_type": "code",
   "execution_count": null,
   "metadata": {},
   "outputs": [],
   "source": []
  }
 ],
 "metadata": {
  "kernelspec": {
   "display_name": "Python 3",
   "language": "python",
   "name": "python3"
  },
  "language_info": {
   "codemirror_mode": {
    "name": "ipython",
    "version": 3
   },
   "file_extension": ".py",
   "mimetype": "text/x-python",
   "name": "python",
   "nbconvert_exporter": "python",
   "pygments_lexer": "ipython3",
   "version": "3.8.3"
  }
 },
 "nbformat": 4,
 "nbformat_minor": 4
}
